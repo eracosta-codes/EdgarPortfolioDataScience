{
 "cells": [
  {
   "cell_type": "code",
   "execution_count": 3,
   "metadata": {},
   "outputs": [],
   "source": [
    "from qiskit import QuantumCircuit\n",
    "from qiskit.circuit.library import YGate, UnitaryGate\n",
    "import numpy as np\n",
    "\n",
    "SYGate = UnitaryGate(YGate().power(1/2), label=r\"$\\sqrt{Y}$\")\n",
    "SYdgGate = UnitaryGate(SYGate.inverse(), label=r\"$\\sqrt{Y}^\\dag$\")\n",
    "\n",
    "def generate_1d_tfim_circuit(num_qubits, num_trotter_steps, rx_angle, num_cl_bits,trotter_barriers = False, layer_barriers = False):\n",
    "    if num_cl_bits == 0:\n",
    "        qc = QuantumCircuit(num_qubits)\n",
    "    else:\n",
    "        qc = QuantumCircuit(num_qubits, num_cl_bits)\n",
    "\n",
    "    for trotter_step in range(num_trotter_steps):\n",
    "        add_1d_tfim_trotter_layer(qc, rx_angle, layer_barriers)\n",
    "        if trotter_barriers:\n",
    "            qc.barrier()\n",
    "    return qc\n",
    "\n",
    "def add_1d_tfim_trotter_layer(qc, rx_angle, layer_barriers):\n",
    "    for i in range(0, qc.num_qubits-1, 2):\n",
    "        qc.sdg([i, i + 1])\n",
    "        qc.append(SYGate, [i + 1])\n",
    "        qc.cx(i, i + 1)\n",
    "        qc.append(SYdgGate, [i + 1])\n",
    "    if layer_barriers:\n",
    "        qc.barrier()\n",
    "    for i in range(1, qc.num_qubits-1, 2):\n",
    "        qc.sdg([i, i + 1])\n",
    "        qc.append(SYGate, [i + 1])\n",
    "        qc.cx(i, i + 1)\n",
    "        qc.append(SYdgGate, [i + 1])\n",
    "    if layer_barriers:\n",
    "        qc.barrier()\n",
    "    qc.rx(rx_angle, list(range(qc.num_qubits)))\n",
    "    if layer_barriers:\n",
    "        qc.barrier()"
   ]
  },
  {
   "cell_type": "code",
   "execution_count": 4,
   "metadata": {},
   "outputs": [
    {
     "data": {
      "text/html": [
       "<pre style=\"word-wrap: normal;white-space: pre;background: #fff0;line-height: 1.1;font-family: &quot;Courier New&quot;,Courier,monospace\">     ┌─────┐                                       ░                           »\n",
       "q_0: ┤ Sdg ├────────────────■──────────────────────░───────────────────────────»\n",
       "     ├─────┤┌────────────┐┌─┴─┐┌─────────────────┐ ░ ┌─────┐                   »\n",
       "q_1: ┤ Sdg ├┤ $\\sqrt{Y}$ ├┤ X ├┤ $\\sqrt{Y}^\\dag$ ├─░─┤ Sdg ├────────────────■──»\n",
       "     ├─────┤└────────────┘└───┘└─────────────────┘ ░ ├─────┤┌────────────┐┌─┴─┐»\n",
       "q_2: ┤ Sdg ├────────────────■──────────────────────░─┤ Sdg ├┤ $\\sqrt{Y}$ ├┤ X ├»\n",
       "     ├─────┤┌────────────┐┌─┴─┐┌─────────────────┐ ░ ├─────┤└────────────┘└───┘»\n",
       "q_3: ┤ Sdg ├┤ $\\sqrt{Y}$ ├┤ X ├┤ $\\sqrt{Y}^\\dag$ ├─░─┤ Sdg ├────────────────■──»\n",
       "     ├─────┤└────────────┘└───┘└─────────────────┘ ░ ├─────┤┌────────────┐┌─┴─┐»\n",
       "q_4: ┤ Sdg ├────────────────■──────────────────────░─┤ Sdg ├┤ $\\sqrt{Y}$ ├┤ X ├»\n",
       "     ├─────┤┌────────────┐┌─┴─┐┌─────────────────┐ ░ └─────┘└────────────┘└───┘»\n",
       "q_5: ┤ Sdg ├┤ $\\sqrt{Y}$ ├┤ X ├┤ $\\sqrt{Y}^\\dag$ ├─░───────────────────────────»\n",
       "     └─────┘└────────────┘└───┘└─────────────────┘ ░                           »\n",
       "«                         ░ ┌─────────┐ ░  ░ \n",
       "«q_0: ────────────────────░─┤ Rx(π/2) ├─░──░─\n",
       "«                         ░ ├─────────┤ ░  ░ \n",
       "«q_1: ────────────────────░─┤ Rx(π/2) ├─░──░─\n",
       "«     ┌─────────────────┐ ░ ├─────────┤ ░  ░ \n",
       "«q_2: ┤ $\\sqrt{Y}^\\dag$ ├─░─┤ Rx(π/2) ├─░──░─\n",
       "«     └─────────────────┘ ░ ├─────────┤ ░  ░ \n",
       "«q_3: ────────────────────░─┤ Rx(π/2) ├─░──░─\n",
       "«     ┌─────────────────┐ ░ ├─────────┤ ░  ░ \n",
       "«q_4: ┤ $\\sqrt{Y}^\\dag$ ├─░─┤ Rx(π/2) ├─░──░─\n",
       "«     └─────────────────┘ ░ ├─────────┤ ░  ░ \n",
       "«q_5: ────────────────────░─┤ Rx(π/2) ├─░──░─\n",
       "«                         ░ └─────────┘ ░  ░ </pre>"
      ],
      "text/plain": [
       "     ┌─────┐                                       ░                           »\n",
       "q_0: ┤ Sdg ├────────────────■──────────────────────░───────────────────────────»\n",
       "     ├─────┤┌────────────┐┌─┴─┐┌─────────────────┐ ░ ┌─────┐                   »\n",
       "q_1: ┤ Sdg ├┤ $\\sqrt{Y}$ ├┤ X ├┤ $\\sqrt{Y}^\\dag$ ├─░─┤ Sdg ├────────────────■──»\n",
       "     ├─────┤└────────────┘└───┘└─────────────────┘ ░ ├─────┤┌────────────┐┌─┴─┐»\n",
       "q_2: ┤ Sdg ├────────────────■──────────────────────░─┤ Sdg ├┤ $\\sqrt{Y}$ ├┤ X ├»\n",
       "     ├─────┤┌────────────┐┌─┴─┐┌─────────────────┐ ░ ├─────┤└────────────┘└───┘»\n",
       "q_3: ┤ Sdg ├┤ $\\sqrt{Y}$ ├┤ X ├┤ $\\sqrt{Y}^\\dag$ ├─░─┤ Sdg ├────────────────■──»\n",
       "     ├─────┤└────────────┘└───┘└─────────────────┘ ░ ├─────┤┌────────────┐┌─┴─┐»\n",
       "q_4: ┤ Sdg ├────────────────■──────────────────────░─┤ Sdg ├┤ $\\sqrt{Y}$ ├┤ X ├»\n",
       "     ├─────┤┌────────────┐┌─┴─┐┌─────────────────┐ ░ └─────┘└────────────┘└───┘»\n",
       "q_5: ┤ Sdg ├┤ $\\sqrt{Y}$ ├┤ X ├┤ $\\sqrt{Y}^\\dag$ ├─░───────────────────────────»\n",
       "     └─────┘└────────────┘└───┘└─────────────────┘ ░                           »\n",
       "«                         ░ ┌─────────┐ ░  ░ \n",
       "«q_0: ────────────────────░─┤ Rx(π/2) ├─░──░─\n",
       "«                         ░ ├─────────┤ ░  ░ \n",
       "«q_1: ────────────────────░─┤ Rx(π/2) ├─░──░─\n",
       "«     ┌─────────────────┐ ░ ├─────────┤ ░  ░ \n",
       "«q_2: ┤ $\\sqrt{Y}^\\dag$ ├─░─┤ Rx(π/2) ├─░──░─\n",
       "«     └─────────────────┘ ░ ├─────────┤ ░  ░ \n",
       "«q_3: ────────────────────░─┤ Rx(π/2) ├─░──░─\n",
       "«     ┌─────────────────┐ ░ ├─────────┤ ░  ░ \n",
       "«q_4: ┤ $\\sqrt{Y}^\\dag$ ├─░─┤ Rx(π/2) ├─░──░─\n",
       "«     └─────────────────┘ ░ ├─────────┤ ░  ░ \n",
       "«q_5: ────────────────────░─┤ Rx(π/2) ├─░──░─\n",
       "«                         ░ └─────────┘ ░  ░ "
      ]
     },
     "execution_count": 4,
     "metadata": {},
     "output_type": "execute_result"
    }
   ],
   "source": [
    "num_qubits = 6\n",
    "num_trotter_steps = 1\n",
    "rx_angle = (0.5 * np.pi)\n",
    "num_cl_bits = 0\n",
    "\n",
    "qc = generate_1d_tfim_circuit(num_qubits, num_trotter_steps, rx_angle, num_cl_bits,trotter_barriers= True, layer_barriers= True)\n",
    "qc.draw(output='text')"
   ]
  },
  {
   "cell_type": "code",
   "execution_count": 5,
   "metadata": {},
   "outputs": [],
   "source": [
    "def append_mirrored_1d_tfim_circuit(qc, num_qubits, num_trotter_steps, rx_angle, trotter_barriers = False, layer_barriers = False):\n",
    "    for trotter_step in range(num_trotter_steps):\n",
    "        add_mirrored_1d_tfim_trotter_layer(qc, rx_angle, layer_barriers)\n",
    "        if trotter_barriers:\n",
    "            qc.barrier()\n",
    "\n",
    "def add_mirrored_1d_tfim_trotter_layer(qc, rx_angle, layer_barriers):\n",
    "    qc.rx(-rx_angle, list(range(qc.num_qubits)))\n",
    "    if layer_barriers:\n",
    "        qc.barrier()\n",
    "    for i in range(1, qc.num_qubits-1, 2):\n",
    "        qc.append(SYGate, [i + 1])\n",
    "        qc.cx(i, i + 1)\n",
    "        qc.append(SYdgGate, [i + 1])\n",
    "        qc.s([i, i + 1])\n",
    "        if layer_barriers:\n",
    "            qc.barrier()\n",
    "    for i in range(0, qc.num_qubits-1, 2):\n",
    "        qc.append(SYGate, [i + 1])\n",
    "        qc.cx(i, i + 1)\n",
    "        qc.append(SYdgGate, [i + 1])\n",
    "        qc.s([i, i + 1])\n",
    "        if layer_barriers:\n",
    "            qc.barrier()    "
   ]
  },
  {
   "cell_type": "code",
   "execution_count": 6,
   "metadata": {},
   "outputs": [
    {
     "data": {
      "text/html": [
       "<pre style=\"word-wrap: normal;white-space: pre;background: #fff0;line-height: 1.1;font-family: &quot;Courier New&quot;,Courier,monospace\">     ┌─────┐                                       ░                           »\n",
       "q_0: ┤ Sdg ├────────────────■──────────────────────░───────────────────────────»\n",
       "     ├─────┤┌────────────┐┌─┴─┐┌─────────────────┐ ░ ┌─────┐                   »\n",
       "q_1: ┤ Sdg ├┤ $\\sqrt{Y}$ ├┤ X ├┤ $\\sqrt{Y}^\\dag$ ├─░─┤ Sdg ├────────────────■──»\n",
       "     ├─────┤└────────────┘└───┘└─────────────────┘ ░ ├─────┤┌────────────┐┌─┴─┐»\n",
       "q_2: ┤ Sdg ├────────────────■──────────────────────░─┤ Sdg ├┤ $\\sqrt{Y}$ ├┤ X ├»\n",
       "     ├─────┤┌────────────┐┌─┴─┐┌─────────────────┐ ░ ├─────┤└────────────┘└───┘»\n",
       "q_3: ┤ Sdg ├┤ $\\sqrt{Y}$ ├┤ X ├┤ $\\sqrt{Y}^\\dag$ ├─░─┤ Sdg ├────────────────■──»\n",
       "     ├─────┤└────────────┘└───┘└─────────────────┘ ░ ├─────┤┌────────────┐┌─┴─┐»\n",
       "q_4: ┤ Sdg ├────────────────■──────────────────────░─┤ Sdg ├┤ $\\sqrt{Y}$ ├┤ X ├»\n",
       "     ├─────┤┌────────────┐┌─┴─┐┌─────────────────┐ ░ └─────┘└────────────┘└───┘»\n",
       "q_5: ┤ Sdg ├┤ $\\sqrt{Y}$ ├┤ X ├┤ $\\sqrt{Y}^\\dag$ ├─░───────────────────────────»\n",
       "     └─────┘└────────────┘└───┘└─────────────────┘ ░                           »\n",
       "«                         ░ ┌─────────┐ ░  ░ ┌──────────┐ ░                    »\n",
       "«q_0: ────────────────────░─┤ Rx(π/2) ├─░──░─┤ Rx(-π/2) ├─░────────────────────»\n",
       "«                         ░ ├─────────┤ ░  ░ ├──────────┤ ░                    »\n",
       "«q_1: ────────────────────░─┤ Rx(π/2) ├─░──░─┤ Rx(-π/2) ├─░─────────────────■──»\n",
       "«     ┌─────────────────┐ ░ ├─────────┤ ░  ░ ├──────────┤ ░ ┌────────────┐┌─┴─┐»\n",
       "«q_2: ┤ $\\sqrt{Y}^\\dag$ ├─░─┤ Rx(π/2) ├─░──░─┤ Rx(-π/2) ├─░─┤ $\\sqrt{Y}$ ├┤ X ├»\n",
       "«     └─────────────────┘ ░ ├─────────┤ ░  ░ ├──────────┤ ░ └────────────┘└───┘»\n",
       "«q_3: ────────────────────░─┤ Rx(π/2) ├─░──░─┤ Rx(-π/2) ├─░────────────────────»\n",
       "«     ┌─────────────────┐ ░ ├─────────┤ ░  ░ ├──────────┤ ░                    »\n",
       "«q_4: ┤ $\\sqrt{Y}^\\dag$ ├─░─┤ Rx(π/2) ├─░──░─┤ Rx(-π/2) ├─░────────────────────»\n",
       "«     └─────────────────┘ ░ ├─────────┤ ░  ░ ├──────────┤ ░                    »\n",
       "«q_5: ────────────────────░─┤ Rx(π/2) ├─░──░─┤ Rx(-π/2) ├─░────────────────────»\n",
       "«                         ░ └─────────┘ ░  ░ └──────────┘ ░                    »\n",
       "«                              ░                                             ░ »\n",
       "«q_0: ─────────────────────────░─────────────────────────────────────────────░─»\n",
       "«            ┌───┐             ░                                             ░ »\n",
       "«q_1: ───────┤ S ├─────────────░─────────────────────────────────────────────░─»\n",
       "«     ┌──────┴───┴──────┐┌───┐ ░                                             ░ »\n",
       "«q_2: ┤ $\\sqrt{Y}^\\dag$ ├┤ S ├─░─────────────────────────────────────────────░─»\n",
       "«     └─────────────────┘└───┘ ░                           ┌───┐             ░ »\n",
       "«q_3: ─────────────────────────░─────────────────■─────────┤ S ├─────────────░─»\n",
       "«                              ░ ┌────────────┐┌─┴─┐┌──────┴───┴──────┐┌───┐ ░ »\n",
       "«q_4: ─────────────────────────░─┤ $\\sqrt{Y}$ ├┤ X ├┤ $\\sqrt{Y}^\\dag$ ├┤ S ├─░─»\n",
       "«                              ░ └────────────┘└───┘└─────────────────┘└───┘ ░ »\n",
       "«q_5: ─────────────────────────░─────────────────────────────────────────────░─»\n",
       "«                              ░                                             ░ »\n",
       "«                               ┌───┐             ░                    »\n",
       "«q_0: ────────────────■─────────┤ S ├─────────────░────────────────────»\n",
       "«     ┌────────────┐┌─┴─┐┌──────┴───┴──────┐┌───┐ ░                    »\n",
       "«q_1: ┤ $\\sqrt{Y}$ ├┤ X ├┤ $\\sqrt{Y}^\\dag$ ├┤ S ├─░────────────────────»\n",
       "«     └────────────┘└───┘└─────────────────┘└───┘ ░                    »\n",
       "«q_2: ────────────────────────────────────────────░─────────────────■──»\n",
       "«                                                 ░ ┌────────────┐┌─┴─┐»\n",
       "«q_3: ────────────────────────────────────────────░─┤ $\\sqrt{Y}$ ├┤ X ├»\n",
       "«                                                 ░ └────────────┘└───┘»\n",
       "«q_4: ────────────────────────────────────────────░────────────────────»\n",
       "«                                                 ░                    »\n",
       "«q_5: ────────────────────────────────────────────░────────────────────»\n",
       "«                                                 ░                    »\n",
       "«                              ░                                             ░ »\n",
       "«q_0: ─────────────────────────░─────────────────────────────────────────────░─»\n",
       "«                              ░                                             ░ »\n",
       "«q_1: ─────────────────────────░─────────────────────────────────────────────░─»\n",
       "«            ┌───┐             ░                                             ░ »\n",
       "«q_2: ───────┤ S ├─────────────░─────────────────────────────────────────────░─»\n",
       "«     ┌──────┴───┴──────┐┌───┐ ░                                             ░ »\n",
       "«q_3: ┤ $\\sqrt{Y}^\\dag$ ├┤ S ├─░─────────────────────────────────────────────░─»\n",
       "«     └─────────────────┘└───┘ ░                           ┌───┐             ░ »\n",
       "«q_4: ─────────────────────────░─────────────────■─────────┤ S ├─────────────░─»\n",
       "«                              ░ ┌────────────┐┌─┴─┐┌──────┴───┴──────┐┌───┐ ░ »\n",
       "«q_5: ─────────────────────────░─┤ $\\sqrt{Y}$ ├┤ X ├┤ $\\sqrt{Y}^\\dag$ ├┤ S ├─░─»\n",
       "«                              ░ └────────────┘└───┘└─────────────────┘└───┘ ░ »\n",
       "«      ░ \n",
       "«q_0: ─░─\n",
       "«      ░ \n",
       "«q_1: ─░─\n",
       "«      ░ \n",
       "«q_2: ─░─\n",
       "«      ░ \n",
       "«q_3: ─░─\n",
       "«      ░ \n",
       "«q_4: ─░─\n",
       "«      ░ \n",
       "«q_5: ─░─\n",
       "«      ░ </pre>"
      ],
      "text/plain": [
       "     ┌─────┐                                       ░                           »\n",
       "q_0: ┤ Sdg ├────────────────■──────────────────────░───────────────────────────»\n",
       "     ├─────┤┌────────────┐┌─┴─┐┌─────────────────┐ ░ ┌─────┐                   »\n",
       "q_1: ┤ Sdg ├┤ $\\sqrt{Y}$ ├┤ X ├┤ $\\sqrt{Y}^\\dag$ ├─░─┤ Sdg ├────────────────■──»\n",
       "     ├─────┤└────────────┘└───┘└─────────────────┘ ░ ├─────┤┌────────────┐┌─┴─┐»\n",
       "q_2: ┤ Sdg ├────────────────■──────────────────────░─┤ Sdg ├┤ $\\sqrt{Y}$ ├┤ X ├»\n",
       "     ├─────┤┌────────────┐┌─┴─┐┌─────────────────┐ ░ ├─────┤└────────────┘└───┘»\n",
       "q_3: ┤ Sdg ├┤ $\\sqrt{Y}$ ├┤ X ├┤ $\\sqrt{Y}^\\dag$ ├─░─┤ Sdg ├────────────────■──»\n",
       "     ├─────┤└────────────┘└───┘└─────────────────┘ ░ ├─────┤┌────────────┐┌─┴─┐»\n",
       "q_4: ┤ Sdg ├────────────────■──────────────────────░─┤ Sdg ├┤ $\\sqrt{Y}$ ├┤ X ├»\n",
       "     ├─────┤┌────────────┐┌─┴─┐┌─────────────────┐ ░ └─────┘└────────────┘└───┘»\n",
       "q_5: ┤ Sdg ├┤ $\\sqrt{Y}$ ├┤ X ├┤ $\\sqrt{Y}^\\dag$ ├─░───────────────────────────»\n",
       "     └─────┘└────────────┘└───┘└─────────────────┘ ░                           »\n",
       "«                         ░ ┌─────────┐ ░  ░ ┌──────────┐ ░                    »\n",
       "«q_0: ────────────────────░─┤ Rx(π/2) ├─░──░─┤ Rx(-π/2) ├─░────────────────────»\n",
       "«                         ░ ├─────────┤ ░  ░ ├──────────┤ ░                    »\n",
       "«q_1: ────────────────────░─┤ Rx(π/2) ├─░──░─┤ Rx(-π/2) ├─░─────────────────■──»\n",
       "«     ┌─────────────────┐ ░ ├─────────┤ ░  ░ ├──────────┤ ░ ┌────────────┐┌─┴─┐»\n",
       "«q_2: ┤ $\\sqrt{Y}^\\dag$ ├─░─┤ Rx(π/2) ├─░──░─┤ Rx(-π/2) ├─░─┤ $\\sqrt{Y}$ ├┤ X ├»\n",
       "«     └─────────────────┘ ░ ├─────────┤ ░  ░ ├──────────┤ ░ └────────────┘└───┘»\n",
       "«q_3: ────────────────────░─┤ Rx(π/2) ├─░──░─┤ Rx(-π/2) ├─░────────────────────»\n",
       "«     ┌─────────────────┐ ░ ├─────────┤ ░  ░ ├──────────┤ ░                    »\n",
       "«q_4: ┤ $\\sqrt{Y}^\\dag$ ├─░─┤ Rx(π/2) ├─░──░─┤ Rx(-π/2) ├─░────────────────────»\n",
       "«     └─────────────────┘ ░ ├─────────┤ ░  ░ ├──────────┤ ░                    »\n",
       "«q_5: ────────────────────░─┤ Rx(π/2) ├─░──░─┤ Rx(-π/2) ├─░────────────────────»\n",
       "«                         ░ └─────────┘ ░  ░ └──────────┘ ░                    »\n",
       "«                              ░                                             ░ »\n",
       "«q_0: ─────────────────────────░─────────────────────────────────────────────░─»\n",
       "«            ┌───┐             ░                                             ░ »\n",
       "«q_1: ───────┤ S ├─────────────░─────────────────────────────────────────────░─»\n",
       "«     ┌──────┴───┴──────┐┌───┐ ░                                             ░ »\n",
       "«q_2: ┤ $\\sqrt{Y}^\\dag$ ├┤ S ├─░─────────────────────────────────────────────░─»\n",
       "«     └─────────────────┘└───┘ ░                           ┌───┐             ░ »\n",
       "«q_3: ─────────────────────────░─────────────────■─────────┤ S ├─────────────░─»\n",
       "«                              ░ ┌────────────┐┌─┴─┐┌──────┴───┴──────┐┌───┐ ░ »\n",
       "«q_4: ─────────────────────────░─┤ $\\sqrt{Y}$ ├┤ X ├┤ $\\sqrt{Y}^\\dag$ ├┤ S ├─░─»\n",
       "«                              ░ └────────────┘└───┘└─────────────────┘└───┘ ░ »\n",
       "«q_5: ─────────────────────────░─────────────────────────────────────────────░─»\n",
       "«                              ░                                             ░ »\n",
       "«                               ┌───┐             ░                    »\n",
       "«q_0: ────────────────■─────────┤ S ├─────────────░────────────────────»\n",
       "«     ┌────────────┐┌─┴─┐┌──────┴───┴──────┐┌───┐ ░                    »\n",
       "«q_1: ┤ $\\sqrt{Y}$ ├┤ X ├┤ $\\sqrt{Y}^\\dag$ ├┤ S ├─░────────────────────»\n",
       "«     └────────────┘└───┘└─────────────────┘└───┘ ░                    »\n",
       "«q_2: ────────────────────────────────────────────░─────────────────■──»\n",
       "«                                                 ░ ┌────────────┐┌─┴─┐»\n",
       "«q_3: ────────────────────────────────────────────░─┤ $\\sqrt{Y}$ ├┤ X ├»\n",
       "«                                                 ░ └────────────┘└───┘»\n",
       "«q_4: ────────────────────────────────────────────░────────────────────»\n",
       "«                                                 ░                    »\n",
       "«q_5: ────────────────────────────────────────────░────────────────────»\n",
       "«                                                 ░                    »\n",
       "«                              ░                                             ░ »\n",
       "«q_0: ─────────────────────────░─────────────────────────────────────────────░─»\n",
       "«                              ░                                             ░ »\n",
       "«q_1: ─────────────────────────░─────────────────────────────────────────────░─»\n",
       "«            ┌───┐             ░                                             ░ »\n",
       "«q_2: ───────┤ S ├─────────────░─────────────────────────────────────────────░─»\n",
       "«     ┌──────┴───┴──────┐┌───┐ ░                                             ░ »\n",
       "«q_3: ┤ $\\sqrt{Y}^\\dag$ ├┤ S ├─░─────────────────────────────────────────────░─»\n",
       "«     └─────────────────┘└───┘ ░                           ┌───┐             ░ »\n",
       "«q_4: ─────────────────────────░─────────────────■─────────┤ S ├─────────────░─»\n",
       "«                              ░ ┌────────────┐┌─┴─┐┌──────┴───┴──────┐┌───┐ ░ »\n",
       "«q_5: ─────────────────────────░─┤ $\\sqrt{Y}$ ├┤ X ├┤ $\\sqrt{Y}^\\dag$ ├┤ S ├─░─»\n",
       "«                              ░ └────────────┘└───┘└─────────────────┘└───┘ ░ »\n",
       "«      ░ \n",
       "«q_0: ─░─\n",
       "«      ░ \n",
       "«q_1: ─░─\n",
       "«      ░ \n",
       "«q_2: ─░─\n",
       "«      ░ \n",
       "«q_3: ─░─\n",
       "«      ░ \n",
       "«q_4: ─░─\n",
       "«      ░ \n",
       "«q_5: ─░─\n",
       "«      ░ "
      ]
     },
     "execution_count": 6,
     "metadata": {},
     "output_type": "execute_result"
    }
   ],
   "source": [
    "append_mirrored_1d_tfim_circuit(qc, num_qubits, num_trotter_steps, rx_angle, trotter_barriers = True, layer_barriers = True)\n",
    "qc.draw(output=\"text\")"
   ]
  },
  {
   "cell_type": "code",
   "execution_count": 7,
   "metadata": {},
   "outputs": [],
   "source": [
    "max_trotter_steps = 10\n",
    "num_qubits = 100\n",
    "measured_qubits = [49, 50]\n",
    "\n",
    "qc_list = []\n",
    "\n",
    "for trotter_step in range(max_trotter_steps):\n",
    "    qc = generate_1d_tfim_circuit(num_qubits, num_trotter_steps, rx_angle, num_cl_bits=len(measured_qubits),trotter_barriers= True, layer_barriers= True)\n",
    "    append_mirrored_1d_tfim_circuit(qc, num_qubits, num_trotter_steps, rx_angle, trotter_barriers = True, layer_barriers = True)\n",
    "    qc.measure(measured_qubits, list(range(len(measured_qubits))))\n",
    "    qc_list.append(qc)\n",
    "\n"
   ]
  },
  {
   "cell_type": "code",
   "execution_count": 7,
   "metadata": {},
   "outputs": [
    {
     "name": "stderr",
     "output_type": "stream",
     "text": [
      "/tmp/ipykernel_213453/3071620673.py:6: DeprecationWarning: The get_backend() method is deprecated as of qiskit-ibm-runtime 0.24 and will be removed no sooner than 3 months after the release date. Please use backend() instead.\n",
      "  backend = service.get_backend(backend_name)\n"
     ]
    },
    {
     "name": "stdout",
     "output_type": "stream",
     "text": [
      "Done getting the backend\n"
     ]
    }
   ],
   "source": [
    "from qiskit import transpile\n",
    "from qiskit_ibm_runtime import QiskitRuntimeService\n",
    "\n",
    "backend_name = \"ibm_brisbane\"\n",
    "service = QiskitRuntimeService()\n",
    "backend = service.get_backend(backend_name)\n",
    "print(\"Done getting the backend\")\n",
    "\n",
    "qc_transpiled_list = transpile(qc_list, backend=backend, optimization_level=1)"
   ]
  },
  {
   "cell_type": "code",
   "execution_count": 8,
   "metadata": {},
   "outputs": [
    {
     "name": "stderr",
     "output_type": "stream",
     "text": [
      "/tmp/ipykernel_213453/2065324435.py:3: DeprecationWarning: The 'backend' keyword arguments are deprecated as of qiskit-ibm-runtime 0.24.0 and will be removed no sooner than 3 months after the release date. Please use the 'mode' parameter instead.\n",
      "  sampler = Sampler(backend=backend)\n"
     ]
    },
    {
     "name": "stdout",
     "output_type": "stream",
     "text": [
      "csx0tchvkv50008hhh9g\n"
     ]
    }
   ],
   "source": [
    "from qiskit_ibm_runtime import SamplerV2 as Sampler\n",
    "\n",
    "sampler = Sampler(backend=backend)\n",
    "sampler.options.dynamical_decoupling.enable = True\n",
    "sampler.options.dynamical_decoupling.sequence_type = \"XY4\"\n",
    "\n",
    "job = sampler.run(qc_transpiled_list)\n",
    "print(job.job_id())"
   ]
  },
  {
   "cell_type": "code",
   "execution_count": 14,
   "metadata": {},
   "outputs": [],
   "source": [
    "job_id = \"csx0hddjkdzg00898akg\"\n",
    "job = service.job(job_id)\n",
    "\n",
    "survival_probability_list = []\n",
    "for trotter_step in range(max_trotter_steps):\n",
    "    try:\n",
    "        data = job.result()[trotter_step].data\n",
    "        survival_probability_list.append(data.c.get_counts()['0' * len(measured_qubits)] / data.c.num_shots)\n",
    "    except:\n",
    "        survival_probability_list.append(0)"
   ]
  },
  {
   "cell_type": "code",
   "execution_count": 15,
   "metadata": {},
   "outputs": [
    {
     "data": {
      "image/png": "[encoded data removed]",
      "text/plain": [
       "<Figure size 640x480 with 1 Axes>"
      ]
     },
     "metadata": {},
     "output_type": "display_data"
    }
   ],
   "source": [
    "import matplotlib.pyplot as plt\n",
    "\n",
    "plt.plot(list(range(0, 4* max_trotter_steps, 4)), survival_probability_list, '--o')\n",
    "plt.xlabel('2Q Gate Depth')\n",
    "plt.ylabel('Survival probability of the all-0 bitstring')\n",
    "plt.xticks(np.arange(0, 44, 4))\n",
    "plt.show()"
   ]
  },
  {
   "cell_type": "code",
   "execution_count": 11,
   "metadata": {},
   "outputs": [],
   "source": [
    "from qiskit.circuit import Parameter\n",
    "rx_angle = Parameter(\"rx_angle\")\n",
    "trotter_steps = 2\n",
    "qc = generate_1d_tfim_circuit(num_qubits, trotter_steps, rx_angle,num_cl_bits=0)\n",
    "\n",
    "from qiskit.quantum_info import SparsePauliOp\n",
    "\n",
    "middle_index = (num_qubits // 2)\n",
    "observable = SparsePauliOp(\"I\" * middle_index + \"Z\" + \"I\" * (middle_index-1))"
   ]
  },
  {
   "cell_type": "code",
   "execution_count": 12,
   "metadata": {},
   "outputs": [
    {
     "name": "stderr",
     "output_type": "stream",
     "text": [
      "/tmp/ipykernel_213566/2858228033.py:6: DeprecationWarning: The get_backend() method is deprecated as of qiskit-ibm-runtime 0.24 and will be removed no sooner than 3 months after the release date. Please use backend() instead.\n",
      "  backend = service.get_backend(backend_name)\n"
     ]
    }
   ],
   "source": [
    "from qiskit import transpile\n",
    "from qiskit_ibm_runtime import QiskitRuntimeService\n",
    "\n",
    "backend_name = \"ibm_brisbane\"\n",
    "service = QiskitRuntimeService()\n",
    "backend = service.get_backend(backend_name)\n",
    "\n",
    "qc_transpiled = transpile(qc, backend=backend, optimization_level=1)\n",
    "observable = observable.apply_layout(qc_transpiled.layout)"
   ]
  },
  {
   "cell_type": "code",
   "execution_count": 13,
   "metadata": {},
   "outputs": [
    {
     "name": "stderr",
     "output_type": "stream",
     "text": [
      "/tmp/ipykernel_213566/3608788775.py:13: DeprecationWarning: The 'backend' keyword arguments are deprecated as of qiskit-ibm-runtime 0.24.0 and will be removed no sooner than 3 months after the release date. Please use the 'mode' parameter instead.\n",
      "  estimator = EstimatorV2(backend=backend, options=options)\n"
     ]
    },
    {
     "name": "stdout",
     "output_type": "stream",
     "text": [
      "csx1skpvkv50008hmjwg\n"
     ]
    }
   ],
   "source": [
    "from qiskit_ibm_runtime import EstimatorV2, EstimatorOptions\n",
    "\n",
    "min_rx_angle = 0\n",
    "max_rx_angle = np.pi / 2\n",
    "num_rx_angle = 12\n",
    "rx_angle_list = np.linspace(min_rx_angle, max_rx_angle, num_rx_angle)\n",
    "\n",
    "options = EstimatorOptions()\n",
    "options.resilience_level = 1\n",
    "options.dynamical_decoupling.enable = True\n",
    "options.dynamical_decoupling.sequence_type = \"XY4\"\n",
    "\n",
    "estimator = EstimatorV2(backend=backend, options=options)\n",
    "\n",
    "job = estimator.run([(qc_transpiled,observable, rx_angle_list)])\n",
    "print(job.job_id())\n"
   ]
  },
  {
   "cell_type": "code",
   "execution_count": 18,
   "metadata": {},
   "outputs": [
    {
     "ename": "TypeError",
     "evalue": "'numpy.ndarray' object is not callable",
     "output_type": "error",
     "traceback": [
      "\u001b[0;31m---------------------------------------------------------------------------\u001b[0m",
      "\u001b[0;31mTypeError\u001b[0m                                 Traceback (most recent call last)",
      "Cell \u001b[0;32mIn[18], line 4\u001b[0m\n\u001b[1;32m      1\u001b[0m job_id \u001b[38;5;241m=\u001b[39m \u001b[38;5;124m\"\u001b[39m\u001b[38;5;124mcsx1skpvkv50008hmjwg\u001b[39m\u001b[38;5;124m\"\u001b[39m\n\u001b[1;32m      2\u001b[0m job \u001b[38;5;241m=\u001b[39m service\u001b[38;5;241m.\u001b[39mjob(job_id)\n\u001b[0;32m----> 4\u001b[0m exp_val_list \u001b[38;5;241m=\u001b[39m \u001b[43mjob\u001b[49m\u001b[38;5;241;43m.\u001b[39;49m\u001b[43mresult\u001b[49m\u001b[43m(\u001b[49m\u001b[43m)\u001b[49m\u001b[43m[\u001b[49m\u001b[38;5;241;43m0\u001b[39;49m\u001b[43m]\u001b[49m\u001b[38;5;241;43m.\u001b[39;49m\u001b[43mdata\u001b[49m\u001b[38;5;241;43m.\u001b[39;49m\u001b[43mevs\u001b[49m\u001b[43m(\u001b[49m\u001b[43m)\u001b[49m\n\u001b[1;32m      6\u001b[0m plt\u001b[38;5;241m.\u001b[39mplot(rx\u001b[38;5;241m.\u001b[39mangle_list \u001b[38;5;241m/\u001b[39m np\u001b[38;5;241m.\u001b[39mpi, exp_val_list, \u001b[38;5;124m'\u001b[39m\u001b[38;5;124m--o\u001b[39m\u001b[38;5;124m'\u001b[39m)\n\u001b[1;32m      7\u001b[0m plt\u001b[38;5;241m.\u001b[39mxlabel(\u001b[38;5;124mr\u001b[39m\u001b[38;5;124m'\u001b[39m\u001b[38;5;124mRx angle ($\u001b[39m\u001b[38;5;124m\\\u001b[39m\u001b[38;5;124mpi$)\u001b[39m\u001b[38;5;124m'\u001b[39m)\n",
      "\u001b[0;31mTypeError\u001b[0m: 'numpy.ndarray' object is not callable"
     ]
    }
   ],
   "source": [
    "job_id = \"csx1skpvkv50008hmjwg\"\n",
    "job = service.job(job_id)\n",
    "\n",
    "exp_val_list = job.result()[0].data.evs()\n",
    "\n",
    "plt.plot(rx.angle_list / np.pi, exp_val_list, '--o')\n",
    "plt.xlabel(r'Rx angle ($\\pi$)')\n",
    "plt.ylabel(r'$\\langle Z \\rangle in the middle of the chain')\n",
    "plt.ylim(-0.1, 1.1)"
   ]
  }
 ],
 "metadata": {
  "kernelspec": {
   "display_name": "cwq",
   "language": "python",
   "name": "python3"
  },
  "language_info": {
   "codemirror_mode": {
    "name": "ipython",
    "version": 3
   },
   "file_extension": ".py",
   "mimetype": "text/x-python",
   "name": "python",
   "nbconvert_exporter": "python",
   "pygments_lexer": "ipython3",
   "version": "3.12.2"
  }
 },
 "nbformat": 4,
 "nbformat_minor": 2
}
