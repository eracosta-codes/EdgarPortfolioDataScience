{
 "cells": [
  {
   "cell_type": "code",
   "execution_count": 9,
   "metadata": {},
   "outputs": [],
   "source": [
    "from qiskit import QuantumCircuit, QuantumRegister, ClassicalRegister\n",
    "from qiskit.circuit.classical import expr\n",
    "\n",
    "def get_dynamic_CNOT_Circuit(num_qubit):\n",
    "\n",
    "    num_ancilla = num_qubit - 2\n",
    "    num_ancilla_pair = int(num_ancilla / 2)\n",
    "\n",
    "    qr = QuantumRegister(num_qubit)\n",
    "    cr1 = ClassicalRegister(num_ancilla_pair, name=\"cr1\")\n",
    "    cr2 = ClassicalRegister(num_ancilla - num_ancilla_pair, name=\"cr2\")\n",
    "    cr3 = ClassicalRegister(2, name=\"cr3\")\n",
    "    qc = QuantumCircuit(qr, cr1, cr2, cr3)\n",
    "\n",
    "    qc.h(0)\n",
    "    qc.barrier()\n",
    "\n",
    "    qc.cx(0,1)\n",
    "\n",
    "    for i in range(num_ancilla_pair):\n",
    "        qc.h(2+2*i)\n",
    "        qc.cx(2+2*i, 2+2*i+1)\n",
    "\n",
    "    for i in range(num_ancilla_pair + 1):\n",
    "        qc.cx(1+2*i, 1+2*i+1)\n",
    "    for i in range(1, num_ancilla_pair + 2):\n",
    "        qc.h(2*i-1)\n",
    "\n",
    "    for i in range(1, num_ancilla_pair + 2):\n",
    "        qc.measure(2 * i - 1, cr2[i - 1])\n",
    "        if  i == 1:\n",
    "            parity_control = expr.lift(cr2[i - 1])\n",
    "        else:\n",
    "            parity_control = expr.bit_xor(cr2[i - 1], parity_control)\n",
    "\n",
    "    for i in range(num_ancilla_pair):\n",
    "        qc.measure(2 * i + 2, cr1[i])\n",
    "        if  i == 0:\n",
    "            parity_target = expr.lift(cr1[i])\n",
    "        else:\n",
    "            parity_target = expr.bit_xor(cr1[i], parity_target)\n",
    "\n",
    "        with qc.if_test(parity_control):\n",
    "            qc.z(0)\n",
    "\n",
    "        with qc.if_test(parity_target):\n",
    "            qc.x(-1)\n",
    "\n",
    "        return qc"
   ]
  },
  {
   "cell_type": "code",
   "execution_count": 10,
   "metadata": {},
   "outputs": [
    {
     "data": {
      "text/html": [
       "<pre style=\"word-wrap: normal;white-space: pre;background: #fff0;line-height: 1.1;font-family: &quot;Courier New&quot;,Courier,monospace\">       ┌───┐ ░                                                               »\n",
       " q3_0: ┤ H ├─░───■───────────────────────────────────────────────────────────»\n",
       "       └───┘ ░ ┌─┴─┐          ┌───┐   ┌─┐                                    »\n",
       " q3_1: ──────░─┤ X ├───────■──┤ H ├───┤M├────────────────────────────────────»\n",
       "             ░ ├───┤     ┌─┴─┐└───┘┌─┐└╥┘                                    »\n",
       " q3_2: ──────░─┤ H ├──■──┤ X ├─────┤M├─╫─────────────────────────────────────»\n",
       "             ░ └───┘┌─┴─┐└───┘┌───┐└╥┘ ║ ┌─┐                                 »\n",
       " q3_3: ──────░──────┤ X ├──■──┤ H ├─╫──╫─┤M├─────────────────────────────────»\n",
       "             ░ ┌───┐└───┘┌─┴─┐└───┘ ║  ║ └╥┘                                 »\n",
       " q3_4: ──────░─┤ H ├──■──┤ X ├──────╫──╫──╫──────────────────────────────────»\n",
       "             ░ └───┘┌─┴─┐└───┘┌───┐ ║  ║  ║ ┌─┐                              »\n",
       " q3_5: ──────░──────┤ X ├──■──┤ H ├─╫──╫──╫─┤M├──────────────────────────────»\n",
       "             ░      └───┘┌─┴─┐└───┘ ║  ║  ║ └╥┘┌───────────── ┌───┐ ───────┐ »\n",
       " q3_6: ──────░───────────┤ X ├──────╫──╫──╫──╫─┤ If-0 cr1[0]  ┤ X ├  End-0 ├─»\n",
       "             ░           └───┘      ║  ║  ║  ║ └──────╥────── └───┘ ───────┘ »\n",
       "                                    ║  ║  ║  ║    ┌───╨────┐                 »\n",
       "cr1: 2/═════════════════════════════╩══╬══╬══╬════╡ [expr] ╞═════════════════»\n",
       "                                    0  ║  ║  ║    └────────┘                 »\n",
       "cr2: 3/════════════════════════════════╩══╩══╩═══════════════════════════════»\n",
       "                                       0  1  2                               »\n",
       "cr3: 2/══════════════════════════════════════════════════════════════════════»\n",
       "                                                                             »\n",
       "«       ┌───────────────────────────────── ┌───┐ ───────┐ \n",
       "« q3_0: ┤ If-0 cr2[2] ^ (cr2[1] ^ cr2[0])  ┤ Z ├  End-0 ├─\n",
       "«       └────────────────╥──────────────── └───┘ ───────┘ \n",
       "« q3_1: ─────────────────╫────────────────────────────────\n",
       "«                        ║                                \n",
       "« q3_2: ─────────────────╫────────────────────────────────\n",
       "«                        ║                                \n",
       "« q3_3: ─────────────────╫────────────────────────────────\n",
       "«                        ║                                \n",
       "« q3_4: ─────────────────╫────────────────────────────────\n",
       "«                        ║                                \n",
       "« q3_5: ─────────────────╫────────────────────────────────\n",
       "«                        ║                                \n",
       "« q3_6: ─────────────────╫────────────────────────────────\n",
       "«                        ║                                \n",
       "«cr1: 2/═════════════════╬════════════════════════════════\n",
       "«                    ┌───╨────┐                           \n",
       "«cr2: 3/═════════════╡ [expr] ╞═══════════════════════════\n",
       "«                    └────────┘                           \n",
       "«cr3: 2/══════════════════════════════════════════════════\n",
       "«                                                         </pre>"
      ],
      "text/plain": [
       "       ┌───┐ ░                                                               »\n",
       " q3_0: ┤ H ├─░───■───────────────────────────────────────────────────────────»\n",
       "       └───┘ ░ ┌─┴─┐          ┌───┐   ┌─┐                                    »\n",
       " q3_1: ──────░─┤ X ├───────■──┤ H ├───┤M├────────────────────────────────────»\n",
       "             ░ ├───┤     ┌─┴─┐└───┘┌─┐└╥┘                                    »\n",
       " q3_2: ──────░─┤ H ├──■──┤ X ├─────┤M├─╫─────────────────────────────────────»\n",
       "             ░ └───┘┌─┴─┐└───┘┌───┐└╥┘ ║ ┌─┐                                 »\n",
       " q3_3: ──────░──────┤ X ├──■──┤ H ├─╫──╫─┤M├─────────────────────────────────»\n",
       "             ░ ┌───┐└───┘┌─┴─┐└───┘ ║  ║ └╥┘                                 »\n",
       " q3_4: ──────░─┤ H ├──■──┤ X ├──────╫──╫──╫──────────────────────────────────»\n",
       "             ░ └───┘┌─┴─┐└───┘┌───┐ ║  ║  ║ ┌─┐                              »\n",
       " q3_5: ──────░──────┤ X ├──■──┤ H ├─╫──╫──╫─┤M├──────────────────────────────»\n",
       "             ░      └───┘┌─┴─┐└───┘ ║  ║  ║ └╥┘┌───────────── ┌───┐ ───────┐ »\n",
       " q3_6: ──────░───────────┤ X ├──────╫──╫──╫──╫─┤ If-0 cr1[0]  ┤ X ├  End-0 ├─»\n",
       "             ░           └───┘      ║  ║  ║  ║ └──────╥────── └───┘ ───────┘ »\n",
       "                                    ║  ║  ║  ║    ┌───╨────┐                 »\n",
       "cr1: 2/═════════════════════════════╩══╬══╬══╬════╡ [expr] ╞═════════════════»\n",
       "                                    0  ║  ║  ║    └────────┘                 »\n",
       "cr2: 3/════════════════════════════════╩══╩══╩═══════════════════════════════»\n",
       "                                       0  1  2                               »\n",
       "cr3: 2/══════════════════════════════════════════════════════════════════════»\n",
       "                                                                             »\n",
       "«       ┌───────────────────────────────── ┌───┐ ───────┐ \n",
       "« q3_0: ┤ If-0 cr2[2] ^ (cr2[1] ^ cr2[0])  ┤ Z ├  End-0 ├─\n",
       "«       └────────────────╥──────────────── └───┘ ───────┘ \n",
       "« q3_1: ─────────────────╫────────────────────────────────\n",
       "«                        ║                                \n",
       "« q3_2: ─────────────────╫────────────────────────────────\n",
       "«                        ║                                \n",
       "« q3_3: ─────────────────╫────────────────────────────────\n",
       "«                        ║                                \n",
       "« q3_4: ─────────────────╫────────────────────────────────\n",
       "«                        ║                                \n",
       "« q3_5: ─────────────────╫────────────────────────────────\n",
       "«                        ║                                \n",
       "« q3_6: ─────────────────╫────────────────────────────────\n",
       "«                        ║                                \n",
       "«cr1: 2/═════════════════╬════════════════════════════════\n",
       "«                    ┌───╨────┐                           \n",
       "«cr2: 3/═════════════╡ [expr] ╞═══════════════════════════\n",
       "«                    └────────┘                           \n",
       "«cr3: 2/══════════════════════════════════════════════════\n",
       "«                                                         "
      ]
     },
     "execution_count": 10,
     "metadata": {},
     "output_type": "execute_result"
    }
   ],
   "source": [
    "qc = get_dynamic_CNOT_Circuit(num_qubit=7)\n",
    "qc.draw(output=\"text\")"
   ]
  },
  {
   "cell_type": "code",
   "execution_count": 11,
   "metadata": {},
   "outputs": [],
   "source": [
    "max_num_qubit = 41\n",
    "\n",
    "qc_list = []\n",
    "num_qubit_list = list(range(7, max_num_qubit + 1, 2))\n",
    "for num_qubit in num_qubit_list:\n",
    "    qc_list.append(get_dynamic_CNOT_Circuit(num_qubit))"
   ]
  },
  {
   "cell_type": "code",
   "execution_count": 12,
   "metadata": {},
   "outputs": [
    {
     "name": "stderr",
     "output_type": "stream",
     "text": [
      "/tmp/ipykernel_221272/4212820681.py:6: DeprecationWarning: The get_backend() method is deprecated as of qiskit-ibm-runtime 0.24 and will be removed no sooner than 3 months after the release date. Please use backend() instead.\n",
      "  backend = service.get_backend(backend_name)\n"
     ]
    }
   ],
   "source": [
    "from qiskit.transpiler.preset_passmanagers import generate_preset_pass_manager\n",
    "from qiskit_ibm_runtime import QiskitRuntimeService\n",
    "\n",
    "backend_name = \"ibm_brisbane\"\n",
    "service = QiskitRuntimeService()\n",
    "backend = service.get_backend(backend_name)\n",
    "pm = generate_preset_pass_manager(optimization_level=1, backend=backend)\n",
    "\n",
    "qc_transpiled_list = pm.run(qc_list)"
   ]
  },
  {
   "cell_type": "code",
   "execution_count": 13,
   "metadata": {},
   "outputs": [
    {
     "name": "stderr",
     "output_type": "stream",
     "text": [
      "/tmp/ipykernel_221272/4151046348.py:3: DeprecationWarning: The 'backend' keyword arguments are deprecated as of qiskit-ibm-runtime 0.24.0 and will be removed no sooner than 3 months after the release date. Please use the 'mode' parameter instead.\n",
      "  sampler = Sampler(backend=backend)\n"
     ]
    },
    {
     "name": "stdout",
     "output_type": "stream",
     "text": [
      "csxftehfhyd0008k9vvg\n"
     ]
    }
   ],
   "source": [
    "from qiskit_ibm_runtime import SamplerV2 as Sampler \n",
    "\n",
    "sampler = Sampler(backend=backend)\n",
    "job = sampler.run(qc_transpiled_list)\n",
    "print(job.job_id())"
   ]
  },
  {
   "cell_type": "code",
   "execution_count": null,
   "metadata": {},
   "outputs": [],
   "source": [
    "import matplotlib.pyplot as plt\n",
    "from qiskit_ibm_runtime import QiskitRuntimeService\n",
    "\n",
    "job_id = \"csxftehfhyd0008k9vvg\"\n",
    "result = job.result()\n",
    "\n",
    "list_bell = []\n",
    "list_other = []\n",
    "for i in range(0, len(qc_list)):\n",
    "    data.result[i + 1].data\n",
    "    counts = data.cr3.get_counts()\n",
    "    total_counts = data.cr3.num_shots\n",
    "\n",
    "    prob_Bell = (counts['00'] + counts['11']) / total_counts\n",
    "\n",
    "    list_bell.append(prob_Bell)\n",
    "    list_other.append(1 - prob_Bell)\n",
    "\n",
    "plt.plot(num_qubit_list,list_bell, '--o', label =\"00 or 11\")\n",
    "plt.plot(num_qubit_list,list_other, '--.^', label = \"other\")\n",
    "plt.xlabel(\"Number of Qubits\")\n",
    "plt.ylabel(\"Probability\")\n",
    "plt.legend()"
   ]
  }
 ],
 "metadata": {
  "kernelspec": {
   "display_name": "cwq",
   "language": "python",
   "name": "python3"
  },
  "language_info": {
   "codemirror_mode": {
    "name": "ipython",
    "version": 3
   },
   "file_extension": ".py",
   "mimetype": "text/x-python",
   "name": "python",
   "nbconvert_exporter": "python",
   "pygments_lexer": "ipython3",
   "version": "3.12.2"
  }
 },
 "nbformat": 4,
 "nbformat_minor": 2
}
