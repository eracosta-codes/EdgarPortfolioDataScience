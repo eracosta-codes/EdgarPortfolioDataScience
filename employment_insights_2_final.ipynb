{
 "cells": [
  {
   "cell_type": "markdown",
   "metadata": {},
   "source": [
    "Software Developer Job Market Prediction With APIs\n",
    "\n",
    "Edgar Acosta\n",
    "\n",
    "Purpose: To provide a detailed report of the current job market(regarding AI and Data Analytics) and to explore why I cannot obtain a job straight out of university."
   ]
  },
  {
   "cell_type": "markdown",
   "metadata": {},
   "source": [
    "First, start with the API request"
   ]
  },
  {
   "cell_type": "code",
   "execution_count": 1,
   "metadata": {},
   "outputs": [
    {
     "name": "stdout",
     "output_type": "stream",
     "text": [
      "                         title  \\\n",
      "0           Software Developer   \n",
      "1  Embedded Software Developer   \n",
      "2           Software Developer   \n",
      "3           Software Developer   \n",
      "4           Software Developer   \n",
      "\n",
      "                                             company  \\\n",
      "0  {'__CLASS__': 'Adzuna::API::Response::Company'...   \n",
      "1  {'__CLASS__': 'Adzuna::API::Response::Company'...   \n",
      "2  {'__CLASS__': 'Adzuna::API::Response::Company'...   \n",
      "3  {'display_name': 'VLink Inc', '__CLASS__': 'Ad...   \n",
      "4  {'display_name': 'CLPS Global', '__CLASS__': '...   \n",
      "\n",
      "                                            location               created  \n",
      "0  {'__CLASS__': 'Adzuna::API::Response::Location...  2025-05-22T05:22:50Z  \n",
      "1  {'__CLASS__': 'Adzuna::API::Response::Location...  2025-06-11T23:09:14Z  \n",
      "2  {'__CLASS__': 'Adzuna::API::Response::Location...  2025-05-31T22:31:15Z  \n",
      "3  {'__CLASS__': 'Adzuna::API::Response::Location...  2025-05-29T23:14:48Z  \n",
      "4  {'area': ['Canada', 'Ontario', 'Toronto'], 'di...  2025-05-29T23:13:12Z  \n"
     ]
    }
   ],
   "source": [
    "import requests\n",
    "import pandas as pd\n",
    "\n",
    "APP_ID = \"af21817b\"\n",
    "APP_KEY = \"688d8e59766961f63d5e0ef54a3558cd\t\"\n",
    "\n",
    "url = \"https://api.adzuna.com/v1/api/jobs/ca/search/1\"\n",
    "params = {\n",
    "    \"app_id\": APP_ID,\n",
    "    \"app_key\": APP_KEY,\n",
    "    \"what\": \"Software Developer\",       # change to \"Data Analyst\" for those roles\n",
    "    \"results_per_page\": 500,\n",
    "    \"content-type\": \"application/json\"\n",
    "}\n",
    "\n",
    "resp = requests.get(url, params=params)\n",
    "if resp.status_code == 200:\n",
    "    data = resp.json()\n",
    "    jobs = data.get(\"results\", [])\n",
    "    employment_software = pd.DataFrame(jobs)\n",
    "    print(employment_software[[\"title\", \"company\", \"location\", \"created\"]].head())\n",
    "else:\n",
    "    print(\"Error fetching data:\", resp.status_code, resp.text)"
   ]
  },
  {
   "cell_type": "code",
   "execution_count": 2,
   "metadata": {},
   "outputs": [
    {
     "name": "stdout",
     "output_type": "stream",
     "text": [
      "7.0.0\n"
     ]
    }
   ],
   "source": [
    "import psutil\n",
    "print(psutil.__version__)"
   ]
  },
  {
   "cell_type": "code",
   "execution_count": 3,
   "metadata": {},
   "outputs": [
    {
     "name": "stdout",
     "output_type": "stream",
     "text": [
      "                    title                                            company  \\\n",
      "0            Data Analyst  {'__CLASS__': 'Adzuna::API::Response::Company'...   \n",
      "1            Data Analyst  {'__CLASS__': 'Adzuna::API::Response::Company'...   \n",
      "2            Data Analyst  {'display_name': 'Tata Consultancy Services', ...   \n",
      "3  Technical Data Analyst  {'__CLASS__': 'Adzuna::API::Response::Company'...   \n",
      "4            Data Analyst  {'__CLASS__': 'Adzuna::API::Response::Company'...   \n",
      "\n",
      "                                            location               created  \n",
      "0  {'area': ['Canada', 'Ontario', 'Toronto'], 'di...  2025-06-15T03:29:02Z  \n",
      "1  {'area': ['Canada', 'Ontario', 'Toronto'], 'di...  2025-05-20T17:15:34Z  \n",
      "2  {'__CLASS__': 'Adzuna::API::Response::Location...  2025-04-20T22:56:29Z  \n",
      "3  {'__CLASS__': 'Adzuna::API::Response::Location...  2025-05-31T22:30:19Z  \n",
      "4  {'__CLASS__': 'Adzuna::API::Response::Location...  2025-05-30T23:28:35Z  \n"
     ]
    }
   ],
   "source": [
    "url = \"https://api.adzuna.com/v1/api/jobs/ca/search/1\"\n",
    "params = {\n",
    "    \"app_id\": APP_ID,\n",
    "    \"app_key\": APP_KEY,\n",
    "    \"what\": \"Data Analyst\",       # change to \"Data Analyst\" for those roles\n",
    "    \"results_per_page\": 500,\n",
    "    \"content-type\": \"application/json\"\n",
    "}\n",
    "\n",
    "resp = requests.get(url, params=params)\n",
    "if resp.status_code == 200:\n",
    "    data = resp.json()\n",
    "    jobs = data.get(\"results\", [])\n",
    "    employment_data = pd.DataFrame(jobs)\n",
    "    print(employment_data[[\"title\", \"company\", \"location\", \"created\"]].head())\n",
    "else:\n",
    "    print(\"Error fetching data:\", resp.status_code, resp.text)"
   ]
  },
  {
   "cell_type": "code",
   "execution_count": 4,
   "metadata": {},
   "outputs": [
    {
     "data": {
      "text/html": [
       "<div>\n",
       "<style scoped>\n",
       "    .dataframe tbody tr th:only-of-type {\n",
       "        vertical-align: middle;\n",
       "    }\n",
       "\n",
       "    .dataframe tbody tr th {\n",
       "        vertical-align: top;\n",
       "    }\n",
       "\n",
       "    .dataframe thead th {\n",
       "        text-align: right;\n",
       "    }\n",
       "</style>\n",
       "<table border=\"1\" class=\"dataframe\">\n",
       "  <thead>\n",
       "    <tr style=\"text-align: right;\">\n",
       "      <th></th>\n",
       "      <th>salary_is_predicted</th>\n",
       "      <th>title</th>\n",
       "      <th>location</th>\n",
       "      <th>description</th>\n",
       "      <th>company</th>\n",
       "      <th>latitude</th>\n",
       "      <th>category</th>\n",
       "      <th>created</th>\n",
       "      <th>longitude</th>\n",
       "      <th>adref</th>\n",
       "      <th>redirect_url</th>\n",
       "      <th>id</th>\n",
       "      <th>__CLASS__</th>\n",
       "      <th>contract_type</th>\n",
       "      <th>contract_time</th>\n",
       "      <th>salary_max</th>\n",
       "      <th>salary_min</th>\n",
       "    </tr>\n",
       "  </thead>\n",
       "  <tbody>\n",
       "    <tr>\n",
       "      <th>0</th>\n",
       "      <td>0</td>\n",
       "      <td>Software Developer</td>\n",
       "      <td>{'__CLASS__': 'Adzuna::API::Response::Location...</td>\n",
       "      <td>Job Description DataAnnotation is committed to...</td>\n",
       "      <td>{'__CLASS__': 'Adzuna::API::Response::Company'...</td>\n",
       "      <td>52.129941</td>\n",
       "      <td>{'tag': 'it-jobs', 'label': 'IT Jobs', '__CLAS...</td>\n",
       "      <td>2025-05-22T05:22:50Z</td>\n",
       "      <td>-106.651489</td>\n",
       "      <td>eyJhbGciOiJIUzI1NiJ9.eyJpIjoiNTIxMDU0NDYxNCIsI...</td>\n",
       "      <td>https://www.adzuna.ca/land/ad/5210544614?se=Bl...</td>\n",
       "      <td>5210544614</td>\n",
       "      <td>Adzuna::API::Response::Job</td>\n",
       "      <td>NaN</td>\n",
       "      <td>NaN</td>\n",
       "      <td>NaN</td>\n",
       "      <td>NaN</td>\n",
       "    </tr>\n",
       "    <tr>\n",
       "      <th>1</th>\n",
       "      <td>0</td>\n",
       "      <td>Embedded Software Developer</td>\n",
       "      <td>{'__CLASS__': 'Adzuna::API::Response::Location...</td>\n",
       "      <td>Akkodis is seeking an Embedded Software Develo...</td>\n",
       "      <td>{'__CLASS__': 'Adzuna::API::Response::Company'...</td>\n",
       "      <td>45.573903</td>\n",
       "      <td>{'tag': 'it-jobs', 'label': 'IT Jobs', '__CLAS...</td>\n",
       "      <td>2025-06-11T23:09:14Z</td>\n",
       "      <td>-73.650516</td>\n",
       "      <td>eyJhbGciOiJIUzI1NiJ9.eyJzIjoiQmxEQmcwTk44Qkd3a...</td>\n",
       "      <td>https://www.adzuna.ca/land/ad/5245860514?se=Bl...</td>\n",
       "      <td>5245860514</td>\n",
       "      <td>Adzuna::API::Response::Job</td>\n",
       "      <td>contract</td>\n",
       "      <td>NaN</td>\n",
       "      <td>NaN</td>\n",
       "      <td>NaN</td>\n",
       "    </tr>\n",
       "    <tr>\n",
       "      <th>2</th>\n",
       "      <td>0</td>\n",
       "      <td>Software Developer</td>\n",
       "      <td>{'__CLASS__': 'Adzuna::API::Response::Location...</td>\n",
       "      <td>Job Title: Software Developer Department: Data...</td>\n",
       "      <td>{'__CLASS__': 'Adzuna::API::Response::Company'...</td>\n",
       "      <td>NaN</td>\n",
       "      <td>{'__CLASS__': 'Adzuna::API::Response::Category...</td>\n",
       "      <td>2025-05-31T22:31:15Z</td>\n",
       "      <td>NaN</td>\n",
       "      <td>eyJhbGciOiJIUzI1NiJ9.eyJpIjoiNTIyNTY5OTExNSIsI...</td>\n",
       "      <td>https://www.adzuna.ca/land/ad/5225699115?se=Bl...</td>\n",
       "      <td>5225699115</td>\n",
       "      <td>Adzuna::API::Response::Job</td>\n",
       "      <td>permanent</td>\n",
       "      <td>full_time</td>\n",
       "      <td>NaN</td>\n",
       "      <td>NaN</td>\n",
       "    </tr>\n",
       "    <tr>\n",
       "      <th>3</th>\n",
       "      <td>0</td>\n",
       "      <td>Software Developer</td>\n",
       "      <td>{'__CLASS__': 'Adzuna::API::Response::Location...</td>\n",
       "      <td>Job Title: Software Developer - API Location: ...</td>\n",
       "      <td>{'display_name': 'VLink Inc', '__CLASS__': 'Ad...</td>\n",
       "      <td>43.706102</td>\n",
       "      <td>{'__CLASS__': 'Adzuna::API::Response::Category...</td>\n",
       "      <td>2025-05-29T23:14:48Z</td>\n",
       "      <td>-79.402726</td>\n",
       "      <td>eyJhbGciOiJIUzI1NiJ9.eyJpIjoiNTIyMjg0MDUxMSIsI...</td>\n",
       "      <td>https://www.adzuna.ca/land/ad/5222840511?se=Bl...</td>\n",
       "      <td>5222840511</td>\n",
       "      <td>Adzuna::API::Response::Job</td>\n",
       "      <td>contract</td>\n",
       "      <td>NaN</td>\n",
       "      <td>NaN</td>\n",
       "      <td>NaN</td>\n",
       "    </tr>\n",
       "    <tr>\n",
       "      <th>4</th>\n",
       "      <td>0</td>\n",
       "      <td>Software Developer</td>\n",
       "      <td>{'area': ['Canada', 'Ontario', 'Toronto'], 'di...</td>\n",
       "      <td>Key Qualifications Proficient in React.js with...</td>\n",
       "      <td>{'display_name': 'CLPS Global', '__CLASS__': '...</td>\n",
       "      <td>43.706102</td>\n",
       "      <td>{'__CLASS__': 'Adzuna::API::Response::Category...</td>\n",
       "      <td>2025-05-29T23:13:12Z</td>\n",
       "      <td>-79.402726</td>\n",
       "      <td>eyJhbGciOiJIUzI1NiJ9.eyJzIjoiQmxEQmcwTk44Qkd3a...</td>\n",
       "      <td>https://www.adzuna.ca/land/ad/5222839752?se=Bl...</td>\n",
       "      <td>5222839752</td>\n",
       "      <td>Adzuna::API::Response::Job</td>\n",
       "      <td>NaN</td>\n",
       "      <td>NaN</td>\n",
       "      <td>NaN</td>\n",
       "      <td>NaN</td>\n",
       "    </tr>\n",
       "    <tr>\n",
       "      <th>5</th>\n",
       "      <td>0</td>\n",
       "      <td>Software developer (C++)</td>\n",
       "      <td>{'area': ['Canada', 'Québec', 'Saguenay - Lac-...</td>\n",
       "      <td>Responsibilities The role of the C++ Developer...</td>\n",
       "      <td>{'display_name': 'Carbotech', '__CLASS__': 'Ad...</td>\n",
       "      <td>48.331744</td>\n",
       "      <td>{'__CLASS__': 'Adzuna::API::Response::Category...</td>\n",
       "      <td>2025-06-01T04:47:22Z</td>\n",
       "      <td>-70.879001</td>\n",
       "      <td>eyJhbGciOiJIUzI1NiJ9.eyJpIjoiNTIyNjEzNTI0MyIsI...</td>\n",
       "      <td>https://www.adzuna.ca/land/ad/5226135243?se=Bl...</td>\n",
       "      <td>5226135243</td>\n",
       "      <td>Adzuna::API::Response::Job</td>\n",
       "      <td>NaN</td>\n",
       "      <td>full_time</td>\n",
       "      <td>NaN</td>\n",
       "      <td>NaN</td>\n",
       "    </tr>\n",
       "    <tr>\n",
       "      <th>6</th>\n",
       "      <td>0</td>\n",
       "      <td>Senior Software Developer</td>\n",
       "      <td>{'__CLASS__': 'Adzuna::API::Response::Location...</td>\n",
       "      <td>Who We Are Research, innovation, and scale! Mo...</td>\n",
       "      <td>{'display_name': 'ModiFace', '__CLASS__': 'Adz...</td>\n",
       "      <td>43.706102</td>\n",
       "      <td>{'__CLASS__': 'Adzuna::API::Response::Category...</td>\n",
       "      <td>2025-05-03T02:42:16Z</td>\n",
       "      <td>-79.402726</td>\n",
       "      <td>eyJhbGciOiJIUzI1NiJ9.eyJpIjoiNTE3ODA1MTIxMSIsI...</td>\n",
       "      <td>https://www.adzuna.ca/land/ad/5178051211?se=Bl...</td>\n",
       "      <td>5178051211</td>\n",
       "      <td>Adzuna::API::Response::Job</td>\n",
       "      <td>NaN</td>\n",
       "      <td>NaN</td>\n",
       "      <td>NaN</td>\n",
       "      <td>NaN</td>\n",
       "    </tr>\n",
       "    <tr>\n",
       "      <th>7</th>\n",
       "      <td>0</td>\n",
       "      <td>Senior Software Developer</td>\n",
       "      <td>{'__CLASS__': 'Adzuna::API::Response::Location...</td>\n",
       "      <td>FIELDBOSS - Elevating Service Excellence in El...</td>\n",
       "      <td>{'__CLASS__': 'Adzuna::API::Response::Company'...</td>\n",
       "      <td>43.706102</td>\n",
       "      <td>{'label': 'IT Jobs', 'tag': 'it-jobs', '__CLAS...</td>\n",
       "      <td>2025-05-08T02:08:42Z</td>\n",
       "      <td>-79.402726</td>\n",
       "      <td>eyJhbGciOiJIUzI1NiJ9.eyJpIjoiNTE4Nzk2MDA4MiIsI...</td>\n",
       "      <td>https://www.adzuna.ca/land/ad/5187960082?se=Bl...</td>\n",
       "      <td>5187960082</td>\n",
       "      <td>Adzuna::API::Response::Job</td>\n",
       "      <td>NaN</td>\n",
       "      <td>full_time</td>\n",
       "      <td>NaN</td>\n",
       "      <td>NaN</td>\n",
       "    </tr>\n",
       "    <tr>\n",
       "      <th>8</th>\n",
       "      <td>0</td>\n",
       "      <td>C++ Software Developer</td>\n",
       "      <td>{'display_name': 'Bas-Saint-Laurent, Québec', ...</td>\n",
       "      <td>Aversan Inc. ( www.aversan.com ) is a trusted ...</td>\n",
       "      <td>{'__CLASS__': 'Adzuna::API::Response::Company'...</td>\n",
       "      <td>48.145264</td>\n",
       "      <td>{'__CLASS__': 'Adzuna::API::Response::Category...</td>\n",
       "      <td>2025-06-05T03:05:07Z</td>\n",
       "      <td>-68.638735</td>\n",
       "      <td>eyJhbGciOiJIUzI1NiJ9.eyJzIjoiQmxEQmcwTk44Qkd3a...</td>\n",
       "      <td>https://www.adzuna.ca/land/ad/5234151379?se=Bl...</td>\n",
       "      <td>5234151379</td>\n",
       "      <td>Adzuna::API::Response::Job</td>\n",
       "      <td>NaN</td>\n",
       "      <td>NaN</td>\n",
       "      <td>NaN</td>\n",
       "      <td>NaN</td>\n",
       "    </tr>\n",
       "    <tr>\n",
       "      <th>9</th>\n",
       "      <td>0</td>\n",
       "      <td>Senior Software Developer – API</td>\n",
       "      <td>{'display_name': 'Toronto, Ontario', 'area': [...</td>\n",
       "      <td>We are seeking a Senior Software Developer – A...</td>\n",
       "      <td>{'__CLASS__': 'Adzuna::API::Response::Company'...</td>\n",
       "      <td>43.706102</td>\n",
       "      <td>{'__CLASS__': 'Adzuna::API::Response::Category...</td>\n",
       "      <td>2025-06-15T03:29:16Z</td>\n",
       "      <td>-79.402726</td>\n",
       "      <td>eyJhbGciOiJIUzI1NiJ9.eyJpIjoiNTI1MTU4MjI4OSIsI...</td>\n",
       "      <td>https://www.adzuna.ca/land/ad/5251582289?se=Bl...</td>\n",
       "      <td>5251582289</td>\n",
       "      <td>Adzuna::API::Response::Job</td>\n",
       "      <td>NaN</td>\n",
       "      <td>NaN</td>\n",
       "      <td>NaN</td>\n",
       "      <td>NaN</td>\n",
       "    </tr>\n",
       "    <tr>\n",
       "      <th>10</th>\n",
       "      <td>0</td>\n",
       "      <td>Senior Software Developer</td>\n",
       "      <td>{'__CLASS__': 'Adzuna::API::Response::Location...</td>\n",
       "      <td>ABOUT HERSCHEL SUPPLY Welcome to Herschel Supp...</td>\n",
       "      <td>{'display_name': 'Herschel Supply Company', '_...</td>\n",
       "      <td>49.256582</td>\n",
       "      <td>{'__CLASS__': 'Adzuna::API::Response::Category...</td>\n",
       "      <td>2025-06-10T22:35:52Z</td>\n",
       "      <td>-122.898456</td>\n",
       "      <td>eyJhbGciOiJIUzI1NiJ9.eyJpIjoiNTI0MzUyMDE0MCIsI...</td>\n",
       "      <td>https://www.adzuna.ca/land/ad/5243520140?se=Bl...</td>\n",
       "      <td>5243520140</td>\n",
       "      <td>Adzuna::API::Response::Job</td>\n",
       "      <td>contract</td>\n",
       "      <td>full_time</td>\n",
       "      <td>NaN</td>\n",
       "      <td>NaN</td>\n",
       "    </tr>\n",
       "    <tr>\n",
       "      <th>11</th>\n",
       "      <td>0</td>\n",
       "      <td>Software Developer and IT Support</td>\n",
       "      <td>{'display_name': 'Toronto, Ontario', 'area': [...</td>\n",
       "      <td>About the Company Founded in 2000, Timbercreek...</td>\n",
       "      <td>{'display_name': 'Timbercreek', '__CLASS__': '...</td>\n",
       "      <td>43.706102</td>\n",
       "      <td>{'tag': 'it-jobs', 'label': 'IT Jobs', '__CLAS...</td>\n",
       "      <td>2025-06-07T02:57:58Z</td>\n",
       "      <td>-79.402726</td>\n",
       "      <td>eyJhbGciOiJIUzI1NiJ9.eyJzIjoiQmxEQmcwTk44Qkd3a...</td>\n",
       "      <td>https://www.adzuna.ca/land/ad/5238172740?se=Bl...</td>\n",
       "      <td>5238172740</td>\n",
       "      <td>Adzuna::API::Response::Job</td>\n",
       "      <td>NaN</td>\n",
       "      <td>NaN</td>\n",
       "      <td>NaN</td>\n",
       "      <td>NaN</td>\n",
       "    </tr>\n",
       "    <tr>\n",
       "      <th>12</th>\n",
       "      <td>0</td>\n",
       "      <td>Software Developer II, Frontend</td>\n",
       "      <td>{'area': ['Canada', 'Ontario', 'Toronto'], 'di...</td>\n",
       "      <td>Join a Challenger Being a traditional bank jus...</td>\n",
       "      <td>{'display_name': 'EQ Bank | Equitable Bank', '...</td>\n",
       "      <td>43.706102</td>\n",
       "      <td>{'__CLASS__': 'Adzuna::API::Response::Category...</td>\n",
       "      <td>2025-06-04T02:10:32Z</td>\n",
       "      <td>-79.402726</td>\n",
       "      <td>eyJhbGciOiJIUzI1NiJ9.eyJpIjoiNTIzMjAyNjI2NCIsI...</td>\n",
       "      <td>https://www.adzuna.ca/land/ad/5232026264?se=Bl...</td>\n",
       "      <td>5232026264</td>\n",
       "      <td>Adzuna::API::Response::Job</td>\n",
       "      <td>permanent</td>\n",
       "      <td>full_time</td>\n",
       "      <td>NaN</td>\n",
       "      <td>NaN</td>\n",
       "    </tr>\n",
       "    <tr>\n",
       "      <th>13</th>\n",
       "      <td>0</td>\n",
       "      <td>Software Developer - API – Senior</td>\n",
       "      <td>{'display_name': 'Toronto, Ontario', 'area': [...</td>\n",
       "      <td>We are seeking a Senior Software Developer (AP...</td>\n",
       "      <td>{'display_name': '2iSolutions Inc.', '__CLASS_...</td>\n",
       "      <td>43.706102</td>\n",
       "      <td>{'__CLASS__': 'Adzuna::API::Response::Category...</td>\n",
       "      <td>2025-06-15T03:27:11Z</td>\n",
       "      <td>-79.402726</td>\n",
       "      <td>eyJhbGciOiJIUzI1NiJ9.eyJpIjoiNTI1MTU4MjExOCIsI...</td>\n",
       "      <td>https://www.adzuna.ca/land/ad/5251582118?se=Bl...</td>\n",
       "      <td>5251582118</td>\n",
       "      <td>Adzuna::API::Response::Job</td>\n",
       "      <td>contract</td>\n",
       "      <td>NaN</td>\n",
       "      <td>NaN</td>\n",
       "      <td>NaN</td>\n",
       "    </tr>\n",
       "    <tr>\n",
       "      <th>14</th>\n",
       "      <td>0</td>\n",
       "      <td>Software Developer NodeJS and TypeScript -Remo...</td>\n",
       "      <td>{'area': ['Canada'], 'display_name': 'Canada',...</td>\n",
       "      <td>Software Developer NodeJS and TypeScript Level...</td>\n",
       "      <td>{'display_name': 'Hays', '__CLASS__': 'Adzuna:...</td>\n",
       "      <td>NaN</td>\n",
       "      <td>{'__CLASS__': 'Adzuna::API::Response::Category...</td>\n",
       "      <td>2025-06-06T03:17:09Z</td>\n",
       "      <td>NaN</td>\n",
       "      <td>eyJhbGciOiJIUzI1NiJ9.eyJzIjoiQmxEQmcwTk44Qkd3a...</td>\n",
       "      <td>https://www.adzuna.ca/land/ad/5235835966?se=Bl...</td>\n",
       "      <td>5235835966</td>\n",
       "      <td>Adzuna::API::Response::Job</td>\n",
       "      <td>contract</td>\n",
       "      <td>NaN</td>\n",
       "      <td>NaN</td>\n",
       "      <td>NaN</td>\n",
       "    </tr>\n",
       "    <tr>\n",
       "      <th>15</th>\n",
       "      <td>0</td>\n",
       "      <td>PHP Software Developer &amp; Product Support L3</td>\n",
       "      <td>{'__CLASS__': 'Adzuna::API::Response::Location...</td>\n",
       "      <td>PHP Software Developer &amp; Product Support L3 JO...</td>\n",
       "      <td>{'__CLASS__': 'Adzuna::API::Response::Company'...</td>\n",
       "      <td>NaN</td>\n",
       "      <td>{'__CLASS__': 'Adzuna::API::Response::Category...</td>\n",
       "      <td>2025-05-23T00:04:20Z</td>\n",
       "      <td>NaN</td>\n",
       "      <td>eyJhbGciOiJIUzI1NiJ9.eyJpIjoiNTIxMTg2OTk4NSIsI...</td>\n",
       "      <td>https://www.adzuna.ca/land/ad/5211869985?se=Bl...</td>\n",
       "      <td>5211869985</td>\n",
       "      <td>Adzuna::API::Response::Job</td>\n",
       "      <td>NaN</td>\n",
       "      <td>full_time</td>\n",
       "      <td>NaN</td>\n",
       "      <td>NaN</td>\n",
       "    </tr>\n",
       "    <tr>\n",
       "      <th>16</th>\n",
       "      <td>0</td>\n",
       "      <td>Senior Software Development Engineer in Test (...</td>\n",
       "      <td>{'__CLASS__': 'Adzuna::API::Response::Location...</td>\n",
       "      <td>Why Join Inworld Inworld is the leading provid...</td>\n",
       "      <td>{'__CLASS__': 'Adzuna::API::Response::Company'...</td>\n",
       "      <td>51.467658</td>\n",
       "      <td>{'label': 'Scientific &amp; QA Jobs', 'tag': 'scie...</td>\n",
       "      <td>2025-05-28T22:12:22Z</td>\n",
       "      <td>-123.078768</td>\n",
       "      <td>eyJhbGciOiJIUzI1NiJ9.eyJzIjoiQmxEQmcwTk44Qkd3a...</td>\n",
       "      <td>https://www.adzuna.ca/land/ad/5221007941?se=Bl...</td>\n",
       "      <td>5221007941</td>\n",
       "      <td>Adzuna::API::Response::Job</td>\n",
       "      <td>NaN</td>\n",
       "      <td>full_time</td>\n",
       "      <td>NaN</td>\n",
       "      <td>NaN</td>\n",
       "    </tr>\n",
       "    <tr>\n",
       "      <th>17</th>\n",
       "      <td>0</td>\n",
       "      <td>Software Developer (Python) - Up to $220k CAD ...</td>\n",
       "      <td>{'__CLASS__': 'Adzuna::API::Response::Location...</td>\n",
       "      <td>Role: Software Developer (Python) - Up to $220...</td>\n",
       "      <td>{'__CLASS__': 'Adzuna::API::Response::Company'...</td>\n",
       "      <td>NaN</td>\n",
       "      <td>{'tag': 'it-jobs', 'label': 'IT Jobs', '__CLAS...</td>\n",
       "      <td>2025-06-14T01:58:16Z</td>\n",
       "      <td>NaN</td>\n",
       "      <td>eyJhbGciOiJIUzI1NiJ9.eyJzIjoiQmxEQmcwTk44Qkd3a...</td>\n",
       "      <td>https://www.adzuna.ca/land/ad/5250014332?se=Bl...</td>\n",
       "      <td>5250014332</td>\n",
       "      <td>Adzuna::API::Response::Job</td>\n",
       "      <td>NaN</td>\n",
       "      <td>NaN</td>\n",
       "      <td>NaN</td>\n",
       "      <td>NaN</td>\n",
       "    </tr>\n",
       "    <tr>\n",
       "      <th>18</th>\n",
       "      <td>0</td>\n",
       "      <td>Senior Software developer - ETL development us...</td>\n",
       "      <td>{'__CLASS__': 'Adzuna::API::Response::Location...</td>\n",
       "      <td>We are looking for a highly skilled Senior Sof...</td>\n",
       "      <td>{'__CLASS__': 'Adzuna::API::Response::Company'...</td>\n",
       "      <td>NaN</td>\n",
       "      <td>{'label': 'IT Jobs', 'tag': 'it-jobs', '__CLAS...</td>\n",
       "      <td>2025-06-07T02:59:39Z</td>\n",
       "      <td>NaN</td>\n",
       "      <td>eyJhbGciOiJIUzI1NiJ9.eyJpIjoiNTIzODE3NDU0NCIsI...</td>\n",
       "      <td>https://www.adzuna.ca/land/ad/5238174544?se=Bl...</td>\n",
       "      <td>5238174544</td>\n",
       "      <td>Adzuna::API::Response::Job</td>\n",
       "      <td>NaN</td>\n",
       "      <td>NaN</td>\n",
       "      <td>NaN</td>\n",
       "      <td>NaN</td>\n",
       "    </tr>\n",
       "    <tr>\n",
       "      <th>19</th>\n",
       "      <td>0</td>\n",
       "      <td>Software Developer</td>\n",
       "      <td>{'__CLASS__': 'Adzuna::API::Response::Location...</td>\n",
       "      <td>Job Summary: This role is for a Software Devel...</td>\n",
       "      <td>{'__CLASS__': 'Adzuna::API::Response::Company'...</td>\n",
       "      <td>44.810161</td>\n",
       "      <td>{'__CLASS__': 'Adzuna::API::Response::Category...</td>\n",
       "      <td>2025-06-18T17:31:38Z</td>\n",
       "      <td>-80.420891</td>\n",
       "      <td>eyJhbGciOiJIUzI1NiJ9.eyJpIjoiNTI1NzIzOTU1MCIsI...</td>\n",
       "      <td>https://www.adzuna.ca/details/5257239550?utm_m...</td>\n",
       "      <td>5257239550</td>\n",
       "      <td>Adzuna::API::Response::Job</td>\n",
       "      <td>NaN</td>\n",
       "      <td>NaN</td>\n",
       "      <td>176800.0</td>\n",
       "      <td>166400.0</td>\n",
       "    </tr>\n",
       "    <tr>\n",
       "      <th>20</th>\n",
       "      <td>0</td>\n",
       "      <td>Software Developer</td>\n",
       "      <td>{'__CLASS__': 'Adzuna::API::Response::Location...</td>\n",
       "      <td>Who We Are: Paracel Laboratories Ltd. is a ful...</td>\n",
       "      <td>{'__CLASS__': 'Adzuna::API::Response::Company'...</td>\n",
       "      <td>45.385910</td>\n",
       "      <td>{'__CLASS__': 'Adzuna::API::Response::Category...</td>\n",
       "      <td>2025-06-18T13:25:11Z</td>\n",
       "      <td>-75.615940</td>\n",
       "      <td>eyJhbGciOiJIUzI1NiJ9.eyJpIjoiNTI1NjY5MzAwMiIsI...</td>\n",
       "      <td>https://www.adzuna.ca/details/5256693002?utm_m...</td>\n",
       "      <td>5256693002</td>\n",
       "      <td>Adzuna::API::Response::Job</td>\n",
       "      <td>NaN</td>\n",
       "      <td>NaN</td>\n",
       "      <td>NaN</td>\n",
       "      <td>NaN</td>\n",
       "    </tr>\n",
       "    <tr>\n",
       "      <th>21</th>\n",
       "      <td>0</td>\n",
       "      <td>Software Developer</td>\n",
       "      <td>{'__CLASS__': 'Adzuna::API::Response::Location...</td>\n",
       "      <td>Job Summary Full-time: 37.5 Hours per week, Mo...</td>\n",
       "      <td>{'__CLASS__': 'Adzuna::API::Response::Company'...</td>\n",
       "      <td>NaN</td>\n",
       "      <td>{'__CLASS__': 'Adzuna::API::Response::Category...</td>\n",
       "      <td>2025-06-03T17:08:56Z</td>\n",
       "      <td>NaN</td>\n",
       "      <td>eyJhbGciOiJIUzI1NiJ9.eyJzIjoiQmxEQmcwTk44Qkd3a...</td>\n",
       "      <td>https://www.adzuna.ca/details/5231421686?utm_m...</td>\n",
       "      <td>5231421686</td>\n",
       "      <td>Adzuna::API::Response::Job</td>\n",
       "      <td>permanent</td>\n",
       "      <td>full_time</td>\n",
       "      <td>NaN</td>\n",
       "      <td>NaN</td>\n",
       "    </tr>\n",
       "    <tr>\n",
       "      <th>22</th>\n",
       "      <td>0</td>\n",
       "      <td>Software Developer</td>\n",
       "      <td>{'__CLASS__': 'Adzuna::API::Response::Location...</td>\n",
       "      <td>Job Summary: This Software Developer role requ...</td>\n",
       "      <td>{'display_name': 'vTech Solution', '__CLASS__'...</td>\n",
       "      <td>44.810161</td>\n",
       "      <td>{'__CLASS__': 'Adzuna::API::Response::Category...</td>\n",
       "      <td>2025-06-13T17:19:07Z</td>\n",
       "      <td>-80.420891</td>\n",
       "      <td>eyJhbGciOiJIUzI1NiJ9.eyJpIjoiNTI0OTQzNTc5NiIsI...</td>\n",
       "      <td>https://www.adzuna.ca/details/5249435796?utm_m...</td>\n",
       "      <td>5249435796</td>\n",
       "      <td>Adzuna::API::Response::Job</td>\n",
       "      <td>NaN</td>\n",
       "      <td>NaN</td>\n",
       "      <td>176800.0</td>\n",
       "      <td>166400.0</td>\n",
       "    </tr>\n",
       "    <tr>\n",
       "      <th>23</th>\n",
       "      <td>0</td>\n",
       "      <td>Software Developer</td>\n",
       "      <td>{'__CLASS__': 'Adzuna::API::Response::Location...</td>\n",
       "      <td>We’re hiring a Software Engineer/Developer who...</td>\n",
       "      <td>{'__CLASS__': 'Adzuna::API::Response::Company'...</td>\n",
       "      <td>49.264327</td>\n",
       "      <td>{'label': 'IT Jobs', 'tag': 'it-jobs', '__CLAS...</td>\n",
       "      <td>2025-05-06T16:54:36Z</td>\n",
       "      <td>-122.942300</td>\n",
       "      <td>eyJhbGciOiJIUzI1NiJ9.eyJzIjoiQmxEQmcwTk44Qkd3a...</td>\n",
       "      <td>https://www.adzuna.ca/details/5183990702?utm_m...</td>\n",
       "      <td>5183990702</td>\n",
       "      <td>Adzuna::API::Response::Job</td>\n",
       "      <td>permanent</td>\n",
       "      <td>full_time</td>\n",
       "      <td>95000.0</td>\n",
       "      <td>85000.0</td>\n",
       "    </tr>\n",
       "    <tr>\n",
       "      <th>24</th>\n",
       "      <td>0</td>\n",
       "      <td>Software Developer</td>\n",
       "      <td>{'area': ['Canada', 'Ontario'], 'display_name'...</td>\n",
       "      <td>Job Summary: This Senior Software Developer ro...</td>\n",
       "      <td>{'__CLASS__': 'Adzuna::API::Response::Company'...</td>\n",
       "      <td>44.810161</td>\n",
       "      <td>{'__CLASS__': 'Adzuna::API::Response::Category...</td>\n",
       "      <td>2025-06-18T17:31:38Z</td>\n",
       "      <td>-80.420891</td>\n",
       "      <td>eyJhbGciOiJIUzI1NiJ9.eyJpIjoiNTI1NzIzOTU0OCIsI...</td>\n",
       "      <td>https://www.adzuna.ca/details/5257239548?utm_m...</td>\n",
       "      <td>5257239548</td>\n",
       "      <td>Adzuna::API::Response::Job</td>\n",
       "      <td>NaN</td>\n",
       "      <td>NaN</td>\n",
       "      <td>176800.0</td>\n",
       "      <td>166400.0</td>\n",
       "    </tr>\n",
       "    <tr>\n",
       "      <th>25</th>\n",
       "      <td>0</td>\n",
       "      <td>Software Developer</td>\n",
       "      <td>{'display_name': 'Ontario, Canada', 'area': ['...</td>\n",
       "      <td>Job Summary: This Software Developer role requ...</td>\n",
       "      <td>{'display_name': 'vTech Solution', '__CLASS__'...</td>\n",
       "      <td>44.810161</td>\n",
       "      <td>{'label': 'IT Jobs', 'tag': 'it-jobs', '__CLAS...</td>\n",
       "      <td>2025-06-12T17:18:24Z</td>\n",
       "      <td>-80.420891</td>\n",
       "      <td>eyJhbGciOiJIUzI1NiJ9.eyJpIjoiNTI0NzM3MzQ1MSIsI...</td>\n",
       "      <td>https://www.adzuna.ca/details/5247373451?utm_m...</td>\n",
       "      <td>5247373451</td>\n",
       "      <td>Adzuna::API::Response::Job</td>\n",
       "      <td>NaN</td>\n",
       "      <td>NaN</td>\n",
       "      <td>176800.0</td>\n",
       "      <td>166400.0</td>\n",
       "    </tr>\n",
       "    <tr>\n",
       "      <th>26</th>\n",
       "      <td>0</td>\n",
       "      <td>Software Developer</td>\n",
       "      <td>{'area': ['Canada', 'Ontario'], 'display_name'...</td>\n",
       "      <td>Job Summary: This hybrid Software Developer ro...</td>\n",
       "      <td>{'__CLASS__': 'Adzuna::API::Response::Company'...</td>\n",
       "      <td>44.810161</td>\n",
       "      <td>{'tag': 'it-jobs', 'label': 'IT Jobs', '__CLAS...</td>\n",
       "      <td>2025-06-18T17:31:42Z</td>\n",
       "      <td>-80.420891</td>\n",
       "      <td>eyJhbGciOiJIUzI1NiJ9.eyJzIjoiQmxEQmcwTk44Qkd3a...</td>\n",
       "      <td>https://www.adzuna.ca/details/5257239800?utm_m...</td>\n",
       "      <td>5257239800</td>\n",
       "      <td>Adzuna::API::Response::Job</td>\n",
       "      <td>NaN</td>\n",
       "      <td>NaN</td>\n",
       "      <td>176800.0</td>\n",
       "      <td>166400.0</td>\n",
       "    </tr>\n",
       "    <tr>\n",
       "      <th>27</th>\n",
       "      <td>0</td>\n",
       "      <td>Software Developer</td>\n",
       "      <td>{'__CLASS__': 'Adzuna::API::Response::Location...</td>\n",
       "      <td>Who we are and what we do Mappedin is a global...</td>\n",
       "      <td>{'__CLASS__': 'Adzuna::API::Response::Company'...</td>\n",
       "      <td>43.465270</td>\n",
       "      <td>{'label': 'IT Jobs', 'tag': 'it-jobs', '__CLAS...</td>\n",
       "      <td>2025-05-06T22:56:25Z</td>\n",
       "      <td>-80.522610</td>\n",
       "      <td>eyJhbGciOiJIUzI1NiJ9.eyJpIjoiNTE4NDQ1NDg4NyIsI...</td>\n",
       "      <td>https://www.adzuna.ca/details/5184454887?utm_m...</td>\n",
       "      <td>5184454887</td>\n",
       "      <td>Adzuna::API::Response::Job</td>\n",
       "      <td>NaN</td>\n",
       "      <td>full_time</td>\n",
       "      <td>NaN</td>\n",
       "      <td>NaN</td>\n",
       "    </tr>\n",
       "    <tr>\n",
       "      <th>28</th>\n",
       "      <td>0</td>\n",
       "      <td>Software Developer Job</td>\n",
       "      <td>{'area': ['Canada', 'Nova Scotia', 'Halifax re...</td>\n",
       "      <td>Mycanadapayday.com is looking for an exception...</td>\n",
       "      <td>{'display_name': 'Mycanadapayday.com', '__CLAS...</td>\n",
       "      <td>44.680020</td>\n",
       "      <td>{'label': 'IT Jobs', 'tag': 'it-jobs', '__CLAS...</td>\n",
       "      <td>2025-05-16T06:15:13Z</td>\n",
       "      <td>-63.542562</td>\n",
       "      <td>eyJhbGciOiJIUzI1NiJ9.eyJpIjoiNTIwMTU3ODkxMCIsI...</td>\n",
       "      <td>https://www.adzuna.ca/details/5201578910?utm_m...</td>\n",
       "      <td>5201578910</td>\n",
       "      <td>Adzuna::API::Response::Job</td>\n",
       "      <td>permanent</td>\n",
       "      <td>full_time</td>\n",
       "      <td>NaN</td>\n",
       "      <td>NaN</td>\n",
       "    </tr>\n",
       "    <tr>\n",
       "      <th>29</th>\n",
       "      <td>0</td>\n",
       "      <td>Software Developer</td>\n",
       "      <td>{'area': ['Canada', 'Ontario'], 'display_name'...</td>\n",
       "      <td>Job Title: Software Developer On-site/ Remote/...</td>\n",
       "      <td>{'__CLASS__': 'Adzuna::API::Response::Company'...</td>\n",
       "      <td>44.810161</td>\n",
       "      <td>{'__CLASS__': 'Adzuna::API::Response::Category...</td>\n",
       "      <td>2025-03-31T13:17:32Z</td>\n",
       "      <td>-80.420891</td>\n",
       "      <td>eyJhbGciOiJIUzI1NiJ9.eyJpIjoiNTEyMDAwMjcxNyIsI...</td>\n",
       "      <td>https://www.adzuna.ca/details/5120002717?utm_m...</td>\n",
       "      <td>5120002717</td>\n",
       "      <td>Adzuna::API::Response::Job</td>\n",
       "      <td>contract</td>\n",
       "      <td>NaN</td>\n",
       "      <td>NaN</td>\n",
       "      <td>NaN</td>\n",
       "    </tr>\n",
       "    <tr>\n",
       "      <th>30</th>\n",
       "      <td>0</td>\n",
       "      <td>Software Developer</td>\n",
       "      <td>{'__CLASS__': 'Adzuna::API::Response::Location...</td>\n",
       "      <td>How will I make an Impact? At D2L, we are look...</td>\n",
       "      <td>{'display_name': 'D2L', '__CLASS__': 'Adzuna::...</td>\n",
       "      <td>NaN</td>\n",
       "      <td>{'__CLASS__': 'Adzuna::API::Response::Category...</td>\n",
       "      <td>2025-04-12T10:09:37Z</td>\n",
       "      <td>NaN</td>\n",
       "      <td>eyJhbGciOiJIUzI1NiJ9.eyJpIjoiNTE0MjA4OTcwOCIsI...</td>\n",
       "      <td>https://www.adzuna.ca/details/5142089708?utm_m...</td>\n",
       "      <td>5142089708</td>\n",
       "      <td>Adzuna::API::Response::Job</td>\n",
       "      <td>NaN</td>\n",
       "      <td>NaN</td>\n",
       "      <td>NaN</td>\n",
       "      <td>NaN</td>\n",
       "    </tr>\n",
       "    <tr>\n",
       "      <th>31</th>\n",
       "      <td>0</td>\n",
       "      <td>Software Developer</td>\n",
       "      <td>{'display_name': 'Burlington, Halton', 'area':...</td>\n",
       "      <td>Software Developer II Location : Burlington, O...</td>\n",
       "      <td>{'display_name': 'Bentley Systems', '__CLASS__...</td>\n",
       "      <td>43.353119</td>\n",
       "      <td>{'label': 'IT Jobs', 'tag': 'it-jobs', '__CLAS...</td>\n",
       "      <td>2025-05-07T03:46:17Z</td>\n",
       "      <td>-79.802061</td>\n",
       "      <td>eyJhbGciOiJIUzI1NiJ9.eyJpIjoiNTE4NDgxODAwOCIsI...</td>\n",
       "      <td>https://www.adzuna.ca/details/5184818008?utm_m...</td>\n",
       "      <td>5184818008</td>\n",
       "      <td>Adzuna::API::Response::Job</td>\n",
       "      <td>NaN</td>\n",
       "      <td>NaN</td>\n",
       "      <td>NaN</td>\n",
       "      <td>NaN</td>\n",
       "    </tr>\n",
       "    <tr>\n",
       "      <th>32</th>\n",
       "      <td>0</td>\n",
       "      <td>Software Developer</td>\n",
       "      <td>{'__CLASS__': 'Adzuna::API::Response::Location...</td>\n",
       "      <td>Description Fortinet is growing and we are loo...</td>\n",
       "      <td>{'display_name': 'Fortinet', '__CLASS__': 'Adz...</td>\n",
       "      <td>NaN</td>\n",
       "      <td>{'tag': 'it-jobs', 'label': 'IT Jobs', '__CLAS...</td>\n",
       "      <td>2025-06-16T10:53:00Z</td>\n",
       "      <td>NaN</td>\n",
       "      <td>eyJhbGciOiJIUzI1NiJ9.eyJzIjoiQmxEQmcwTk44Qkd3a...</td>\n",
       "      <td>https://www.adzuna.ca/details/5253213086?utm_m...</td>\n",
       "      <td>5253213086</td>\n",
       "      <td>Adzuna::API::Response::Job</td>\n",
       "      <td>NaN</td>\n",
       "      <td>full_time</td>\n",
       "      <td>NaN</td>\n",
       "      <td>NaN</td>\n",
       "    </tr>\n",
       "    <tr>\n",
       "      <th>33</th>\n",
       "      <td>0</td>\n",
       "      <td>Software Developer</td>\n",
       "      <td>{'__CLASS__': 'Adzuna::API::Response::Location...</td>\n",
       "      <td>Software Developer II Location :?Burlington, O...</td>\n",
       "      <td>{'__CLASS__': 'Adzuna::API::Response::Company'...</td>\n",
       "      <td>43.353119</td>\n",
       "      <td>{'label': 'IT Jobs', 'tag': 'it-jobs', '__CLAS...</td>\n",
       "      <td>2025-05-07T12:16:53Z</td>\n",
       "      <td>-79.802061</td>\n",
       "      <td>eyJhbGciOiJIUzI1NiJ9.eyJzIjoiQmxEQmcwTk44Qkd3a...</td>\n",
       "      <td>https://www.adzuna.ca/details/5185879324?utm_m...</td>\n",
       "      <td>5185879324</td>\n",
       "      <td>Adzuna::API::Response::Job</td>\n",
       "      <td>NaN</td>\n",
       "      <td>NaN</td>\n",
       "      <td>NaN</td>\n",
       "      <td>NaN</td>\n",
       "    </tr>\n",
       "    <tr>\n",
       "      <th>34</th>\n",
       "      <td>0</td>\n",
       "      <td>Software Developer</td>\n",
       "      <td>{'area': ['Canada', 'Ontario', 'Ottawa region'...</td>\n",
       "      <td>Description Fortinet is growing and we are loo...</td>\n",
       "      <td>{'__CLASS__': 'Adzuna::API::Response::Company'...</td>\n",
       "      <td>NaN</td>\n",
       "      <td>{'__CLASS__': 'Adzuna::API::Response::Category...</td>\n",
       "      <td>2025-01-17T05:53:38Z</td>\n",
       "      <td>NaN</td>\n",
       "      <td>eyJhbGciOiJIUzI1NiJ9.eyJpIjoiNTAxNDIxODMzNiIsI...</td>\n",
       "      <td>https://www.adzuna.ca/details/5014218336?utm_m...</td>\n",
       "      <td>5014218336</td>\n",
       "      <td>Adzuna::API::Response::Job</td>\n",
       "      <td>NaN</td>\n",
       "      <td>full_time</td>\n",
       "      <td>NaN</td>\n",
       "      <td>NaN</td>\n",
       "    </tr>\n",
       "    <tr>\n",
       "      <th>35</th>\n",
       "      <td>0</td>\n",
       "      <td>Software Developer</td>\n",
       "      <td>{'display_name': 'Ottawa, Ottawa region', 'are...</td>\n",
       "      <td>Responsibilities Assist the team with the desi...</td>\n",
       "      <td>{'__CLASS__': 'Adzuna::API::Response::Company'...</td>\n",
       "      <td>NaN</td>\n",
       "      <td>{'tag': 'it-jobs', 'label': 'IT Jobs', '__CLAS...</td>\n",
       "      <td>2024-05-10T15:30:30Z</td>\n",
       "      <td>NaN</td>\n",
       "      <td>eyJhbGciOiJIUzI1NiJ9.eyJzIjoiQmxEQmcwTk44Qkd3a...</td>\n",
       "      <td>https://www.adzuna.ca/details/4687956892?utm_m...</td>\n",
       "      <td>4687956892</td>\n",
       "      <td>Adzuna::API::Response::Job</td>\n",
       "      <td>NaN</td>\n",
       "      <td>NaN</td>\n",
       "      <td>NaN</td>\n",
       "      <td>NaN</td>\n",
       "    </tr>\n",
       "    <tr>\n",
       "      <th>36</th>\n",
       "      <td>0</td>\n",
       "      <td>Software Developer</td>\n",
       "      <td>{'display_name': 'Canada', 'area': ['Canada'],...</td>\n",
       "      <td>Software Developer - Front-Office Technology M...</td>\n",
       "      <td>{'__CLASS__': 'Adzuna::API::Response::Company'...</td>\n",
       "      <td>NaN</td>\n",
       "      <td>{'tag': 'it-jobs', 'label': 'IT Jobs', '__CLAS...</td>\n",
       "      <td>2025-03-05T12:18:10Z</td>\n",
       "      <td>NaN</td>\n",
       "      <td>eyJhbGciOiJIUzI1NiJ9.eyJpIjoiNTA3NzU3NzA0MyIsI...</td>\n",
       "      <td>https://www.adzuna.ca/details/5077577043?utm_m...</td>\n",
       "      <td>5077577043</td>\n",
       "      <td>Adzuna::API::Response::Job</td>\n",
       "      <td>NaN</td>\n",
       "      <td>NaN</td>\n",
       "      <td>NaN</td>\n",
       "      <td>NaN</td>\n",
       "    </tr>\n",
       "    <tr>\n",
       "      <th>37</th>\n",
       "      <td>0</td>\n",
       "      <td>Software Developer</td>\n",
       "      <td>{'__CLASS__': 'Adzuna::API::Response::Location...</td>\n",
       "      <td>Job Description Job Description Who We Are: Pa...</td>\n",
       "      <td>{'display_name': 'Paracel Laboratories', '__CL...</td>\n",
       "      <td>45.394161</td>\n",
       "      <td>{'tag': 'it-jobs', 'label': 'IT Jobs', '__CLAS...</td>\n",
       "      <td>2025-06-03T05:15:51Z</td>\n",
       "      <td>-75.697758</td>\n",
       "      <td>eyJhbGciOiJIUzI1NiJ9.eyJpIjoiNTIzMDI5MTUwNyIsI...</td>\n",
       "      <td>https://www.adzuna.ca/details/5230291507?utm_m...</td>\n",
       "      <td>5230291507</td>\n",
       "      <td>Adzuna::API::Response::Job</td>\n",
       "      <td>NaN</td>\n",
       "      <td>NaN</td>\n",
       "      <td>NaN</td>\n",
       "      <td>NaN</td>\n",
       "    </tr>\n",
       "    <tr>\n",
       "      <th>38</th>\n",
       "      <td>0</td>\n",
       "      <td>Software developer Job</td>\n",
       "      <td>{'display_name': 'Canada', 'area': ['Canada'],...</td>\n",
       "      <td>Job Description Employer InfoJet International...</td>\n",
       "      <td>{'__CLASS__': 'Adzuna::API::Response::Company'...</td>\n",
       "      <td>NaN</td>\n",
       "      <td>{'tag': 'it-jobs', 'label': 'IT Jobs', '__CLAS...</td>\n",
       "      <td>2024-12-10T18:28:38Z</td>\n",
       "      <td>NaN</td>\n",
       "      <td>eyJhbGciOiJIUzI1NiJ9.eyJpIjoiNDk3MTAwNDEyNSIsI...</td>\n",
       "      <td>https://www.adzuna.ca/details/4971004125?utm_m...</td>\n",
       "      <td>4971004125</td>\n",
       "      <td>Adzuna::API::Response::Job</td>\n",
       "      <td>permanent</td>\n",
       "      <td>full_time</td>\n",
       "      <td>NaN</td>\n",
       "      <td>NaN</td>\n",
       "    </tr>\n",
       "    <tr>\n",
       "      <th>39</th>\n",
       "      <td>0</td>\n",
       "      <td>Software Developer</td>\n",
       "      <td>{'__CLASS__': 'Adzuna::API::Response::Location...</td>\n",
       "      <td>Description Join Fortinet, a cybersecurity pio...</td>\n",
       "      <td>{'__CLASS__': 'Adzuna::API::Response::Company'...</td>\n",
       "      <td>NaN</td>\n",
       "      <td>{'__CLASS__': 'Adzuna::API::Response::Category...</td>\n",
       "      <td>2025-05-18T10:08:15Z</td>\n",
       "      <td>NaN</td>\n",
       "      <td>eyJhbGciOiJIUzI1NiJ9.eyJzIjoiQmxEQmcwTk44Qkd3a...</td>\n",
       "      <td>https://www.adzuna.ca/details/5205019090?utm_m...</td>\n",
       "      <td>5205019090</td>\n",
       "      <td>Adzuna::API::Response::Job</td>\n",
       "      <td>NaN</td>\n",
       "      <td>full_time</td>\n",
       "      <td>NaN</td>\n",
       "      <td>NaN</td>\n",
       "    </tr>\n",
       "    <tr>\n",
       "      <th>40</th>\n",
       "      <td>0</td>\n",
       "      <td>Software Developer</td>\n",
       "      <td>{'__CLASS__': 'Adzuna::API::Response::Location...</td>\n",
       "      <td>Job Summary Full-time: 37.5 Hours per week, Mo...</td>\n",
       "      <td>{'display_name': 'Larus Technologies', '__CLAS...</td>\n",
       "      <td>NaN</td>\n",
       "      <td>{'__CLASS__': 'Adzuna::API::Response::Category...</td>\n",
       "      <td>2025-06-06T10:43:17Z</td>\n",
       "      <td>NaN</td>\n",
       "      <td>eyJhbGciOiJIUzI1NiJ9.eyJzIjoiQmxEQmcwTk44Qkd3a...</td>\n",
       "      <td>https://www.adzuna.ca/details/5236351376?utm_m...</td>\n",
       "      <td>5236351376</td>\n",
       "      <td>Adzuna::API::Response::Job</td>\n",
       "      <td>permanent</td>\n",
       "      <td>full_time</td>\n",
       "      <td>NaN</td>\n",
       "      <td>NaN</td>\n",
       "    </tr>\n",
       "    <tr>\n",
       "      <th>41</th>\n",
       "      <td>0</td>\n",
       "      <td>Software Developer</td>\n",
       "      <td>{'display_name': 'Ottawa, Ottawa region', 'are...</td>\n",
       "      <td>Job Description Job Description Job Summary Fu...</td>\n",
       "      <td>{'__CLASS__': 'Adzuna::API::Response::Company'...</td>\n",
       "      <td>45.394161</td>\n",
       "      <td>{'__CLASS__': 'Adzuna::API::Response::Category...</td>\n",
       "      <td>2025-06-03T23:58:19Z</td>\n",
       "      <td>-75.697758</td>\n",
       "      <td>eyJhbGciOiJIUzI1NiJ9.eyJzIjoiQmxEQmcwTk44Qkd3a...</td>\n",
       "      <td>https://www.adzuna.ca/details/5231830649?utm_m...</td>\n",
       "      <td>5231830649</td>\n",
       "      <td>Adzuna::API::Response::Job</td>\n",
       "      <td>permanent</td>\n",
       "      <td>full_time</td>\n",
       "      <td>NaN</td>\n",
       "      <td>NaN</td>\n",
       "    </tr>\n",
       "    <tr>\n",
       "      <th>42</th>\n",
       "      <td>0</td>\n",
       "      <td>Software Developer</td>\n",
       "      <td>{'area': ['Canada'], 'display_name': 'Canada',...</td>\n",
       "      <td>OVERVIEW Cayenta is seeking a motivated Softwa...</td>\n",
       "      <td>{'display_name': 'Harris', '__CLASS__': 'Adzun...</td>\n",
       "      <td>NaN</td>\n",
       "      <td>{'__CLASS__': 'Adzuna::API::Response::Category...</td>\n",
       "      <td>2025-06-13T10:32:40Z</td>\n",
       "      <td>NaN</td>\n",
       "      <td>eyJhbGciOiJIUzI1NiJ9.eyJzIjoiQmxEQmcwTk44Qkd3a...</td>\n",
       "      <td>https://www.adzuna.ca/details/5248674797?utm_m...</td>\n",
       "      <td>5248674797</td>\n",
       "      <td>Adzuna::API::Response::Job</td>\n",
       "      <td>NaN</td>\n",
       "      <td>full_time</td>\n",
       "      <td>NaN</td>\n",
       "      <td>NaN</td>\n",
       "    </tr>\n",
       "    <tr>\n",
       "      <th>43</th>\n",
       "      <td>0</td>\n",
       "      <td>Software Developer</td>\n",
       "      <td>{'__CLASS__': 'Adzuna::API::Response::Location...</td>\n",
       "      <td>OVERVIEW Cayenta is seeking a motivated Softwa...</td>\n",
       "      <td>{'display_name': 'Equest', '__CLASS__': 'Adzun...</td>\n",
       "      <td>NaN</td>\n",
       "      <td>{'tag': 'it-jobs', 'label': 'IT Jobs', '__CLAS...</td>\n",
       "      <td>2025-06-14T07:41:00Z</td>\n",
       "      <td>NaN</td>\n",
       "      <td>eyJhbGciOiJIUzI1NiJ9.eyJzIjoiQmxEQmcwTk44Qkd3a...</td>\n",
       "      <td>https://www.adzuna.ca/details/5250411199?utm_m...</td>\n",
       "      <td>5250411199</td>\n",
       "      <td>Adzuna::API::Response::Job</td>\n",
       "      <td>NaN</td>\n",
       "      <td>NaN</td>\n",
       "      <td>NaN</td>\n",
       "      <td>NaN</td>\n",
       "    </tr>\n",
       "    <tr>\n",
       "      <th>44</th>\n",
       "      <td>0</td>\n",
       "      <td>Software Developer</td>\n",
       "      <td>{'display_name': 'Saint-Laurent, Montréal', 'a...</td>\n",
       "      <td>Software Developer Aversan Inc. ( www.aversan....</td>\n",
       "      <td>{'display_name': 'Aversan', '__CLASS__': 'Adzu...</td>\n",
       "      <td>45.475320</td>\n",
       "      <td>{'label': 'IT Jobs', 'tag': 'it-jobs', '__CLAS...</td>\n",
       "      <td>2025-06-05T10:23:32Z</td>\n",
       "      <td>-73.705790</td>\n",
       "      <td>eyJhbGciOiJIUzI1NiJ9.eyJpIjoiNTIzNDY0OTIwNiIsI...</td>\n",
       "      <td>https://www.adzuna.ca/details/5234649206?utm_m...</td>\n",
       "      <td>5234649206</td>\n",
       "      <td>Adzuna::API::Response::Job</td>\n",
       "      <td>NaN</td>\n",
       "      <td>NaN</td>\n",
       "      <td>NaN</td>\n",
       "      <td>NaN</td>\n",
       "    </tr>\n",
       "    <tr>\n",
       "      <th>45</th>\n",
       "      <td>0</td>\n",
       "      <td>Software Developer</td>\n",
       "      <td>{'area': ['Canada', 'Nova Scotia', 'Halifax re...</td>\n",
       "      <td>Overview Fundmetric is looking for a Software ...</td>\n",
       "      <td>{'display_name': 'Fundmetric', '__CLASS__': 'A...</td>\n",
       "      <td>44.681555</td>\n",
       "      <td>{'__CLASS__': 'Adzuna::API::Response::Category...</td>\n",
       "      <td>2025-05-18T10:13:46Z</td>\n",
       "      <td>-63.556363</td>\n",
       "      <td>eyJhbGciOiJIUzI1NiJ9.eyJpIjoiNTIwNTAyMDI2MCIsI...</td>\n",
       "      <td>https://www.adzuna.ca/details/5205020260?utm_m...</td>\n",
       "      <td>5205020260</td>\n",
       "      <td>Adzuna::API::Response::Job</td>\n",
       "      <td>NaN</td>\n",
       "      <td>full_time</td>\n",
       "      <td>NaN</td>\n",
       "      <td>NaN</td>\n",
       "    </tr>\n",
       "    <tr>\n",
       "      <th>46</th>\n",
       "      <td>0</td>\n",
       "      <td>Software Developer</td>\n",
       "      <td>{'__CLASS__': 'Adzuna::API::Response::Location...</td>\n",
       "      <td>Job Introduction Frequentis Group with headqua...</td>\n",
       "      <td>{'__CLASS__': 'Adzuna::API::Response::Company'...</td>\n",
       "      <td>45.466091</td>\n",
       "      <td>{'label': 'IT Jobs', 'tag': 'it-jobs', '__CLAS...</td>\n",
       "      <td>2025-06-07T08:50:55Z</td>\n",
       "      <td>-75.704464</td>\n",
       "      <td>eyJhbGciOiJIUzI1NiJ9.eyJpIjoiNTIzODczNDc0NiIsI...</td>\n",
       "      <td>https://www.adzuna.ca/details/5238734746?utm_m...</td>\n",
       "      <td>5238734746</td>\n",
       "      <td>Adzuna::API::Response::Job</td>\n",
       "      <td>permanent</td>\n",
       "      <td>full_time</td>\n",
       "      <td>NaN</td>\n",
       "      <td>NaN</td>\n",
       "    </tr>\n",
       "    <tr>\n",
       "      <th>47</th>\n",
       "      <td>0</td>\n",
       "      <td>Software Developer</td>\n",
       "      <td>{'area': ['Canada', 'Ontario', 'Middlesex', 'L...</td>\n",
       "      <td>Who are we? Proax Technologies is a leading Te...</td>\n",
       "      <td>{'display_name': 'Proax Technologies', '__CLAS...</td>\n",
       "      <td>42.933380</td>\n",
       "      <td>{'__CLASS__': 'Adzuna::API::Response::Category...</td>\n",
       "      <td>2024-09-20T07:53:38Z</td>\n",
       "      <td>-81.205550</td>\n",
       "      <td>eyJhbGciOiJIUzI1NiJ9.eyJpIjoiNDg3MDQ5NDYxOSIsI...</td>\n",
       "      <td>https://www.adzuna.ca/details/4870494619?utm_m...</td>\n",
       "      <td>4870494619</td>\n",
       "      <td>Adzuna::API::Response::Job</td>\n",
       "      <td>NaN</td>\n",
       "      <td>full_time</td>\n",
       "      <td>NaN</td>\n",
       "      <td>NaN</td>\n",
       "    </tr>\n",
       "    <tr>\n",
       "      <th>48</th>\n",
       "      <td>0</td>\n",
       "      <td>Software Developer</td>\n",
       "      <td>{'area': ['Canada'], 'display_name': 'Canada',...</td>\n",
       "      <td>Description We are seeking a Software Develope...</td>\n",
       "      <td>{'display_name': 'Nokia Global', '__CLASS__': ...</td>\n",
       "      <td>NaN</td>\n",
       "      <td>{'tag': 'it-jobs', 'label': 'IT Jobs', '__CLAS...</td>\n",
       "      <td>2025-05-24T10:22:58Z</td>\n",
       "      <td>NaN</td>\n",
       "      <td>eyJhbGciOiJIUzI1NiJ9.eyJpIjoiNTIxNDQ4Njc5MiIsI...</td>\n",
       "      <td>https://www.adzuna.ca/details/5214486792?utm_m...</td>\n",
       "      <td>5214486792</td>\n",
       "      <td>Adzuna::API::Response::Job</td>\n",
       "      <td>NaN</td>\n",
       "      <td>full_time</td>\n",
       "      <td>NaN</td>\n",
       "      <td>NaN</td>\n",
       "    </tr>\n",
       "    <tr>\n",
       "      <th>49</th>\n",
       "      <td>0</td>\n",
       "      <td>Software Developer</td>\n",
       "      <td>{'display_name': 'London, Middlesex', 'area': ...</td>\n",
       "      <td>Job Description Job Description Salary: Who ar...</td>\n",
       "      <td>{'display_name': 'Proax Technologies', '__CLAS...</td>\n",
       "      <td>42.981065</td>\n",
       "      <td>{'__CLASS__': 'Adzuna::API::Response::Category...</td>\n",
       "      <td>2025-04-24T15:20:44Z</td>\n",
       "      <td>-81.248057</td>\n",
       "      <td>eyJhbGciOiJIUzI1NiJ9.eyJzIjoiQmxEQmcwTk44Qkd3a...</td>\n",
       "      <td>https://www.adzuna.ca/details/5160874975?utm_m...</td>\n",
       "      <td>5160874975</td>\n",
       "      <td>Adzuna::API::Response::Job</td>\n",
       "      <td>NaN</td>\n",
       "      <td>NaN</td>\n",
       "      <td>NaN</td>\n",
       "      <td>NaN</td>\n",
       "    </tr>\n",
       "  </tbody>\n",
       "</table>\n",
       "</div>"
      ],
      "text/plain": [
       "   salary_is_predicted                                              title  \\\n",
       "0                    0                                 Software Developer   \n",
       "1                    0                        Embedded Software Developer   \n",
       "2                    0                                 Software Developer   \n",
       "3                    0                                 Software Developer   \n",
       "4                    0                                 Software Developer   \n",
       "5                    0                           Software developer (C++)   \n",
       "6                    0                          Senior Software Developer   \n",
       "7                    0                          Senior Software Developer   \n",
       "8                    0                             C++ Software Developer   \n",
       "9                    0                    Senior Software Developer – API   \n",
       "10                   0                          Senior Software Developer   \n",
       "11                   0                  Software Developer and IT Support   \n",
       "12                   0                    Software Developer II, Frontend   \n",
       "13                   0                  Software Developer - API – Senior   \n",
       "14                   0  Software Developer NodeJS and TypeScript -Remo...   \n",
       "15                   0        PHP Software Developer & Product Support L3   \n",
       "16                   0  Senior Software Development Engineer in Test (...   \n",
       "17                   0  Software Developer (Python) - Up to $220k CAD ...   \n",
       "18                   0  Senior Software developer - ETL development us...   \n",
       "19                   0                                 Software Developer   \n",
       "20                   0                                 Software Developer   \n",
       "21                   0                                 Software Developer   \n",
       "22                   0                                 Software Developer   \n",
       "23                   0                                 Software Developer   \n",
       "24                   0                                 Software Developer   \n",
       "25                   0                                 Software Developer   \n",
       "26                   0                                 Software Developer   \n",
       "27                   0                                 Software Developer   \n",
       "28                   0                             Software Developer Job   \n",
       "29                   0                                 Software Developer   \n",
       "30                   0                                 Software Developer   \n",
       "31                   0                                 Software Developer   \n",
       "32                   0                                 Software Developer   \n",
       "33                   0                                 Software Developer   \n",
       "34                   0                                 Software Developer   \n",
       "35                   0                                 Software Developer   \n",
       "36                   0                                 Software Developer   \n",
       "37                   0                                 Software Developer   \n",
       "38                   0                             Software developer Job   \n",
       "39                   0                                 Software Developer   \n",
       "40                   0                                 Software Developer   \n",
       "41                   0                                 Software Developer   \n",
       "42                   0                                 Software Developer   \n",
       "43                   0                                 Software Developer   \n",
       "44                   0                                 Software Developer   \n",
       "45                   0                                 Software Developer   \n",
       "46                   0                                 Software Developer   \n",
       "47                   0                                 Software Developer   \n",
       "48                   0                                 Software Developer   \n",
       "49                   0                                 Software Developer   \n",
       "\n",
       "                                             location  \\\n",
       "0   {'__CLASS__': 'Adzuna::API::Response::Location...   \n",
       "1   {'__CLASS__': 'Adzuna::API::Response::Location...   \n",
       "2   {'__CLASS__': 'Adzuna::API::Response::Location...   \n",
       "3   {'__CLASS__': 'Adzuna::API::Response::Location...   \n",
       "4   {'area': ['Canada', 'Ontario', 'Toronto'], 'di...   \n",
       "5   {'area': ['Canada', 'Québec', 'Saguenay - Lac-...   \n",
       "6   {'__CLASS__': 'Adzuna::API::Response::Location...   \n",
       "7   {'__CLASS__': 'Adzuna::API::Response::Location...   \n",
       "8   {'display_name': 'Bas-Saint-Laurent, Québec', ...   \n",
       "9   {'display_name': 'Toronto, Ontario', 'area': [...   \n",
       "10  {'__CLASS__': 'Adzuna::API::Response::Location...   \n",
       "11  {'display_name': 'Toronto, Ontario', 'area': [...   \n",
       "12  {'area': ['Canada', 'Ontario', 'Toronto'], 'di...   \n",
       "13  {'display_name': 'Toronto, Ontario', 'area': [...   \n",
       "14  {'area': ['Canada'], 'display_name': 'Canada',...   \n",
       "15  {'__CLASS__': 'Adzuna::API::Response::Location...   \n",
       "16  {'__CLASS__': 'Adzuna::API::Response::Location...   \n",
       "17  {'__CLASS__': 'Adzuna::API::Response::Location...   \n",
       "18  {'__CLASS__': 'Adzuna::API::Response::Location...   \n",
       "19  {'__CLASS__': 'Adzuna::API::Response::Location...   \n",
       "20  {'__CLASS__': 'Adzuna::API::Response::Location...   \n",
       "21  {'__CLASS__': 'Adzuna::API::Response::Location...   \n",
       "22  {'__CLASS__': 'Adzuna::API::Response::Location...   \n",
       "23  {'__CLASS__': 'Adzuna::API::Response::Location...   \n",
       "24  {'area': ['Canada', 'Ontario'], 'display_name'...   \n",
       "25  {'display_name': 'Ontario, Canada', 'area': ['...   \n",
       "26  {'area': ['Canada', 'Ontario'], 'display_name'...   \n",
       "27  {'__CLASS__': 'Adzuna::API::Response::Location...   \n",
       "28  {'area': ['Canada', 'Nova Scotia', 'Halifax re...   \n",
       "29  {'area': ['Canada', 'Ontario'], 'display_name'...   \n",
       "30  {'__CLASS__': 'Adzuna::API::Response::Location...   \n",
       "31  {'display_name': 'Burlington, Halton', 'area':...   \n",
       "32  {'__CLASS__': 'Adzuna::API::Response::Location...   \n",
       "33  {'__CLASS__': 'Adzuna::API::Response::Location...   \n",
       "34  {'area': ['Canada', 'Ontario', 'Ottawa region'...   \n",
       "35  {'display_name': 'Ottawa, Ottawa region', 'are...   \n",
       "36  {'display_name': 'Canada', 'area': ['Canada'],...   \n",
       "37  {'__CLASS__': 'Adzuna::API::Response::Location...   \n",
       "38  {'display_name': 'Canada', 'area': ['Canada'],...   \n",
       "39  {'__CLASS__': 'Adzuna::API::Response::Location...   \n",
       "40  {'__CLASS__': 'Adzuna::API::Response::Location...   \n",
       "41  {'display_name': 'Ottawa, Ottawa region', 'are...   \n",
       "42  {'area': ['Canada'], 'display_name': 'Canada',...   \n",
       "43  {'__CLASS__': 'Adzuna::API::Response::Location...   \n",
       "44  {'display_name': 'Saint-Laurent, Montréal', 'a...   \n",
       "45  {'area': ['Canada', 'Nova Scotia', 'Halifax re...   \n",
       "46  {'__CLASS__': 'Adzuna::API::Response::Location...   \n",
       "47  {'area': ['Canada', 'Ontario', 'Middlesex', 'L...   \n",
       "48  {'area': ['Canada'], 'display_name': 'Canada',...   \n",
       "49  {'display_name': 'London, Middlesex', 'area': ...   \n",
       "\n",
       "                                          description  \\\n",
       "0   Job Description DataAnnotation is committed to...   \n",
       "1   Akkodis is seeking an Embedded Software Develo...   \n",
       "2   Job Title: Software Developer Department: Data...   \n",
       "3   Job Title: Software Developer - API Location: ...   \n",
       "4   Key Qualifications Proficient in React.js with...   \n",
       "5   Responsibilities The role of the C++ Developer...   \n",
       "6   Who We Are Research, innovation, and scale! Mo...   \n",
       "7   FIELDBOSS - Elevating Service Excellence in El...   \n",
       "8   Aversan Inc. ( www.aversan.com ) is a trusted ...   \n",
       "9   We are seeking a Senior Software Developer – A...   \n",
       "10  ABOUT HERSCHEL SUPPLY Welcome to Herschel Supp...   \n",
       "11  About the Company Founded in 2000, Timbercreek...   \n",
       "12  Join a Challenger Being a traditional bank jus...   \n",
       "13  We are seeking a Senior Software Developer (AP...   \n",
       "14  Software Developer NodeJS and TypeScript Level...   \n",
       "15  PHP Software Developer & Product Support L3 JO...   \n",
       "16  Why Join Inworld Inworld is the leading provid...   \n",
       "17  Role: Software Developer (Python) - Up to $220...   \n",
       "18  We are looking for a highly skilled Senior Sof...   \n",
       "19  Job Summary: This role is for a Software Devel...   \n",
       "20  Who We Are: Paracel Laboratories Ltd. is a ful...   \n",
       "21  Job Summary Full-time: 37.5 Hours per week, Mo...   \n",
       "22  Job Summary: This Software Developer role requ...   \n",
       "23  We’re hiring a Software Engineer/Developer who...   \n",
       "24  Job Summary: This Senior Software Developer ro...   \n",
       "25  Job Summary: This Software Developer role requ...   \n",
       "26  Job Summary: This hybrid Software Developer ro...   \n",
       "27  Who we are and what we do Mappedin is a global...   \n",
       "28  Mycanadapayday.com is looking for an exception...   \n",
       "29  Job Title: Software Developer On-site/ Remote/...   \n",
       "30  How will I make an Impact? At D2L, we are look...   \n",
       "31  Software Developer II Location : Burlington, O...   \n",
       "32  Description Fortinet is growing and we are loo...   \n",
       "33  Software Developer II Location :?Burlington, O...   \n",
       "34  Description Fortinet is growing and we are loo...   \n",
       "35  Responsibilities Assist the team with the desi...   \n",
       "36  Software Developer - Front-Office Technology M...   \n",
       "37  Job Description Job Description Who We Are: Pa...   \n",
       "38  Job Description Employer InfoJet International...   \n",
       "39  Description Join Fortinet, a cybersecurity pio...   \n",
       "40  Job Summary Full-time: 37.5 Hours per week, Mo...   \n",
       "41  Job Description Job Description Job Summary Fu...   \n",
       "42  OVERVIEW Cayenta is seeking a motivated Softwa...   \n",
       "43  OVERVIEW Cayenta is seeking a motivated Softwa...   \n",
       "44  Software Developer Aversan Inc. ( www.aversan....   \n",
       "45  Overview Fundmetric is looking for a Software ...   \n",
       "46  Job Introduction Frequentis Group with headqua...   \n",
       "47  Who are we? Proax Technologies is a leading Te...   \n",
       "48  Description We are seeking a Software Develope...   \n",
       "49  Job Description Job Description Salary: Who ar...   \n",
       "\n",
       "                                              company   latitude  \\\n",
       "0   {'__CLASS__': 'Adzuna::API::Response::Company'...  52.129941   \n",
       "1   {'__CLASS__': 'Adzuna::API::Response::Company'...  45.573903   \n",
       "2   {'__CLASS__': 'Adzuna::API::Response::Company'...        NaN   \n",
       "3   {'display_name': 'VLink Inc', '__CLASS__': 'Ad...  43.706102   \n",
       "4   {'display_name': 'CLPS Global', '__CLASS__': '...  43.706102   \n",
       "5   {'display_name': 'Carbotech', '__CLASS__': 'Ad...  48.331744   \n",
       "6   {'display_name': 'ModiFace', '__CLASS__': 'Adz...  43.706102   \n",
       "7   {'__CLASS__': 'Adzuna::API::Response::Company'...  43.706102   \n",
       "8   {'__CLASS__': 'Adzuna::API::Response::Company'...  48.145264   \n",
       "9   {'__CLASS__': 'Adzuna::API::Response::Company'...  43.706102   \n",
       "10  {'display_name': 'Herschel Supply Company', '_...  49.256582   \n",
       "11  {'display_name': 'Timbercreek', '__CLASS__': '...  43.706102   \n",
       "12  {'display_name': 'EQ Bank | Equitable Bank', '...  43.706102   \n",
       "13  {'display_name': '2iSolutions Inc.', '__CLASS_...  43.706102   \n",
       "14  {'display_name': 'Hays', '__CLASS__': 'Adzuna:...        NaN   \n",
       "15  {'__CLASS__': 'Adzuna::API::Response::Company'...        NaN   \n",
       "16  {'__CLASS__': 'Adzuna::API::Response::Company'...  51.467658   \n",
       "17  {'__CLASS__': 'Adzuna::API::Response::Company'...        NaN   \n",
       "18  {'__CLASS__': 'Adzuna::API::Response::Company'...        NaN   \n",
       "19  {'__CLASS__': 'Adzuna::API::Response::Company'...  44.810161   \n",
       "20  {'__CLASS__': 'Adzuna::API::Response::Company'...  45.385910   \n",
       "21  {'__CLASS__': 'Adzuna::API::Response::Company'...        NaN   \n",
       "22  {'display_name': 'vTech Solution', '__CLASS__'...  44.810161   \n",
       "23  {'__CLASS__': 'Adzuna::API::Response::Company'...  49.264327   \n",
       "24  {'__CLASS__': 'Adzuna::API::Response::Company'...  44.810161   \n",
       "25  {'display_name': 'vTech Solution', '__CLASS__'...  44.810161   \n",
       "26  {'__CLASS__': 'Adzuna::API::Response::Company'...  44.810161   \n",
       "27  {'__CLASS__': 'Adzuna::API::Response::Company'...  43.465270   \n",
       "28  {'display_name': 'Mycanadapayday.com', '__CLAS...  44.680020   \n",
       "29  {'__CLASS__': 'Adzuna::API::Response::Company'...  44.810161   \n",
       "30  {'display_name': 'D2L', '__CLASS__': 'Adzuna::...        NaN   \n",
       "31  {'display_name': 'Bentley Systems', '__CLASS__...  43.353119   \n",
       "32  {'display_name': 'Fortinet', '__CLASS__': 'Adz...        NaN   \n",
       "33  {'__CLASS__': 'Adzuna::API::Response::Company'...  43.353119   \n",
       "34  {'__CLASS__': 'Adzuna::API::Response::Company'...        NaN   \n",
       "35  {'__CLASS__': 'Adzuna::API::Response::Company'...        NaN   \n",
       "36  {'__CLASS__': 'Adzuna::API::Response::Company'...        NaN   \n",
       "37  {'display_name': 'Paracel Laboratories', '__CL...  45.394161   \n",
       "38  {'__CLASS__': 'Adzuna::API::Response::Company'...        NaN   \n",
       "39  {'__CLASS__': 'Adzuna::API::Response::Company'...        NaN   \n",
       "40  {'display_name': 'Larus Technologies', '__CLAS...        NaN   \n",
       "41  {'__CLASS__': 'Adzuna::API::Response::Company'...  45.394161   \n",
       "42  {'display_name': 'Harris', '__CLASS__': 'Adzun...        NaN   \n",
       "43  {'display_name': 'Equest', '__CLASS__': 'Adzun...        NaN   \n",
       "44  {'display_name': 'Aversan', '__CLASS__': 'Adzu...  45.475320   \n",
       "45  {'display_name': 'Fundmetric', '__CLASS__': 'A...  44.681555   \n",
       "46  {'__CLASS__': 'Adzuna::API::Response::Company'...  45.466091   \n",
       "47  {'display_name': 'Proax Technologies', '__CLAS...  42.933380   \n",
       "48  {'display_name': 'Nokia Global', '__CLASS__': ...        NaN   \n",
       "49  {'display_name': 'Proax Technologies', '__CLAS...  42.981065   \n",
       "\n",
       "                                             category               created  \\\n",
       "0   {'tag': 'it-jobs', 'label': 'IT Jobs', '__CLAS...  2025-05-22T05:22:50Z   \n",
       "1   {'tag': 'it-jobs', 'label': 'IT Jobs', '__CLAS...  2025-06-11T23:09:14Z   \n",
       "2   {'__CLASS__': 'Adzuna::API::Response::Category...  2025-05-31T22:31:15Z   \n",
       "3   {'__CLASS__': 'Adzuna::API::Response::Category...  2025-05-29T23:14:48Z   \n",
       "4   {'__CLASS__': 'Adzuna::API::Response::Category...  2025-05-29T23:13:12Z   \n",
       "5   {'__CLASS__': 'Adzuna::API::Response::Category...  2025-06-01T04:47:22Z   \n",
       "6   {'__CLASS__': 'Adzuna::API::Response::Category...  2025-05-03T02:42:16Z   \n",
       "7   {'label': 'IT Jobs', 'tag': 'it-jobs', '__CLAS...  2025-05-08T02:08:42Z   \n",
       "8   {'__CLASS__': 'Adzuna::API::Response::Category...  2025-06-05T03:05:07Z   \n",
       "9   {'__CLASS__': 'Adzuna::API::Response::Category...  2025-06-15T03:29:16Z   \n",
       "10  {'__CLASS__': 'Adzuna::API::Response::Category...  2025-06-10T22:35:52Z   \n",
       "11  {'tag': 'it-jobs', 'label': 'IT Jobs', '__CLAS...  2025-06-07T02:57:58Z   \n",
       "12  {'__CLASS__': 'Adzuna::API::Response::Category...  2025-06-04T02:10:32Z   \n",
       "13  {'__CLASS__': 'Adzuna::API::Response::Category...  2025-06-15T03:27:11Z   \n",
       "14  {'__CLASS__': 'Adzuna::API::Response::Category...  2025-06-06T03:17:09Z   \n",
       "15  {'__CLASS__': 'Adzuna::API::Response::Category...  2025-05-23T00:04:20Z   \n",
       "16  {'label': 'Scientific & QA Jobs', 'tag': 'scie...  2025-05-28T22:12:22Z   \n",
       "17  {'tag': 'it-jobs', 'label': 'IT Jobs', '__CLAS...  2025-06-14T01:58:16Z   \n",
       "18  {'label': 'IT Jobs', 'tag': 'it-jobs', '__CLAS...  2025-06-07T02:59:39Z   \n",
       "19  {'__CLASS__': 'Adzuna::API::Response::Category...  2025-06-18T17:31:38Z   \n",
       "20  {'__CLASS__': 'Adzuna::API::Response::Category...  2025-06-18T13:25:11Z   \n",
       "21  {'__CLASS__': 'Adzuna::API::Response::Category...  2025-06-03T17:08:56Z   \n",
       "22  {'__CLASS__': 'Adzuna::API::Response::Category...  2025-06-13T17:19:07Z   \n",
       "23  {'label': 'IT Jobs', 'tag': 'it-jobs', '__CLAS...  2025-05-06T16:54:36Z   \n",
       "24  {'__CLASS__': 'Adzuna::API::Response::Category...  2025-06-18T17:31:38Z   \n",
       "25  {'label': 'IT Jobs', 'tag': 'it-jobs', '__CLAS...  2025-06-12T17:18:24Z   \n",
       "26  {'tag': 'it-jobs', 'label': 'IT Jobs', '__CLAS...  2025-06-18T17:31:42Z   \n",
       "27  {'label': 'IT Jobs', 'tag': 'it-jobs', '__CLAS...  2025-05-06T22:56:25Z   \n",
       "28  {'label': 'IT Jobs', 'tag': 'it-jobs', '__CLAS...  2025-05-16T06:15:13Z   \n",
       "29  {'__CLASS__': 'Adzuna::API::Response::Category...  2025-03-31T13:17:32Z   \n",
       "30  {'__CLASS__': 'Adzuna::API::Response::Category...  2025-04-12T10:09:37Z   \n",
       "31  {'label': 'IT Jobs', 'tag': 'it-jobs', '__CLAS...  2025-05-07T03:46:17Z   \n",
       "32  {'tag': 'it-jobs', 'label': 'IT Jobs', '__CLAS...  2025-06-16T10:53:00Z   \n",
       "33  {'label': 'IT Jobs', 'tag': 'it-jobs', '__CLAS...  2025-05-07T12:16:53Z   \n",
       "34  {'__CLASS__': 'Adzuna::API::Response::Category...  2025-01-17T05:53:38Z   \n",
       "35  {'tag': 'it-jobs', 'label': 'IT Jobs', '__CLAS...  2024-05-10T15:30:30Z   \n",
       "36  {'tag': 'it-jobs', 'label': 'IT Jobs', '__CLAS...  2025-03-05T12:18:10Z   \n",
       "37  {'tag': 'it-jobs', 'label': 'IT Jobs', '__CLAS...  2025-06-03T05:15:51Z   \n",
       "38  {'tag': 'it-jobs', 'label': 'IT Jobs', '__CLAS...  2024-12-10T18:28:38Z   \n",
       "39  {'__CLASS__': 'Adzuna::API::Response::Category...  2025-05-18T10:08:15Z   \n",
       "40  {'__CLASS__': 'Adzuna::API::Response::Category...  2025-06-06T10:43:17Z   \n",
       "41  {'__CLASS__': 'Adzuna::API::Response::Category...  2025-06-03T23:58:19Z   \n",
       "42  {'__CLASS__': 'Adzuna::API::Response::Category...  2025-06-13T10:32:40Z   \n",
       "43  {'tag': 'it-jobs', 'label': 'IT Jobs', '__CLAS...  2025-06-14T07:41:00Z   \n",
       "44  {'label': 'IT Jobs', 'tag': 'it-jobs', '__CLAS...  2025-06-05T10:23:32Z   \n",
       "45  {'__CLASS__': 'Adzuna::API::Response::Category...  2025-05-18T10:13:46Z   \n",
       "46  {'label': 'IT Jobs', 'tag': 'it-jobs', '__CLAS...  2025-06-07T08:50:55Z   \n",
       "47  {'__CLASS__': 'Adzuna::API::Response::Category...  2024-09-20T07:53:38Z   \n",
       "48  {'tag': 'it-jobs', 'label': 'IT Jobs', '__CLAS...  2025-05-24T10:22:58Z   \n",
       "49  {'__CLASS__': 'Adzuna::API::Response::Category...  2025-04-24T15:20:44Z   \n",
       "\n",
       "     longitude                                              adref  \\\n",
       "0  -106.651489  eyJhbGciOiJIUzI1NiJ9.eyJpIjoiNTIxMDU0NDYxNCIsI...   \n",
       "1   -73.650516  eyJhbGciOiJIUzI1NiJ9.eyJzIjoiQmxEQmcwTk44Qkd3a...   \n",
       "2          NaN  eyJhbGciOiJIUzI1NiJ9.eyJpIjoiNTIyNTY5OTExNSIsI...   \n",
       "3   -79.402726  eyJhbGciOiJIUzI1NiJ9.eyJpIjoiNTIyMjg0MDUxMSIsI...   \n",
       "4   -79.402726  eyJhbGciOiJIUzI1NiJ9.eyJzIjoiQmxEQmcwTk44Qkd3a...   \n",
       "5   -70.879001  eyJhbGciOiJIUzI1NiJ9.eyJpIjoiNTIyNjEzNTI0MyIsI...   \n",
       "6   -79.402726  eyJhbGciOiJIUzI1NiJ9.eyJpIjoiNTE3ODA1MTIxMSIsI...   \n",
       "7   -79.402726  eyJhbGciOiJIUzI1NiJ9.eyJpIjoiNTE4Nzk2MDA4MiIsI...   \n",
       "8   -68.638735  eyJhbGciOiJIUzI1NiJ9.eyJzIjoiQmxEQmcwTk44Qkd3a...   \n",
       "9   -79.402726  eyJhbGciOiJIUzI1NiJ9.eyJpIjoiNTI1MTU4MjI4OSIsI...   \n",
       "10 -122.898456  eyJhbGciOiJIUzI1NiJ9.eyJpIjoiNTI0MzUyMDE0MCIsI...   \n",
       "11  -79.402726  eyJhbGciOiJIUzI1NiJ9.eyJzIjoiQmxEQmcwTk44Qkd3a...   \n",
       "12  -79.402726  eyJhbGciOiJIUzI1NiJ9.eyJpIjoiNTIzMjAyNjI2NCIsI...   \n",
       "13  -79.402726  eyJhbGciOiJIUzI1NiJ9.eyJpIjoiNTI1MTU4MjExOCIsI...   \n",
       "14         NaN  eyJhbGciOiJIUzI1NiJ9.eyJzIjoiQmxEQmcwTk44Qkd3a...   \n",
       "15         NaN  eyJhbGciOiJIUzI1NiJ9.eyJpIjoiNTIxMTg2OTk4NSIsI...   \n",
       "16 -123.078768  eyJhbGciOiJIUzI1NiJ9.eyJzIjoiQmxEQmcwTk44Qkd3a...   \n",
       "17         NaN  eyJhbGciOiJIUzI1NiJ9.eyJzIjoiQmxEQmcwTk44Qkd3a...   \n",
       "18         NaN  eyJhbGciOiJIUzI1NiJ9.eyJpIjoiNTIzODE3NDU0NCIsI...   \n",
       "19  -80.420891  eyJhbGciOiJIUzI1NiJ9.eyJpIjoiNTI1NzIzOTU1MCIsI...   \n",
       "20  -75.615940  eyJhbGciOiJIUzI1NiJ9.eyJpIjoiNTI1NjY5MzAwMiIsI...   \n",
       "21         NaN  eyJhbGciOiJIUzI1NiJ9.eyJzIjoiQmxEQmcwTk44Qkd3a...   \n",
       "22  -80.420891  eyJhbGciOiJIUzI1NiJ9.eyJpIjoiNTI0OTQzNTc5NiIsI...   \n",
       "23 -122.942300  eyJhbGciOiJIUzI1NiJ9.eyJzIjoiQmxEQmcwTk44Qkd3a...   \n",
       "24  -80.420891  eyJhbGciOiJIUzI1NiJ9.eyJpIjoiNTI1NzIzOTU0OCIsI...   \n",
       "25  -80.420891  eyJhbGciOiJIUzI1NiJ9.eyJpIjoiNTI0NzM3MzQ1MSIsI...   \n",
       "26  -80.420891  eyJhbGciOiJIUzI1NiJ9.eyJzIjoiQmxEQmcwTk44Qkd3a...   \n",
       "27  -80.522610  eyJhbGciOiJIUzI1NiJ9.eyJpIjoiNTE4NDQ1NDg4NyIsI...   \n",
       "28  -63.542562  eyJhbGciOiJIUzI1NiJ9.eyJpIjoiNTIwMTU3ODkxMCIsI...   \n",
       "29  -80.420891  eyJhbGciOiJIUzI1NiJ9.eyJpIjoiNTEyMDAwMjcxNyIsI...   \n",
       "30         NaN  eyJhbGciOiJIUzI1NiJ9.eyJpIjoiNTE0MjA4OTcwOCIsI...   \n",
       "31  -79.802061  eyJhbGciOiJIUzI1NiJ9.eyJpIjoiNTE4NDgxODAwOCIsI...   \n",
       "32         NaN  eyJhbGciOiJIUzI1NiJ9.eyJzIjoiQmxEQmcwTk44Qkd3a...   \n",
       "33  -79.802061  eyJhbGciOiJIUzI1NiJ9.eyJzIjoiQmxEQmcwTk44Qkd3a...   \n",
       "34         NaN  eyJhbGciOiJIUzI1NiJ9.eyJpIjoiNTAxNDIxODMzNiIsI...   \n",
       "35         NaN  eyJhbGciOiJIUzI1NiJ9.eyJzIjoiQmxEQmcwTk44Qkd3a...   \n",
       "36         NaN  eyJhbGciOiJIUzI1NiJ9.eyJpIjoiNTA3NzU3NzA0MyIsI...   \n",
       "37  -75.697758  eyJhbGciOiJIUzI1NiJ9.eyJpIjoiNTIzMDI5MTUwNyIsI...   \n",
       "38         NaN  eyJhbGciOiJIUzI1NiJ9.eyJpIjoiNDk3MTAwNDEyNSIsI...   \n",
       "39         NaN  eyJhbGciOiJIUzI1NiJ9.eyJzIjoiQmxEQmcwTk44Qkd3a...   \n",
       "40         NaN  eyJhbGciOiJIUzI1NiJ9.eyJzIjoiQmxEQmcwTk44Qkd3a...   \n",
       "41  -75.697758  eyJhbGciOiJIUzI1NiJ9.eyJzIjoiQmxEQmcwTk44Qkd3a...   \n",
       "42         NaN  eyJhbGciOiJIUzI1NiJ9.eyJzIjoiQmxEQmcwTk44Qkd3a...   \n",
       "43         NaN  eyJhbGciOiJIUzI1NiJ9.eyJzIjoiQmxEQmcwTk44Qkd3a...   \n",
       "44  -73.705790  eyJhbGciOiJIUzI1NiJ9.eyJpIjoiNTIzNDY0OTIwNiIsI...   \n",
       "45  -63.556363  eyJhbGciOiJIUzI1NiJ9.eyJpIjoiNTIwNTAyMDI2MCIsI...   \n",
       "46  -75.704464  eyJhbGciOiJIUzI1NiJ9.eyJpIjoiNTIzODczNDc0NiIsI...   \n",
       "47  -81.205550  eyJhbGciOiJIUzI1NiJ9.eyJpIjoiNDg3MDQ5NDYxOSIsI...   \n",
       "48         NaN  eyJhbGciOiJIUzI1NiJ9.eyJpIjoiNTIxNDQ4Njc5MiIsI...   \n",
       "49  -81.248057  eyJhbGciOiJIUzI1NiJ9.eyJzIjoiQmxEQmcwTk44Qkd3a...   \n",
       "\n",
       "                                         redirect_url          id  \\\n",
       "0   https://www.adzuna.ca/land/ad/5210544614?se=Bl...  5210544614   \n",
       "1   https://www.adzuna.ca/land/ad/5245860514?se=Bl...  5245860514   \n",
       "2   https://www.adzuna.ca/land/ad/5225699115?se=Bl...  5225699115   \n",
       "3   https://www.adzuna.ca/land/ad/5222840511?se=Bl...  5222840511   \n",
       "4   https://www.adzuna.ca/land/ad/5222839752?se=Bl...  5222839752   \n",
       "5   https://www.adzuna.ca/land/ad/5226135243?se=Bl...  5226135243   \n",
       "6   https://www.adzuna.ca/land/ad/5178051211?se=Bl...  5178051211   \n",
       "7   https://www.adzuna.ca/land/ad/5187960082?se=Bl...  5187960082   \n",
       "8   https://www.adzuna.ca/land/ad/5234151379?se=Bl...  5234151379   \n",
       "9   https://www.adzuna.ca/land/ad/5251582289?se=Bl...  5251582289   \n",
       "10  https://www.adzuna.ca/land/ad/5243520140?se=Bl...  5243520140   \n",
       "11  https://www.adzuna.ca/land/ad/5238172740?se=Bl...  5238172740   \n",
       "12  https://www.adzuna.ca/land/ad/5232026264?se=Bl...  5232026264   \n",
       "13  https://www.adzuna.ca/land/ad/5251582118?se=Bl...  5251582118   \n",
       "14  https://www.adzuna.ca/land/ad/5235835966?se=Bl...  5235835966   \n",
       "15  https://www.adzuna.ca/land/ad/5211869985?se=Bl...  5211869985   \n",
       "16  https://www.adzuna.ca/land/ad/5221007941?se=Bl...  5221007941   \n",
       "17  https://www.adzuna.ca/land/ad/5250014332?se=Bl...  5250014332   \n",
       "18  https://www.adzuna.ca/land/ad/5238174544?se=Bl...  5238174544   \n",
       "19  https://www.adzuna.ca/details/5257239550?utm_m...  5257239550   \n",
       "20  https://www.adzuna.ca/details/5256693002?utm_m...  5256693002   \n",
       "21  https://www.adzuna.ca/details/5231421686?utm_m...  5231421686   \n",
       "22  https://www.adzuna.ca/details/5249435796?utm_m...  5249435796   \n",
       "23  https://www.adzuna.ca/details/5183990702?utm_m...  5183990702   \n",
       "24  https://www.adzuna.ca/details/5257239548?utm_m...  5257239548   \n",
       "25  https://www.adzuna.ca/details/5247373451?utm_m...  5247373451   \n",
       "26  https://www.adzuna.ca/details/5257239800?utm_m...  5257239800   \n",
       "27  https://www.adzuna.ca/details/5184454887?utm_m...  5184454887   \n",
       "28  https://www.adzuna.ca/details/5201578910?utm_m...  5201578910   \n",
       "29  https://www.adzuna.ca/details/5120002717?utm_m...  5120002717   \n",
       "30  https://www.adzuna.ca/details/5142089708?utm_m...  5142089708   \n",
       "31  https://www.adzuna.ca/details/5184818008?utm_m...  5184818008   \n",
       "32  https://www.adzuna.ca/details/5253213086?utm_m...  5253213086   \n",
       "33  https://www.adzuna.ca/details/5185879324?utm_m...  5185879324   \n",
       "34  https://www.adzuna.ca/details/5014218336?utm_m...  5014218336   \n",
       "35  https://www.adzuna.ca/details/4687956892?utm_m...  4687956892   \n",
       "36  https://www.adzuna.ca/details/5077577043?utm_m...  5077577043   \n",
       "37  https://www.adzuna.ca/details/5230291507?utm_m...  5230291507   \n",
       "38  https://www.adzuna.ca/details/4971004125?utm_m...  4971004125   \n",
       "39  https://www.adzuna.ca/details/5205019090?utm_m...  5205019090   \n",
       "40  https://www.adzuna.ca/details/5236351376?utm_m...  5236351376   \n",
       "41  https://www.adzuna.ca/details/5231830649?utm_m...  5231830649   \n",
       "42  https://www.adzuna.ca/details/5248674797?utm_m...  5248674797   \n",
       "43  https://www.adzuna.ca/details/5250411199?utm_m...  5250411199   \n",
       "44  https://www.adzuna.ca/details/5234649206?utm_m...  5234649206   \n",
       "45  https://www.adzuna.ca/details/5205020260?utm_m...  5205020260   \n",
       "46  https://www.adzuna.ca/details/5238734746?utm_m...  5238734746   \n",
       "47  https://www.adzuna.ca/details/4870494619?utm_m...  4870494619   \n",
       "48  https://www.adzuna.ca/details/5214486792?utm_m...  5214486792   \n",
       "49  https://www.adzuna.ca/details/5160874975?utm_m...  5160874975   \n",
       "\n",
       "                     __CLASS__ contract_type contract_time  salary_max  \\\n",
       "0   Adzuna::API::Response::Job           NaN           NaN         NaN   \n",
       "1   Adzuna::API::Response::Job      contract           NaN         NaN   \n",
       "2   Adzuna::API::Response::Job     permanent     full_time         NaN   \n",
       "3   Adzuna::API::Response::Job      contract           NaN         NaN   \n",
       "4   Adzuna::API::Response::Job           NaN           NaN         NaN   \n",
       "5   Adzuna::API::Response::Job           NaN     full_time         NaN   \n",
       "6   Adzuna::API::Response::Job           NaN           NaN         NaN   \n",
       "7   Adzuna::API::Response::Job           NaN     full_time         NaN   \n",
       "8   Adzuna::API::Response::Job           NaN           NaN         NaN   \n",
       "9   Adzuna::API::Response::Job           NaN           NaN         NaN   \n",
       "10  Adzuna::API::Response::Job      contract     full_time         NaN   \n",
       "11  Adzuna::API::Response::Job           NaN           NaN         NaN   \n",
       "12  Adzuna::API::Response::Job     permanent     full_time         NaN   \n",
       "13  Adzuna::API::Response::Job      contract           NaN         NaN   \n",
       "14  Adzuna::API::Response::Job      contract           NaN         NaN   \n",
       "15  Adzuna::API::Response::Job           NaN     full_time         NaN   \n",
       "16  Adzuna::API::Response::Job           NaN     full_time         NaN   \n",
       "17  Adzuna::API::Response::Job           NaN           NaN         NaN   \n",
       "18  Adzuna::API::Response::Job           NaN           NaN         NaN   \n",
       "19  Adzuna::API::Response::Job           NaN           NaN    176800.0   \n",
       "20  Adzuna::API::Response::Job           NaN           NaN         NaN   \n",
       "21  Adzuna::API::Response::Job     permanent     full_time         NaN   \n",
       "22  Adzuna::API::Response::Job           NaN           NaN    176800.0   \n",
       "23  Adzuna::API::Response::Job     permanent     full_time     95000.0   \n",
       "24  Adzuna::API::Response::Job           NaN           NaN    176800.0   \n",
       "25  Adzuna::API::Response::Job           NaN           NaN    176800.0   \n",
       "26  Adzuna::API::Response::Job           NaN           NaN    176800.0   \n",
       "27  Adzuna::API::Response::Job           NaN     full_time         NaN   \n",
       "28  Adzuna::API::Response::Job     permanent     full_time         NaN   \n",
       "29  Adzuna::API::Response::Job      contract           NaN         NaN   \n",
       "30  Adzuna::API::Response::Job           NaN           NaN         NaN   \n",
       "31  Adzuna::API::Response::Job           NaN           NaN         NaN   \n",
       "32  Adzuna::API::Response::Job           NaN     full_time         NaN   \n",
       "33  Adzuna::API::Response::Job           NaN           NaN         NaN   \n",
       "34  Adzuna::API::Response::Job           NaN     full_time         NaN   \n",
       "35  Adzuna::API::Response::Job           NaN           NaN         NaN   \n",
       "36  Adzuna::API::Response::Job           NaN           NaN         NaN   \n",
       "37  Adzuna::API::Response::Job           NaN           NaN         NaN   \n",
       "38  Adzuna::API::Response::Job     permanent     full_time         NaN   \n",
       "39  Adzuna::API::Response::Job           NaN     full_time         NaN   \n",
       "40  Adzuna::API::Response::Job     permanent     full_time         NaN   \n",
       "41  Adzuna::API::Response::Job     permanent     full_time         NaN   \n",
       "42  Adzuna::API::Response::Job           NaN     full_time         NaN   \n",
       "43  Adzuna::API::Response::Job           NaN           NaN         NaN   \n",
       "44  Adzuna::API::Response::Job           NaN           NaN         NaN   \n",
       "45  Adzuna::API::Response::Job           NaN     full_time         NaN   \n",
       "46  Adzuna::API::Response::Job     permanent     full_time         NaN   \n",
       "47  Adzuna::API::Response::Job           NaN     full_time         NaN   \n",
       "48  Adzuna::API::Response::Job           NaN     full_time         NaN   \n",
       "49  Adzuna::API::Response::Job           NaN           NaN         NaN   \n",
       "\n",
       "    salary_min  \n",
       "0          NaN  \n",
       "1          NaN  \n",
       "2          NaN  \n",
       "3          NaN  \n",
       "4          NaN  \n",
       "5          NaN  \n",
       "6          NaN  \n",
       "7          NaN  \n",
       "8          NaN  \n",
       "9          NaN  \n",
       "10         NaN  \n",
       "11         NaN  \n",
       "12         NaN  \n",
       "13         NaN  \n",
       "14         NaN  \n",
       "15         NaN  \n",
       "16         NaN  \n",
       "17         NaN  \n",
       "18         NaN  \n",
       "19    166400.0  \n",
       "20         NaN  \n",
       "21         NaN  \n",
       "22    166400.0  \n",
       "23     85000.0  \n",
       "24    166400.0  \n",
       "25    166400.0  \n",
       "26    166400.0  \n",
       "27         NaN  \n",
       "28         NaN  \n",
       "29         NaN  \n",
       "30         NaN  \n",
       "31         NaN  \n",
       "32         NaN  \n",
       "33         NaN  \n",
       "34         NaN  \n",
       "35         NaN  \n",
       "36         NaN  \n",
       "37         NaN  \n",
       "38         NaN  \n",
       "39         NaN  \n",
       "40         NaN  \n",
       "41         NaN  \n",
       "42         NaN  \n",
       "43         NaN  \n",
       "44         NaN  \n",
       "45         NaN  \n",
       "46         NaN  \n",
       "47         NaN  \n",
       "48         NaN  \n",
       "49         NaN  "
      ]
     },
     "execution_count": 4,
     "metadata": {},
     "output_type": "execute_result"
    }
   ],
   "source": [
    "employment_software"
   ]
  },
  {
   "cell_type": "code",
   "execution_count": 5,
   "metadata": {},
   "outputs": [
    {
     "data": {
      "text/html": [
       "<div>\n",
       "<style scoped>\n",
       "    .dataframe tbody tr th:only-of-type {\n",
       "        vertical-align: middle;\n",
       "    }\n",
       "\n",
       "    .dataframe tbody tr th {\n",
       "        vertical-align: top;\n",
       "    }\n",
       "\n",
       "    .dataframe thead th {\n",
       "        text-align: right;\n",
       "    }\n",
       "</style>\n",
       "<table border=\"1\" class=\"dataframe\">\n",
       "  <thead>\n",
       "    <tr style=\"text-align: right;\">\n",
       "      <th></th>\n",
       "      <th>salary_is_predicted</th>\n",
       "      <th>location</th>\n",
       "      <th>description</th>\n",
       "      <th>title</th>\n",
       "      <th>adref</th>\n",
       "      <th>category</th>\n",
       "      <th>created</th>\n",
       "      <th>contract_type</th>\n",
       "      <th>company</th>\n",
       "      <th>id</th>\n",
       "      <th>__CLASS__</th>\n",
       "      <th>redirect_url</th>\n",
       "      <th>latitude</th>\n",
       "      <th>longitude</th>\n",
       "      <th>contract_time</th>\n",
       "      <th>salary_max</th>\n",
       "      <th>salary_min</th>\n",
       "    </tr>\n",
       "  </thead>\n",
       "  <tbody>\n",
       "    <tr>\n",
       "      <th>0</th>\n",
       "      <td>0</td>\n",
       "      <td>{'area': ['Canada', 'Ontario', 'Toronto'], 'di...</td>\n",
       "      <td>Akkodis is currently seeking a skilled Power B...</td>\n",
       "      <td>Data Analyst</td>\n",
       "      <td>eyJhbGciOiJIUzI1NiJ9.eyJzIjoiYUFXVmhFTk44Qkd3a...</td>\n",
       "      <td>{'tag': 'it-jobs', 'label': 'IT Jobs', '__CLAS...</td>\n",
       "      <td>2025-06-15T03:29:02Z</td>\n",
       "      <td>contract</td>\n",
       "      <td>{'__CLASS__': 'Adzuna::API::Response::Company'...</td>\n",
       "      <td>5251582266</td>\n",
       "      <td>Adzuna::API::Response::Job</td>\n",
       "      <td>https://www.adzuna.ca/land/ad/5251582266?se=aA...</td>\n",
       "      <td>NaN</td>\n",
       "      <td>NaN</td>\n",
       "      <td>NaN</td>\n",
       "      <td>NaN</td>\n",
       "      <td>NaN</td>\n",
       "    </tr>\n",
       "    <tr>\n",
       "      <th>1</th>\n",
       "      <td>0</td>\n",
       "      <td>{'area': ['Canada', 'Ontario', 'Toronto'], 'di...</td>\n",
       "      <td>About us Aquanow is a trading and technology c...</td>\n",
       "      <td>Data Analyst</td>\n",
       "      <td>eyJhbGciOiJIUzI1NiJ9.eyJpIjoiNTIwODE3MDY5MCIsI...</td>\n",
       "      <td>{'label': 'IT Jobs', 'tag': 'it-jobs', '__CLAS...</td>\n",
       "      <td>2025-05-20T17:15:34Z</td>\n",
       "      <td>permanent</td>\n",
       "      <td>{'__CLASS__': 'Adzuna::API::Response::Company'...</td>\n",
       "      <td>5208170690</td>\n",
       "      <td>Adzuna::API::Response::Job</td>\n",
       "      <td>https://www.adzuna.ca/land/ad/5208170690?se=aA...</td>\n",
       "      <td>43.706102</td>\n",
       "      <td>-79.402726</td>\n",
       "      <td>full_time</td>\n",
       "      <td>NaN</td>\n",
       "      <td>NaN</td>\n",
       "    </tr>\n",
       "    <tr>\n",
       "      <th>2</th>\n",
       "      <td>0</td>\n",
       "      <td>{'__CLASS__': 'Adzuna::API::Response::Location...</td>\n",
       "      <td>Inclusion without Exception Tata Consultancy S...</td>\n",
       "      <td>Data Analyst</td>\n",
       "      <td>eyJhbGciOiJIUzI1NiJ9.eyJpIjoiNTE1NDkyNzQzNyIsI...</td>\n",
       "      <td>{'__CLASS__': 'Adzuna::API::Response::Category...</td>\n",
       "      <td>2025-04-20T22:56:29Z</td>\n",
       "      <td>NaN</td>\n",
       "      <td>{'display_name': 'Tata Consultancy Services', ...</td>\n",
       "      <td>5154927437</td>\n",
       "      <td>Adzuna::API::Response::Job</td>\n",
       "      <td>https://www.adzuna.ca/land/ad/5154927437?se=aA...</td>\n",
       "      <td>NaN</td>\n",
       "      <td>NaN</td>\n",
       "      <td>NaN</td>\n",
       "      <td>NaN</td>\n",
       "      <td>NaN</td>\n",
       "    </tr>\n",
       "    <tr>\n",
       "      <th>3</th>\n",
       "      <td>0</td>\n",
       "      <td>{'__CLASS__': 'Adzuna::API::Response::Location...</td>\n",
       "      <td>Position: Technical Data Analyst Location: Mon...</td>\n",
       "      <td>Technical Data Analyst</td>\n",
       "      <td>eyJhbGciOiJIUzI1NiJ9.eyJpIjoiNTIyNTY5ODg3MCIsI...</td>\n",
       "      <td>{'__CLASS__': 'Adzuna::API::Response::Category...</td>\n",
       "      <td>2025-05-31T22:30:19Z</td>\n",
       "      <td>contract</td>\n",
       "      <td>{'__CLASS__': 'Adzuna::API::Response::Company'...</td>\n",
       "      <td>5225698870</td>\n",
       "      <td>Adzuna::API::Response::Job</td>\n",
       "      <td>https://www.adzuna.ca/land/ad/5225698870?se=aA...</td>\n",
       "      <td>NaN</td>\n",
       "      <td>NaN</td>\n",
       "      <td>NaN</td>\n",
       "      <td>NaN</td>\n",
       "      <td>NaN</td>\n",
       "    </tr>\n",
       "    <tr>\n",
       "      <th>4</th>\n",
       "      <td>0</td>\n",
       "      <td>{'__CLASS__': 'Adzuna::API::Response::Location...</td>\n",
       "      <td>We are seeking an analytical and detail-orient...</td>\n",
       "      <td>Data Analyst</td>\n",
       "      <td>eyJhbGciOiJIUzI1NiJ9.eyJzIjoiYUFXVmhFTk44Qkd3a...</td>\n",
       "      <td>{'tag': 'accounting-finance-jobs', 'label': 'A...</td>\n",
       "      <td>2025-05-30T23:28:35Z</td>\n",
       "      <td>NaN</td>\n",
       "      <td>{'__CLASS__': 'Adzuna::API::Response::Company'...</td>\n",
       "      <td>5224323129</td>\n",
       "      <td>Adzuna::API::Response::Job</td>\n",
       "      <td>https://www.adzuna.ca/land/ad/5224323129?se=aA...</td>\n",
       "      <td>NaN</td>\n",
       "      <td>NaN</td>\n",
       "      <td>NaN</td>\n",
       "      <td>NaN</td>\n",
       "      <td>NaN</td>\n",
       "    </tr>\n",
       "    <tr>\n",
       "      <th>5</th>\n",
       "      <td>0</td>\n",
       "      <td>{'__CLASS__': 'Adzuna::API::Response::Location...</td>\n",
       "      <td>Inclusion without Exception: Tata Consultancy ...</td>\n",
       "      <td>Data Analyst</td>\n",
       "      <td>eyJhbGciOiJIUzI1NiJ9.eyJpIjoiNTIzMjAyNzUzOCIsI...</td>\n",
       "      <td>{'tag': 'it-jobs', 'label': 'IT Jobs', '__CLAS...</td>\n",
       "      <td>2025-06-04T02:11:26Z</td>\n",
       "      <td>NaN</td>\n",
       "      <td>{'__CLASS__': 'Adzuna::API::Response::Company'...</td>\n",
       "      <td>5232027538</td>\n",
       "      <td>Adzuna::API::Response::Job</td>\n",
       "      <td>https://www.adzuna.ca/land/ad/5232027538?se=aA...</td>\n",
       "      <td>43.706102</td>\n",
       "      <td>-79.402726</td>\n",
       "      <td>NaN</td>\n",
       "      <td>NaN</td>\n",
       "      <td>NaN</td>\n",
       "    </tr>\n",
       "    <tr>\n",
       "      <th>6</th>\n",
       "      <td>0</td>\n",
       "      <td>{'__CLASS__': 'Adzuna::API::Response::Location...</td>\n",
       "      <td>C5i is a pure-play AI &amp; Analytics provider tha...</td>\n",
       "      <td>Data Analyst</td>\n",
       "      <td>eyJhbGciOiJIUzI1NiJ9.eyJpIjoiNTI1MDAxNDc4NSIsI...</td>\n",
       "      <td>{'__CLASS__': 'Adzuna::API::Response::Category...</td>\n",
       "      <td>2025-06-14T02:00:12Z</td>\n",
       "      <td>NaN</td>\n",
       "      <td>{'__CLASS__': 'Adzuna::API::Response::Company'...</td>\n",
       "      <td>5250014785</td>\n",
       "      <td>Adzuna::API::Response::Job</td>\n",
       "      <td>https://www.adzuna.ca/land/ad/5250014785?se=aA...</td>\n",
       "      <td>43.706102</td>\n",
       "      <td>-79.402726</td>\n",
       "      <td>NaN</td>\n",
       "      <td>NaN</td>\n",
       "      <td>NaN</td>\n",
       "    </tr>\n",
       "    <tr>\n",
       "      <th>7</th>\n",
       "      <td>0</td>\n",
       "      <td>{'area': ['Canada'], 'display_name': 'Canada',...</td>\n",
       "      <td>Automotive glass technology is helping transfo...</td>\n",
       "      <td>Business Data Analyst</td>\n",
       "      <td>eyJhbGciOiJIUzI1NiJ9.eyJpIjoiNTI1ODAzMTQ2MCIsI...</td>\n",
       "      <td>{'__CLASS__': 'Adzuna::API::Response::Category...</td>\n",
       "      <td>2025-06-19T08:23:42Z</td>\n",
       "      <td>NaN</td>\n",
       "      <td>{'__CLASS__': 'Adzuna::API::Response::Company'...</td>\n",
       "      <td>5258031460</td>\n",
       "      <td>Adzuna::API::Response::Job</td>\n",
       "      <td>https://www.adzuna.ca/land/ad/5258031460?se=aA...</td>\n",
       "      <td>NaN</td>\n",
       "      <td>NaN</td>\n",
       "      <td>NaN</td>\n",
       "      <td>NaN</td>\n",
       "      <td>NaN</td>\n",
       "    </tr>\n",
       "    <tr>\n",
       "      <th>8</th>\n",
       "      <td>0</td>\n",
       "      <td>{'__CLASS__': 'Adzuna::API::Response::Location...</td>\n",
       "      <td>A career as Chief Data Analyst in the IT Marke...</td>\n",
       "      <td>Chief Data Analyst</td>\n",
       "      <td>eyJhbGciOiJIUzI1NiJ9.eyJzIjoiYUFXVmhFTk44Qkd3a...</td>\n",
       "      <td>{'tag': 'it-jobs', 'label': 'IT Jobs', '__CLAS...</td>\n",
       "      <td>2025-06-12T08:23:18Z</td>\n",
       "      <td>contract</td>\n",
       "      <td>{'display_name': 'National Bank', '__CLASS__':...</td>\n",
       "      <td>5246485868</td>\n",
       "      <td>Adzuna::API::Response::Job</td>\n",
       "      <td>https://www.adzuna.ca/land/ad/5246485868?se=aA...</td>\n",
       "      <td>NaN</td>\n",
       "      <td>NaN</td>\n",
       "      <td>NaN</td>\n",
       "      <td>NaN</td>\n",
       "      <td>NaN</td>\n",
       "    </tr>\n",
       "    <tr>\n",
       "      <th>9</th>\n",
       "      <td>0</td>\n",
       "      <td>{'area': ['Canada', 'Ontario', 'Toronto'], 'di...</td>\n",
       "      <td>Overview Haptiq is a leader in delivering digi...</td>\n",
       "      <td>Power BI Data Analyst</td>\n",
       "      <td>eyJhbGciOiJIUzI1NiJ9.eyJzIjoiYUFXVmhFTk44Qkd3a...</td>\n",
       "      <td>{'__CLASS__': 'Adzuna::API::Response::Category...</td>\n",
       "      <td>2025-05-28T22:12:19Z</td>\n",
       "      <td>NaN</td>\n",
       "      <td>{'display_name': 'Haptiq', '__CLASS__': 'Adzun...</td>\n",
       "      <td>5221007916</td>\n",
       "      <td>Adzuna::API::Response::Job</td>\n",
       "      <td>https://www.adzuna.ca/land/ad/5221007916?se=aA...</td>\n",
       "      <td>43.706102</td>\n",
       "      <td>-79.402726</td>\n",
       "      <td>NaN</td>\n",
       "      <td>NaN</td>\n",
       "      <td>NaN</td>\n",
       "    </tr>\n",
       "    <tr>\n",
       "      <th>10</th>\n",
       "      <td>0</td>\n",
       "      <td>{'__CLASS__': 'Adzuna::API::Response::Location...</td>\n",
       "      <td>Inclusion without Exception Tata Consultancy S...</td>\n",
       "      <td>GCP Data Analyst</td>\n",
       "      <td>eyJhbGciOiJIUzI1NiJ9.eyJpIjoiNTIyMjgzOTcyMSIsI...</td>\n",
       "      <td>{'tag': 'it-jobs', 'label': 'IT Jobs', '__CLAS...</td>\n",
       "      <td>2025-05-29T23:13:10Z</td>\n",
       "      <td>NaN</td>\n",
       "      <td>{'display_name': 'Tata Consultancy Services', ...</td>\n",
       "      <td>5222839721</td>\n",
       "      <td>Adzuna::API::Response::Job</td>\n",
       "      <td>https://www.adzuna.ca/land/ad/5222839721?se=aA...</td>\n",
       "      <td>NaN</td>\n",
       "      <td>NaN</td>\n",
       "      <td>NaN</td>\n",
       "      <td>NaN</td>\n",
       "      <td>NaN</td>\n",
       "    </tr>\n",
       "    <tr>\n",
       "      <th>11</th>\n",
       "      <td>0</td>\n",
       "      <td>{'display_name': 'Greater Vancouver, British C...</td>\n",
       "      <td>Logistics: Role Type: Full-Time, Permanent Rol...</td>\n",
       "      <td>Senior Data Analyst</td>\n",
       "      <td>eyJhbGciOiJIUzI1NiJ9.eyJzIjoiYUFXVmhFTk44Qkd3a...</td>\n",
       "      <td>{'label': 'IT Jobs', 'tag': 'it-jobs', '__CLAS...</td>\n",
       "      <td>2025-06-14T01:57:22Z</td>\n",
       "      <td>permanent</td>\n",
       "      <td>{'__CLASS__': 'Adzuna::API::Response::Company'...</td>\n",
       "      <td>5250012386</td>\n",
       "      <td>Adzuna::API::Response::Job</td>\n",
       "      <td>https://www.adzuna.ca/land/ad/5250012386?se=aA...</td>\n",
       "      <td>49.256582</td>\n",
       "      <td>-122.898456</td>\n",
       "      <td>full_time</td>\n",
       "      <td>NaN</td>\n",
       "      <td>NaN</td>\n",
       "    </tr>\n",
       "    <tr>\n",
       "      <th>12</th>\n",
       "      <td>0</td>\n",
       "      <td>{'__CLASS__': 'Adzuna::API::Response::Location...</td>\n",
       "      <td>Position Title: Western Canada Operations Data...</td>\n",
       "      <td>Western Canada Operations Data Analyst</td>\n",
       "      <td>eyJhbGciOiJIUzI1NiJ9.eyJpIjoiNTI0NTg1ODMyOSIsI...</td>\n",
       "      <td>{'__CLASS__': 'Adzuna::API::Response::Category...</td>\n",
       "      <td>2025-06-11T23:07:32Z</td>\n",
       "      <td>NaN</td>\n",
       "      <td>{'display_name': 'Summit Search Group', '__CLA...</td>\n",
       "      <td>5245858329</td>\n",
       "      <td>Adzuna::API::Response::Job</td>\n",
       "      <td>https://www.adzuna.ca/land/ad/5245858329?se=aA...</td>\n",
       "      <td>49.256582</td>\n",
       "      <td>-122.898456</td>\n",
       "      <td>NaN</td>\n",
       "      <td>NaN</td>\n",
       "      <td>NaN</td>\n",
       "    </tr>\n",
       "    <tr>\n",
       "      <th>13</th>\n",
       "      <td>0</td>\n",
       "      <td>{'__CLASS__': 'Adzuna::API::Response::Location...</td>\n",
       "      <td>Job Title: Data Governance Analyst – Capital M...</td>\n",
       "      <td>Data Governance Analyst</td>\n",
       "      <td>eyJhbGciOiJIUzI1NiJ9.eyJzIjoiYUFXVmhFTk44Qkd3a...</td>\n",
       "      <td>{'label': 'IT Jobs', 'tag': 'it-jobs', '__CLAS...</td>\n",
       "      <td>2025-05-31T22:30:20Z</td>\n",
       "      <td>contract</td>\n",
       "      <td>{'__CLASS__': 'Adzuna::API::Response::Company'...</td>\n",
       "      <td>5225698923</td>\n",
       "      <td>Adzuna::API::Response::Job</td>\n",
       "      <td>https://www.adzuna.ca/land/ad/5225698923?se=aA...</td>\n",
       "      <td>43.706102</td>\n",
       "      <td>-79.402726</td>\n",
       "      <td>NaN</td>\n",
       "      <td>NaN</td>\n",
       "      <td>NaN</td>\n",
       "    </tr>\n",
       "    <tr>\n",
       "      <th>14</th>\n",
       "      <td>0</td>\n",
       "      <td>{'__CLASS__': 'Adzuna::API::Response::Location...</td>\n",
       "      <td>Data loss prevention (DLP) systems detect pote...</td>\n",
       "      <td>Data Security Analyst</td>\n",
       "      <td>eyJhbGciOiJIUzI1NiJ9.eyJpIjoiNTIwODE2OTE1NyIsI...</td>\n",
       "      <td>{'__CLASS__': 'Adzuna::API::Response::Category...</td>\n",
       "      <td>2025-05-20T17:13:25Z</td>\n",
       "      <td>NaN</td>\n",
       "      <td>{'__CLASS__': 'Adzuna::API::Response::Company'...</td>\n",
       "      <td>5208169157</td>\n",
       "      <td>Adzuna::API::Response::Job</td>\n",
       "      <td>https://www.adzuna.ca/land/ad/5208169157?se=aA...</td>\n",
       "      <td>43.883951</td>\n",
       "      <td>-79.431638</td>\n",
       "      <td>NaN</td>\n",
       "      <td>NaN</td>\n",
       "      <td>NaN</td>\n",
       "    </tr>\n",
       "    <tr>\n",
       "      <th>15</th>\n",
       "      <td>0</td>\n",
       "      <td>{'area': ['Canada', 'Ontario', 'Ottawa region'...</td>\n",
       "      <td>Job Description Reporting to the Vice-Presiden...</td>\n",
       "      <td>Data Analyst</td>\n",
       "      <td>eyJhbGciOiJIUzI1NiJ9.eyJpIjoiNTI0NDMyNjE2NiIsI...</td>\n",
       "      <td>{'tag': 'it-jobs', 'label': 'IT Jobs', '__CLAS...</td>\n",
       "      <td>2025-06-11T07:09:23Z</td>\n",
       "      <td>NaN</td>\n",
       "      <td>{'display_name': 'Farm Boy Inc.', '__CLASS__':...</td>\n",
       "      <td>5244326166</td>\n",
       "      <td>Adzuna::API::Response::Job</td>\n",
       "      <td>https://www.adzuna.ca/details/5244326166?utm_m...</td>\n",
       "      <td>NaN</td>\n",
       "      <td>NaN</td>\n",
       "      <td>NaN</td>\n",
       "      <td>NaN</td>\n",
       "      <td>NaN</td>\n",
       "    </tr>\n",
       "    <tr>\n",
       "      <th>16</th>\n",
       "      <td>0</td>\n",
       "      <td>{'display_name': 'Greater Vancouver, British C...</td>\n",
       "      <td>6-month contract Data Analyst role at a global...</td>\n",
       "      <td>Data Analyst</td>\n",
       "      <td>eyJhbGciOiJIUzI1NiJ9.eyJpIjoiNTIzNjEyMzIwMiIsI...</td>\n",
       "      <td>{'__CLASS__': 'Adzuna::API::Response::Category...</td>\n",
       "      <td>2025-06-06T07:31:38Z</td>\n",
       "      <td>NaN</td>\n",
       "      <td>{'__CLASS__': 'Adzuna::API::Response::Company'...</td>\n",
       "      <td>5236123202</td>\n",
       "      <td>Adzuna::API::Response::Job</td>\n",
       "      <td>https://www.adzuna.ca/details/5236123202?utm_m...</td>\n",
       "      <td>49.256582</td>\n",
       "      <td>-122.898456</td>\n",
       "      <td>NaN</td>\n",
       "      <td>NaN</td>\n",
       "      <td>NaN</td>\n",
       "    </tr>\n",
       "    <tr>\n",
       "      <th>17</th>\n",
       "      <td>0</td>\n",
       "      <td>{'__CLASS__': 'Adzuna::API::Response::Location...</td>\n",
       "      <td>Job Description Insight Global is looking for ...</td>\n",
       "      <td>Data Analyst</td>\n",
       "      <td>eyJhbGciOiJIUzI1NiJ9.eyJzIjoiYUFXVmhFTk44Qkd3a...</td>\n",
       "      <td>{'__CLASS__': 'Adzuna::API::Response::Category...</td>\n",
       "      <td>2025-05-10T12:19:16Z</td>\n",
       "      <td>NaN</td>\n",
       "      <td>{'display_name': 'Insight Global', '__CLASS__'...</td>\n",
       "      <td>5192349567</td>\n",
       "      <td>Adzuna::API::Response::Job</td>\n",
       "      <td>https://www.adzuna.ca/details/5192349567?utm_m...</td>\n",
       "      <td>49.256582</td>\n",
       "      <td>-122.898456</td>\n",
       "      <td>NaN</td>\n",
       "      <td>NaN</td>\n",
       "      <td>NaN</td>\n",
       "    </tr>\n",
       "    <tr>\n",
       "      <th>18</th>\n",
       "      <td>0</td>\n",
       "      <td>{'area': ['Canada', 'British Columbia', 'Great...</td>\n",
       "      <td>←Back to all jobs at Rubicon Organics Inc. Dat...</td>\n",
       "      <td>Data Analyst</td>\n",
       "      <td>eyJhbGciOiJIUzI1NiJ9.eyJpIjoiNTE5Mzc1NzUxMyIsI...</td>\n",
       "      <td>{'__CLASS__': 'Adzuna::API::Response::Category...</td>\n",
       "      <td>2025-05-11T10:20:21Z</td>\n",
       "      <td>NaN</td>\n",
       "      <td>{'__CLASS__': 'Adzuna::API::Response::Company'...</td>\n",
       "      <td>5193757513</td>\n",
       "      <td>Adzuna::API::Response::Job</td>\n",
       "      <td>https://www.adzuna.ca/details/5193757513?utm_m...</td>\n",
       "      <td>49.086900</td>\n",
       "      <td>-122.979370</td>\n",
       "      <td>full_time</td>\n",
       "      <td>90000.0</td>\n",
       "      <td>70000.0</td>\n",
       "    </tr>\n",
       "    <tr>\n",
       "      <th>19</th>\n",
       "      <td>0</td>\n",
       "      <td>{'area': ['Canada'], 'display_name': 'Canada',...</td>\n",
       "      <td>Job Number: 4629 External Description: This po...</td>\n",
       "      <td>Data Analyst</td>\n",
       "      <td>eyJhbGciOiJIUzI1NiJ9.eyJzIjoiYUFXVmhFTk44Qkd3a...</td>\n",
       "      <td>{'tag': 'it-jobs', 'label': 'IT Jobs', '__CLAS...</td>\n",
       "      <td>2025-05-18T10:12:35Z</td>\n",
       "      <td>NaN</td>\n",
       "      <td>{'__CLASS__': 'Adzuna::API::Response::Company'...</td>\n",
       "      <td>5205019953</td>\n",
       "      <td>Adzuna::API::Response::Job</td>\n",
       "      <td>https://www.adzuna.ca/details/5205019953?utm_m...</td>\n",
       "      <td>NaN</td>\n",
       "      <td>NaN</td>\n",
       "      <td>NaN</td>\n",
       "      <td>NaN</td>\n",
       "      <td>NaN</td>\n",
       "    </tr>\n",
       "    <tr>\n",
       "      <th>20</th>\n",
       "      <td>0</td>\n",
       "      <td>{'display_name': 'Greater Vancouver, British C...</td>\n",
       "      <td>Join a leading Fortune 500 company that values...</td>\n",
       "      <td>Data Analyst</td>\n",
       "      <td>eyJhbGciOiJIUzI1NiJ9.eyJzIjoiYUFXVmhFTk44Qkd3a...</td>\n",
       "      <td>{'label': 'IT Jobs', 'tag': 'it-jobs', '__CLAS...</td>\n",
       "      <td>2025-06-11T08:01:31Z</td>\n",
       "      <td>NaN</td>\n",
       "      <td>{'display_name': 'NEARSOURCE TECHNOLOGIES', '_...</td>\n",
       "      <td>5244348298</td>\n",
       "      <td>Adzuna::API::Response::Job</td>\n",
       "      <td>https://www.adzuna.ca/details/5244348298?utm_m...</td>\n",
       "      <td>49.256582</td>\n",
       "      <td>-122.898456</td>\n",
       "      <td>NaN</td>\n",
       "      <td>NaN</td>\n",
       "      <td>NaN</td>\n",
       "    </tr>\n",
       "    <tr>\n",
       "      <th>21</th>\n",
       "      <td>0</td>\n",
       "      <td>{'__CLASS__': 'Adzuna::API::Response::Location...</td>\n",
       "      <td>You might not know our name, but you know wher...</td>\n",
       "      <td>Data Analyst</td>\n",
       "      <td>eyJhbGciOiJIUzI1NiJ9.eyJzIjoiYUFXVmhFTk44Qkd3a...</td>\n",
       "      <td>{'__CLASS__': 'Adzuna::API::Response::Category...</td>\n",
       "      <td>2025-05-29T16:21:34Z</td>\n",
       "      <td>NaN</td>\n",
       "      <td>{'__CLASS__': 'Adzuna::API::Response::Company'...</td>\n",
       "      <td>5222582240</td>\n",
       "      <td>Adzuna::API::Response::Job</td>\n",
       "      <td>https://www.adzuna.ca/details/5222582240?utm_m...</td>\n",
       "      <td>49.976565</td>\n",
       "      <td>-97.089537</td>\n",
       "      <td>NaN</td>\n",
       "      <td>NaN</td>\n",
       "      <td>NaN</td>\n",
       "    </tr>\n",
       "    <tr>\n",
       "      <th>22</th>\n",
       "      <td>0</td>\n",
       "      <td>{'__CLASS__': 'Adzuna::API::Response::Location...</td>\n",
       "      <td>Job Description Job Overview Data Analyst is e...</td>\n",
       "      <td>Data Analyst</td>\n",
       "      <td>eyJhbGciOiJIUzI1NiJ9.eyJzIjoiYUFXVmhFTk44Qkd3a...</td>\n",
       "      <td>{'__CLASS__': 'Adzuna::API::Response::Category...</td>\n",
       "      <td>2025-06-05T06:45:33Z</td>\n",
       "      <td>NaN</td>\n",
       "      <td>{'__CLASS__': 'Adzuna::API::Response::Company'...</td>\n",
       "      <td>5234408317</td>\n",
       "      <td>Adzuna::API::Response::Job</td>\n",
       "      <td>https://www.adzuna.ca/details/5234408317?utm_m...</td>\n",
       "      <td>53.536055</td>\n",
       "      <td>-113.502542</td>\n",
       "      <td>NaN</td>\n",
       "      <td>NaN</td>\n",
       "      <td>NaN</td>\n",
       "    </tr>\n",
       "    <tr>\n",
       "      <th>23</th>\n",
       "      <td>0</td>\n",
       "      <td>{'area': ['Canada', 'Nova Scotia', 'Halifax re...</td>\n",
       "      <td>Basic Purpose of Position The Data Analyst wil...</td>\n",
       "      <td>Data Analyst</td>\n",
       "      <td>eyJhbGciOiJIUzI1NiJ9.eyJpIjoiNTA4NDIwNTIyNiIsI...</td>\n",
       "      <td>{'label': 'IT Jobs', 'tag': 'it-jobs', '__CLAS...</td>\n",
       "      <td>2025-03-09T13:13:16Z</td>\n",
       "      <td>NaN</td>\n",
       "      <td>{'display_name': 'Jazz Aviation LP', '__CLASS_...</td>\n",
       "      <td>5084205226</td>\n",
       "      <td>Adzuna::API::Response::Job</td>\n",
       "      <td>https://www.adzuna.ca/details/5084205226?utm_m...</td>\n",
       "      <td>44.681555</td>\n",
       "      <td>-63.556363</td>\n",
       "      <td>full_time</td>\n",
       "      <td>NaN</td>\n",
       "      <td>NaN</td>\n",
       "    </tr>\n",
       "    <tr>\n",
       "      <th>24</th>\n",
       "      <td>0</td>\n",
       "      <td>{'area': ['Canada', 'Québec', 'Montréal', 'Ver...</td>\n",
       "      <td>Job Description Responsible to build various r...</td>\n",
       "      <td>Data Analyst</td>\n",
       "      <td>eyJhbGciOiJIUzI1NiJ9.eyJzIjoiYUFXVmhFTk44Qkd3a...</td>\n",
       "      <td>{'__CLASS__': 'Adzuna::API::Response::Category...</td>\n",
       "      <td>2024-07-30T17:30:29Z</td>\n",
       "      <td>NaN</td>\n",
       "      <td>{'display_name': 'Central Business Solutions',...</td>\n",
       "      <td>4801371680</td>\n",
       "      <td>Adzuna::API::Response::Job</td>\n",
       "      <td>https://www.adzuna.ca/details/4801371680?utm_m...</td>\n",
       "      <td>45.497970</td>\n",
       "      <td>-73.555210</td>\n",
       "      <td>NaN</td>\n",
       "      <td>NaN</td>\n",
       "      <td>NaN</td>\n",
       "    </tr>\n",
       "    <tr>\n",
       "      <th>25</th>\n",
       "      <td>0</td>\n",
       "      <td>{'area': ['Canada', 'Québec', 'Laval region', ...</td>\n",
       "      <td>What you’ll do Joining the Canadian Tire team ...</td>\n",
       "      <td>Data Analyst</td>\n",
       "      <td>eyJhbGciOiJIUzI1NiJ9.eyJpIjoiNTExODg3NTkwMCIsI...</td>\n",
       "      <td>{'__CLASS__': 'Adzuna::API::Response::Category...</td>\n",
       "      <td>2025-03-30T13:45:12Z</td>\n",
       "      <td>NaN</td>\n",
       "      <td>{'display_name': 'FGL Sports', '__CLASS__': 'A...</td>\n",
       "      <td>5118875900</td>\n",
       "      <td>Adzuna::API::Response::Job</td>\n",
       "      <td>https://www.adzuna.ca/details/5118875900?utm_m...</td>\n",
       "      <td>NaN</td>\n",
       "      <td>NaN</td>\n",
       "      <td>full_time</td>\n",
       "      <td>NaN</td>\n",
       "      <td>NaN</td>\n",
       "    </tr>\n",
       "    <tr>\n",
       "      <th>26</th>\n",
       "      <td>0</td>\n",
       "      <td>{'area': ['Canada', 'Ontario', 'Toronto'], 'di...</td>\n",
       "      <td>Job Description We are seeking a motivated and...</td>\n",
       "      <td>Data Analyst</td>\n",
       "      <td>eyJhbGciOiJIUzI1NiJ9.eyJzIjoiYUFXVmhFTk44Qkd3a...</td>\n",
       "      <td>{'__CLASS__': 'Adzuna::API::Response::Category...</td>\n",
       "      <td>2025-06-13T12:57:13Z</td>\n",
       "      <td>NaN</td>\n",
       "      <td>{'display_name': 'Insight Global', '__CLASS__'...</td>\n",
       "      <td>5248833184</td>\n",
       "      <td>Adzuna::API::Response::Job</td>\n",
       "      <td>https://www.adzuna.ca/details/5248833184?utm_m...</td>\n",
       "      <td>43.706102</td>\n",
       "      <td>-79.402726</td>\n",
       "      <td>NaN</td>\n",
       "      <td>NaN</td>\n",
       "      <td>NaN</td>\n",
       "    </tr>\n",
       "    <tr>\n",
       "      <th>27</th>\n",
       "      <td>0</td>\n",
       "      <td>{'area': ['Canada', 'Ontario', 'Toronto', 'Cit...</td>\n",
       "      <td>About TheAILabb: TheAILabb is a leading innova...</td>\n",
       "      <td>Data Analyst</td>\n",
       "      <td>eyJhbGciOiJIUzI1NiJ9.eyJzIjoiYUFXVmhFTk44Qkd3a...</td>\n",
       "      <td>{'__CLASS__': 'Adzuna::API::Response::Category...</td>\n",
       "      <td>2025-03-07T12:07:09Z</td>\n",
       "      <td>NaN</td>\n",
       "      <td>{'__CLASS__': 'Adzuna::API::Response::Company'...</td>\n",
       "      <td>5081281067</td>\n",
       "      <td>Adzuna::API::Response::Job</td>\n",
       "      <td>https://www.adzuna.ca/details/5081281067?utm_m...</td>\n",
       "      <td>43.654040</td>\n",
       "      <td>-79.387680</td>\n",
       "      <td>full_time</td>\n",
       "      <td>NaN</td>\n",
       "      <td>NaN</td>\n",
       "    </tr>\n",
       "    <tr>\n",
       "      <th>28</th>\n",
       "      <td>0</td>\n",
       "      <td>{'display_name': 'Windsor, Essex region', 'are...</td>\n",
       "      <td>As a Data Analyst, you’ll be responsible for a...</td>\n",
       "      <td>Data Analyst</td>\n",
       "      <td>eyJhbGciOiJIUzI1NiJ9.eyJzIjoiYUFXVmhFTk44Qkd3a...</td>\n",
       "      <td>{'tag': 'it-jobs', 'label': 'IT Jobs', '__CLAS...</td>\n",
       "      <td>2025-06-17T06:54:13Z</td>\n",
       "      <td>NaN</td>\n",
       "      <td>{'display_name': 'Rocket Innovation Studio', '...</td>\n",
       "      <td>5254599380</td>\n",
       "      <td>Adzuna::API::Response::Job</td>\n",
       "      <td>https://www.adzuna.ca/details/5254599380?utm_m...</td>\n",
       "      <td>42.294277</td>\n",
       "      <td>-82.996859</td>\n",
       "      <td>NaN</td>\n",
       "      <td>NaN</td>\n",
       "      <td>NaN</td>\n",
       "    </tr>\n",
       "    <tr>\n",
       "      <th>29</th>\n",
       "      <td>0</td>\n",
       "      <td>{'display_name': 'Toronto, Ontario', 'area': [...</td>\n",
       "      <td>Were seeking a detail-oriented and analytical ...</td>\n",
       "      <td>Data Analyst</td>\n",
       "      <td>eyJhbGciOiJIUzI1NiJ9.eyJpIjoiNTIzMzc1MzYwOCIsI...</td>\n",
       "      <td>{'tag': 'it-jobs', 'label': 'IT Jobs', '__CLAS...</td>\n",
       "      <td>2025-06-04T19:49:08Z</td>\n",
       "      <td>NaN</td>\n",
       "      <td>{'display_name': 'Annex It Solutions', '__CLAS...</td>\n",
       "      <td>5233753608</td>\n",
       "      <td>Adzuna::API::Response::Job</td>\n",
       "      <td>https://www.adzuna.ca/details/5233753608?utm_m...</td>\n",
       "      <td>43.706102</td>\n",
       "      <td>-79.402726</td>\n",
       "      <td>NaN</td>\n",
       "      <td>NaN</td>\n",
       "      <td>NaN</td>\n",
       "    </tr>\n",
       "    <tr>\n",
       "      <th>30</th>\n",
       "      <td>0</td>\n",
       "      <td>{'__CLASS__': 'Adzuna::API::Response::Location...</td>\n",
       "      <td>About Stripe Stripe is a financial infrastruct...</td>\n",
       "      <td>Data Analyst</td>\n",
       "      <td>eyJhbGciOiJIUzI1NiJ9.eyJpIjoiNDk3NjYzMTI3MyIsI...</td>\n",
       "      <td>{'__CLASS__': 'Adzuna::API::Response::Category...</td>\n",
       "      <td>2024-12-13T05:29:47Z</td>\n",
       "      <td>NaN</td>\n",
       "      <td>{'display_name': 'Stripe', '__CLASS__': 'Adzun...</td>\n",
       "      <td>4976631273</td>\n",
       "      <td>Adzuna::API::Response::Job</td>\n",
       "      <td>https://www.adzuna.ca/details/4976631273?utm_m...</td>\n",
       "      <td>NaN</td>\n",
       "      <td>NaN</td>\n",
       "      <td>NaN</td>\n",
       "      <td>NaN</td>\n",
       "      <td>NaN</td>\n",
       "    </tr>\n",
       "    <tr>\n",
       "      <th>31</th>\n",
       "      <td>0</td>\n",
       "      <td>{'__CLASS__': 'Adzuna::API::Response::Location...</td>\n",
       "      <td>Permanent Full Time Canada Life is seeking a h...</td>\n",
       "      <td>Data Analyst</td>\n",
       "      <td>eyJhbGciOiJIUzI1NiJ9.eyJzIjoiYUFXVmhFTk44Qkd3a...</td>\n",
       "      <td>{'tag': 'it-jobs', 'label': 'IT Jobs', '__CLAS...</td>\n",
       "      <td>2025-06-15T06:38:27Z</td>\n",
       "      <td>NaN</td>\n",
       "      <td>{'__CLASS__': 'Adzuna::API::Response::Company'...</td>\n",
       "      <td>5251774666</td>\n",
       "      <td>Adzuna::API::Response::Job</td>\n",
       "      <td>https://www.adzuna.ca/details/5251774666?utm_m...</td>\n",
       "      <td>42.981065</td>\n",
       "      <td>-81.248057</td>\n",
       "      <td>NaN</td>\n",
       "      <td>NaN</td>\n",
       "      <td>NaN</td>\n",
       "    </tr>\n",
       "    <tr>\n",
       "      <th>32</th>\n",
       "      <td>0</td>\n",
       "      <td>{'__CLASS__': 'Adzuna::API::Response::Location...</td>\n",
       "      <td>Are you a skilled Data Analyst passionate abou...</td>\n",
       "      <td>Data Analyst</td>\n",
       "      <td>eyJhbGciOiJIUzI1NiJ9.eyJzIjoiYUFXVmhFTk44Qkd3a...</td>\n",
       "      <td>{'__CLASS__': 'Adzuna::API::Response::Category...</td>\n",
       "      <td>2025-06-15T06:38:27Z</td>\n",
       "      <td>NaN</td>\n",
       "      <td>{'display_name': 'Dillon Consulting Limited', ...</td>\n",
       "      <td>5251774679</td>\n",
       "      <td>Adzuna::API::Response::Job</td>\n",
       "      <td>https://www.adzuna.ca/details/5251774679?utm_m...</td>\n",
       "      <td>43.237889</td>\n",
       "      <td>-79.849914</td>\n",
       "      <td>NaN</td>\n",
       "      <td>NaN</td>\n",
       "      <td>NaN</td>\n",
       "    </tr>\n",
       "    <tr>\n",
       "      <th>33</th>\n",
       "      <td>0</td>\n",
       "      <td>{'__CLASS__': 'Adzuna::API::Response::Location...</td>\n",
       "      <td>Are you a skilled Data Analyst passionate abou...</td>\n",
       "      <td>Data Analyst</td>\n",
       "      <td>eyJhbGciOiJIUzI1NiJ9.eyJzIjoiYUFXVmhFTk44Qkd3a...</td>\n",
       "      <td>{'label': 'IT Jobs', 'tag': 'it-jobs', '__CLAS...</td>\n",
       "      <td>2025-01-09T15:27:17Z</td>\n",
       "      <td>NaN</td>\n",
       "      <td>{'display_name': 'Dillon Consulting Limited', ...</td>\n",
       "      <td>5003797087</td>\n",
       "      <td>Adzuna::API::Response::Job</td>\n",
       "      <td>https://www.adzuna.ca/details/5003797087?utm_m...</td>\n",
       "      <td>43.646370</td>\n",
       "      <td>-79.396810</td>\n",
       "      <td>full_time</td>\n",
       "      <td>NaN</td>\n",
       "      <td>NaN</td>\n",
       "    </tr>\n",
       "    <tr>\n",
       "      <th>34</th>\n",
       "      <td>0</td>\n",
       "      <td>{'display_name': 'Vancouver, Greater Vancouver...</td>\n",
       "      <td>Job Description Job Description Status: Tempor...</td>\n",
       "      <td>Data Analyst</td>\n",
       "      <td>eyJhbGciOiJIUzI1NiJ9.eyJpIjoiNTI1NTk4MjAzNyIsI...</td>\n",
       "      <td>{'label': 'IT Jobs', 'tag': 'it-jobs', '__CLAS...</td>\n",
       "      <td>2025-06-18T04:48:54Z</td>\n",
       "      <td>NaN</td>\n",
       "      <td>{'__CLASS__': 'Adzuna::API::Response::Company'...</td>\n",
       "      <td>5255982037</td>\n",
       "      <td>Adzuna::API::Response::Job</td>\n",
       "      <td>https://www.adzuna.ca/details/5255982037?utm_m...</td>\n",
       "      <td>49.252255</td>\n",
       "      <td>-123.108651</td>\n",
       "      <td>full_time</td>\n",
       "      <td>NaN</td>\n",
       "      <td>NaN</td>\n",
       "    </tr>\n",
       "    <tr>\n",
       "      <th>35</th>\n",
       "      <td>0</td>\n",
       "      <td>{'area': ['Canada', 'British Columbia', 'Great...</td>\n",
       "      <td>Fraud warning: It's common for scammers to cre...</td>\n",
       "      <td>Data Analyst</td>\n",
       "      <td>eyJhbGciOiJIUzI1NiJ9.eyJzIjoiYUFXVmhFTk44Qkd3a...</td>\n",
       "      <td>{'label': 'IT Jobs', 'tag': 'it-jobs', '__CLAS...</td>\n",
       "      <td>2025-05-25T12:58:43Z</td>\n",
       "      <td>NaN</td>\n",
       "      <td>{'display_name': 'Sensor Tower', '__CLASS__': ...</td>\n",
       "      <td>5215831014</td>\n",
       "      <td>Adzuna::API::Response::Job</td>\n",
       "      <td>https://www.adzuna.ca/details/5215831014?utm_m...</td>\n",
       "      <td>49.252255</td>\n",
       "      <td>-123.108651</td>\n",
       "      <td>NaN</td>\n",
       "      <td>NaN</td>\n",
       "      <td>NaN</td>\n",
       "    </tr>\n",
       "    <tr>\n",
       "      <th>36</th>\n",
       "      <td>0</td>\n",
       "      <td>{'__CLASS__': 'Adzuna::API::Response::Location...</td>\n",
       "      <td>Job Description Insight Global is looking for ...</td>\n",
       "      <td>Data Analyst</td>\n",
       "      <td>eyJhbGciOiJIUzI1NiJ9.eyJpIjoiNTE4NTg4MDA2NCIsI...</td>\n",
       "      <td>{'tag': 'it-jobs', 'label': 'IT Jobs', '__CLAS...</td>\n",
       "      <td>2025-05-07T12:17:08Z</td>\n",
       "      <td>NaN</td>\n",
       "      <td>{'display_name': 'Insight Global', '__CLASS__'...</td>\n",
       "      <td>5185880064</td>\n",
       "      <td>Adzuna::API::Response::Job</td>\n",
       "      <td>https://www.adzuna.ca/details/5185880064?utm_m...</td>\n",
       "      <td>43.706102</td>\n",
       "      <td>-79.402726</td>\n",
       "      <td>NaN</td>\n",
       "      <td>NaN</td>\n",
       "      <td>NaN</td>\n",
       "    </tr>\n",
       "    <tr>\n",
       "      <th>37</th>\n",
       "      <td>0</td>\n",
       "      <td>{'display_name': 'Mississauga, Peel region', '...</td>\n",
       "      <td>It's more than a job As a Data Analyst at Kueh...</td>\n",
       "      <td>Data Analyst</td>\n",
       "      <td>eyJhbGciOiJIUzI1NiJ9.eyJpIjoiNTI1NjIxNzIzMyIsI...</td>\n",
       "      <td>{'__CLASS__': 'Adzuna::API::Response::Category...</td>\n",
       "      <td>2025-06-18T06:43:44Z</td>\n",
       "      <td>NaN</td>\n",
       "      <td>{'__CLASS__': 'Adzuna::API::Response::Company'...</td>\n",
       "      <td>5256217233</td>\n",
       "      <td>Adzuna::API::Response::Job</td>\n",
       "      <td>https://www.adzuna.ca/details/5256217233?utm_m...</td>\n",
       "      <td>43.588336</td>\n",
       "      <td>-79.656736</td>\n",
       "      <td>NaN</td>\n",
       "      <td>NaN</td>\n",
       "      <td>NaN</td>\n",
       "    </tr>\n",
       "    <tr>\n",
       "      <th>38</th>\n",
       "      <td>0</td>\n",
       "      <td>{'__CLASS__': 'Adzuna::API::Response::Location...</td>\n",
       "      <td>About Us At POS KING, we are revolutionizing b...</td>\n",
       "      <td>Data Analyst</td>\n",
       "      <td>eyJhbGciOiJIUzI1NiJ9.eyJzIjoiYUFXVmhFTk44Qkd3a...</td>\n",
       "      <td>{'label': 'IT Jobs', 'tag': 'it-jobs', '__CLAS...</td>\n",
       "      <td>2025-05-31T07:21:07Z</td>\n",
       "      <td>NaN</td>\n",
       "      <td>{'__CLASS__': 'Adzuna::API::Response::Company'...</td>\n",
       "      <td>5224842018</td>\n",
       "      <td>Adzuna::API::Response::Job</td>\n",
       "      <td>https://www.adzuna.ca/details/5224842018?utm_m...</td>\n",
       "      <td>49.156021</td>\n",
       "      <td>-123.136733</td>\n",
       "      <td>NaN</td>\n",
       "      <td>NaN</td>\n",
       "      <td>NaN</td>\n",
       "    </tr>\n",
       "    <tr>\n",
       "      <th>39</th>\n",
       "      <td>0</td>\n",
       "      <td>{'area': ['Canada', 'Ontario', 'Peel region', ...</td>\n",
       "      <td>It's more than a job As a Data Analyst at Kueh...</td>\n",
       "      <td>Data Analyst</td>\n",
       "      <td>eyJhbGciOiJIUzI1NiJ9.eyJzIjoiYUFXVmhFTk44Qkd3a...</td>\n",
       "      <td>{'tag': 'logistics-warehouse-jobs', 'label': '...</td>\n",
       "      <td>2025-06-17T12:57:06Z</td>\n",
       "      <td>NaN</td>\n",
       "      <td>{'display_name': 'Kuehne+Nagel', '__CLASS__': ...</td>\n",
       "      <td>5254974766</td>\n",
       "      <td>Adzuna::API::Response::Job</td>\n",
       "      <td>https://www.adzuna.ca/details/5254974766?utm_m...</td>\n",
       "      <td>NaN</td>\n",
       "      <td>NaN</td>\n",
       "      <td>NaN</td>\n",
       "      <td>NaN</td>\n",
       "      <td>NaN</td>\n",
       "    </tr>\n",
       "    <tr>\n",
       "      <th>40</th>\n",
       "      <td>0</td>\n",
       "      <td>{'area': ['Canada', 'Ontario', 'Ottawa region'...</td>\n",
       "      <td>Job Description Job Description Company Descri...</td>\n",
       "      <td>Data Analyst</td>\n",
       "      <td>eyJhbGciOiJIUzI1NiJ9.eyJzIjoiYUFXVmhFTk44Qkd3a...</td>\n",
       "      <td>{'__CLASS__': 'Adzuna::API::Response::Category...</td>\n",
       "      <td>2025-06-15T03:36:13Z</td>\n",
       "      <td>NaN</td>\n",
       "      <td>{'display_name': 'Farm Boy Inc.', '__CLASS__':...</td>\n",
       "      <td>5251584573</td>\n",
       "      <td>Adzuna::API::Response::Job</td>\n",
       "      <td>https://www.adzuna.ca/details/5251584573?utm_m...</td>\n",
       "      <td>45.394161</td>\n",
       "      <td>-75.697758</td>\n",
       "      <td>NaN</td>\n",
       "      <td>NaN</td>\n",
       "      <td>NaN</td>\n",
       "    </tr>\n",
       "    <tr>\n",
       "      <th>41</th>\n",
       "      <td>0</td>\n",
       "      <td>{'__CLASS__': 'Adzuna::API::Response::Location...</td>\n",
       "      <td>AtkinsRéalis is one of Canada's largest privat...</td>\n",
       "      <td>Data Analyst</td>\n",
       "      <td>eyJhbGciOiJIUzI1NiJ9.eyJzIjoiYUFXVmhFTk44Qkd3a...</td>\n",
       "      <td>{'__CLASS__': 'Adzuna::API::Response::Category...</td>\n",
       "      <td>2025-05-24T12:58:06Z</td>\n",
       "      <td>NaN</td>\n",
       "      <td>{'__CLASS__': 'Adzuna::API::Response::Company'...</td>\n",
       "      <td>5214616918</td>\n",
       "      <td>Adzuna::API::Response::Job</td>\n",
       "      <td>https://www.adzuna.ca/details/5214616918?utm_m...</td>\n",
       "      <td>43.588336</td>\n",
       "      <td>-79.656736</td>\n",
       "      <td>NaN</td>\n",
       "      <td>NaN</td>\n",
       "      <td>NaN</td>\n",
       "    </tr>\n",
       "    <tr>\n",
       "      <th>42</th>\n",
       "      <td>0</td>\n",
       "      <td>{'area': ['Canada', 'Alberta', 'Calgary region...</td>\n",
       "      <td>THE ROLE We’re looking for a motivated individ...</td>\n",
       "      <td>Data Analyst</td>\n",
       "      <td>eyJhbGciOiJIUzI1NiJ9.eyJpIjoiNTIyMzYxNzM2NyIsI...</td>\n",
       "      <td>{'__CLASS__': 'Adzuna::API::Response::Category...</td>\n",
       "      <td>2025-05-30T12:59:46Z</td>\n",
       "      <td>NaN</td>\n",
       "      <td>{'display_name': 'TEC Canada', '__CLASS__': 'A...</td>\n",
       "      <td>5223617367</td>\n",
       "      <td>Adzuna::API::Response::Job</td>\n",
       "      <td>https://www.adzuna.ca/details/5223617367?utm_m...</td>\n",
       "      <td>51.040175</td>\n",
       "      <td>-114.078513</td>\n",
       "      <td>NaN</td>\n",
       "      <td>NaN</td>\n",
       "      <td>NaN</td>\n",
       "    </tr>\n",
       "    <tr>\n",
       "      <th>43</th>\n",
       "      <td>0</td>\n",
       "      <td>{'__CLASS__': 'Adzuna::API::Response::Location...</td>\n",
       "      <td>Workstream is a mission-driven company that be...</td>\n",
       "      <td>Data Analyst</td>\n",
       "      <td>eyJhbGciOiJIUzI1NiJ9.eyJzIjoiYUFXVmhFTk44Qkd3a...</td>\n",
       "      <td>{'label': 'IT Jobs', 'tag': 'it-jobs', '__CLAS...</td>\n",
       "      <td>2025-06-10T10:29:32Z</td>\n",
       "      <td>NaN</td>\n",
       "      <td>{'display_name': 'Workstream', '__CLASS__': 'A...</td>\n",
       "      <td>5242741144</td>\n",
       "      <td>Adzuna::API::Response::Job</td>\n",
       "      <td>https://www.adzuna.ca/details/5242741144?utm_m...</td>\n",
       "      <td>49.256582</td>\n",
       "      <td>-122.898456</td>\n",
       "      <td>NaN</td>\n",
       "      <td>NaN</td>\n",
       "      <td>NaN</td>\n",
       "    </tr>\n",
       "    <tr>\n",
       "      <th>44</th>\n",
       "      <td>0</td>\n",
       "      <td>{'area': ['Canada'], 'display_name': 'Canada',...</td>\n",
       "      <td>Level Up Your Career with Zynga! At Zynga, we ...</td>\n",
       "      <td>Data Analyst</td>\n",
       "      <td>eyJhbGciOiJIUzI1NiJ9.eyJzIjoiYUFXVmhFTk44Qkd3a...</td>\n",
       "      <td>{'__CLASS__': 'Adzuna::API::Response::Category...</td>\n",
       "      <td>2025-05-14T10:05:50Z</td>\n",
       "      <td>NaN</td>\n",
       "      <td>{'display_name': 'Zynga', '__CLASS__': 'Adzuna...</td>\n",
       "      <td>5198186672</td>\n",
       "      <td>Adzuna::API::Response::Job</td>\n",
       "      <td>https://www.adzuna.ca/details/5198186672?utm_m...</td>\n",
       "      <td>NaN</td>\n",
       "      <td>NaN</td>\n",
       "      <td>NaN</td>\n",
       "      <td>NaN</td>\n",
       "      <td>NaN</td>\n",
       "    </tr>\n",
       "    <tr>\n",
       "      <th>45</th>\n",
       "      <td>0</td>\n",
       "      <td>{'__CLASS__': 'Adzuna::API::Response::Location...</td>\n",
       "      <td>Job Description Job Description Company Descri...</td>\n",
       "      <td>Data Analyst</td>\n",
       "      <td>eyJhbGciOiJIUzI1NiJ9.eyJzIjoiYUFXVmhFTk44Qkd3a...</td>\n",
       "      <td>{'__CLASS__': 'Adzuna::API::Response::Category...</td>\n",
       "      <td>2025-05-18T00:09:40Z</td>\n",
       "      <td>NaN</td>\n",
       "      <td>{'display_name': 'Spectrum Health Care', '__CL...</td>\n",
       "      <td>5204483134</td>\n",
       "      <td>Adzuna::API::Response::Job</td>\n",
       "      <td>https://www.adzuna.ca/details/5204483134?utm_m...</td>\n",
       "      <td>43.706102</td>\n",
       "      <td>-79.402726</td>\n",
       "      <td>NaN</td>\n",
       "      <td>NaN</td>\n",
       "      <td>NaN</td>\n",
       "    </tr>\n",
       "    <tr>\n",
       "      <th>46</th>\n",
       "      <td>0</td>\n",
       "      <td>{'area': ['Canada'], 'display_name': 'Canada',...</td>\n",
       "      <td>About Tailscale Tailscale is building the new ...</td>\n",
       "      <td>Data Analyst</td>\n",
       "      <td>eyJhbGciOiJIUzI1NiJ9.eyJzIjoiYUFXVmhFTk44Qkd3a...</td>\n",
       "      <td>{'__CLASS__': 'Adzuna::API::Response::Category...</td>\n",
       "      <td>2025-03-23T13:01:57Z</td>\n",
       "      <td>NaN</td>\n",
       "      <td>{'display_name': 'Tailscale', '__CLASS__': 'Ad...</td>\n",
       "      <td>5107891765</td>\n",
       "      <td>Adzuna::API::Response::Job</td>\n",
       "      <td>https://www.adzuna.ca/details/5107891765?utm_m...</td>\n",
       "      <td>NaN</td>\n",
       "      <td>NaN</td>\n",
       "      <td>full_time</td>\n",
       "      <td>195640.0</td>\n",
       "      <td>156512.0</td>\n",
       "    </tr>\n",
       "    <tr>\n",
       "      <th>47</th>\n",
       "      <td>0</td>\n",
       "      <td>{'area': ['Canada'], 'display_name': 'Canada',...</td>\n",
       "      <td>Who We Are Born from a mission to make prescri...</td>\n",
       "      <td>Data Analyst</td>\n",
       "      <td>eyJhbGciOiJIUzI1NiJ9.eyJpIjoiNTIyNTAyMDI4NSIsI...</td>\n",
       "      <td>{'label': 'Engineering Jobs', 'tag': 'engineer...</td>\n",
       "      <td>2025-05-31T10:18:21Z</td>\n",
       "      <td>NaN</td>\n",
       "      <td>{'__CLASS__': 'Adzuna::API::Response::Company'...</td>\n",
       "      <td>5225020285</td>\n",
       "      <td>Adzuna::API::Response::Job</td>\n",
       "      <td>https://www.adzuna.ca/details/5225020285?utm_m...</td>\n",
       "      <td>NaN</td>\n",
       "      <td>NaN</td>\n",
       "      <td>NaN</td>\n",
       "      <td>98459.0</td>\n",
       "      <td>84500.0</td>\n",
       "    </tr>\n",
       "    <tr>\n",
       "      <th>48</th>\n",
       "      <td>0</td>\n",
       "      <td>{'__CLASS__': 'Adzuna::API::Response::Location...</td>\n",
       "      <td>Valence has built the first-to-market AI nativ...</td>\n",
       "      <td>Data Analyst</td>\n",
       "      <td>eyJhbGciOiJIUzI1NiJ9.eyJpIjoiNTIxNzAzMTc4OCIsI...</td>\n",
       "      <td>{'label': 'IT Jobs', 'tag': 'it-jobs', '__CLAS...</td>\n",
       "      <td>2025-05-26T12:59:14Z</td>\n",
       "      <td>NaN</td>\n",
       "      <td>{'__CLASS__': 'Adzuna::API::Response::Company'...</td>\n",
       "      <td>5217031788</td>\n",
       "      <td>Adzuna::API::Response::Job</td>\n",
       "      <td>https://www.adzuna.ca/details/5217031788?utm_m...</td>\n",
       "      <td>43.706102</td>\n",
       "      <td>-79.402726</td>\n",
       "      <td>NaN</td>\n",
       "      <td>NaN</td>\n",
       "      <td>NaN</td>\n",
       "    </tr>\n",
       "    <tr>\n",
       "      <th>49</th>\n",
       "      <td>0</td>\n",
       "      <td>{'display_name': 'Canada', 'area': ['Canada'],...</td>\n",
       "      <td>Consolidate and update various data models thr...</td>\n",
       "      <td>Data Analyst</td>\n",
       "      <td>eyJhbGciOiJIUzI1NiJ9.eyJzIjoiYUFXVmhFTk44Qkd3a...</td>\n",
       "      <td>{'tag': 'it-jobs', 'label': 'IT Jobs', '__CLAS...</td>\n",
       "      <td>2025-06-04T19:49:01Z</td>\n",
       "      <td>NaN</td>\n",
       "      <td>{'__CLASS__': 'Adzuna::API::Response::Company'...</td>\n",
       "      <td>5233753593</td>\n",
       "      <td>Adzuna::API::Response::Job</td>\n",
       "      <td>https://www.adzuna.ca/details/5233753593?utm_m...</td>\n",
       "      <td>NaN</td>\n",
       "      <td>NaN</td>\n",
       "      <td>NaN</td>\n",
       "      <td>NaN</td>\n",
       "      <td>NaN</td>\n",
       "    </tr>\n",
       "  </tbody>\n",
       "</table>\n",
       "</div>"
      ],
      "text/plain": [
       "   salary_is_predicted                                           location  \\\n",
       "0                    0  {'area': ['Canada', 'Ontario', 'Toronto'], 'di...   \n",
       "1                    0  {'area': ['Canada', 'Ontario', 'Toronto'], 'di...   \n",
       "2                    0  {'__CLASS__': 'Adzuna::API::Response::Location...   \n",
       "3                    0  {'__CLASS__': 'Adzuna::API::Response::Location...   \n",
       "4                    0  {'__CLASS__': 'Adzuna::API::Response::Location...   \n",
       "5                    0  {'__CLASS__': 'Adzuna::API::Response::Location...   \n",
       "6                    0  {'__CLASS__': 'Adzuna::API::Response::Location...   \n",
       "7                    0  {'area': ['Canada'], 'display_name': 'Canada',...   \n",
       "8                    0  {'__CLASS__': 'Adzuna::API::Response::Location...   \n",
       "9                    0  {'area': ['Canada', 'Ontario', 'Toronto'], 'di...   \n",
       "10                   0  {'__CLASS__': 'Adzuna::API::Response::Location...   \n",
       "11                   0  {'display_name': 'Greater Vancouver, British C...   \n",
       "12                   0  {'__CLASS__': 'Adzuna::API::Response::Location...   \n",
       "13                   0  {'__CLASS__': 'Adzuna::API::Response::Location...   \n",
       "14                   0  {'__CLASS__': 'Adzuna::API::Response::Location...   \n",
       "15                   0  {'area': ['Canada', 'Ontario', 'Ottawa region'...   \n",
       "16                   0  {'display_name': 'Greater Vancouver, British C...   \n",
       "17                   0  {'__CLASS__': 'Adzuna::API::Response::Location...   \n",
       "18                   0  {'area': ['Canada', 'British Columbia', 'Great...   \n",
       "19                   0  {'area': ['Canada'], 'display_name': 'Canada',...   \n",
       "20                   0  {'display_name': 'Greater Vancouver, British C...   \n",
       "21                   0  {'__CLASS__': 'Adzuna::API::Response::Location...   \n",
       "22                   0  {'__CLASS__': 'Adzuna::API::Response::Location...   \n",
       "23                   0  {'area': ['Canada', 'Nova Scotia', 'Halifax re...   \n",
       "24                   0  {'area': ['Canada', 'Québec', 'Montréal', 'Ver...   \n",
       "25                   0  {'area': ['Canada', 'Québec', 'Laval region', ...   \n",
       "26                   0  {'area': ['Canada', 'Ontario', 'Toronto'], 'di...   \n",
       "27                   0  {'area': ['Canada', 'Ontario', 'Toronto', 'Cit...   \n",
       "28                   0  {'display_name': 'Windsor, Essex region', 'are...   \n",
       "29                   0  {'display_name': 'Toronto, Ontario', 'area': [...   \n",
       "30                   0  {'__CLASS__': 'Adzuna::API::Response::Location...   \n",
       "31                   0  {'__CLASS__': 'Adzuna::API::Response::Location...   \n",
       "32                   0  {'__CLASS__': 'Adzuna::API::Response::Location...   \n",
       "33                   0  {'__CLASS__': 'Adzuna::API::Response::Location...   \n",
       "34                   0  {'display_name': 'Vancouver, Greater Vancouver...   \n",
       "35                   0  {'area': ['Canada', 'British Columbia', 'Great...   \n",
       "36                   0  {'__CLASS__': 'Adzuna::API::Response::Location...   \n",
       "37                   0  {'display_name': 'Mississauga, Peel region', '...   \n",
       "38                   0  {'__CLASS__': 'Adzuna::API::Response::Location...   \n",
       "39                   0  {'area': ['Canada', 'Ontario', 'Peel region', ...   \n",
       "40                   0  {'area': ['Canada', 'Ontario', 'Ottawa region'...   \n",
       "41                   0  {'__CLASS__': 'Adzuna::API::Response::Location...   \n",
       "42                   0  {'area': ['Canada', 'Alberta', 'Calgary region...   \n",
       "43                   0  {'__CLASS__': 'Adzuna::API::Response::Location...   \n",
       "44                   0  {'area': ['Canada'], 'display_name': 'Canada',...   \n",
       "45                   0  {'__CLASS__': 'Adzuna::API::Response::Location...   \n",
       "46                   0  {'area': ['Canada'], 'display_name': 'Canada',...   \n",
       "47                   0  {'area': ['Canada'], 'display_name': 'Canada',...   \n",
       "48                   0  {'__CLASS__': 'Adzuna::API::Response::Location...   \n",
       "49                   0  {'display_name': 'Canada', 'area': ['Canada'],...   \n",
       "\n",
       "                                          description  \\\n",
       "0   Akkodis is currently seeking a skilled Power B...   \n",
       "1   About us Aquanow is a trading and technology c...   \n",
       "2   Inclusion without Exception Tata Consultancy S...   \n",
       "3   Position: Technical Data Analyst Location: Mon...   \n",
       "4   We are seeking an analytical and detail-orient...   \n",
       "5   Inclusion without Exception: Tata Consultancy ...   \n",
       "6   C5i is a pure-play AI & Analytics provider tha...   \n",
       "7   Automotive glass technology is helping transfo...   \n",
       "8   A career as Chief Data Analyst in the IT Marke...   \n",
       "9   Overview Haptiq is a leader in delivering digi...   \n",
       "10  Inclusion without Exception Tata Consultancy S...   \n",
       "11  Logistics: Role Type: Full-Time, Permanent Rol...   \n",
       "12  Position Title: Western Canada Operations Data...   \n",
       "13  Job Title: Data Governance Analyst – Capital M...   \n",
       "14  Data loss prevention (DLP) systems detect pote...   \n",
       "15  Job Description Reporting to the Vice-Presiden...   \n",
       "16  6-month contract Data Analyst role at a global...   \n",
       "17  Job Description Insight Global is looking for ...   \n",
       "18  ←Back to all jobs at Rubicon Organics Inc. Dat...   \n",
       "19  Job Number: 4629 External Description: This po...   \n",
       "20  Join a leading Fortune 500 company that values...   \n",
       "21  You might not know our name, but you know wher...   \n",
       "22  Job Description Job Overview Data Analyst is e...   \n",
       "23  Basic Purpose of Position The Data Analyst wil...   \n",
       "24  Job Description Responsible to build various r...   \n",
       "25  What you’ll do Joining the Canadian Tire team ...   \n",
       "26  Job Description We are seeking a motivated and...   \n",
       "27  About TheAILabb: TheAILabb is a leading innova...   \n",
       "28  As a Data Analyst, you’ll be responsible for a...   \n",
       "29  Were seeking a detail-oriented and analytical ...   \n",
       "30  About Stripe Stripe is a financial infrastruct...   \n",
       "31  Permanent Full Time Canada Life is seeking a h...   \n",
       "32  Are you a skilled Data Analyst passionate abou...   \n",
       "33  Are you a skilled Data Analyst passionate abou...   \n",
       "34  Job Description Job Description Status: Tempor...   \n",
       "35  Fraud warning: It's common for scammers to cre...   \n",
       "36  Job Description Insight Global is looking for ...   \n",
       "37  It's more than a job As a Data Analyst at Kueh...   \n",
       "38  About Us At POS KING, we are revolutionizing b...   \n",
       "39  It's more than a job As a Data Analyst at Kueh...   \n",
       "40  Job Description Job Description Company Descri...   \n",
       "41  AtkinsRéalis is one of Canada's largest privat...   \n",
       "42  THE ROLE We’re looking for a motivated individ...   \n",
       "43  Workstream is a mission-driven company that be...   \n",
       "44  Level Up Your Career with Zynga! At Zynga, we ...   \n",
       "45  Job Description Job Description Company Descri...   \n",
       "46  About Tailscale Tailscale is building the new ...   \n",
       "47  Who We Are Born from a mission to make prescri...   \n",
       "48  Valence has built the first-to-market AI nativ...   \n",
       "49  Consolidate and update various data models thr...   \n",
       "\n",
       "                                     title  \\\n",
       "0                             Data Analyst   \n",
       "1                             Data Analyst   \n",
       "2                             Data Analyst   \n",
       "3                   Technical Data Analyst   \n",
       "4                             Data Analyst   \n",
       "5                             Data Analyst   \n",
       "6                             Data Analyst   \n",
       "7                    Business Data Analyst   \n",
       "8                       Chief Data Analyst   \n",
       "9                    Power BI Data Analyst   \n",
       "10                        GCP Data Analyst   \n",
       "11                     Senior Data Analyst   \n",
       "12  Western Canada Operations Data Analyst   \n",
       "13                 Data Governance Analyst   \n",
       "14                   Data Security Analyst   \n",
       "15                            Data Analyst   \n",
       "16                            Data Analyst   \n",
       "17                            Data Analyst   \n",
       "18                            Data Analyst   \n",
       "19                            Data Analyst   \n",
       "20                            Data Analyst   \n",
       "21                            Data Analyst   \n",
       "22                            Data Analyst   \n",
       "23                            Data Analyst   \n",
       "24                            Data Analyst   \n",
       "25                            Data Analyst   \n",
       "26                            Data Analyst   \n",
       "27                            Data Analyst   \n",
       "28                            Data Analyst   \n",
       "29                            Data Analyst   \n",
       "30                            Data Analyst   \n",
       "31                            Data Analyst   \n",
       "32                            Data Analyst   \n",
       "33                            Data Analyst   \n",
       "34                            Data Analyst   \n",
       "35                            Data Analyst   \n",
       "36                            Data Analyst   \n",
       "37                            Data Analyst   \n",
       "38                            Data Analyst   \n",
       "39                            Data Analyst   \n",
       "40                            Data Analyst   \n",
       "41                            Data Analyst   \n",
       "42                            Data Analyst   \n",
       "43                            Data Analyst   \n",
       "44                            Data Analyst   \n",
       "45                            Data Analyst   \n",
       "46                            Data Analyst   \n",
       "47                            Data Analyst   \n",
       "48                            Data Analyst   \n",
       "49                            Data Analyst   \n",
       "\n",
       "                                                adref  \\\n",
       "0   eyJhbGciOiJIUzI1NiJ9.eyJzIjoiYUFXVmhFTk44Qkd3a...   \n",
       "1   eyJhbGciOiJIUzI1NiJ9.eyJpIjoiNTIwODE3MDY5MCIsI...   \n",
       "2   eyJhbGciOiJIUzI1NiJ9.eyJpIjoiNTE1NDkyNzQzNyIsI...   \n",
       "3   eyJhbGciOiJIUzI1NiJ9.eyJpIjoiNTIyNTY5ODg3MCIsI...   \n",
       "4   eyJhbGciOiJIUzI1NiJ9.eyJzIjoiYUFXVmhFTk44Qkd3a...   \n",
       "5   eyJhbGciOiJIUzI1NiJ9.eyJpIjoiNTIzMjAyNzUzOCIsI...   \n",
       "6   eyJhbGciOiJIUzI1NiJ9.eyJpIjoiNTI1MDAxNDc4NSIsI...   \n",
       "7   eyJhbGciOiJIUzI1NiJ9.eyJpIjoiNTI1ODAzMTQ2MCIsI...   \n",
       "8   eyJhbGciOiJIUzI1NiJ9.eyJzIjoiYUFXVmhFTk44Qkd3a...   \n",
       "9   eyJhbGciOiJIUzI1NiJ9.eyJzIjoiYUFXVmhFTk44Qkd3a...   \n",
       "10  eyJhbGciOiJIUzI1NiJ9.eyJpIjoiNTIyMjgzOTcyMSIsI...   \n",
       "11  eyJhbGciOiJIUzI1NiJ9.eyJzIjoiYUFXVmhFTk44Qkd3a...   \n",
       "12  eyJhbGciOiJIUzI1NiJ9.eyJpIjoiNTI0NTg1ODMyOSIsI...   \n",
       "13  eyJhbGciOiJIUzI1NiJ9.eyJzIjoiYUFXVmhFTk44Qkd3a...   \n",
       "14  eyJhbGciOiJIUzI1NiJ9.eyJpIjoiNTIwODE2OTE1NyIsI...   \n",
       "15  eyJhbGciOiJIUzI1NiJ9.eyJpIjoiNTI0NDMyNjE2NiIsI...   \n",
       "16  eyJhbGciOiJIUzI1NiJ9.eyJpIjoiNTIzNjEyMzIwMiIsI...   \n",
       "17  eyJhbGciOiJIUzI1NiJ9.eyJzIjoiYUFXVmhFTk44Qkd3a...   \n",
       "18  eyJhbGciOiJIUzI1NiJ9.eyJpIjoiNTE5Mzc1NzUxMyIsI...   \n",
       "19  eyJhbGciOiJIUzI1NiJ9.eyJzIjoiYUFXVmhFTk44Qkd3a...   \n",
       "20  eyJhbGciOiJIUzI1NiJ9.eyJzIjoiYUFXVmhFTk44Qkd3a...   \n",
       "21  eyJhbGciOiJIUzI1NiJ9.eyJzIjoiYUFXVmhFTk44Qkd3a...   \n",
       "22  eyJhbGciOiJIUzI1NiJ9.eyJzIjoiYUFXVmhFTk44Qkd3a...   \n",
       "23  eyJhbGciOiJIUzI1NiJ9.eyJpIjoiNTA4NDIwNTIyNiIsI...   \n",
       "24  eyJhbGciOiJIUzI1NiJ9.eyJzIjoiYUFXVmhFTk44Qkd3a...   \n",
       "25  eyJhbGciOiJIUzI1NiJ9.eyJpIjoiNTExODg3NTkwMCIsI...   \n",
       "26  eyJhbGciOiJIUzI1NiJ9.eyJzIjoiYUFXVmhFTk44Qkd3a...   \n",
       "27  eyJhbGciOiJIUzI1NiJ9.eyJzIjoiYUFXVmhFTk44Qkd3a...   \n",
       "28  eyJhbGciOiJIUzI1NiJ9.eyJzIjoiYUFXVmhFTk44Qkd3a...   \n",
       "29  eyJhbGciOiJIUzI1NiJ9.eyJpIjoiNTIzMzc1MzYwOCIsI...   \n",
       "30  eyJhbGciOiJIUzI1NiJ9.eyJpIjoiNDk3NjYzMTI3MyIsI...   \n",
       "31  eyJhbGciOiJIUzI1NiJ9.eyJzIjoiYUFXVmhFTk44Qkd3a...   \n",
       "32  eyJhbGciOiJIUzI1NiJ9.eyJzIjoiYUFXVmhFTk44Qkd3a...   \n",
       "33  eyJhbGciOiJIUzI1NiJ9.eyJzIjoiYUFXVmhFTk44Qkd3a...   \n",
       "34  eyJhbGciOiJIUzI1NiJ9.eyJpIjoiNTI1NTk4MjAzNyIsI...   \n",
       "35  eyJhbGciOiJIUzI1NiJ9.eyJzIjoiYUFXVmhFTk44Qkd3a...   \n",
       "36  eyJhbGciOiJIUzI1NiJ9.eyJpIjoiNTE4NTg4MDA2NCIsI...   \n",
       "37  eyJhbGciOiJIUzI1NiJ9.eyJpIjoiNTI1NjIxNzIzMyIsI...   \n",
       "38  eyJhbGciOiJIUzI1NiJ9.eyJzIjoiYUFXVmhFTk44Qkd3a...   \n",
       "39  eyJhbGciOiJIUzI1NiJ9.eyJzIjoiYUFXVmhFTk44Qkd3a...   \n",
       "40  eyJhbGciOiJIUzI1NiJ9.eyJzIjoiYUFXVmhFTk44Qkd3a...   \n",
       "41  eyJhbGciOiJIUzI1NiJ9.eyJzIjoiYUFXVmhFTk44Qkd3a...   \n",
       "42  eyJhbGciOiJIUzI1NiJ9.eyJpIjoiNTIyMzYxNzM2NyIsI...   \n",
       "43  eyJhbGciOiJIUzI1NiJ9.eyJzIjoiYUFXVmhFTk44Qkd3a...   \n",
       "44  eyJhbGciOiJIUzI1NiJ9.eyJzIjoiYUFXVmhFTk44Qkd3a...   \n",
       "45  eyJhbGciOiJIUzI1NiJ9.eyJzIjoiYUFXVmhFTk44Qkd3a...   \n",
       "46  eyJhbGciOiJIUzI1NiJ9.eyJzIjoiYUFXVmhFTk44Qkd3a...   \n",
       "47  eyJhbGciOiJIUzI1NiJ9.eyJpIjoiNTIyNTAyMDI4NSIsI...   \n",
       "48  eyJhbGciOiJIUzI1NiJ9.eyJpIjoiNTIxNzAzMTc4OCIsI...   \n",
       "49  eyJhbGciOiJIUzI1NiJ9.eyJzIjoiYUFXVmhFTk44Qkd3a...   \n",
       "\n",
       "                                             category               created  \\\n",
       "0   {'tag': 'it-jobs', 'label': 'IT Jobs', '__CLAS...  2025-06-15T03:29:02Z   \n",
       "1   {'label': 'IT Jobs', 'tag': 'it-jobs', '__CLAS...  2025-05-20T17:15:34Z   \n",
       "2   {'__CLASS__': 'Adzuna::API::Response::Category...  2025-04-20T22:56:29Z   \n",
       "3   {'__CLASS__': 'Adzuna::API::Response::Category...  2025-05-31T22:30:19Z   \n",
       "4   {'tag': 'accounting-finance-jobs', 'label': 'A...  2025-05-30T23:28:35Z   \n",
       "5   {'tag': 'it-jobs', 'label': 'IT Jobs', '__CLAS...  2025-06-04T02:11:26Z   \n",
       "6   {'__CLASS__': 'Adzuna::API::Response::Category...  2025-06-14T02:00:12Z   \n",
       "7   {'__CLASS__': 'Adzuna::API::Response::Category...  2025-06-19T08:23:42Z   \n",
       "8   {'tag': 'it-jobs', 'label': 'IT Jobs', '__CLAS...  2025-06-12T08:23:18Z   \n",
       "9   {'__CLASS__': 'Adzuna::API::Response::Category...  2025-05-28T22:12:19Z   \n",
       "10  {'tag': 'it-jobs', 'label': 'IT Jobs', '__CLAS...  2025-05-29T23:13:10Z   \n",
       "11  {'label': 'IT Jobs', 'tag': 'it-jobs', '__CLAS...  2025-06-14T01:57:22Z   \n",
       "12  {'__CLASS__': 'Adzuna::API::Response::Category...  2025-06-11T23:07:32Z   \n",
       "13  {'label': 'IT Jobs', 'tag': 'it-jobs', '__CLAS...  2025-05-31T22:30:20Z   \n",
       "14  {'__CLASS__': 'Adzuna::API::Response::Category...  2025-05-20T17:13:25Z   \n",
       "15  {'tag': 'it-jobs', 'label': 'IT Jobs', '__CLAS...  2025-06-11T07:09:23Z   \n",
       "16  {'__CLASS__': 'Adzuna::API::Response::Category...  2025-06-06T07:31:38Z   \n",
       "17  {'__CLASS__': 'Adzuna::API::Response::Category...  2025-05-10T12:19:16Z   \n",
       "18  {'__CLASS__': 'Adzuna::API::Response::Category...  2025-05-11T10:20:21Z   \n",
       "19  {'tag': 'it-jobs', 'label': 'IT Jobs', '__CLAS...  2025-05-18T10:12:35Z   \n",
       "20  {'label': 'IT Jobs', 'tag': 'it-jobs', '__CLAS...  2025-06-11T08:01:31Z   \n",
       "21  {'__CLASS__': 'Adzuna::API::Response::Category...  2025-05-29T16:21:34Z   \n",
       "22  {'__CLASS__': 'Adzuna::API::Response::Category...  2025-06-05T06:45:33Z   \n",
       "23  {'label': 'IT Jobs', 'tag': 'it-jobs', '__CLAS...  2025-03-09T13:13:16Z   \n",
       "24  {'__CLASS__': 'Adzuna::API::Response::Category...  2024-07-30T17:30:29Z   \n",
       "25  {'__CLASS__': 'Adzuna::API::Response::Category...  2025-03-30T13:45:12Z   \n",
       "26  {'__CLASS__': 'Adzuna::API::Response::Category...  2025-06-13T12:57:13Z   \n",
       "27  {'__CLASS__': 'Adzuna::API::Response::Category...  2025-03-07T12:07:09Z   \n",
       "28  {'tag': 'it-jobs', 'label': 'IT Jobs', '__CLAS...  2025-06-17T06:54:13Z   \n",
       "29  {'tag': 'it-jobs', 'label': 'IT Jobs', '__CLAS...  2025-06-04T19:49:08Z   \n",
       "30  {'__CLASS__': 'Adzuna::API::Response::Category...  2024-12-13T05:29:47Z   \n",
       "31  {'tag': 'it-jobs', 'label': 'IT Jobs', '__CLAS...  2025-06-15T06:38:27Z   \n",
       "32  {'__CLASS__': 'Adzuna::API::Response::Category...  2025-06-15T06:38:27Z   \n",
       "33  {'label': 'IT Jobs', 'tag': 'it-jobs', '__CLAS...  2025-01-09T15:27:17Z   \n",
       "34  {'label': 'IT Jobs', 'tag': 'it-jobs', '__CLAS...  2025-06-18T04:48:54Z   \n",
       "35  {'label': 'IT Jobs', 'tag': 'it-jobs', '__CLAS...  2025-05-25T12:58:43Z   \n",
       "36  {'tag': 'it-jobs', 'label': 'IT Jobs', '__CLAS...  2025-05-07T12:17:08Z   \n",
       "37  {'__CLASS__': 'Adzuna::API::Response::Category...  2025-06-18T06:43:44Z   \n",
       "38  {'label': 'IT Jobs', 'tag': 'it-jobs', '__CLAS...  2025-05-31T07:21:07Z   \n",
       "39  {'tag': 'logistics-warehouse-jobs', 'label': '...  2025-06-17T12:57:06Z   \n",
       "40  {'__CLASS__': 'Adzuna::API::Response::Category...  2025-06-15T03:36:13Z   \n",
       "41  {'__CLASS__': 'Adzuna::API::Response::Category...  2025-05-24T12:58:06Z   \n",
       "42  {'__CLASS__': 'Adzuna::API::Response::Category...  2025-05-30T12:59:46Z   \n",
       "43  {'label': 'IT Jobs', 'tag': 'it-jobs', '__CLAS...  2025-06-10T10:29:32Z   \n",
       "44  {'__CLASS__': 'Adzuna::API::Response::Category...  2025-05-14T10:05:50Z   \n",
       "45  {'__CLASS__': 'Adzuna::API::Response::Category...  2025-05-18T00:09:40Z   \n",
       "46  {'__CLASS__': 'Adzuna::API::Response::Category...  2025-03-23T13:01:57Z   \n",
       "47  {'label': 'Engineering Jobs', 'tag': 'engineer...  2025-05-31T10:18:21Z   \n",
       "48  {'label': 'IT Jobs', 'tag': 'it-jobs', '__CLAS...  2025-05-26T12:59:14Z   \n",
       "49  {'tag': 'it-jobs', 'label': 'IT Jobs', '__CLAS...  2025-06-04T19:49:01Z   \n",
       "\n",
       "   contract_type                                            company  \\\n",
       "0       contract  {'__CLASS__': 'Adzuna::API::Response::Company'...   \n",
       "1      permanent  {'__CLASS__': 'Adzuna::API::Response::Company'...   \n",
       "2            NaN  {'display_name': 'Tata Consultancy Services', ...   \n",
       "3       contract  {'__CLASS__': 'Adzuna::API::Response::Company'...   \n",
       "4            NaN  {'__CLASS__': 'Adzuna::API::Response::Company'...   \n",
       "5            NaN  {'__CLASS__': 'Adzuna::API::Response::Company'...   \n",
       "6            NaN  {'__CLASS__': 'Adzuna::API::Response::Company'...   \n",
       "7            NaN  {'__CLASS__': 'Adzuna::API::Response::Company'...   \n",
       "8       contract  {'display_name': 'National Bank', '__CLASS__':...   \n",
       "9            NaN  {'display_name': 'Haptiq', '__CLASS__': 'Adzun...   \n",
       "10           NaN  {'display_name': 'Tata Consultancy Services', ...   \n",
       "11     permanent  {'__CLASS__': 'Adzuna::API::Response::Company'...   \n",
       "12           NaN  {'display_name': 'Summit Search Group', '__CLA...   \n",
       "13      contract  {'__CLASS__': 'Adzuna::API::Response::Company'...   \n",
       "14           NaN  {'__CLASS__': 'Adzuna::API::Response::Company'...   \n",
       "15           NaN  {'display_name': 'Farm Boy Inc.', '__CLASS__':...   \n",
       "16           NaN  {'__CLASS__': 'Adzuna::API::Response::Company'...   \n",
       "17           NaN  {'display_name': 'Insight Global', '__CLASS__'...   \n",
       "18           NaN  {'__CLASS__': 'Adzuna::API::Response::Company'...   \n",
       "19           NaN  {'__CLASS__': 'Adzuna::API::Response::Company'...   \n",
       "20           NaN  {'display_name': 'NEARSOURCE TECHNOLOGIES', '_...   \n",
       "21           NaN  {'__CLASS__': 'Adzuna::API::Response::Company'...   \n",
       "22           NaN  {'__CLASS__': 'Adzuna::API::Response::Company'...   \n",
       "23           NaN  {'display_name': 'Jazz Aviation LP', '__CLASS_...   \n",
       "24           NaN  {'display_name': 'Central Business Solutions',...   \n",
       "25           NaN  {'display_name': 'FGL Sports', '__CLASS__': 'A...   \n",
       "26           NaN  {'display_name': 'Insight Global', '__CLASS__'...   \n",
       "27           NaN  {'__CLASS__': 'Adzuna::API::Response::Company'...   \n",
       "28           NaN  {'display_name': 'Rocket Innovation Studio', '...   \n",
       "29           NaN  {'display_name': 'Annex It Solutions', '__CLAS...   \n",
       "30           NaN  {'display_name': 'Stripe', '__CLASS__': 'Adzun...   \n",
       "31           NaN  {'__CLASS__': 'Adzuna::API::Response::Company'...   \n",
       "32           NaN  {'display_name': 'Dillon Consulting Limited', ...   \n",
       "33           NaN  {'display_name': 'Dillon Consulting Limited', ...   \n",
       "34           NaN  {'__CLASS__': 'Adzuna::API::Response::Company'...   \n",
       "35           NaN  {'display_name': 'Sensor Tower', '__CLASS__': ...   \n",
       "36           NaN  {'display_name': 'Insight Global', '__CLASS__'...   \n",
       "37           NaN  {'__CLASS__': 'Adzuna::API::Response::Company'...   \n",
       "38           NaN  {'__CLASS__': 'Adzuna::API::Response::Company'...   \n",
       "39           NaN  {'display_name': 'Kuehne+Nagel', '__CLASS__': ...   \n",
       "40           NaN  {'display_name': 'Farm Boy Inc.', '__CLASS__':...   \n",
       "41           NaN  {'__CLASS__': 'Adzuna::API::Response::Company'...   \n",
       "42           NaN  {'display_name': 'TEC Canada', '__CLASS__': 'A...   \n",
       "43           NaN  {'display_name': 'Workstream', '__CLASS__': 'A...   \n",
       "44           NaN  {'display_name': 'Zynga', '__CLASS__': 'Adzuna...   \n",
       "45           NaN  {'display_name': 'Spectrum Health Care', '__CL...   \n",
       "46           NaN  {'display_name': 'Tailscale', '__CLASS__': 'Ad...   \n",
       "47           NaN  {'__CLASS__': 'Adzuna::API::Response::Company'...   \n",
       "48           NaN  {'__CLASS__': 'Adzuna::API::Response::Company'...   \n",
       "49           NaN  {'__CLASS__': 'Adzuna::API::Response::Company'...   \n",
       "\n",
       "            id                   __CLASS__  \\\n",
       "0   5251582266  Adzuna::API::Response::Job   \n",
       "1   5208170690  Adzuna::API::Response::Job   \n",
       "2   5154927437  Adzuna::API::Response::Job   \n",
       "3   5225698870  Adzuna::API::Response::Job   \n",
       "4   5224323129  Adzuna::API::Response::Job   \n",
       "5   5232027538  Adzuna::API::Response::Job   \n",
       "6   5250014785  Adzuna::API::Response::Job   \n",
       "7   5258031460  Adzuna::API::Response::Job   \n",
       "8   5246485868  Adzuna::API::Response::Job   \n",
       "9   5221007916  Adzuna::API::Response::Job   \n",
       "10  5222839721  Adzuna::API::Response::Job   \n",
       "11  5250012386  Adzuna::API::Response::Job   \n",
       "12  5245858329  Adzuna::API::Response::Job   \n",
       "13  5225698923  Adzuna::API::Response::Job   \n",
       "14  5208169157  Adzuna::API::Response::Job   \n",
       "15  5244326166  Adzuna::API::Response::Job   \n",
       "16  5236123202  Adzuna::API::Response::Job   \n",
       "17  5192349567  Adzuna::API::Response::Job   \n",
       "18  5193757513  Adzuna::API::Response::Job   \n",
       "19  5205019953  Adzuna::API::Response::Job   \n",
       "20  5244348298  Adzuna::API::Response::Job   \n",
       "21  5222582240  Adzuna::API::Response::Job   \n",
       "22  5234408317  Adzuna::API::Response::Job   \n",
       "23  5084205226  Adzuna::API::Response::Job   \n",
       "24  4801371680  Adzuna::API::Response::Job   \n",
       "25  5118875900  Adzuna::API::Response::Job   \n",
       "26  5248833184  Adzuna::API::Response::Job   \n",
       "27  5081281067  Adzuna::API::Response::Job   \n",
       "28  5254599380  Adzuna::API::Response::Job   \n",
       "29  5233753608  Adzuna::API::Response::Job   \n",
       "30  4976631273  Adzuna::API::Response::Job   \n",
       "31  5251774666  Adzuna::API::Response::Job   \n",
       "32  5251774679  Adzuna::API::Response::Job   \n",
       "33  5003797087  Adzuna::API::Response::Job   \n",
       "34  5255982037  Adzuna::API::Response::Job   \n",
       "35  5215831014  Adzuna::API::Response::Job   \n",
       "36  5185880064  Adzuna::API::Response::Job   \n",
       "37  5256217233  Adzuna::API::Response::Job   \n",
       "38  5224842018  Adzuna::API::Response::Job   \n",
       "39  5254974766  Adzuna::API::Response::Job   \n",
       "40  5251584573  Adzuna::API::Response::Job   \n",
       "41  5214616918  Adzuna::API::Response::Job   \n",
       "42  5223617367  Adzuna::API::Response::Job   \n",
       "43  5242741144  Adzuna::API::Response::Job   \n",
       "44  5198186672  Adzuna::API::Response::Job   \n",
       "45  5204483134  Adzuna::API::Response::Job   \n",
       "46  5107891765  Adzuna::API::Response::Job   \n",
       "47  5225020285  Adzuna::API::Response::Job   \n",
       "48  5217031788  Adzuna::API::Response::Job   \n",
       "49  5233753593  Adzuna::API::Response::Job   \n",
       "\n",
       "                                         redirect_url   latitude   longitude  \\\n",
       "0   https://www.adzuna.ca/land/ad/5251582266?se=aA...        NaN         NaN   \n",
       "1   https://www.adzuna.ca/land/ad/5208170690?se=aA...  43.706102  -79.402726   \n",
       "2   https://www.adzuna.ca/land/ad/5154927437?se=aA...        NaN         NaN   \n",
       "3   https://www.adzuna.ca/land/ad/5225698870?se=aA...        NaN         NaN   \n",
       "4   https://www.adzuna.ca/land/ad/5224323129?se=aA...        NaN         NaN   \n",
       "5   https://www.adzuna.ca/land/ad/5232027538?se=aA...  43.706102  -79.402726   \n",
       "6   https://www.adzuna.ca/land/ad/5250014785?se=aA...  43.706102  -79.402726   \n",
       "7   https://www.adzuna.ca/land/ad/5258031460?se=aA...        NaN         NaN   \n",
       "8   https://www.adzuna.ca/land/ad/5246485868?se=aA...        NaN         NaN   \n",
       "9   https://www.adzuna.ca/land/ad/5221007916?se=aA...  43.706102  -79.402726   \n",
       "10  https://www.adzuna.ca/land/ad/5222839721?se=aA...        NaN         NaN   \n",
       "11  https://www.adzuna.ca/land/ad/5250012386?se=aA...  49.256582 -122.898456   \n",
       "12  https://www.adzuna.ca/land/ad/5245858329?se=aA...  49.256582 -122.898456   \n",
       "13  https://www.adzuna.ca/land/ad/5225698923?se=aA...  43.706102  -79.402726   \n",
       "14  https://www.adzuna.ca/land/ad/5208169157?se=aA...  43.883951  -79.431638   \n",
       "15  https://www.adzuna.ca/details/5244326166?utm_m...        NaN         NaN   \n",
       "16  https://www.adzuna.ca/details/5236123202?utm_m...  49.256582 -122.898456   \n",
       "17  https://www.adzuna.ca/details/5192349567?utm_m...  49.256582 -122.898456   \n",
       "18  https://www.adzuna.ca/details/5193757513?utm_m...  49.086900 -122.979370   \n",
       "19  https://www.adzuna.ca/details/5205019953?utm_m...        NaN         NaN   \n",
       "20  https://www.adzuna.ca/details/5244348298?utm_m...  49.256582 -122.898456   \n",
       "21  https://www.adzuna.ca/details/5222582240?utm_m...  49.976565  -97.089537   \n",
       "22  https://www.adzuna.ca/details/5234408317?utm_m...  53.536055 -113.502542   \n",
       "23  https://www.adzuna.ca/details/5084205226?utm_m...  44.681555  -63.556363   \n",
       "24  https://www.adzuna.ca/details/4801371680?utm_m...  45.497970  -73.555210   \n",
       "25  https://www.adzuna.ca/details/5118875900?utm_m...        NaN         NaN   \n",
       "26  https://www.adzuna.ca/details/5248833184?utm_m...  43.706102  -79.402726   \n",
       "27  https://www.adzuna.ca/details/5081281067?utm_m...  43.654040  -79.387680   \n",
       "28  https://www.adzuna.ca/details/5254599380?utm_m...  42.294277  -82.996859   \n",
       "29  https://www.adzuna.ca/details/5233753608?utm_m...  43.706102  -79.402726   \n",
       "30  https://www.adzuna.ca/details/4976631273?utm_m...        NaN         NaN   \n",
       "31  https://www.adzuna.ca/details/5251774666?utm_m...  42.981065  -81.248057   \n",
       "32  https://www.adzuna.ca/details/5251774679?utm_m...  43.237889  -79.849914   \n",
       "33  https://www.adzuna.ca/details/5003797087?utm_m...  43.646370  -79.396810   \n",
       "34  https://www.adzuna.ca/details/5255982037?utm_m...  49.252255 -123.108651   \n",
       "35  https://www.adzuna.ca/details/5215831014?utm_m...  49.252255 -123.108651   \n",
       "36  https://www.adzuna.ca/details/5185880064?utm_m...  43.706102  -79.402726   \n",
       "37  https://www.adzuna.ca/details/5256217233?utm_m...  43.588336  -79.656736   \n",
       "38  https://www.adzuna.ca/details/5224842018?utm_m...  49.156021 -123.136733   \n",
       "39  https://www.adzuna.ca/details/5254974766?utm_m...        NaN         NaN   \n",
       "40  https://www.adzuna.ca/details/5251584573?utm_m...  45.394161  -75.697758   \n",
       "41  https://www.adzuna.ca/details/5214616918?utm_m...  43.588336  -79.656736   \n",
       "42  https://www.adzuna.ca/details/5223617367?utm_m...  51.040175 -114.078513   \n",
       "43  https://www.adzuna.ca/details/5242741144?utm_m...  49.256582 -122.898456   \n",
       "44  https://www.adzuna.ca/details/5198186672?utm_m...        NaN         NaN   \n",
       "45  https://www.adzuna.ca/details/5204483134?utm_m...  43.706102  -79.402726   \n",
       "46  https://www.adzuna.ca/details/5107891765?utm_m...        NaN         NaN   \n",
       "47  https://www.adzuna.ca/details/5225020285?utm_m...        NaN         NaN   \n",
       "48  https://www.adzuna.ca/details/5217031788?utm_m...  43.706102  -79.402726   \n",
       "49  https://www.adzuna.ca/details/5233753593?utm_m...        NaN         NaN   \n",
       "\n",
       "   contract_time  salary_max  salary_min  \n",
       "0            NaN         NaN         NaN  \n",
       "1      full_time         NaN         NaN  \n",
       "2            NaN         NaN         NaN  \n",
       "3            NaN         NaN         NaN  \n",
       "4            NaN         NaN         NaN  \n",
       "5            NaN         NaN         NaN  \n",
       "6            NaN         NaN         NaN  \n",
       "7            NaN         NaN         NaN  \n",
       "8            NaN         NaN         NaN  \n",
       "9            NaN         NaN         NaN  \n",
       "10           NaN         NaN         NaN  \n",
       "11     full_time         NaN         NaN  \n",
       "12           NaN         NaN         NaN  \n",
       "13           NaN         NaN         NaN  \n",
       "14           NaN         NaN         NaN  \n",
       "15           NaN         NaN         NaN  \n",
       "16           NaN         NaN         NaN  \n",
       "17           NaN         NaN         NaN  \n",
       "18     full_time     90000.0     70000.0  \n",
       "19           NaN         NaN         NaN  \n",
       "20           NaN         NaN         NaN  \n",
       "21           NaN         NaN         NaN  \n",
       "22           NaN         NaN         NaN  \n",
       "23     full_time         NaN         NaN  \n",
       "24           NaN         NaN         NaN  \n",
       "25     full_time         NaN         NaN  \n",
       "26           NaN         NaN         NaN  \n",
       "27     full_time         NaN         NaN  \n",
       "28           NaN         NaN         NaN  \n",
       "29           NaN         NaN         NaN  \n",
       "30           NaN         NaN         NaN  \n",
       "31           NaN         NaN         NaN  \n",
       "32           NaN         NaN         NaN  \n",
       "33     full_time         NaN         NaN  \n",
       "34     full_time         NaN         NaN  \n",
       "35           NaN         NaN         NaN  \n",
       "36           NaN         NaN         NaN  \n",
       "37           NaN         NaN         NaN  \n",
       "38           NaN         NaN         NaN  \n",
       "39           NaN         NaN         NaN  \n",
       "40           NaN         NaN         NaN  \n",
       "41           NaN         NaN         NaN  \n",
       "42           NaN         NaN         NaN  \n",
       "43           NaN         NaN         NaN  \n",
       "44           NaN         NaN         NaN  \n",
       "45           NaN         NaN         NaN  \n",
       "46     full_time    195640.0    156512.0  \n",
       "47           NaN     98459.0     84500.0  \n",
       "48           NaN         NaN         NaN  \n",
       "49           NaN         NaN         NaN  "
      ]
     },
     "execution_count": 5,
     "metadata": {},
     "output_type": "execute_result"
    }
   ],
   "source": [
    "employment_data"
   ]
  },
  {
   "cell_type": "markdown",
   "metadata": {},
   "source": [
    "Let us first merge(concatenate) these two datasets into one as both look into employment in areas in which I am interested in. Any Data cleaning and querying and analysis can be done in a single table since they both share the same attributes."
   ]
  },
  {
   "cell_type": "code",
   "execution_count": 6,
   "metadata": {},
   "outputs": [
    {
     "data": {
      "text/html": [
       "<div>\n",
       "<style scoped>\n",
       "    .dataframe tbody tr th:only-of-type {\n",
       "        vertical-align: middle;\n",
       "    }\n",
       "\n",
       "    .dataframe tbody tr th {\n",
       "        vertical-align: top;\n",
       "    }\n",
       "\n",
       "    .dataframe thead th {\n",
       "        text-align: right;\n",
       "    }\n",
       "</style>\n",
       "<table border=\"1\" class=\"dataframe\">\n",
       "  <thead>\n",
       "    <tr style=\"text-align: right;\">\n",
       "      <th></th>\n",
       "      <th>salary_is_predicted</th>\n",
       "      <th>location</th>\n",
       "      <th>description</th>\n",
       "      <th>title</th>\n",
       "      <th>adref</th>\n",
       "      <th>category</th>\n",
       "      <th>created</th>\n",
       "      <th>contract_type</th>\n",
       "      <th>company</th>\n",
       "      <th>id</th>\n",
       "      <th>__CLASS__</th>\n",
       "      <th>redirect_url</th>\n",
       "      <th>latitude</th>\n",
       "      <th>longitude</th>\n",
       "      <th>contract_time</th>\n",
       "      <th>salary_max</th>\n",
       "      <th>salary_min</th>\n",
       "    </tr>\n",
       "  </thead>\n",
       "  <tbody>\n",
       "    <tr>\n",
       "      <th>0</th>\n",
       "      <td>0</td>\n",
       "      <td>{'area': ['Canada', 'Ontario', 'Toronto'], 'di...</td>\n",
       "      <td>Akkodis is currently seeking a skilled Power B...</td>\n",
       "      <td>Data Analyst</td>\n",
       "      <td>eyJhbGciOiJIUzI1NiJ9.eyJzIjoiYUFXVmhFTk44Qkd3a...</td>\n",
       "      <td>{'tag': 'it-jobs', 'label': 'IT Jobs', '__CLAS...</td>\n",
       "      <td>2025-06-15T03:29:02Z</td>\n",
       "      <td>contract</td>\n",
       "      <td>{'__CLASS__': 'Adzuna::API::Response::Company'...</td>\n",
       "      <td>5251582266</td>\n",
       "      <td>Adzuna::API::Response::Job</td>\n",
       "      <td>https://www.adzuna.ca/land/ad/5251582266?se=aA...</td>\n",
       "      <td>NaN</td>\n",
       "      <td>NaN</td>\n",
       "      <td>NaN</td>\n",
       "      <td>NaN</td>\n",
       "      <td>NaN</td>\n",
       "    </tr>\n",
       "    <tr>\n",
       "      <th>1</th>\n",
       "      <td>0</td>\n",
       "      <td>{'area': ['Canada', 'Ontario', 'Toronto'], 'di...</td>\n",
       "      <td>About us Aquanow is a trading and technology c...</td>\n",
       "      <td>Data Analyst</td>\n",
       "      <td>eyJhbGciOiJIUzI1NiJ9.eyJpIjoiNTIwODE3MDY5MCIsI...</td>\n",
       "      <td>{'label': 'IT Jobs', 'tag': 'it-jobs', '__CLAS...</td>\n",
       "      <td>2025-05-20T17:15:34Z</td>\n",
       "      <td>permanent</td>\n",
       "      <td>{'__CLASS__': 'Adzuna::API::Response::Company'...</td>\n",
       "      <td>5208170690</td>\n",
       "      <td>Adzuna::API::Response::Job</td>\n",
       "      <td>https://www.adzuna.ca/land/ad/5208170690?se=aA...</td>\n",
       "      <td>43.706102</td>\n",
       "      <td>-79.402726</td>\n",
       "      <td>full_time</td>\n",
       "      <td>NaN</td>\n",
       "      <td>NaN</td>\n",
       "    </tr>\n",
       "    <tr>\n",
       "      <th>2</th>\n",
       "      <td>0</td>\n",
       "      <td>{'__CLASS__': 'Adzuna::API::Response::Location...</td>\n",
       "      <td>Inclusion without Exception Tata Consultancy S...</td>\n",
       "      <td>Data Analyst</td>\n",
       "      <td>eyJhbGciOiJIUzI1NiJ9.eyJpIjoiNTE1NDkyNzQzNyIsI...</td>\n",
       "      <td>{'__CLASS__': 'Adzuna::API::Response::Category...</td>\n",
       "      <td>2025-04-20T22:56:29Z</td>\n",
       "      <td>NaN</td>\n",
       "      <td>{'display_name': 'Tata Consultancy Services', ...</td>\n",
       "      <td>5154927437</td>\n",
       "      <td>Adzuna::API::Response::Job</td>\n",
       "      <td>https://www.adzuna.ca/land/ad/5154927437?se=aA...</td>\n",
       "      <td>NaN</td>\n",
       "      <td>NaN</td>\n",
       "      <td>NaN</td>\n",
       "      <td>NaN</td>\n",
       "      <td>NaN</td>\n",
       "    </tr>\n",
       "    <tr>\n",
       "      <th>3</th>\n",
       "      <td>0</td>\n",
       "      <td>{'__CLASS__': 'Adzuna::API::Response::Location...</td>\n",
       "      <td>Position: Technical Data Analyst Location: Mon...</td>\n",
       "      <td>Technical Data Analyst</td>\n",
       "      <td>eyJhbGciOiJIUzI1NiJ9.eyJpIjoiNTIyNTY5ODg3MCIsI...</td>\n",
       "      <td>{'__CLASS__': 'Adzuna::API::Response::Category...</td>\n",
       "      <td>2025-05-31T22:30:19Z</td>\n",
       "      <td>contract</td>\n",
       "      <td>{'__CLASS__': 'Adzuna::API::Response::Company'...</td>\n",
       "      <td>5225698870</td>\n",
       "      <td>Adzuna::API::Response::Job</td>\n",
       "      <td>https://www.adzuna.ca/land/ad/5225698870?se=aA...</td>\n",
       "      <td>NaN</td>\n",
       "      <td>NaN</td>\n",
       "      <td>NaN</td>\n",
       "      <td>NaN</td>\n",
       "      <td>NaN</td>\n",
       "    </tr>\n",
       "    <tr>\n",
       "      <th>4</th>\n",
       "      <td>0</td>\n",
       "      <td>{'__CLASS__': 'Adzuna::API::Response::Location...</td>\n",
       "      <td>We are seeking an analytical and detail-orient...</td>\n",
       "      <td>Data Analyst</td>\n",
       "      <td>eyJhbGciOiJIUzI1NiJ9.eyJzIjoiYUFXVmhFTk44Qkd3a...</td>\n",
       "      <td>{'tag': 'accounting-finance-jobs', 'label': 'A...</td>\n",
       "      <td>2025-05-30T23:28:35Z</td>\n",
       "      <td>NaN</td>\n",
       "      <td>{'__CLASS__': 'Adzuna::API::Response::Company'...</td>\n",
       "      <td>5224323129</td>\n",
       "      <td>Adzuna::API::Response::Job</td>\n",
       "      <td>https://www.adzuna.ca/land/ad/5224323129?se=aA...</td>\n",
       "      <td>NaN</td>\n",
       "      <td>NaN</td>\n",
       "      <td>NaN</td>\n",
       "      <td>NaN</td>\n",
       "      <td>NaN</td>\n",
       "    </tr>\n",
       "    <tr>\n",
       "      <th>...</th>\n",
       "      <td>...</td>\n",
       "      <td>...</td>\n",
       "      <td>...</td>\n",
       "      <td>...</td>\n",
       "      <td>...</td>\n",
       "      <td>...</td>\n",
       "      <td>...</td>\n",
       "      <td>...</td>\n",
       "      <td>...</td>\n",
       "      <td>...</td>\n",
       "      <td>...</td>\n",
       "      <td>...</td>\n",
       "      <td>...</td>\n",
       "      <td>...</td>\n",
       "      <td>...</td>\n",
       "      <td>...</td>\n",
       "      <td>...</td>\n",
       "    </tr>\n",
       "    <tr>\n",
       "      <th>45</th>\n",
       "      <td>0</td>\n",
       "      <td>{'area': ['Canada', 'Nova Scotia', 'Halifax re...</td>\n",
       "      <td>Overview Fundmetric is looking for a Software ...</td>\n",
       "      <td>Software Developer</td>\n",
       "      <td>eyJhbGciOiJIUzI1NiJ9.eyJpIjoiNTIwNTAyMDI2MCIsI...</td>\n",
       "      <td>{'__CLASS__': 'Adzuna::API::Response::Category...</td>\n",
       "      <td>2025-05-18T10:13:46Z</td>\n",
       "      <td>NaN</td>\n",
       "      <td>{'display_name': 'Fundmetric', '__CLASS__': 'A...</td>\n",
       "      <td>5205020260</td>\n",
       "      <td>Adzuna::API::Response::Job</td>\n",
       "      <td>https://www.adzuna.ca/details/5205020260?utm_m...</td>\n",
       "      <td>44.681555</td>\n",
       "      <td>-63.556363</td>\n",
       "      <td>full_time</td>\n",
       "      <td>NaN</td>\n",
       "      <td>NaN</td>\n",
       "    </tr>\n",
       "    <tr>\n",
       "      <th>46</th>\n",
       "      <td>0</td>\n",
       "      <td>{'__CLASS__': 'Adzuna::API::Response::Location...</td>\n",
       "      <td>Job Introduction Frequentis Group with headqua...</td>\n",
       "      <td>Software Developer</td>\n",
       "      <td>eyJhbGciOiJIUzI1NiJ9.eyJpIjoiNTIzODczNDc0NiIsI...</td>\n",
       "      <td>{'label': 'IT Jobs', 'tag': 'it-jobs', '__CLAS...</td>\n",
       "      <td>2025-06-07T08:50:55Z</td>\n",
       "      <td>permanent</td>\n",
       "      <td>{'__CLASS__': 'Adzuna::API::Response::Company'...</td>\n",
       "      <td>5238734746</td>\n",
       "      <td>Adzuna::API::Response::Job</td>\n",
       "      <td>https://www.adzuna.ca/details/5238734746?utm_m...</td>\n",
       "      <td>45.466091</td>\n",
       "      <td>-75.704464</td>\n",
       "      <td>full_time</td>\n",
       "      <td>NaN</td>\n",
       "      <td>NaN</td>\n",
       "    </tr>\n",
       "    <tr>\n",
       "      <th>47</th>\n",
       "      <td>0</td>\n",
       "      <td>{'area': ['Canada', 'Ontario', 'Middlesex', 'L...</td>\n",
       "      <td>Who are we? Proax Technologies is a leading Te...</td>\n",
       "      <td>Software Developer</td>\n",
       "      <td>eyJhbGciOiJIUzI1NiJ9.eyJpIjoiNDg3MDQ5NDYxOSIsI...</td>\n",
       "      <td>{'__CLASS__': 'Adzuna::API::Response::Category...</td>\n",
       "      <td>2024-09-20T07:53:38Z</td>\n",
       "      <td>NaN</td>\n",
       "      <td>{'display_name': 'Proax Technologies', '__CLAS...</td>\n",
       "      <td>4870494619</td>\n",
       "      <td>Adzuna::API::Response::Job</td>\n",
       "      <td>https://www.adzuna.ca/details/4870494619?utm_m...</td>\n",
       "      <td>42.933380</td>\n",
       "      <td>-81.205550</td>\n",
       "      <td>full_time</td>\n",
       "      <td>NaN</td>\n",
       "      <td>NaN</td>\n",
       "    </tr>\n",
       "    <tr>\n",
       "      <th>48</th>\n",
       "      <td>0</td>\n",
       "      <td>{'area': ['Canada'], 'display_name': 'Canada',...</td>\n",
       "      <td>Description We are seeking a Software Develope...</td>\n",
       "      <td>Software Developer</td>\n",
       "      <td>eyJhbGciOiJIUzI1NiJ9.eyJpIjoiNTIxNDQ4Njc5MiIsI...</td>\n",
       "      <td>{'tag': 'it-jobs', 'label': 'IT Jobs', '__CLAS...</td>\n",
       "      <td>2025-05-24T10:22:58Z</td>\n",
       "      <td>NaN</td>\n",
       "      <td>{'display_name': 'Nokia Global', '__CLASS__': ...</td>\n",
       "      <td>5214486792</td>\n",
       "      <td>Adzuna::API::Response::Job</td>\n",
       "      <td>https://www.adzuna.ca/details/5214486792?utm_m...</td>\n",
       "      <td>NaN</td>\n",
       "      <td>NaN</td>\n",
       "      <td>full_time</td>\n",
       "      <td>NaN</td>\n",
       "      <td>NaN</td>\n",
       "    </tr>\n",
       "    <tr>\n",
       "      <th>49</th>\n",
       "      <td>0</td>\n",
       "      <td>{'display_name': 'London, Middlesex', 'area': ...</td>\n",
       "      <td>Job Description Job Description Salary: Who ar...</td>\n",
       "      <td>Software Developer</td>\n",
       "      <td>eyJhbGciOiJIUzI1NiJ9.eyJzIjoiQmxEQmcwTk44Qkd3a...</td>\n",
       "      <td>{'__CLASS__': 'Adzuna::API::Response::Category...</td>\n",
       "      <td>2025-04-24T15:20:44Z</td>\n",
       "      <td>NaN</td>\n",
       "      <td>{'display_name': 'Proax Technologies', '__CLAS...</td>\n",
       "      <td>5160874975</td>\n",
       "      <td>Adzuna::API::Response::Job</td>\n",
       "      <td>https://www.adzuna.ca/details/5160874975?utm_m...</td>\n",
       "      <td>42.981065</td>\n",
       "      <td>-81.248057</td>\n",
       "      <td>NaN</td>\n",
       "      <td>NaN</td>\n",
       "      <td>NaN</td>\n",
       "    </tr>\n",
       "  </tbody>\n",
       "</table>\n",
       "<p>100 rows × 17 columns</p>\n",
       "</div>"
      ],
      "text/plain": [
       "   salary_is_predicted                                           location  \\\n",
       "0                    0  {'area': ['Canada', 'Ontario', 'Toronto'], 'di...   \n",
       "1                    0  {'area': ['Canada', 'Ontario', 'Toronto'], 'di...   \n",
       "2                    0  {'__CLASS__': 'Adzuna::API::Response::Location...   \n",
       "3                    0  {'__CLASS__': 'Adzuna::API::Response::Location...   \n",
       "4                    0  {'__CLASS__': 'Adzuna::API::Response::Location...   \n",
       "..                 ...                                                ...   \n",
       "45                   0  {'area': ['Canada', 'Nova Scotia', 'Halifax re...   \n",
       "46                   0  {'__CLASS__': 'Adzuna::API::Response::Location...   \n",
       "47                   0  {'area': ['Canada', 'Ontario', 'Middlesex', 'L...   \n",
       "48                   0  {'area': ['Canada'], 'display_name': 'Canada',...   \n",
       "49                   0  {'display_name': 'London, Middlesex', 'area': ...   \n",
       "\n",
       "                                          description                   title  \\\n",
       "0   Akkodis is currently seeking a skilled Power B...            Data Analyst   \n",
       "1   About us Aquanow is a trading and technology c...            Data Analyst   \n",
       "2   Inclusion without Exception Tata Consultancy S...            Data Analyst   \n",
       "3   Position: Technical Data Analyst Location: Mon...  Technical Data Analyst   \n",
       "4   We are seeking an analytical and detail-orient...            Data Analyst   \n",
       "..                                                ...                     ...   \n",
       "45  Overview Fundmetric is looking for a Software ...      Software Developer   \n",
       "46  Job Introduction Frequentis Group with headqua...      Software Developer   \n",
       "47  Who are we? Proax Technologies is a leading Te...      Software Developer   \n",
       "48  Description We are seeking a Software Develope...      Software Developer   \n",
       "49  Job Description Job Description Salary: Who ar...      Software Developer   \n",
       "\n",
       "                                                adref  \\\n",
       "0   eyJhbGciOiJIUzI1NiJ9.eyJzIjoiYUFXVmhFTk44Qkd3a...   \n",
       "1   eyJhbGciOiJIUzI1NiJ9.eyJpIjoiNTIwODE3MDY5MCIsI...   \n",
       "2   eyJhbGciOiJIUzI1NiJ9.eyJpIjoiNTE1NDkyNzQzNyIsI...   \n",
       "3   eyJhbGciOiJIUzI1NiJ9.eyJpIjoiNTIyNTY5ODg3MCIsI...   \n",
       "4   eyJhbGciOiJIUzI1NiJ9.eyJzIjoiYUFXVmhFTk44Qkd3a...   \n",
       "..                                                ...   \n",
       "45  eyJhbGciOiJIUzI1NiJ9.eyJpIjoiNTIwNTAyMDI2MCIsI...   \n",
       "46  eyJhbGciOiJIUzI1NiJ9.eyJpIjoiNTIzODczNDc0NiIsI...   \n",
       "47  eyJhbGciOiJIUzI1NiJ9.eyJpIjoiNDg3MDQ5NDYxOSIsI...   \n",
       "48  eyJhbGciOiJIUzI1NiJ9.eyJpIjoiNTIxNDQ4Njc5MiIsI...   \n",
       "49  eyJhbGciOiJIUzI1NiJ9.eyJzIjoiQmxEQmcwTk44Qkd3a...   \n",
       "\n",
       "                                             category               created  \\\n",
       "0   {'tag': 'it-jobs', 'label': 'IT Jobs', '__CLAS...  2025-06-15T03:29:02Z   \n",
       "1   {'label': 'IT Jobs', 'tag': 'it-jobs', '__CLAS...  2025-05-20T17:15:34Z   \n",
       "2   {'__CLASS__': 'Adzuna::API::Response::Category...  2025-04-20T22:56:29Z   \n",
       "3   {'__CLASS__': 'Adzuna::API::Response::Category...  2025-05-31T22:30:19Z   \n",
       "4   {'tag': 'accounting-finance-jobs', 'label': 'A...  2025-05-30T23:28:35Z   \n",
       "..                                                ...                   ...   \n",
       "45  {'__CLASS__': 'Adzuna::API::Response::Category...  2025-05-18T10:13:46Z   \n",
       "46  {'label': 'IT Jobs', 'tag': 'it-jobs', '__CLAS...  2025-06-07T08:50:55Z   \n",
       "47  {'__CLASS__': 'Adzuna::API::Response::Category...  2024-09-20T07:53:38Z   \n",
       "48  {'tag': 'it-jobs', 'label': 'IT Jobs', '__CLAS...  2025-05-24T10:22:58Z   \n",
       "49  {'__CLASS__': 'Adzuna::API::Response::Category...  2025-04-24T15:20:44Z   \n",
       "\n",
       "   contract_type                                            company  \\\n",
       "0       contract  {'__CLASS__': 'Adzuna::API::Response::Company'...   \n",
       "1      permanent  {'__CLASS__': 'Adzuna::API::Response::Company'...   \n",
       "2            NaN  {'display_name': 'Tata Consultancy Services', ...   \n",
       "3       contract  {'__CLASS__': 'Adzuna::API::Response::Company'...   \n",
       "4            NaN  {'__CLASS__': 'Adzuna::API::Response::Company'...   \n",
       "..           ...                                                ...   \n",
       "45           NaN  {'display_name': 'Fundmetric', '__CLASS__': 'A...   \n",
       "46     permanent  {'__CLASS__': 'Adzuna::API::Response::Company'...   \n",
       "47           NaN  {'display_name': 'Proax Technologies', '__CLAS...   \n",
       "48           NaN  {'display_name': 'Nokia Global', '__CLASS__': ...   \n",
       "49           NaN  {'display_name': 'Proax Technologies', '__CLAS...   \n",
       "\n",
       "            id                   __CLASS__  \\\n",
       "0   5251582266  Adzuna::API::Response::Job   \n",
       "1   5208170690  Adzuna::API::Response::Job   \n",
       "2   5154927437  Adzuna::API::Response::Job   \n",
       "3   5225698870  Adzuna::API::Response::Job   \n",
       "4   5224323129  Adzuna::API::Response::Job   \n",
       "..         ...                         ...   \n",
       "45  5205020260  Adzuna::API::Response::Job   \n",
       "46  5238734746  Adzuna::API::Response::Job   \n",
       "47  4870494619  Adzuna::API::Response::Job   \n",
       "48  5214486792  Adzuna::API::Response::Job   \n",
       "49  5160874975  Adzuna::API::Response::Job   \n",
       "\n",
       "                                         redirect_url   latitude  longitude  \\\n",
       "0   https://www.adzuna.ca/land/ad/5251582266?se=aA...        NaN        NaN   \n",
       "1   https://www.adzuna.ca/land/ad/5208170690?se=aA...  43.706102 -79.402726   \n",
       "2   https://www.adzuna.ca/land/ad/5154927437?se=aA...        NaN        NaN   \n",
       "3   https://www.adzuna.ca/land/ad/5225698870?se=aA...        NaN        NaN   \n",
       "4   https://www.adzuna.ca/land/ad/5224323129?se=aA...        NaN        NaN   \n",
       "..                                                ...        ...        ...   \n",
       "45  https://www.adzuna.ca/details/5205020260?utm_m...  44.681555 -63.556363   \n",
       "46  https://www.adzuna.ca/details/5238734746?utm_m...  45.466091 -75.704464   \n",
       "47  https://www.adzuna.ca/details/4870494619?utm_m...  42.933380 -81.205550   \n",
       "48  https://www.adzuna.ca/details/5214486792?utm_m...        NaN        NaN   \n",
       "49  https://www.adzuna.ca/details/5160874975?utm_m...  42.981065 -81.248057   \n",
       "\n",
       "   contract_time  salary_max  salary_min  \n",
       "0            NaN         NaN         NaN  \n",
       "1      full_time         NaN         NaN  \n",
       "2            NaN         NaN         NaN  \n",
       "3            NaN         NaN         NaN  \n",
       "4            NaN         NaN         NaN  \n",
       "..           ...         ...         ...  \n",
       "45     full_time         NaN         NaN  \n",
       "46     full_time         NaN         NaN  \n",
       "47     full_time         NaN         NaN  \n",
       "48     full_time         NaN         NaN  \n",
       "49           NaN         NaN         NaN  \n",
       "\n",
       "[100 rows x 17 columns]"
      ]
     },
     "execution_count": 6,
     "metadata": {},
     "output_type": "execute_result"
    }
   ],
   "source": [
    "to_concat = [employment_data, employment_software]\n",
    "employment_all = pd.concat(to_concat)\n",
    "employment_all"
   ]
  },
  {
   "cell_type": "markdown",
   "metadata": {},
   "source": [
    "Given the dataset above, there is so much to clean up. Many columns such as Class, adref or URL will not be used as they do not give the information regarding employment that is needed. Many columns have 0s or NAs(Unless there were only a few NAs per column, then Machine learning would be used to replace NA values). However, longitude and latitude will be used as they will be displayed on ArcGis"
   ]
  },
  {
   "cell_type": "code",
   "execution_count": 7,
   "metadata": {},
   "outputs": [],
   "source": [
    "employment_all = employment_all.drop(['category','adref','__CLASS__','redirect_url',  'id','salary_is_predicted','contract_type','salary_max','salary_min','contract_time'], axis=1)"
   ]
  },
  {
   "cell_type": "code",
   "execution_count": 8,
   "metadata": {},
   "outputs": [
    {
     "data": {
      "text/html": [
       "<div>\n",
       "<style scoped>\n",
       "    .dataframe tbody tr th:only-of-type {\n",
       "        vertical-align: middle;\n",
       "    }\n",
       "\n",
       "    .dataframe tbody tr th {\n",
       "        vertical-align: top;\n",
       "    }\n",
       "\n",
       "    .dataframe thead th {\n",
       "        text-align: right;\n",
       "    }\n",
       "</style>\n",
       "<table border=\"1\" class=\"dataframe\">\n",
       "  <thead>\n",
       "    <tr style=\"text-align: right;\">\n",
       "      <th></th>\n",
       "      <th>location</th>\n",
       "      <th>description</th>\n",
       "      <th>title</th>\n",
       "      <th>created</th>\n",
       "      <th>company</th>\n",
       "      <th>latitude</th>\n",
       "      <th>longitude</th>\n",
       "    </tr>\n",
       "  </thead>\n",
       "  <tbody>\n",
       "    <tr>\n",
       "      <th>0</th>\n",
       "      <td>{'area': ['Canada', 'Ontario', 'Toronto'], 'di...</td>\n",
       "      <td>Akkodis is currently seeking a skilled Power B...</td>\n",
       "      <td>Data Analyst</td>\n",
       "      <td>2025-06-15T03:29:02Z</td>\n",
       "      <td>{'__CLASS__': 'Adzuna::API::Response::Company'...</td>\n",
       "      <td>NaN</td>\n",
       "      <td>NaN</td>\n",
       "    </tr>\n",
       "    <tr>\n",
       "      <th>1</th>\n",
       "      <td>{'area': ['Canada', 'Ontario', 'Toronto'], 'di...</td>\n",
       "      <td>About us Aquanow is a trading and technology c...</td>\n",
       "      <td>Data Analyst</td>\n",
       "      <td>2025-05-20T17:15:34Z</td>\n",
       "      <td>{'__CLASS__': 'Adzuna::API::Response::Company'...</td>\n",
       "      <td>43.706102</td>\n",
       "      <td>-79.402726</td>\n",
       "    </tr>\n",
       "    <tr>\n",
       "      <th>2</th>\n",
       "      <td>{'__CLASS__': 'Adzuna::API::Response::Location...</td>\n",
       "      <td>Inclusion without Exception Tata Consultancy S...</td>\n",
       "      <td>Data Analyst</td>\n",
       "      <td>2025-04-20T22:56:29Z</td>\n",
       "      <td>{'display_name': 'Tata Consultancy Services', ...</td>\n",
       "      <td>NaN</td>\n",
       "      <td>NaN</td>\n",
       "    </tr>\n",
       "    <tr>\n",
       "      <th>3</th>\n",
       "      <td>{'__CLASS__': 'Adzuna::API::Response::Location...</td>\n",
       "      <td>Position: Technical Data Analyst Location: Mon...</td>\n",
       "      <td>Technical Data Analyst</td>\n",
       "      <td>2025-05-31T22:30:19Z</td>\n",
       "      <td>{'__CLASS__': 'Adzuna::API::Response::Company'...</td>\n",
       "      <td>NaN</td>\n",
       "      <td>NaN</td>\n",
       "    </tr>\n",
       "    <tr>\n",
       "      <th>4</th>\n",
       "      <td>{'__CLASS__': 'Adzuna::API::Response::Location...</td>\n",
       "      <td>We are seeking an analytical and detail-orient...</td>\n",
       "      <td>Data Analyst</td>\n",
       "      <td>2025-05-30T23:28:35Z</td>\n",
       "      <td>{'__CLASS__': 'Adzuna::API::Response::Company'...</td>\n",
       "      <td>NaN</td>\n",
       "      <td>NaN</td>\n",
       "    </tr>\n",
       "    <tr>\n",
       "      <th>...</th>\n",
       "      <td>...</td>\n",
       "      <td>...</td>\n",
       "      <td>...</td>\n",
       "      <td>...</td>\n",
       "      <td>...</td>\n",
       "      <td>...</td>\n",
       "      <td>...</td>\n",
       "    </tr>\n",
       "    <tr>\n",
       "      <th>45</th>\n",
       "      <td>{'area': ['Canada', 'Nova Scotia', 'Halifax re...</td>\n",
       "      <td>Overview Fundmetric is looking for a Software ...</td>\n",
       "      <td>Software Developer</td>\n",
       "      <td>2025-05-18T10:13:46Z</td>\n",
       "      <td>{'display_name': 'Fundmetric', '__CLASS__': 'A...</td>\n",
       "      <td>44.681555</td>\n",
       "      <td>-63.556363</td>\n",
       "    </tr>\n",
       "    <tr>\n",
       "      <th>46</th>\n",
       "      <td>{'__CLASS__': 'Adzuna::API::Response::Location...</td>\n",
       "      <td>Job Introduction Frequentis Group with headqua...</td>\n",
       "      <td>Software Developer</td>\n",
       "      <td>2025-06-07T08:50:55Z</td>\n",
       "      <td>{'__CLASS__': 'Adzuna::API::Response::Company'...</td>\n",
       "      <td>45.466091</td>\n",
       "      <td>-75.704464</td>\n",
       "    </tr>\n",
       "    <tr>\n",
       "      <th>47</th>\n",
       "      <td>{'area': ['Canada', 'Ontario', 'Middlesex', 'L...</td>\n",
       "      <td>Who are we? Proax Technologies is a leading Te...</td>\n",
       "      <td>Software Developer</td>\n",
       "      <td>2024-09-20T07:53:38Z</td>\n",
       "      <td>{'display_name': 'Proax Technologies', '__CLAS...</td>\n",
       "      <td>42.933380</td>\n",
       "      <td>-81.205550</td>\n",
       "    </tr>\n",
       "    <tr>\n",
       "      <th>48</th>\n",
       "      <td>{'area': ['Canada'], 'display_name': 'Canada',...</td>\n",
       "      <td>Description We are seeking a Software Develope...</td>\n",
       "      <td>Software Developer</td>\n",
       "      <td>2025-05-24T10:22:58Z</td>\n",
       "      <td>{'display_name': 'Nokia Global', '__CLASS__': ...</td>\n",
       "      <td>NaN</td>\n",
       "      <td>NaN</td>\n",
       "    </tr>\n",
       "    <tr>\n",
       "      <th>49</th>\n",
       "      <td>{'display_name': 'London, Middlesex', 'area': ...</td>\n",
       "      <td>Job Description Job Description Salary: Who ar...</td>\n",
       "      <td>Software Developer</td>\n",
       "      <td>2025-04-24T15:20:44Z</td>\n",
       "      <td>{'display_name': 'Proax Technologies', '__CLAS...</td>\n",
       "      <td>42.981065</td>\n",
       "      <td>-81.248057</td>\n",
       "    </tr>\n",
       "  </tbody>\n",
       "</table>\n",
       "<p>100 rows × 7 columns</p>\n",
       "</div>"
      ],
      "text/plain": [
       "                                             location  \\\n",
       "0   {'area': ['Canada', 'Ontario', 'Toronto'], 'di...   \n",
       "1   {'area': ['Canada', 'Ontario', 'Toronto'], 'di...   \n",
       "2   {'__CLASS__': 'Adzuna::API::Response::Location...   \n",
       "3   {'__CLASS__': 'Adzuna::API::Response::Location...   \n",
       "4   {'__CLASS__': 'Adzuna::API::Response::Location...   \n",
       "..                                                ...   \n",
       "45  {'area': ['Canada', 'Nova Scotia', 'Halifax re...   \n",
       "46  {'__CLASS__': 'Adzuna::API::Response::Location...   \n",
       "47  {'area': ['Canada', 'Ontario', 'Middlesex', 'L...   \n",
       "48  {'area': ['Canada'], 'display_name': 'Canada',...   \n",
       "49  {'display_name': 'London, Middlesex', 'area': ...   \n",
       "\n",
       "                                          description                   title  \\\n",
       "0   Akkodis is currently seeking a skilled Power B...            Data Analyst   \n",
       "1   About us Aquanow is a trading and technology c...            Data Analyst   \n",
       "2   Inclusion without Exception Tata Consultancy S...            Data Analyst   \n",
       "3   Position: Technical Data Analyst Location: Mon...  Technical Data Analyst   \n",
       "4   We are seeking an analytical and detail-orient...            Data Analyst   \n",
       "..                                                ...                     ...   \n",
       "45  Overview Fundmetric is looking for a Software ...      Software Developer   \n",
       "46  Job Introduction Frequentis Group with headqua...      Software Developer   \n",
       "47  Who are we? Proax Technologies is a leading Te...      Software Developer   \n",
       "48  Description We are seeking a Software Develope...      Software Developer   \n",
       "49  Job Description Job Description Salary: Who ar...      Software Developer   \n",
       "\n",
       "                 created                                            company  \\\n",
       "0   2025-06-15T03:29:02Z  {'__CLASS__': 'Adzuna::API::Response::Company'...   \n",
       "1   2025-05-20T17:15:34Z  {'__CLASS__': 'Adzuna::API::Response::Company'...   \n",
       "2   2025-04-20T22:56:29Z  {'display_name': 'Tata Consultancy Services', ...   \n",
       "3   2025-05-31T22:30:19Z  {'__CLASS__': 'Adzuna::API::Response::Company'...   \n",
       "4   2025-05-30T23:28:35Z  {'__CLASS__': 'Adzuna::API::Response::Company'...   \n",
       "..                   ...                                                ...   \n",
       "45  2025-05-18T10:13:46Z  {'display_name': 'Fundmetric', '__CLASS__': 'A...   \n",
       "46  2025-06-07T08:50:55Z  {'__CLASS__': 'Adzuna::API::Response::Company'...   \n",
       "47  2024-09-20T07:53:38Z  {'display_name': 'Proax Technologies', '__CLAS...   \n",
       "48  2025-05-24T10:22:58Z  {'display_name': 'Nokia Global', '__CLASS__': ...   \n",
       "49  2025-04-24T15:20:44Z  {'display_name': 'Proax Technologies', '__CLAS...   \n",
       "\n",
       "     latitude  longitude  \n",
       "0         NaN        NaN  \n",
       "1   43.706102 -79.402726  \n",
       "2         NaN        NaN  \n",
       "3         NaN        NaN  \n",
       "4         NaN        NaN  \n",
       "..        ...        ...  \n",
       "45  44.681555 -63.556363  \n",
       "46  45.466091 -75.704464  \n",
       "47  42.933380 -81.205550  \n",
       "48        NaN        NaN  \n",
       "49  42.981065 -81.248057  \n",
       "\n",
       "[100 rows x 7 columns]"
      ]
     },
     "execution_count": 8,
     "metadata": {},
     "output_type": "execute_result"
    }
   ],
   "source": [
    "employment_all"
   ]
  },
  {
   "cell_type": "markdown",
   "metadata": {},
   "source": [
    "The issue with this dataset is that there are no columns for employment levels, years of experience, and education levels. However, location and date created will be analyzed, as well as job titles as these could provide some insights on employment, what is available, where it is available, and which company is providing the vacancy."
   ]
  },
  {
   "cell_type": "markdown",
   "metadata": {},
   "source": [
    "First, it is important to clean up the data, and make it readable, especially the location, and company. created will be reformatted to provide year, month, day only."
   ]
  },
  {
   "cell_type": "markdown",
   "metadata": {},
   "source": [
    "Another issue is with location where some locations are displayed as Country, Province, and City, while others are displayed as city, region, and then the area"
   ]
  },
  {
   "cell_type": "code",
   "execution_count": 9,
   "metadata": {},
   "outputs": [
    {
     "name": "stdout",
     "output_type": "stream",
     "text": [
      "0     {'area': ['Canada', 'Ontario', 'Toronto'], 'di...\n",
      "1     {'area': ['Canada', 'Ontario', 'Toronto'], 'di...\n",
      "2     {'__CLASS__': 'Adzuna::API::Response::Location...\n",
      "3     {'__CLASS__': 'Adzuna::API::Response::Location...\n",
      "4     {'__CLASS__': 'Adzuna::API::Response::Location...\n",
      "                            ...                        \n",
      "45    {'area': ['Canada', 'Nova Scotia', 'Halifax re...\n",
      "46    {'__CLASS__': 'Adzuna::API::Response::Location...\n",
      "47    {'area': ['Canada', 'Ontario', 'Middlesex', 'L...\n",
      "48    {'area': ['Canada'], 'display_name': 'Canada',...\n",
      "49    {'display_name': 'London, Middlesex', 'area': ...\n",
      "Name: location, Length: 100, dtype: object\n",
      "{'__CLASS__': 'Adzuna::API::Response::Company', 'display_name': 'Akkodis'}\n"
     ]
    }
   ],
   "source": [
    "print(employment_all['location'])\n",
    "print(employment_all['company'].iloc[0])"
   ]
  },
  {
   "cell_type": "code",
   "execution_count": 10,
   "metadata": {},
   "outputs": [],
   "source": [
    "import ast\n",
    "employment_all['location'].head(10).apply(type)\n",
    "def normalize_location(loc):\n",
    "    if isinstance(loc, str):\n",
    "        try:\n",
    "            loc = ast.literal_eval(loc)\n",
    "        except Exception:\n",
    "            return {}\n",
    "\n",
    "    if isinstance(loc, dict):\n",
    "        if 'area' in loc:\n",
    "            return {\n",
    "                'country': loc['area'][0] if len(loc['area']) > 0 else None,\n",
    "                'region': loc['area'][1] if len(loc['area']) > 1 else None,\n",
    "                'city': loc['area'][2] if len(loc['area']) > 2 else None\n",
    "            }\n",
    "        elif 'display_name' in loc:\n",
    "            return {'display_name': loc['display_name']}\n",
    "    return {}\n",
    "\n",
    "# Normalize and convert to DataFrame\n",
    "location_cleaned = employment_all['location'].apply(normalize_location)\n",
    "location_df = pd.DataFrame(location_cleaned.tolist())\n",
    "\n",
    "# Reset indices\n",
    "employment_all = employment_all.reset_index(drop=True)\n",
    "location_df = location_df.reset_index(drop=True)\n",
    "\n",
    "# Join cleaned location info\n",
    "employment_all = pd.concat([employment_all.drop(columns=['location']), location_df], axis=1)"
   ]
  },
  {
   "cell_type": "code",
   "execution_count": 11,
   "metadata": {},
   "outputs": [
    {
     "data": {
      "text/html": [
       "<div>\n",
       "<style scoped>\n",
       "    .dataframe tbody tr th:only-of-type {\n",
       "        vertical-align: middle;\n",
       "    }\n",
       "\n",
       "    .dataframe tbody tr th {\n",
       "        vertical-align: top;\n",
       "    }\n",
       "\n",
       "    .dataframe thead th {\n",
       "        text-align: right;\n",
       "    }\n",
       "</style>\n",
       "<table border=\"1\" class=\"dataframe\">\n",
       "  <thead>\n",
       "    <tr style=\"text-align: right;\">\n",
       "      <th></th>\n",
       "      <th>description</th>\n",
       "      <th>title</th>\n",
       "      <th>created</th>\n",
       "      <th>company</th>\n",
       "      <th>latitude</th>\n",
       "      <th>longitude</th>\n",
       "      <th>country</th>\n",
       "      <th>region</th>\n",
       "      <th>city</th>\n",
       "    </tr>\n",
       "  </thead>\n",
       "  <tbody>\n",
       "    <tr>\n",
       "      <th>0</th>\n",
       "      <td>Akkodis is currently seeking a skilled Power B...</td>\n",
       "      <td>Data Analyst</td>\n",
       "      <td>2025-06-15T03:29:02Z</td>\n",
       "      <td>{'__CLASS__': 'Adzuna::API::Response::Company'...</td>\n",
       "      <td>NaN</td>\n",
       "      <td>NaN</td>\n",
       "      <td>Canada</td>\n",
       "      <td>Ontario</td>\n",
       "      <td>Toronto</td>\n",
       "    </tr>\n",
       "    <tr>\n",
       "      <th>1</th>\n",
       "      <td>About us Aquanow is a trading and technology c...</td>\n",
       "      <td>Data Analyst</td>\n",
       "      <td>2025-05-20T17:15:34Z</td>\n",
       "      <td>{'__CLASS__': 'Adzuna::API::Response::Company'...</td>\n",
       "      <td>43.706102</td>\n",
       "      <td>-79.402726</td>\n",
       "      <td>Canada</td>\n",
       "      <td>Ontario</td>\n",
       "      <td>Toronto</td>\n",
       "    </tr>\n",
       "    <tr>\n",
       "      <th>2</th>\n",
       "      <td>Inclusion without Exception Tata Consultancy S...</td>\n",
       "      <td>Data Analyst</td>\n",
       "      <td>2025-04-20T22:56:29Z</td>\n",
       "      <td>{'display_name': 'Tata Consultancy Services', ...</td>\n",
       "      <td>NaN</td>\n",
       "      <td>NaN</td>\n",
       "      <td>Canada</td>\n",
       "      <td>Ontario</td>\n",
       "      <td>Peel region</td>\n",
       "    </tr>\n",
       "    <tr>\n",
       "      <th>3</th>\n",
       "      <td>Position: Technical Data Analyst Location: Mon...</td>\n",
       "      <td>Technical Data Analyst</td>\n",
       "      <td>2025-05-31T22:30:19Z</td>\n",
       "      <td>{'__CLASS__': 'Adzuna::API::Response::Company'...</td>\n",
       "      <td>NaN</td>\n",
       "      <td>NaN</td>\n",
       "      <td>Canada</td>\n",
       "      <td>None</td>\n",
       "      <td>None</td>\n",
       "    </tr>\n",
       "    <tr>\n",
       "      <th>4</th>\n",
       "      <td>We are seeking an analytical and detail-orient...</td>\n",
       "      <td>Data Analyst</td>\n",
       "      <td>2025-05-30T23:28:35Z</td>\n",
       "      <td>{'__CLASS__': 'Adzuna::API::Response::Company'...</td>\n",
       "      <td>NaN</td>\n",
       "      <td>NaN</td>\n",
       "      <td>Canada</td>\n",
       "      <td>None</td>\n",
       "      <td>None</td>\n",
       "    </tr>\n",
       "    <tr>\n",
       "      <th>...</th>\n",
       "      <td>...</td>\n",
       "      <td>...</td>\n",
       "      <td>...</td>\n",
       "      <td>...</td>\n",
       "      <td>...</td>\n",
       "      <td>...</td>\n",
       "      <td>...</td>\n",
       "      <td>...</td>\n",
       "      <td>...</td>\n",
       "    </tr>\n",
       "    <tr>\n",
       "      <th>95</th>\n",
       "      <td>Overview Fundmetric is looking for a Software ...</td>\n",
       "      <td>Software Developer</td>\n",
       "      <td>2025-05-18T10:13:46Z</td>\n",
       "      <td>{'display_name': 'Fundmetric', '__CLASS__': 'A...</td>\n",
       "      <td>44.681555</td>\n",
       "      <td>-63.556363</td>\n",
       "      <td>Canada</td>\n",
       "      <td>Nova Scotia</td>\n",
       "      <td>Halifax region</td>\n",
       "    </tr>\n",
       "    <tr>\n",
       "      <th>96</th>\n",
       "      <td>Job Introduction Frequentis Group with headqua...</td>\n",
       "      <td>Software Developer</td>\n",
       "      <td>2025-06-07T08:50:55Z</td>\n",
       "      <td>{'__CLASS__': 'Adzuna::API::Response::Company'...</td>\n",
       "      <td>45.466091</td>\n",
       "      <td>-75.704464</td>\n",
       "      <td>Canada</td>\n",
       "      <td>Québec</td>\n",
       "      <td>Outaouais</td>\n",
       "    </tr>\n",
       "    <tr>\n",
       "      <th>97</th>\n",
       "      <td>Who are we? Proax Technologies is a leading Te...</td>\n",
       "      <td>Software Developer</td>\n",
       "      <td>2024-09-20T07:53:38Z</td>\n",
       "      <td>{'display_name': 'Proax Technologies', '__CLAS...</td>\n",
       "      <td>42.933380</td>\n",
       "      <td>-81.205550</td>\n",
       "      <td>Canada</td>\n",
       "      <td>Ontario</td>\n",
       "      <td>Middlesex</td>\n",
       "    </tr>\n",
       "    <tr>\n",
       "      <th>98</th>\n",
       "      <td>Description We are seeking a Software Develope...</td>\n",
       "      <td>Software Developer</td>\n",
       "      <td>2025-05-24T10:22:58Z</td>\n",
       "      <td>{'display_name': 'Nokia Global', '__CLASS__': ...</td>\n",
       "      <td>NaN</td>\n",
       "      <td>NaN</td>\n",
       "      <td>Canada</td>\n",
       "      <td>None</td>\n",
       "      <td>None</td>\n",
       "    </tr>\n",
       "    <tr>\n",
       "      <th>99</th>\n",
       "      <td>Job Description Job Description Salary: Who ar...</td>\n",
       "      <td>Software Developer</td>\n",
       "      <td>2025-04-24T15:20:44Z</td>\n",
       "      <td>{'display_name': 'Proax Technologies', '__CLAS...</td>\n",
       "      <td>42.981065</td>\n",
       "      <td>-81.248057</td>\n",
       "      <td>Canada</td>\n",
       "      <td>Ontario</td>\n",
       "      <td>Middlesex</td>\n",
       "    </tr>\n",
       "  </tbody>\n",
       "</table>\n",
       "<p>100 rows × 9 columns</p>\n",
       "</div>"
      ],
      "text/plain": [
       "                                          description                   title  \\\n",
       "0   Akkodis is currently seeking a skilled Power B...            Data Analyst   \n",
       "1   About us Aquanow is a trading and technology c...            Data Analyst   \n",
       "2   Inclusion without Exception Tata Consultancy S...            Data Analyst   \n",
       "3   Position: Technical Data Analyst Location: Mon...  Technical Data Analyst   \n",
       "4   We are seeking an analytical and detail-orient...            Data Analyst   \n",
       "..                                                ...                     ...   \n",
       "95  Overview Fundmetric is looking for a Software ...      Software Developer   \n",
       "96  Job Introduction Frequentis Group with headqua...      Software Developer   \n",
       "97  Who are we? Proax Technologies is a leading Te...      Software Developer   \n",
       "98  Description We are seeking a Software Develope...      Software Developer   \n",
       "99  Job Description Job Description Salary: Who ar...      Software Developer   \n",
       "\n",
       "                 created                                            company  \\\n",
       "0   2025-06-15T03:29:02Z  {'__CLASS__': 'Adzuna::API::Response::Company'...   \n",
       "1   2025-05-20T17:15:34Z  {'__CLASS__': 'Adzuna::API::Response::Company'...   \n",
       "2   2025-04-20T22:56:29Z  {'display_name': 'Tata Consultancy Services', ...   \n",
       "3   2025-05-31T22:30:19Z  {'__CLASS__': 'Adzuna::API::Response::Company'...   \n",
       "4   2025-05-30T23:28:35Z  {'__CLASS__': 'Adzuna::API::Response::Company'...   \n",
       "..                   ...                                                ...   \n",
       "95  2025-05-18T10:13:46Z  {'display_name': 'Fundmetric', '__CLASS__': 'A...   \n",
       "96  2025-06-07T08:50:55Z  {'__CLASS__': 'Adzuna::API::Response::Company'...   \n",
       "97  2024-09-20T07:53:38Z  {'display_name': 'Proax Technologies', '__CLAS...   \n",
       "98  2025-05-24T10:22:58Z  {'display_name': 'Nokia Global', '__CLASS__': ...   \n",
       "99  2025-04-24T15:20:44Z  {'display_name': 'Proax Technologies', '__CLAS...   \n",
       "\n",
       "     latitude  longitude country       region            city  \n",
       "0         NaN        NaN  Canada      Ontario         Toronto  \n",
       "1   43.706102 -79.402726  Canada      Ontario         Toronto  \n",
       "2         NaN        NaN  Canada      Ontario     Peel region  \n",
       "3         NaN        NaN  Canada         None            None  \n",
       "4         NaN        NaN  Canada         None            None  \n",
       "..        ...        ...     ...          ...             ...  \n",
       "95  44.681555 -63.556363  Canada  Nova Scotia  Halifax region  \n",
       "96  45.466091 -75.704464  Canada       Québec       Outaouais  \n",
       "97  42.933380 -81.205550  Canada      Ontario       Middlesex  \n",
       "98        NaN        NaN  Canada         None            None  \n",
       "99  42.981065 -81.248057  Canada      Ontario       Middlesex  \n",
       "\n",
       "[100 rows x 9 columns]"
      ]
     },
     "execution_count": 11,
     "metadata": {},
     "output_type": "execute_result"
    }
   ],
   "source": [
    "employment_all"
   ]
  },
  {
   "cell_type": "code",
   "execution_count": 12,
   "metadata": {},
   "outputs": [],
   "source": [
    "def extract_company_name(company):\n",
    "    if isinstance(company, str):\n",
    "        try:\n",
    "            company = ast.literal_eval(company)\n",
    "        except Exception:\n",
    "            return None\n",
    "    if isinstance(company, dict):\n",
    "        return company['display_name']\n",
    "    return None\n",
    "\n",
    "employment_all['company_name'] = employment_all['company'].apply(extract_company_name)\n",
    "employment_all = employment_all.drop(columns=['company'])"
   ]
  },
  {
   "cell_type": "code",
   "execution_count": 13,
   "metadata": {},
   "outputs": [
    {
     "data": {
      "text/html": [
       "<div>\n",
       "<style scoped>\n",
       "    .dataframe tbody tr th:only-of-type {\n",
       "        vertical-align: middle;\n",
       "    }\n",
       "\n",
       "    .dataframe tbody tr th {\n",
       "        vertical-align: top;\n",
       "    }\n",
       "\n",
       "    .dataframe thead th {\n",
       "        text-align: right;\n",
       "    }\n",
       "</style>\n",
       "<table border=\"1\" class=\"dataframe\">\n",
       "  <thead>\n",
       "    <tr style=\"text-align: right;\">\n",
       "      <th></th>\n",
       "      <th>description</th>\n",
       "      <th>title</th>\n",
       "      <th>created</th>\n",
       "      <th>latitude</th>\n",
       "      <th>longitude</th>\n",
       "      <th>country</th>\n",
       "      <th>region</th>\n",
       "      <th>city</th>\n",
       "      <th>company_name</th>\n",
       "    </tr>\n",
       "  </thead>\n",
       "  <tbody>\n",
       "    <tr>\n",
       "      <th>0</th>\n",
       "      <td>Akkodis is currently seeking a skilled Power B...</td>\n",
       "      <td>Data Analyst</td>\n",
       "      <td>2025-06-15T03:29:02Z</td>\n",
       "      <td>NaN</td>\n",
       "      <td>NaN</td>\n",
       "      <td>Canada</td>\n",
       "      <td>Ontario</td>\n",
       "      <td>Toronto</td>\n",
       "      <td>Akkodis</td>\n",
       "    </tr>\n",
       "    <tr>\n",
       "      <th>1</th>\n",
       "      <td>About us Aquanow is a trading and technology c...</td>\n",
       "      <td>Data Analyst</td>\n",
       "      <td>2025-05-20T17:15:34Z</td>\n",
       "      <td>43.706102</td>\n",
       "      <td>-79.402726</td>\n",
       "      <td>Canada</td>\n",
       "      <td>Ontario</td>\n",
       "      <td>Toronto</td>\n",
       "      <td>Aquanow</td>\n",
       "    </tr>\n",
       "    <tr>\n",
       "      <th>2</th>\n",
       "      <td>Inclusion without Exception Tata Consultancy S...</td>\n",
       "      <td>Data Analyst</td>\n",
       "      <td>2025-04-20T22:56:29Z</td>\n",
       "      <td>NaN</td>\n",
       "      <td>NaN</td>\n",
       "      <td>Canada</td>\n",
       "      <td>Ontario</td>\n",
       "      <td>Peel region</td>\n",
       "      <td>Tata Consultancy Services</td>\n",
       "    </tr>\n",
       "    <tr>\n",
       "      <th>3</th>\n",
       "      <td>Position: Technical Data Analyst Location: Mon...</td>\n",
       "      <td>Technical Data Analyst</td>\n",
       "      <td>2025-05-31T22:30:19Z</td>\n",
       "      <td>NaN</td>\n",
       "      <td>NaN</td>\n",
       "      <td>Canada</td>\n",
       "      <td>None</td>\n",
       "      <td>None</td>\n",
       "      <td>iTech US Inc</td>\n",
       "    </tr>\n",
       "    <tr>\n",
       "      <th>4</th>\n",
       "      <td>We are seeking an analytical and detail-orient...</td>\n",
       "      <td>Data Analyst</td>\n",
       "      <td>2025-05-30T23:28:35Z</td>\n",
       "      <td>NaN</td>\n",
       "      <td>NaN</td>\n",
       "      <td>Canada</td>\n",
       "      <td>None</td>\n",
       "      <td>None</td>\n",
       "      <td>Critical Control Technologies</td>\n",
       "    </tr>\n",
       "    <tr>\n",
       "      <th>...</th>\n",
       "      <td>...</td>\n",
       "      <td>...</td>\n",
       "      <td>...</td>\n",
       "      <td>...</td>\n",
       "      <td>...</td>\n",
       "      <td>...</td>\n",
       "      <td>...</td>\n",
       "      <td>...</td>\n",
       "      <td>...</td>\n",
       "    </tr>\n",
       "    <tr>\n",
       "      <th>95</th>\n",
       "      <td>Overview Fundmetric is looking for a Software ...</td>\n",
       "      <td>Software Developer</td>\n",
       "      <td>2025-05-18T10:13:46Z</td>\n",
       "      <td>44.681555</td>\n",
       "      <td>-63.556363</td>\n",
       "      <td>Canada</td>\n",
       "      <td>Nova Scotia</td>\n",
       "      <td>Halifax region</td>\n",
       "      <td>Fundmetric</td>\n",
       "    </tr>\n",
       "    <tr>\n",
       "      <th>96</th>\n",
       "      <td>Job Introduction Frequentis Group with headqua...</td>\n",
       "      <td>Software Developer</td>\n",
       "      <td>2025-06-07T08:50:55Z</td>\n",
       "      <td>45.466091</td>\n",
       "      <td>-75.704464</td>\n",
       "      <td>Canada</td>\n",
       "      <td>Québec</td>\n",
       "      <td>Outaouais</td>\n",
       "      <td>Pivot + Edge</td>\n",
       "    </tr>\n",
       "    <tr>\n",
       "      <th>97</th>\n",
       "      <td>Who are we? Proax Technologies is a leading Te...</td>\n",
       "      <td>Software Developer</td>\n",
       "      <td>2024-09-20T07:53:38Z</td>\n",
       "      <td>42.933380</td>\n",
       "      <td>-81.205550</td>\n",
       "      <td>Canada</td>\n",
       "      <td>Ontario</td>\n",
       "      <td>Middlesex</td>\n",
       "      <td>Proax Technologies</td>\n",
       "    </tr>\n",
       "    <tr>\n",
       "      <th>98</th>\n",
       "      <td>Description We are seeking a Software Develope...</td>\n",
       "      <td>Software Developer</td>\n",
       "      <td>2025-05-24T10:22:58Z</td>\n",
       "      <td>NaN</td>\n",
       "      <td>NaN</td>\n",
       "      <td>Canada</td>\n",
       "      <td>None</td>\n",
       "      <td>None</td>\n",
       "      <td>Nokia Global</td>\n",
       "    </tr>\n",
       "    <tr>\n",
       "      <th>99</th>\n",
       "      <td>Job Description Job Description Salary: Who ar...</td>\n",
       "      <td>Software Developer</td>\n",
       "      <td>2025-04-24T15:20:44Z</td>\n",
       "      <td>42.981065</td>\n",
       "      <td>-81.248057</td>\n",
       "      <td>Canada</td>\n",
       "      <td>Ontario</td>\n",
       "      <td>Middlesex</td>\n",
       "      <td>Proax Technologies</td>\n",
       "    </tr>\n",
       "  </tbody>\n",
       "</table>\n",
       "<p>100 rows × 9 columns</p>\n",
       "</div>"
      ],
      "text/plain": [
       "                                          description                   title  \\\n",
       "0   Akkodis is currently seeking a skilled Power B...            Data Analyst   \n",
       "1   About us Aquanow is a trading and technology c...            Data Analyst   \n",
       "2   Inclusion without Exception Tata Consultancy S...            Data Analyst   \n",
       "3   Position: Technical Data Analyst Location: Mon...  Technical Data Analyst   \n",
       "4   We are seeking an analytical and detail-orient...            Data Analyst   \n",
       "..                                                ...                     ...   \n",
       "95  Overview Fundmetric is looking for a Software ...      Software Developer   \n",
       "96  Job Introduction Frequentis Group with headqua...      Software Developer   \n",
       "97  Who are we? Proax Technologies is a leading Te...      Software Developer   \n",
       "98  Description We are seeking a Software Develope...      Software Developer   \n",
       "99  Job Description Job Description Salary: Who ar...      Software Developer   \n",
       "\n",
       "                 created   latitude  longitude country       region  \\\n",
       "0   2025-06-15T03:29:02Z        NaN        NaN  Canada      Ontario   \n",
       "1   2025-05-20T17:15:34Z  43.706102 -79.402726  Canada      Ontario   \n",
       "2   2025-04-20T22:56:29Z        NaN        NaN  Canada      Ontario   \n",
       "3   2025-05-31T22:30:19Z        NaN        NaN  Canada         None   \n",
       "4   2025-05-30T23:28:35Z        NaN        NaN  Canada         None   \n",
       "..                   ...        ...        ...     ...          ...   \n",
       "95  2025-05-18T10:13:46Z  44.681555 -63.556363  Canada  Nova Scotia   \n",
       "96  2025-06-07T08:50:55Z  45.466091 -75.704464  Canada       Québec   \n",
       "97  2024-09-20T07:53:38Z  42.933380 -81.205550  Canada      Ontario   \n",
       "98  2025-05-24T10:22:58Z        NaN        NaN  Canada         None   \n",
       "99  2025-04-24T15:20:44Z  42.981065 -81.248057  Canada      Ontario   \n",
       "\n",
       "              city                   company_name  \n",
       "0          Toronto                        Akkodis  \n",
       "1          Toronto                        Aquanow  \n",
       "2      Peel region      Tata Consultancy Services  \n",
       "3             None                   iTech US Inc  \n",
       "4             None  Critical Control Technologies  \n",
       "..             ...                            ...  \n",
       "95  Halifax region                     Fundmetric  \n",
       "96       Outaouais                   Pivot + Edge  \n",
       "97       Middlesex             Proax Technologies  \n",
       "98            None                   Nokia Global  \n",
       "99       Middlesex             Proax Technologies  \n",
       "\n",
       "[100 rows x 9 columns]"
      ]
     },
     "execution_count": 13,
     "metadata": {},
     "output_type": "execute_result"
    }
   ],
   "source": [
    "employment_all"
   ]
  },
  {
   "cell_type": "markdown",
   "metadata": {},
   "source": [
    "Just for the purposes of data cleaning, even if it is not accurate, latitude and longitude NaN values will be replaced via Machine Learning(KNN)"
   ]
  },
  {
   "cell_type": "code",
   "execution_count": 14,
   "metadata": {},
   "outputs": [],
   "source": [
    "from sklearn.impute import KNNImputer\n",
    "from sklearn.preprocessing import LabelEncoder\n",
    "\n",
    "employment_all['city_id'] = LabelEncoder().fit_transform(employment_all['city'].astype(str)) #City is a string, create a new column that would enumerate city\n",
    "\n",
    "# Use these for imputation\n",
    "impute_cols = ['latitude', 'longitude', 'city_id']\n",
    "imputer = KNNImputer(n_neighbors=3)\n",
    "\n",
    "# Impute\n",
    "employment_all[impute_cols] = imputer.fit_transform(employment_all[impute_cols])"
   ]
  },
  {
   "cell_type": "code",
   "execution_count": 15,
   "metadata": {},
   "outputs": [
    {
     "data": {
      "text/html": [
       "<div>\n",
       "<style scoped>\n",
       "    .dataframe tbody tr th:only-of-type {\n",
       "        vertical-align: middle;\n",
       "    }\n",
       "\n",
       "    .dataframe tbody tr th {\n",
       "        vertical-align: top;\n",
       "    }\n",
       "\n",
       "    .dataframe thead th {\n",
       "        text-align: right;\n",
       "    }\n",
       "</style>\n",
       "<table border=\"1\" class=\"dataframe\">\n",
       "  <thead>\n",
       "    <tr style=\"text-align: right;\">\n",
       "      <th></th>\n",
       "      <th>description</th>\n",
       "      <th>title</th>\n",
       "      <th>created</th>\n",
       "      <th>latitude</th>\n",
       "      <th>longitude</th>\n",
       "      <th>country</th>\n",
       "      <th>region</th>\n",
       "      <th>city</th>\n",
       "      <th>company_name</th>\n",
       "      <th>city_id</th>\n",
       "    </tr>\n",
       "  </thead>\n",
       "  <tbody>\n",
       "    <tr>\n",
       "      <th>0</th>\n",
       "      <td>Akkodis is currently seeking a skilled Power B...</td>\n",
       "      <td>Data Analyst</td>\n",
       "      <td>2025-06-15T03:29:02Z</td>\n",
       "      <td>43.706102</td>\n",
       "      <td>-79.402726</td>\n",
       "      <td>Canada</td>\n",
       "      <td>Ontario</td>\n",
       "      <td>Toronto</td>\n",
       "      <td>Akkodis</td>\n",
       "      <td>17.0</td>\n",
       "    </tr>\n",
       "    <tr>\n",
       "      <th>1</th>\n",
       "      <td>About us Aquanow is a trading and technology c...</td>\n",
       "      <td>Data Analyst</td>\n",
       "      <td>2025-05-20T17:15:34Z</td>\n",
       "      <td>43.706102</td>\n",
       "      <td>-79.402726</td>\n",
       "      <td>Canada</td>\n",
       "      <td>Ontario</td>\n",
       "      <td>Toronto</td>\n",
       "      <td>Aquanow</td>\n",
       "      <td>17.0</td>\n",
       "    </tr>\n",
       "    <tr>\n",
       "      <th>2</th>\n",
       "      <td>Inclusion without Exception Tata Consultancy S...</td>\n",
       "      <td>Data Analyst</td>\n",
       "      <td>2025-04-20T22:56:29Z</td>\n",
       "      <td>45.169472</td>\n",
       "      <td>-76.730824</td>\n",
       "      <td>Canada</td>\n",
       "      <td>Ontario</td>\n",
       "      <td>Peel region</td>\n",
       "      <td>Tata Consultancy Services</td>\n",
       "      <td>14.0</td>\n",
       "    </tr>\n",
       "    <tr>\n",
       "      <th>3</th>\n",
       "      <td>Position: Technical Data Analyst Location: Mon...</td>\n",
       "      <td>Technical Data Analyst</td>\n",
       "      <td>2025-05-31T22:30:19Z</td>\n",
       "      <td>47.029327</td>\n",
       "      <td>-94.640183</td>\n",
       "      <td>Canada</td>\n",
       "      <td>None</td>\n",
       "      <td>None</td>\n",
       "      <td>iTech US Inc</td>\n",
       "      <td>11.0</td>\n",
       "    </tr>\n",
       "    <tr>\n",
       "      <th>4</th>\n",
       "      <td>We are seeking an analytical and detail-orient...</td>\n",
       "      <td>Data Analyst</td>\n",
       "      <td>2025-05-30T23:28:35Z</td>\n",
       "      <td>47.029327</td>\n",
       "      <td>-94.640183</td>\n",
       "      <td>Canada</td>\n",
       "      <td>None</td>\n",
       "      <td>None</td>\n",
       "      <td>Critical Control Technologies</td>\n",
       "      <td>11.0</td>\n",
       "    </tr>\n",
       "    <tr>\n",
       "      <th>...</th>\n",
       "      <td>...</td>\n",
       "      <td>...</td>\n",
       "      <td>...</td>\n",
       "      <td>...</td>\n",
       "      <td>...</td>\n",
       "      <td>...</td>\n",
       "      <td>...</td>\n",
       "      <td>...</td>\n",
       "      <td>...</td>\n",
       "      <td>...</td>\n",
       "    </tr>\n",
       "    <tr>\n",
       "      <th>95</th>\n",
       "      <td>Overview Fundmetric is looking for a Software ...</td>\n",
       "      <td>Software Developer</td>\n",
       "      <td>2025-05-18T10:13:46Z</td>\n",
       "      <td>44.681555</td>\n",
       "      <td>-63.556363</td>\n",
       "      <td>Canada</td>\n",
       "      <td>Nova Scotia</td>\n",
       "      <td>Halifax region</td>\n",
       "      <td>Fundmetric</td>\n",
       "      <td>5.0</td>\n",
       "    </tr>\n",
       "    <tr>\n",
       "      <th>96</th>\n",
       "      <td>Job Introduction Frequentis Group with headqua...</td>\n",
       "      <td>Software Developer</td>\n",
       "      <td>2025-06-07T08:50:55Z</td>\n",
       "      <td>45.466091</td>\n",
       "      <td>-75.704464</td>\n",
       "      <td>Canada</td>\n",
       "      <td>Québec</td>\n",
       "      <td>Outaouais</td>\n",
       "      <td>Pivot + Edge</td>\n",
       "      <td>13.0</td>\n",
       "    </tr>\n",
       "    <tr>\n",
       "      <th>97</th>\n",
       "      <td>Who are we? Proax Technologies is a leading Te...</td>\n",
       "      <td>Software Developer</td>\n",
       "      <td>2024-09-20T07:53:38Z</td>\n",
       "      <td>42.933380</td>\n",
       "      <td>-81.205550</td>\n",
       "      <td>Canada</td>\n",
       "      <td>Ontario</td>\n",
       "      <td>Middlesex</td>\n",
       "      <td>Proax Technologies</td>\n",
       "      <td>9.0</td>\n",
       "    </tr>\n",
       "    <tr>\n",
       "      <th>98</th>\n",
       "      <td>Description We are seeking a Software Develope...</td>\n",
       "      <td>Software Developer</td>\n",
       "      <td>2025-05-24T10:22:58Z</td>\n",
       "      <td>47.029327</td>\n",
       "      <td>-94.640183</td>\n",
       "      <td>Canada</td>\n",
       "      <td>None</td>\n",
       "      <td>None</td>\n",
       "      <td>Nokia Global</td>\n",
       "      <td>11.0</td>\n",
       "    </tr>\n",
       "    <tr>\n",
       "      <th>99</th>\n",
       "      <td>Job Description Job Description Salary: Who ar...</td>\n",
       "      <td>Software Developer</td>\n",
       "      <td>2025-04-24T15:20:44Z</td>\n",
       "      <td>42.981065</td>\n",
       "      <td>-81.248057</td>\n",
       "      <td>Canada</td>\n",
       "      <td>Ontario</td>\n",
       "      <td>Middlesex</td>\n",
       "      <td>Proax Technologies</td>\n",
       "      <td>9.0</td>\n",
       "    </tr>\n",
       "  </tbody>\n",
       "</table>\n",
       "<p>100 rows × 10 columns</p>\n",
       "</div>"
      ],
      "text/plain": [
       "                                          description                   title  \\\n",
       "0   Akkodis is currently seeking a skilled Power B...            Data Analyst   \n",
       "1   About us Aquanow is a trading and technology c...            Data Analyst   \n",
       "2   Inclusion without Exception Tata Consultancy S...            Data Analyst   \n",
       "3   Position: Technical Data Analyst Location: Mon...  Technical Data Analyst   \n",
       "4   We are seeking an analytical and detail-orient...            Data Analyst   \n",
       "..                                                ...                     ...   \n",
       "95  Overview Fundmetric is looking for a Software ...      Software Developer   \n",
       "96  Job Introduction Frequentis Group with headqua...      Software Developer   \n",
       "97  Who are we? Proax Technologies is a leading Te...      Software Developer   \n",
       "98  Description We are seeking a Software Develope...      Software Developer   \n",
       "99  Job Description Job Description Salary: Who ar...      Software Developer   \n",
       "\n",
       "                 created   latitude  longitude country       region  \\\n",
       "0   2025-06-15T03:29:02Z  43.706102 -79.402726  Canada      Ontario   \n",
       "1   2025-05-20T17:15:34Z  43.706102 -79.402726  Canada      Ontario   \n",
       "2   2025-04-20T22:56:29Z  45.169472 -76.730824  Canada      Ontario   \n",
       "3   2025-05-31T22:30:19Z  47.029327 -94.640183  Canada         None   \n",
       "4   2025-05-30T23:28:35Z  47.029327 -94.640183  Canada         None   \n",
       "..                   ...        ...        ...     ...          ...   \n",
       "95  2025-05-18T10:13:46Z  44.681555 -63.556363  Canada  Nova Scotia   \n",
       "96  2025-06-07T08:50:55Z  45.466091 -75.704464  Canada       Québec   \n",
       "97  2024-09-20T07:53:38Z  42.933380 -81.205550  Canada      Ontario   \n",
       "98  2025-05-24T10:22:58Z  47.029327 -94.640183  Canada         None   \n",
       "99  2025-04-24T15:20:44Z  42.981065 -81.248057  Canada      Ontario   \n",
       "\n",
       "              city                   company_name  city_id  \n",
       "0          Toronto                        Akkodis     17.0  \n",
       "1          Toronto                        Aquanow     17.0  \n",
       "2      Peel region      Tata Consultancy Services     14.0  \n",
       "3             None                   iTech US Inc     11.0  \n",
       "4             None  Critical Control Technologies     11.0  \n",
       "..             ...                            ...      ...  \n",
       "95  Halifax region                     Fundmetric      5.0  \n",
       "96       Outaouais                   Pivot + Edge     13.0  \n",
       "97       Middlesex             Proax Technologies      9.0  \n",
       "98            None                   Nokia Global     11.0  \n",
       "99       Middlesex             Proax Technologies      9.0  \n",
       "\n",
       "[100 rows x 10 columns]"
      ]
     },
     "execution_count": 15,
     "metadata": {},
     "output_type": "execute_result"
    }
   ],
   "source": [
    "employment_all"
   ]
  },
  {
   "cell_type": "markdown",
   "metadata": {},
   "source": [
    "For cleanliness, remove city_id"
   ]
  },
  {
   "cell_type": "code",
   "execution_count": 16,
   "metadata": {},
   "outputs": [],
   "source": [
    "employment_all = employment_all.drop(['city_id'], axis=1)"
   ]
  },
  {
   "cell_type": "code",
   "execution_count": 17,
   "metadata": {},
   "outputs": [
    {
     "data": {
      "text/html": [
       "<div>\n",
       "<style scoped>\n",
       "    .dataframe tbody tr th:only-of-type {\n",
       "        vertical-align: middle;\n",
       "    }\n",
       "\n",
       "    .dataframe tbody tr th {\n",
       "        vertical-align: top;\n",
       "    }\n",
       "\n",
       "    .dataframe thead th {\n",
       "        text-align: right;\n",
       "    }\n",
       "</style>\n",
       "<table border=\"1\" class=\"dataframe\">\n",
       "  <thead>\n",
       "    <tr style=\"text-align: right;\">\n",
       "      <th></th>\n",
       "      <th>description</th>\n",
       "      <th>title</th>\n",
       "      <th>created</th>\n",
       "      <th>latitude</th>\n",
       "      <th>longitude</th>\n",
       "      <th>country</th>\n",
       "      <th>region</th>\n",
       "      <th>city</th>\n",
       "      <th>company_name</th>\n",
       "    </tr>\n",
       "  </thead>\n",
       "  <tbody>\n",
       "    <tr>\n",
       "      <th>0</th>\n",
       "      <td>Akkodis is currently seeking a skilled Power B...</td>\n",
       "      <td>Data Analyst</td>\n",
       "      <td>2025-06-15T03:29:02Z</td>\n",
       "      <td>43.706102</td>\n",
       "      <td>-79.402726</td>\n",
       "      <td>Canada</td>\n",
       "      <td>Ontario</td>\n",
       "      <td>Toronto</td>\n",
       "      <td>Akkodis</td>\n",
       "    </tr>\n",
       "    <tr>\n",
       "      <th>1</th>\n",
       "      <td>About us Aquanow is a trading and technology c...</td>\n",
       "      <td>Data Analyst</td>\n",
       "      <td>2025-05-20T17:15:34Z</td>\n",
       "      <td>43.706102</td>\n",
       "      <td>-79.402726</td>\n",
       "      <td>Canada</td>\n",
       "      <td>Ontario</td>\n",
       "      <td>Toronto</td>\n",
       "      <td>Aquanow</td>\n",
       "    </tr>\n",
       "    <tr>\n",
       "      <th>2</th>\n",
       "      <td>Inclusion without Exception Tata Consultancy S...</td>\n",
       "      <td>Data Analyst</td>\n",
       "      <td>2025-04-20T22:56:29Z</td>\n",
       "      <td>45.169472</td>\n",
       "      <td>-76.730824</td>\n",
       "      <td>Canada</td>\n",
       "      <td>Ontario</td>\n",
       "      <td>Peel region</td>\n",
       "      <td>Tata Consultancy Services</td>\n",
       "    </tr>\n",
       "    <tr>\n",
       "      <th>3</th>\n",
       "      <td>Position: Technical Data Analyst Location: Mon...</td>\n",
       "      <td>Technical Data Analyst</td>\n",
       "      <td>2025-05-31T22:30:19Z</td>\n",
       "      <td>47.029327</td>\n",
       "      <td>-94.640183</td>\n",
       "      <td>Canada</td>\n",
       "      <td>None</td>\n",
       "      <td>None</td>\n",
       "      <td>iTech US Inc</td>\n",
       "    </tr>\n",
       "    <tr>\n",
       "      <th>4</th>\n",
       "      <td>We are seeking an analytical and detail-orient...</td>\n",
       "      <td>Data Analyst</td>\n",
       "      <td>2025-05-30T23:28:35Z</td>\n",
       "      <td>47.029327</td>\n",
       "      <td>-94.640183</td>\n",
       "      <td>Canada</td>\n",
       "      <td>None</td>\n",
       "      <td>None</td>\n",
       "      <td>Critical Control Technologies</td>\n",
       "    </tr>\n",
       "    <tr>\n",
       "      <th>...</th>\n",
       "      <td>...</td>\n",
       "      <td>...</td>\n",
       "      <td>...</td>\n",
       "      <td>...</td>\n",
       "      <td>...</td>\n",
       "      <td>...</td>\n",
       "      <td>...</td>\n",
       "      <td>...</td>\n",
       "      <td>...</td>\n",
       "    </tr>\n",
       "    <tr>\n",
       "      <th>95</th>\n",
       "      <td>Overview Fundmetric is looking for a Software ...</td>\n",
       "      <td>Software Developer</td>\n",
       "      <td>2025-05-18T10:13:46Z</td>\n",
       "      <td>44.681555</td>\n",
       "      <td>-63.556363</td>\n",
       "      <td>Canada</td>\n",
       "      <td>Nova Scotia</td>\n",
       "      <td>Halifax region</td>\n",
       "      <td>Fundmetric</td>\n",
       "    </tr>\n",
       "    <tr>\n",
       "      <th>96</th>\n",
       "      <td>Job Introduction Frequentis Group with headqua...</td>\n",
       "      <td>Software Developer</td>\n",
       "      <td>2025-06-07T08:50:55Z</td>\n",
       "      <td>45.466091</td>\n",
       "      <td>-75.704464</td>\n",
       "      <td>Canada</td>\n",
       "      <td>Québec</td>\n",
       "      <td>Outaouais</td>\n",
       "      <td>Pivot + Edge</td>\n",
       "    </tr>\n",
       "    <tr>\n",
       "      <th>97</th>\n",
       "      <td>Who are we? Proax Technologies is a leading Te...</td>\n",
       "      <td>Software Developer</td>\n",
       "      <td>2024-09-20T07:53:38Z</td>\n",
       "      <td>42.933380</td>\n",
       "      <td>-81.205550</td>\n",
       "      <td>Canada</td>\n",
       "      <td>Ontario</td>\n",
       "      <td>Middlesex</td>\n",
       "      <td>Proax Technologies</td>\n",
       "    </tr>\n",
       "    <tr>\n",
       "      <th>98</th>\n",
       "      <td>Description We are seeking a Software Develope...</td>\n",
       "      <td>Software Developer</td>\n",
       "      <td>2025-05-24T10:22:58Z</td>\n",
       "      <td>47.029327</td>\n",
       "      <td>-94.640183</td>\n",
       "      <td>Canada</td>\n",
       "      <td>None</td>\n",
       "      <td>None</td>\n",
       "      <td>Nokia Global</td>\n",
       "    </tr>\n",
       "    <tr>\n",
       "      <th>99</th>\n",
       "      <td>Job Description Job Description Salary: Who ar...</td>\n",
       "      <td>Software Developer</td>\n",
       "      <td>2025-04-24T15:20:44Z</td>\n",
       "      <td>42.981065</td>\n",
       "      <td>-81.248057</td>\n",
       "      <td>Canada</td>\n",
       "      <td>Ontario</td>\n",
       "      <td>Middlesex</td>\n",
       "      <td>Proax Technologies</td>\n",
       "    </tr>\n",
       "  </tbody>\n",
       "</table>\n",
       "<p>100 rows × 9 columns</p>\n",
       "</div>"
      ],
      "text/plain": [
       "                                          description                   title  \\\n",
       "0   Akkodis is currently seeking a skilled Power B...            Data Analyst   \n",
       "1   About us Aquanow is a trading and technology c...            Data Analyst   \n",
       "2   Inclusion without Exception Tata Consultancy S...            Data Analyst   \n",
       "3   Position: Technical Data Analyst Location: Mon...  Technical Data Analyst   \n",
       "4   We are seeking an analytical and detail-orient...            Data Analyst   \n",
       "..                                                ...                     ...   \n",
       "95  Overview Fundmetric is looking for a Software ...      Software Developer   \n",
       "96  Job Introduction Frequentis Group with headqua...      Software Developer   \n",
       "97  Who are we? Proax Technologies is a leading Te...      Software Developer   \n",
       "98  Description We are seeking a Software Develope...      Software Developer   \n",
       "99  Job Description Job Description Salary: Who ar...      Software Developer   \n",
       "\n",
       "                 created   latitude  longitude country       region  \\\n",
       "0   2025-06-15T03:29:02Z  43.706102 -79.402726  Canada      Ontario   \n",
       "1   2025-05-20T17:15:34Z  43.706102 -79.402726  Canada      Ontario   \n",
       "2   2025-04-20T22:56:29Z  45.169472 -76.730824  Canada      Ontario   \n",
       "3   2025-05-31T22:30:19Z  47.029327 -94.640183  Canada         None   \n",
       "4   2025-05-30T23:28:35Z  47.029327 -94.640183  Canada         None   \n",
       "..                   ...        ...        ...     ...          ...   \n",
       "95  2025-05-18T10:13:46Z  44.681555 -63.556363  Canada  Nova Scotia   \n",
       "96  2025-06-07T08:50:55Z  45.466091 -75.704464  Canada       Québec   \n",
       "97  2024-09-20T07:53:38Z  42.933380 -81.205550  Canada      Ontario   \n",
       "98  2025-05-24T10:22:58Z  47.029327 -94.640183  Canada         None   \n",
       "99  2025-04-24T15:20:44Z  42.981065 -81.248057  Canada      Ontario   \n",
       "\n",
       "              city                   company_name  \n",
       "0          Toronto                        Akkodis  \n",
       "1          Toronto                        Aquanow  \n",
       "2      Peel region      Tata Consultancy Services  \n",
       "3             None                   iTech US Inc  \n",
       "4             None  Critical Control Technologies  \n",
       "..             ...                            ...  \n",
       "95  Halifax region                     Fundmetric  \n",
       "96       Outaouais                   Pivot + Edge  \n",
       "97       Middlesex             Proax Technologies  \n",
       "98            None                   Nokia Global  \n",
       "99       Middlesex             Proax Technologies  \n",
       "\n",
       "[100 rows x 9 columns]"
      ]
     },
     "execution_count": 17,
     "metadata": {},
     "output_type": "execute_result"
    }
   ],
   "source": [
    "employment_all"
   ]
  },
  {
   "cell_type": "markdown",
   "metadata": {},
   "source": [
    "Let us map the coordinates using ArcGis"
   ]
  },
  {
   "cell_type": "code",
   "execution_count": 18,
   "metadata": {},
   "outputs": [],
   "source": [
    "import arcgis\n",
    "from arcgis.gis import GIS\n",
    "# Create a GIS object, as an anonymous user for this example\n",
    "gis = GIS()"
   ]
  },
  {
   "cell_type": "code",
   "execution_count": 19,
   "metadata": {},
   "outputs": [
    {
     "name": "stdout",
     "output_type": "stream",
     "text": [
      "Python: 3.9.23 | packaged by conda-forge | (main, Jun  4 2025, 17:57:12) \n",
      "[GCC 13.3.0]\n",
      "Executable: /home/edgar/miniconda3/envs/arcgis_env/bin/python\n",
      "ArcGIS: 2.0.1\n",
      "Notebook: 6.5.4\n",
      "ipywidgets: 7.7.2\n"
     ]
    }
   ],
   "source": [
    "import sys\n",
    "import arcgis\n",
    "import notebook\n",
    "import ipywidgets\n",
    "print(\"Python:\", sys.version)\n",
    "print(\"Executable:\", sys.executable)\n",
    "print(\"ArcGIS:\", arcgis.__version__)\n",
    "print(\"Notebook:\", notebook.__version__)\n",
    "print(\"ipywidgets:\", ipywidgets.__version__)"
   ]
  },
  {
   "cell_type": "code",
   "execution_count": 20,
   "metadata": {},
   "outputs": [],
   "source": [
    "from arcgis.features import GeoAccessor, GeoSeriesAccessor\n",
    "from arcgis.widgets import MapView\n",
    "\n",
    "sdf = GeoAccessor.from_xy(employment_all, x_column='longitude', y_column='latitude')\n",
    "\n",
    "map_view = gis.map(\"Canada\", 4)\n",
    "\n",
    "sdf['popup_info'] = sdf['title']\n",
    "map_view.add_layer(sdf, options={\"popupTemplate\": {\"title\": \"{popup_info}\"}})\n"
   ]
  },
  {
   "cell_type": "code",
   "execution_count": 21,
   "metadata": {},
   "outputs": [
    {
     "data": {
      "application/vnd.jupyter.widget-view+json": {
       "model_id": "78711b4b08a54cf9b01be2cdba61d41e",
       "version_major": 2,
       "version_minor": 0
      },
      "text/plain": [
       "MapView(layout=Layout(height='400px', width='100%'))"
      ]
     },
     "metadata": {},
     "output_type": "display_data"
    },
    {
     "data": {
      "text/html": [
       "<div class=\"map-static-img-preview-d1d54e0f-4d33-4e53-b924-77276508ce0f\"><img src=\"\"></img></div>"
      ],
      "text/plain": [
       "<IPython.core.display.HTML object>"
      ]
     },
     "metadata": {},
     "output_type": "display_data"
    },
    {
     "data": {
      "text/html": [
       "<div class=\"map-html-embed-preview-d1d54e0f-4d33-4e53-b924-77276508ce0f\"></div>"
      ],
      "text/plain": [
       "<IPython.core.display.HTML object>"
      ]
     },
     "metadata": {},
     "output_type": "display_data"
    }
   ],
   "source": [
    "map_view"
   ]
  },
  {
   "cell_type": "markdown",
   "metadata": {},
   "source": [
    "As can be seen in the map above, most job openings in Canada are located in the Laurentian corridor(Which is where there is a higher population density)"
   ]
  },
  {
   "cell_type": "markdown",
   "metadata": {},
   "source": [
    "It is important to note that this notebook can only run with the proper kernel installations:\n",
    "\n",
    "Terminal:\n",
    "cd ~/workspace/Job\\ Portfolio/EdgarPortfolioDataScience\n",
    "nano arcgis_env.yml\n",
    "\n",
    "Yaml File:\n",
    "name: arcgis_env\n",
    "channels:\n",
    "  - esri\n",
    "  - conda-forge\n",
    "  - defaults\n",
    "dependencies:\n",
    "  - python=3.9\n",
    "  - arcgis=2.0.1\n",
    "  - notebook=6.5.4\n",
    "  - ipykernel=6.25.2\n",
    "  - ipywidgets=7.7.2\n",
    "  - jupyterlab=3.6.5\n",
    "  - pandas\n",
    "  - matplotlib\n",
    "  - scikit-learn\n",
    "  - nodejs=18\n",
    "\n",
    "Terminal:\n",
    "conda env create -f arcgis_env.yml\n",
    "conda activate arcgis_env\n",
    "pip install \"urllib3<2.0\"\n",
    "pip install geomet\n",
    "pip install ipywidgets==7.7.2 widgetsnbextension==3.6.4\n",
    "jupyter nbextension enable --py widgetsnbextension --sys-prefix\n",
    "jupyter nbextension enable --py arcgis --sys-prefix\n",
    "\n",
    "and of course:\n",
    "jupyter notebook"
   ]
  }
 ],
 "metadata": {
  "kernelspec": {
   "display_name": "Python (ArcGIS)",
   "language": "python",
   "name": "arcgis_env"
  },
  "language_info": {
   "codemirror_mode": {
    "name": "ipython",
    "version": 3
   },
   "file_extension": ".py",
   "mimetype": "text/x-python",
   "name": "python",
   "nbconvert_exporter": "python",
   "pygments_lexer": "ipython3",
   "version": "3.9.23"
  },
  "widgets": {
   "application/vnd.jupyter.widget-state+json": {
    "state": {
     "2b232c2efb2848e8ae4fce338d05f5da": {
      "model_module": "@jupyter-widgets/base",
      "model_module_version": "1.2.0",
      "model_name": "LayoutModel",
      "state": {
       "height": "400px",
       "width": "100%"
      }
     },
     "6db13d0695f6432ca0cb178a045f40df": {
      "model_module": "arcgis-map-ipywidget",
      "model_module_version": "2.0.1",
      "model_name": "ArcGISMapIPyWidgetModel",
      "state": {
       "_auth_mode": "anonymous",
       "_basemap": "default",
       "_draw_these_graphics_on_widget_load": [],
       "_draw_these_notype_layers_on_widget_load": [],
       "_gallery_basemaps": {
        "default": {
         "baseMapLayers": [
          {
           "layerType": "ArcGISTiledMapServiceLayer",
           "resourceInfo": {
            "capabilities": "Map,Tilemap,Query,Data",
            "currentVersion": 10.3,
            "exportTilesAllowed": false,
            "fullExtent": {
             "spatialReference": {
              "latestWkid": 3857,
              "wkid": 102100
             },
             "xmax": 20037507.067161843,
             "xmin": -20037507.067161843,
             "ymax": 19971868.88040863,
             "ymin": -19971868.880408604
            },
            "initialExtent": {
             "spatialReference": {
              "latestWkid": 3857,
              "wkid": 102100
             },
             "xmax": 28848255.049479112,
             "xmin": -28848255.049479112,
             "ymax": 16430757.376790084,
             "ymin": -2077452.082122866
            },
            "layers": [
             {
              "defaultVisibility": false,
              "id": 0,
              "maxScale": 0,
              "minScale": 0,
              "name": "Citations",
              "parentLayerId": -1,
              "subLayerIds": null
             }
            ],
            "mapName": "Layers",
            "maxImageHeight": 4096,
            "maxImageWidth": 4096,
            "maxRecordCount": 100,
            "maxScale": 70.5310735,
            "minScale": 591657527.591555,
            "singleFusedMapCache": true,
            "spatialReference": {
             "latestWkid": 3857,
             "wkid": 102100
            },
            "supportedExtensions": "KmlServer",
            "supportedImageFormatTypes": "PNG32,PNG24,PNG,JPG,DIB,TIFF,EMF,PS,PDF,GIF,SVG,SVGZ,BMP",
            "supportedQueryFormats": "JSON, AMF",
            "supportsDynamicLayers": false,
            "tables": [],
            "tileInfo": {
             "cols": 256,
             "compressionQuality": 90,
             "dpi": 96,
             "format": "JPEG",
             "lods": [
              {
               "level": 0,
               "resolution": 156543.03392800014,
               "scale": 591657527.591555
              },
              {
               "level": 1,
               "resolution": 78271.51696399994,
               "scale": 295828763.795777
              },
              {
               "level": 2,
               "resolution": 39135.75848200009,
               "scale": 147914381.897889
              },
              {
               "level": 3,
               "resolution": 19567.87924099992,
               "scale": 73957190.948944
              },
              {
               "level": 4,
               "resolution": 9783.93962049996,
               "scale": 36978595.474472
              },
              {
               "level": 5,
               "resolution": 4891.96981024998,
               "scale": 18489297.737236
              },
              {
               "level": 6,
               "resolution": 2445.98490512499,
               "scale": 9244648.868618
              },
              {
               "level": 7,
               "resolution": 1222.992452562495,
               "scale": 4622324.434309
              },
              {
               "level": 8,
               "resolution": 611.4962262813797,
               "scale": 2311162.217155
              },
              {
               "level": 9,
               "resolution": 305.74811314055756,
               "scale": 1155581.108577
              },
              {
               "level": 10,
               "resolution": 152.87405657041106,
               "scale": 577790.554289
              },
              {
               "level": 11,
               "resolution": 76.43702828507324,
               "scale": 288895.277144
              },
              {
               "level": 12,
               "resolution": 38.21851414253662,
               "scale": 144447.638572
              },
              {
               "level": 13,
               "resolution": 19.10925707126831,
               "scale": 72223.819286
              },
              {
               "level": 14,
               "resolution": 9.554628535634155,
               "scale": 36111.909643
              },
              {
               "level": 15,
               "resolution": 4.77731426794937,
               "scale": 18055.954822
              },
              {
               "level": 16,
               "resolution": 2.388657133974685,
               "scale": 9027.977411
              },
              {
               "level": 17,
               "resolution": 1.1943285668550503,
               "scale": 4513.988705
              },
              {
               "level": 18,
               "resolution": 0.5971642835598172,
               "scale": 2256.994353
              },
              {
               "level": 19,
               "resolution": 0.29858214164761665,
               "scale": 1128.497176
              },
              {
               "level": 20,
               "resolution": 0.14929107082380833,
               "scale": 564.248588
              },
              {
               "level": 21,
               "resolution": 0.07464553541190416,
               "scale": 282.124294
              },
              {
               "level": 22,
               "resolution": 0.03732276770595208,
               "scale": 141.062147
              },
              {
               "level": 23,
               "resolution": 0.01866138385297604,
               "scale": 70.5310735
              }
             ],
             "origin": {
              "x": -20037508.342787,
              "y": 20037508.342787
             },
             "rows": 256,
             "spatialReference": {
              "latestWkid": 3857,
              "wkid": 102100
             }
            },
            "units": "esriMeters"
           },
           "url": "https://services.arcgisonline.com/ArcGIS/rest/services/World_Topo_Map/MapServer"
          }
         ],
         "title": "Topographic"
        }
       },
       "_overlay_these_images_on_widget_load": [],
       "_portal_sharing_rest_url": "https://www.arcgis.com/sharing/rest/",
       "_portal_url": "https://www.arcgis.com/",
       "_username": "None",
       "_uuid": "867a8b13-1ee3-49bc-9833-80856cf45fef",
       "_webmap": {
        "authoringApp": "ArcGISPythonAPI",
        "authoringAppVersion": "2.0.1",
        "baseMap": {
         "baseMapLayers": [
          {
           "layerType": "ArcGISTiledMapServiceLayer",
           "resourceInfo": {
            "capabilities": "Map,Tilemap,Query,Data",
            "currentVersion": 10.3,
            "exportTilesAllowed": false,
            "fullExtent": {
             "spatialReference": {
              "latestWkid": 3857,
              "wkid": 102100
             },
             "xmax": 20037507.067161843,
             "xmin": -20037507.067161843,
             "ymax": 19971868.88040863,
             "ymin": -19971868.880408604
            },
            "initialExtent": {
             "spatialReference": {
              "latestWkid": 3857,
              "wkid": 102100
             },
             "xmax": 28848255.049479112,
             "xmin": -28848255.049479112,
             "ymax": 16430757.376790084,
             "ymin": -2077452.082122866
            },
            "layers": [
             {
              "defaultVisibility": false,
              "id": 0,
              "maxScale": 0,
              "minScale": 0,
              "name": "Citations",
              "parentLayerId": -1,
              "subLayerIds": null
             }
            ],
            "mapName": "Layers",
            "maxImageHeight": 4096,
            "maxImageWidth": 4096,
            "maxRecordCount": 100,
            "maxScale": 70.5310735,
            "minScale": 591657527.591555,
            "singleFusedMapCache": true,
            "spatialReference": {
             "latestWkid": 3857,
             "wkid": 102100
            },
            "supportedExtensions": "KmlServer",
            "supportedImageFormatTypes": "PNG32,PNG24,PNG,JPG,DIB,TIFF,EMF,PS,PDF,GIF,SVG,SVGZ,BMP",
            "supportedQueryFormats": "JSON, AMF",
            "supportsDynamicLayers": false,
            "tables": [],
            "tileInfo": {
             "cols": 256,
             "compressionQuality": 90,
             "dpi": 96,
             "format": "JPEG",
             "lods": [
              {
               "level": 0,
               "resolution": 156543.03392800014,
               "scale": 591657527.591555
              },
              {
               "level": 1,
               "resolution": 78271.51696399994,
               "scale": 295828763.795777
              },
              {
               "level": 2,
               "resolution": 39135.75848200009,
               "scale": 147914381.897889
              },
              {
               "level": 3,
               "resolution": 19567.87924099992,
               "scale": 73957190.948944
              },
              {
               "level": 4,
               "resolution": 9783.93962049996,
               "scale": 36978595.474472
              },
              {
               "level": 5,
               "resolution": 4891.96981024998,
               "scale": 18489297.737236
              },
              {
               "level": 6,
               "resolution": 2445.98490512499,
               "scale": 9244648.868618
              },
              {
               "level": 7,
               "resolution": 1222.992452562495,
               "scale": 4622324.434309
              },
              {
               "level": 8,
               "resolution": 611.4962262813797,
               "scale": 2311162.217155
              },
              {
               "level": 9,
               "resolution": 305.74811314055756,
               "scale": 1155581.108577
              },
              {
               "level": 10,
               "resolution": 152.87405657041106,
               "scale": 577790.554289
              },
              {
               "level": 11,
               "resolution": 76.43702828507324,
               "scale": 288895.277144
              },
              {
               "level": 12,
               "resolution": 38.21851414253662,
               "scale": 144447.638572
              },
              {
               "level": 13,
               "resolution": 19.10925707126831,
               "scale": 72223.819286
              },
              {
               "level": 14,
               "resolution": 9.554628535634155,
               "scale": 36111.909643
              },
              {
               "level": 15,
               "resolution": 4.77731426794937,
               "scale": 18055.954822
              },
              {
               "level": 16,
               "resolution": 2.388657133974685,
               "scale": 9027.977411
              },
              {
               "level": 17,
               "resolution": 1.1943285668550503,
               "scale": 4513.988705
              },
              {
               "level": 18,
               "resolution": 0.5971642835598172,
               "scale": 2256.994353
              },
              {
               "level": 19,
               "resolution": 0.29858214164761665,
               "scale": 1128.497176
              },
              {
               "level": 20,
               "resolution": 0.14929107082380833,
               "scale": 564.248588
              },
              {
               "level": 21,
               "resolution": 0.07464553541190416,
               "scale": 282.124294
              },
              {
               "level": 22,
               "resolution": 0.03732276770595208,
               "scale": 141.062147
              },
              {
               "level": 23,
               "resolution": 0.01866138385297604,
               "scale": 70.5310735
              }
             ],
             "origin": {
              "x": -20037508.342787,
              "y": 20037508.342787
             },
             "rows": 256,
             "spatialReference": {
              "latestWkid": 3857,
              "wkid": 102100
             }
            },
            "units": "esriMeters"
           },
           "url": "https://services.arcgisonline.com/ArcGIS/rest/services/World_Topo_Map/MapServer"
          }
         ],
         "title": "Topographic"
        },
        "operationalLayers": [
         {
          "featureCollection": {
           "layers": [
            {
             "featureSet": {
              "features": [
               {
                "attributes": {
                 "OBJECTID": 1,
                 "city": "Toronto",
                 "company_name": "Akkodis",
                 "country": "Canada",
                 "created": "2025-06-15T03:29:02Z",
                 "description": "Akkodis is currently seeking a skilled Power BI Data Analyst with a strong background in HR systems for a contract opportunity with a prominent client based in Toronto, ON. This hybrid role is ideal for a data professional experienced in handling large datasets, developing insightful Power BI reports, and validating data through SQL scripting. Familiarity with SuccessFactors People Analytics is highly preferred. Position: PowerBI Data Analyst (HR Systems) Location: Toronto, ON (Hybrid) Contract…",
                 "latitude": 43.70610200000001,
                 "longitude": -79.402726,
                 "popup_info": "Data Analyst",
                 "region": "Ontario",
                 "title": "Data Analyst"
                },
                "geometry": {
                 "spatialReference": {
                  "wkid": 4326
                 },
                 "x": -79.402726,
                 "y": 43.70610200000001
                }
               },
               {
                "attributes": {
                 "OBJECTID": 2,
                 "city": "Toronto",
                 "company_name": "Aquanow",
                 "country": "Canada",
                 "created": "2025-05-20T17:15:34Z",
                 "description": "About us Aquanow is a trading and technology company powering the next generation of financial services. We’re at the forefront of the rapidly evolving digital asset space, empowering businesses to navigate the complexities of cryptocurrencies and blockchain technologies. As a leading provider of infrastructure solutions, we offer innovative services in cryptocurrency trading, liquidity management, and secure digital asset storage. Our platform is built to deliver seamless, scalable, and reliab…",
                 "latitude": 43.706102,
                 "longitude": -79.402726,
                 "popup_info": "Data Analyst",
                 "region": "Ontario",
                 "title": "Data Analyst"
                },
                "geometry": {
                 "spatialReference": {
                  "wkid": 4326
                 },
                 "x": -79.402726,
                 "y": 43.706102
                }
               },
               {
                "attributes": {
                 "OBJECTID": 3,
                 "city": "Peel region",
                 "company_name": "Tata Consultancy Services",
                 "country": "Canada",
                 "created": "2025-04-20T22:56:29Z",
                 "description": "Inclusion without Exception Tata Consultancy Services (TCS) is an equal opportunity employer, and embraces diversity in race, nationality, ethnicity, gender, age, physical ability, neurodiversity, and sexual orientation, to create a workforce that reflects the societies we operate in. Our continued commitment to Culture and Diversity is reflected in our people’s stories across our workforce and implemented through equitable workplace policies and processes. About TCS TCS is an IT services, cons…",
                 "latitude": 45.169472000000006,
                 "longitude": -76.73082433333333,
                 "popup_info": "Data Analyst",
                 "region": "Ontario",
                 "title": "Data Analyst"
                },
                "geometry": {
                 "spatialReference": {
                  "wkid": 4326
                 },
                 "x": -76.73082433333333,
                 "y": 45.169472000000006
                }
               },
               {
                "attributes": {
                 "OBJECTID": 4,
                 "city": null,
                 "company_name": "iTech US Inc",
                 "country": "Canada",
                 "created": "2025-05-31T22:30:19Z",
                 "description": "Position: Technical Data Analyst Location: Montreal, QC Duration: 12 Months Job Responsibilities Uplift strategic Fixed Income Cash & FX systems to enable the capture of data flows in the firmwide data catalog. Annotate system code to define, and document data sets, that represent the risk data that is processed and stored within our systems. Modify build systems to automatically publish those data sets and any updates or changes to them in an accurate and timely fashion. Work with upstream and…",
                 "latitude": 47.02932666666666,
                 "longitude": -94.64018333333333,
                 "popup_info": "Technical Data Analyst",
                 "region": null,
                 "title": "Technical Data Analyst"
                },
                "geometry": {
                 "spatialReference": {
                  "wkid": 4326
                 },
                 "x": -94.64018333333333,
                 "y": 47.02932666666666
                }
               },
               {
                "attributes": {
                 "OBJECTID": 5,
                 "city": null,
                 "company_name": "Critical Control Technologies",
                 "country": "Canada",
                 "created": "2025-05-30T23:28:35Z",
                 "description": "We are seeking an analytical and detail-oriented Data Analyst to join our team. This role is crucial in supporting data-driven decision making by maintaining and developing financial and operational dashboards and models. The ideal candidate is not only technically skilled, but also collaborative, with the ability to work cross-functionally and respond to dynamic business needs. Key Responsibilities: Maintain, enhance, and develop financial and operational models and dashboards to support busin…",
                 "latitude": 47.02932666666666,
                 "longitude": -94.64018333333333,
                 "popup_info": "Data Analyst",
                 "region": null,
                 "title": "Data Analyst"
                },
                "geometry": {
                 "spatialReference": {
                  "wkid": 4326
                 },
                 "x": -94.64018333333333,
                 "y": 47.02932666666666
                }
               },
               {
                "attributes": {
                 "OBJECTID": 6,
                 "city": "Toronto",
                 "company_name": "Tata Consultancy Services",
                 "country": "Canada",
                 "created": "2025-06-04T02:11:26Z",
                 "description": "Inclusion without Exception: Tata Consultancy Services (TCS) is an equal opportunity employer, and embraces diversity in race, nationality, ethnicity, gender, age, physical ability, neurodiversity, and sexual orientation, to create a workforce that reflects the societies we operate in. Our continued commitment to Culture and Diversity is reflected in our people stories across our workforce and implemented through equitable workplace policies and processes. TCS is an IT services, consulting, and…",
                 "latitude": 43.706102,
                 "longitude": -79.402726,
                 "popup_info": "Data Analyst",
                 "region": "Ontario",
                 "title": "Data Analyst"
                },
                "geometry": {
                 "spatialReference": {
                  "wkid": 4326
                 },
                 "x": -79.402726,
                 "y": 43.706102
                }
               },
               {
                "attributes": {
                 "OBJECTID": 7,
                 "city": "Toronto",
                 "company_name": "C5i",
                 "country": "Canada",
                 "created": "2025-06-14T02:00:12Z",
                 "description": "C5i is a pure-play AI & Analytics provider that combines the power of human perspective with AI technology to deliver trustworthy intelligence. The company drives value through a comprehensive solution set, integrating multifunctional teams that have technical and business domain expertise with a robust suite of products, solutions, and accelerators tailored for various horizontal and industry-specific use cases. At the core, C5i’s focus is to deliver business impact at speed and scale by drivi…",
                 "latitude": 43.706102,
                 "longitude": -79.402726,
                 "popup_info": "Data Analyst",
                 "region": "Ontario",
                 "title": "Data Analyst"
                },
                "geometry": {
                 "spatialReference": {
                  "wkid": 4326
                 },
                 "x": -79.402726,
                 "y": 43.706102
                }
               },
               {
                "attributes": {
                 "OBJECTID": 8,
                 "city": null,
                 "company_name": "Belron Canada Inc.",
                 "country": "Canada",
                 "created": "2025-06-19T08:23:42Z",
                 "description": "Automotive glass technology is helping transform how we experience the road. At Belron Canada , the home office of Speedy Glass, Lebeau vitres d’auto and Vanfax we take this seriously, which is why we invest tirelessly on developing our people can realize their full potential. We welcome applications from everyone, and are firmly committed to diversity, equity and inclusion in the workplace, and take pride in ensuring every member of our team feels empowered. Position Overview We’re hiring a st…",
                 "latitude": 47.02932666666666,
                 "longitude": -94.64018333333333,
                 "popup_info": "Business Data Analyst",
                 "region": null,
                 "title": "Business Data Analyst"
                },
                "geometry": {
                 "spatialReference": {
                  "wkid": 4326
                 },
                 "x": -94.64018333333333,
                 "y": 47.02932666666666
                }
               },
               {
                "attributes": {
                 "OBJECTID": 9,
                 "city": null,
                 "company_name": "National Bank",
                 "country": "Canada",
                 "created": "2025-06-12T08:23:18Z",
                 "description": "A career as Chief Data Analyst in the IT Marketing team at National Bank is to be an expert in data analytics. It is through your analytical experience and data knowledge that you have a positive impact. Your job Develop, automate and put into production data processing processes using technologies such as SQL, Snowflake, Databricks, and Bitbucket Ensure the correct flow of data in the 360 view Collaborate with various stakeholders to manage, optimize and architect the marketing data ecosystem,…",
                 "latitude": 47.02932666666666,
                 "longitude": -94.64018333333333,
                 "popup_info": "Chief Data Analyst",
                 "region": null,
                 "title": "Chief Data Analyst"
                },
                "geometry": {
                 "spatialReference": {
                  "wkid": 4326
                 },
                 "x": -94.64018333333333,
                 "y": 47.02932666666666
                }
               },
               {
                "attributes": {
                 "OBJECTID": 10,
                 "city": "Toronto",
                 "company_name": "Haptiq",
                 "country": "Canada",
                 "created": "2025-05-28T22:12:19Z",
                 "description": "Overview Haptiq is a leader in delivering digital solutions and consulting services that drive value and transform businesses. We specialize in leveraging technology to improve efficiencies and offer comprehensive solutions tailored to meet the unique needs of our clients across various industries. As well as bringing next-generation technology to private capital markets through the Olympus suite of cloud-based solutions designed to empower private equity and credit funds, as well as the firms …",
                 "latitude": 43.706102,
                 "longitude": -79.402726,
                 "popup_info": "Power BI Data Analyst",
                 "region": "Ontario",
                 "title": "Power BI Data Analyst"
                },
                "geometry": {
                 "spatialReference": {
                  "wkid": 4326
                 },
                 "x": -79.402726,
                 "y": 43.706102
                }
               },
               {
                "attributes": {
                 "OBJECTID": 11,
                 "city": "Peel region",
                 "company_name": "Tata Consultancy Services",
                 "country": "Canada",
                 "created": "2025-05-29T23:13:10Z",
                 "description": "Inclusion without Exception Tata Consultancy Services (TCS) is an equal opportunity employer, and embraces diversity in race, nationality, ethnicity, gender, age, physical ability, neurodiversity, and sexual orientation, to create a workforce that reflects the societies we operate in. Our continued commitment to Culture and Diversity is reflected in our people’s stories across our workforce and implemented through equitable workplace policies and processes. TCS is an IT services, consulting, an…",
                 "latitude": 45.169472000000006,
                 "longitude": -76.73082433333333,
                 "popup_info": "GCP Data Analyst",
                 "region": "Ontario",
                 "title": "GCP Data Analyst"
                },
                "geometry": {
                 "spatialReference": {
                  "wkid": 4326
                 },
                 "x": -76.73082433333333,
                 "y": 45.169472000000006
                }
               },
               {
                "attributes": {
                 "OBJECTID": 12,
                 "city": "Greater Vancouver",
                 "company_name": "Insight Global",
                 "country": "Canada",
                 "created": "2025-06-14T01:57:22Z",
                 "description": "Logistics: Role Type: Full-Time, Permanent Role Environment: Hybrid, On-Site 3x/week (full-time for first 3-months during onboarding) Salary: $77,000-$91,000/yr Full Benefits Included Job Description Day-to-Day Insight Global is looking for a Sr. Data Analyst to join our client in the marketing industry on a full-time, permanent basis. This role will initially be a fully on-site opportunity for the first 3-months while the successful candidate is onboarded, and then transition to on-site 3-days…",
                 "latitude": 49.256582,
                 "longitude": -122.898456,
                 "popup_info": "Senior Data Analyst",
                 "region": "British Columbia",
                 "title": "Senior Data Analyst"
                },
                "geometry": {
                 "spatialReference": {
                  "wkid": 4326
                 },
                 "x": -122.898456,
                 "y": 49.256582
                }
               },
               {
                "attributes": {
                 "OBJECTID": 13,
                 "city": "Greater Vancouver",
                 "company_name": "Summit Search Group",
                 "country": "Canada",
                 "created": "2025-06-11T23:07:32Z",
                 "description": "Position Title: Western Canada Operations Data Analyst Department: Operations Support Reports To: Western Canada Manager, Operations Data Direct Reports: None Indirect Reports: None Date: April 2025 Purpose of Position The Western Canada Operations Data Analyst supports the development and maintenance of operational datasets and reporting tools that drive performance, consistency, and continuous improvement across collection and post-collection programs in Western Canada. This role transforms r…",
                 "latitude": 49.256582,
                 "longitude": -122.898456,
                 "popup_info": "Western Canada Operations Data Analyst",
                 "region": "British Columbia",
                 "title": "Western Canada Operations Data Analyst"
                },
                "geometry": {
                 "spatialReference": {
                  "wkid": 4326
                 },
                 "x": -122.898456,
                 "y": 49.256582
                }
               },
               {
                "attributes": {
                 "OBJECTID": 14,
                 "city": "Toronto",
                 "company_name": "Tundra Technical Solutions",
                 "country": "Canada",
                 "created": "2025-05-31T22:30:20Z",
                 "description": "Job Title: Data Governance Analyst – Capital Markets Location: Toronto, ON (Hybrid) Department: Capital Markets – Data Governance Employment Type: Contract About the Role: We are seeking a highly motivated Data Governance Analyst (Junior to Intermediate level) to join the Capital Markets Data Governance team at one of Canada’s leading financial institutions. This role plays a key part in advancing the bank’s data governance maturity by supporting enterprise-wide standards, improving data qualit…",
                 "latitude": 43.706102,
                 "longitude": -79.402726,
                 "popup_info": "Data Governance Analyst",
                 "region": "Ontario",
                 "title": "Data Governance Analyst"
                },
                "geometry": {
                 "spatialReference": {
                  "wkid": 4326
                 },
                 "x": -79.402726,
                 "y": 43.706102
                }
               },
               {
                "attributes": {
                 "OBJECTID": 15,
                 "city": "York region",
                 "company_name": "Paymentus",
                 "country": "Canada",
                 "created": "2025-05-20T17:13:25Z",
                 "description": "Data loss prevention (DLP) systems detect potential data breach incidents in a timely manner and prevent them by monitoring data while in-use, in-transit, and at-rest. DLP systems can be both appliance-based and host-based with components for network monitoring, discovery scanning, and perimeter protection. Paymentus is seeking a Data Loss Prevention (DLP) Engineer with a foundational understanding of Privileged Access Management (PAM) and Identity and Access Management (IAM) to join our growin…",
                 "latitude": 43.883951,
                 "longitude": -79.431638,
                 "popup_info": "Data Security Analyst",
                 "region": "Ontario",
                 "title": "Data Security Analyst"
                },
                "geometry": {
                 "spatialReference": {
                  "wkid": 4326
                 },
                 "x": -79.431638,
                 "y": 43.883951
                }
               },
               {
                "attributes": {
                 "OBJECTID": 16,
                 "city": "Ottawa region",
                 "company_name": "Farm Boy Inc.",
                 "country": "Canada",
                 "created": "2025-06-11T07:09:23Z",
                 "description": "Job Description Reporting to the Vice-President, Replenishment & Supply Chain Administration, this role is responsible for turning data into information and insights that support business decisions with the purpose of achieving the Farm Boy’s vision, maximizing sales, and enabling the strategic growth of the company. The performance of the duties must ensure a quality service approach to all employees, customers and suppliers. All responsibilities must be performed in a manner consistent with t…",
                 "latitude": 45.391410666666665,
                 "longitude": -75.67048533333333,
                 "popup_info": "Data Analyst",
                 "region": "Ontario",
                 "title": "Data Analyst"
                },
                "geometry": {
                 "spatialReference": {
                  "wkid": 4326
                 },
                 "x": -75.67048533333333,
                 "y": 45.391410666666665
                }
               },
               {
                "attributes": {
                 "OBJECTID": 17,
                 "city": "Greater Vancouver",
                 "company_name": "Swim Recruiting",
                 "country": "Canada",
                 "created": "2025-06-06T07:31:38Z",
                 "description": "6-month contract Data Analyst role at a global enterprise organization with hybrid work in Vancouver. Contract data analyst role. Global enterprise organization experiencing large scale growth. Hybrid work environment in Vancouver, 3 days a week in office. What & Why: As a result of investment our client is looking to add a contract data analyst to their team to support their call centre powered by Salesforce technology. This role focuses on supporting data-driven initiatives by documenting dat…",
                 "latitude": 49.256582,
                 "longitude": -122.898456,
                 "popup_info": "Data Analyst",
                 "region": "British Columbia",
                 "title": "Data Analyst"
                },
                "geometry": {
                 "spatialReference": {
                  "wkid": 4326
                 },
                 "x": -122.898456,
                 "y": 49.256582
                }
               },
               {
                "attributes": {
                 "OBJECTID": 18,
                 "city": "Greater Vancouver",
                 "company_name": "Insight Global",
                 "country": "Canada",
                 "created": "2025-05-10T12:19:16Z",
                 "description": "Job Description Insight Global is looking for a Data Analyst to join one of North America's largest retail and wellness companies. The ideal candidates will be joining the Guest Education Center technology team that focuses on supporting technology to improve the retail guest experience. The Data Analyst will be responsible for building view within snowflake for stakeholder data presentations. A day in the life: Develop and implement data collection, processing, and analysis approach Identify d…",
                 "latitude": 49.256582,
                 "longitude": -122.898456,
                 "popup_info": "Data Analyst",
                 "region": "British Columbia",
                 "title": "Data Analyst"
                },
                "geometry": {
                 "spatialReference": {
                  "wkid": 4326
                 },
                 "x": -122.898456,
                 "y": 49.256582
                }
               },
               {
                "attributes": {
                 "OBJECTID": 19,
                 "city": "Greater Vancouver",
                 "company_name": "Rubicon Organics",
                 "country": "Canada",
                 "created": "2025-05-11T10:20:21Z",
                 "description": "←Back to all jobs at Rubicon Organics Inc. Data Analyst Rubicon Organics’ mission is to grow the best cannabis on Earth and for the Earth and today we are doing just that out of our state-of-the art greenhouse facility located in Delta, B.C. We are growing and expanding quickly while on our journey as Canada’s leading house of premium brands. We are seeking a skilled and detail-oriented Data Analyst with strong expertise in Power BI and Advanced Excel to join our analytics team. The ideal candi…",
                 "latitude": 49.0869,
                 "longitude": -122.97937,
                 "popup_info": "Data Analyst",
                 "region": "British Columbia",
                 "title": "Data Analyst"
                },
                "geometry": {
                 "spatialReference": {
                  "wkid": 4326
                 },
                 "x": -122.97937,
                 "y": 49.0869
                }
               },
               {
                "attributes": {
                 "OBJECTID": 20,
                 "city": null,
                 "company_name": "E-Trade",
                 "country": "Canada",
                 "created": "2025-05-18T10:12:35Z",
                 "description": "Job Number: 4629 External Description: This position is with the Enterprise System Management (ESM) department. The position is with a team responsible for managing Morgan Stanley’s IT inventory and assets data. This data is critical for regulatory, operational, and efficiency purposes. As part of a team focused on rationalizing different legacy hardware asset and configuration management solutions into a single strategic platform, we are looking for a data analyst. This is a dual role requirin…",
                 "latitude": 47.02932666666666,
                 "longitude": -94.64018333333333,
                 "popup_info": "Data Analyst",
                 "region": null,
                 "title": "Data Analyst"
                },
                "geometry": {
                 "spatialReference": {
                  "wkid": 4326
                 },
                 "x": -94.64018333333333,
                 "y": 47.02932666666666
                }
               },
               {
                "attributes": {
                 "OBJECTID": 21,
                 "city": "Greater Vancouver",
                 "company_name": "NEARSOURCE TECHNOLOGIES",
                 "country": "Canada",
                 "created": "2025-06-11T08:01:31Z",
                 "description": "Join a leading Fortune 500 company that values data-driven decision-making and innovation. We are looking for a skilled Data Analyst to join our dynamic team and help translate business questions into actionable insights that guide strategic decisions at the executive level. This is an excellent opportunity to work on high-impact dashboards and reports used by senior leadership, including COO staff and executive teams. Job Title: Data Analyst Job Location: 100 % Remote (Canada) Time Zone: PST W…",
                 "latitude": 49.256582,
                 "longitude": -122.898456,
                 "popup_info": "Data Analyst",
                 "region": "British Columbia",
                 "title": "Data Analyst"
                },
                "geometry": {
                 "spatialReference": {
                  "wkid": 4326
                 },
                 "x": -122.898456,
                 "y": 49.256582
                }
               },
               {
                "attributes": {
                 "OBJECTID": 22,
                 "city": "Winnipeg region",
                 "company_name": "Compass Group",
                 "country": "Canada",
                 "created": "2025-05-29T16:21:34Z",
                 "description": "You might not know our name, but you know where we are. That’s because Compass Group Canada is part of a global foodservice and support services company that’s the 6th largest employer in the world, with 625,000 employees. You’ll find us in schools, colleges, hospitals, office buildings, senior living communities, tourist attractions, sports venues, remote camps and military installations and more. We’re in all major cities, at remote work sites and everywhere in between – doing business in Can…",
                 "latitude": 49.976565,
                 "longitude": -97.089537,
                 "popup_info": "Data Analyst",
                 "region": "Manitoba",
                 "title": "Data Analyst"
                },
                "geometry": {
                 "spatialReference": {
                  "wkid": 4326
                 },
                 "x": -97.089537,
                 "y": 49.976565
                }
               },
               {
                "attributes": {
                 "OBJECTID": 23,
                 "city": "Edmonton region",
                 "company_name": "JSG ",
                 "country": "Canada",
                 "created": "2025-06-05T06:45:33Z",
                 "description": "Job Description Job Overview Data Analyst is expected to provide expertise in data collection, data-driven storytelling, statistical analysis, data modelling and visualization, data policies and governance standards. The data analyst will also create plans and strategies to identify the various linkages between new and existing data forms, resulting in the integration of data models, development of data policies, and presentation of statistical analysis and data visualizations to help understan…",
                 "latitude": 53.536055,
                 "longitude": -113.502542,
                 "popup_info": "Data Analyst",
                 "region": "Alberta",
                 "title": "Data Analyst"
                },
                "geometry": {
                 "spatialReference": {
                  "wkid": 4326
                 },
                 "x": -113.502542,
                 "y": 53.536055
                }
               },
               {
                "attributes": {
                 "OBJECTID": 24,
                 "city": "Halifax region",
                 "company_name": "Jazz Aviation LP",
                 "country": "Canada",
                 "created": "2025-03-09T13:13:16Z",
                 "description": "Basic Purpose of Position The Data Analyst will be responsible for transitioning existing reports from legacy tools to new data visualization platforms, primarily Power BI. This role involves understanding current reporting requirements, designing and implementing new reporting solutions, and ensuring data accuracy and integrity throughout the migration process. Key Responsibilities Analyze Existing Reports\\: Review and understand current reports in legacy tools to identify key metrics and data…",
                 "latitude": 44.681555,
                 "longitude": -63.556363,
                 "popup_info": "Data Analyst",
                 "region": "Nova Scotia",
                 "title": "Data Analyst"
                },
                "geometry": {
                 "spatialReference": {
                  "wkid": 4326
                 },
                 "x": -63.556363,
                 "y": 44.681555
                }
               },
               {
                "attributes": {
                 "OBJECTID": 25,
                 "city": "Montréal",
                 "company_name": "Central Business Solutions",
                 "country": "Canada",
                 "created": "2024-07-30T17:30:29Z",
                 "description": "Job Description Responsible to build various report and dashboard / maintain existing ones to track critical metrics and project stats such as firm wide encryption status and data in transit encryption metrics across multiple products as examples. Skills: 4  Years of Experience as Data Analyst Clear communicator Strong sense of ownership Being able to work independently. Attention to detail. Python Basic data engineering (or developing complex reporting structures) Data governance experience wo…",
                 "latitude": 45.49797,
                 "longitude": -73.55521,
                 "popup_info": "Data Analyst",
                 "region": "Québec",
                 "title": "Data Analyst"
                },
                "geometry": {
                 "spatialReference": {
                  "wkid": 4326
                 },
                 "x": -73.55521,
                 "y": 45.49797
                }
               },
               {
                "attributes": {
                 "OBJECTID": 26,
                 "city": "Laval region",
                 "company_name": "FGL Sports",
                 "country": "Canada",
                 "created": "2025-03-30T13:45:12Z",
                 "description": "What you’ll do Joining the Canadian Tire team in the FGL Sports division, you will be working as part of a team of data management analysts. Your role as a Data Analyst will be to support the Data Architecture in the development of various query requirements across multiple enterprise database sources. Design, implement and manage the structure of reporting systems. The Data Analyst is responsible for data extraction initiatives from our various systems, validation with business departments for…",
                 "latitude": 43.050778,
                 "longitude": -80.76784033333333,
                 "popup_info": "Data Analyst",
                 "region": "Québec",
                 "title": "Data Analyst"
                },
                "geometry": {
                 "spatialReference": {
                  "wkid": 4326
                 },
                 "x": -80.76784033333333,
                 "y": 43.050778
                }
               },
               {
                "attributes": {
                 "OBJECTID": 27,
                 "city": "Toronto",
                 "company_name": "Insight Global",
                 "country": "Canada",
                 "created": "2025-06-13T12:57:13Z",
                 "description": "Job Description We are seeking a motivated and detail-oriented Junior Data Analyst to support our innovative Generative AI (GenAI) initiatives within a leading financial institution. This role is ideal for someone early in their data career who has a strong interest in data analysis, reporting, and data quality, and is eager to grow their skills in a dynamic and collaborative environment. As a Junior Data Analyst on the GenAI team, you will work closely with data engineers and AI researchers to…",
                 "latitude": 43.706102,
                 "longitude": -79.402726,
                 "popup_info": "Data Analyst",
                 "region": "Ontario",
                 "title": "Data Analyst"
                },
                "geometry": {
                 "spatialReference": {
                  "wkid": 4326
                 },
                 "x": -79.402726,
                 "y": 43.706102
                }
               },
               {
                "attributes": {
                 "OBJECTID": 28,
                 "city": "Toronto",
                 "company_name": "TheAppLabb",
                 "country": "Canada",
                 "created": "2025-03-07T12:07:09Z",
                 "description": "About TheAILabb: TheAILabb is a leading innovation company specializing in AI-powered digital solutions, mobile app development, and emerging technologies. We leverage data-driven insights to enhance digital experiences and drive business growth. We are looking for a Data Analyst to help translate raw data into meaningful insights that drive strategic decision-making. Role Overview: As a Data Analyst at TheAILabb , you will analyze complex datasets, create interactive visualizations, and genera…",
                 "latitude": 43.65404,
                 "longitude": -79.38768,
                 "popup_info": "Data Analyst",
                 "region": "Ontario",
                 "title": "Data Analyst"
                },
                "geometry": {
                 "spatialReference": {
                  "wkid": 4326
                 },
                 "x": -79.38768,
                 "y": 43.65404
                }
               },
               {
                "attributes": {
                 "OBJECTID": 29,
                 "city": "Essex region",
                 "company_name": "Rocket Innovation Studio",
                 "country": "Canada",
                 "created": "2025-06-17T06:54:13Z",
                 "description": "As a Data Analyst, you’ll be responsible for advising business area leaders on decision making and measuring the impact of investments through leveraging various sources for data analysis. You’ll apply statistics, enterprise reporting tools, and technical expertise to support tactical and operational reporting for a business area. With the backing of Rocket, Rocket Innovation Studio (RIS) is able to capitalize on the creativity and growth of a startup environment with the stability and enterpri…",
                 "latitude": 42.294277,
                 "longitude": -82.996859,
                 "popup_info": "Data Analyst",
                 "region": "Ontario",
                 "title": "Data Analyst"
                },
                "geometry": {
                 "spatialReference": {
                  "wkid": 4326
                 },
                 "x": -82.996859,
                 "y": 42.294277
                }
               },
               {
                "attributes": {
                 "OBJECTID": 30,
                 "city": "Toronto",
                 "company_name": "Annex It Solutions",
                 "country": "Canada",
                 "created": "2025-06-04T19:49:08Z",
                 "description": "Were seeking a detail-oriented and analytical Data Analyst to collect, analyze, and interpret complex datasets that help inform business decisions. You will work closely with various teams to deliver insights that drive strategy and operational improvements. Key Responsibilities: Gather, clean, and organize data from multiple sources. Perform data analysis to identify trends, patterns, and actionable insights. Develop and maintain dashboards, reports, and visualizations using BI tools like Tabl…",
                 "latitude": 43.706102,
                 "longitude": -79.402726,
                 "popup_info": "Data Analyst",
                 "region": "Ontario",
                 "title": "Data Analyst"
                },
                "geometry": {
                 "spatialReference": {
                  "wkid": 4326
                 },
                 "x": -79.402726,
                 "y": 43.706102
                }
               },
               {
                "attributes": {
                 "OBJECTID": 31,
                 "city": null,
                 "company_name": "Stripe",
                 "country": "Canada",
                 "created": "2024-12-13T05:29:47Z",
                 "description": "About Stripe Stripe is a financial infrastructure platform for businesses. Millions of companies—from the world’s largest enterprises to the most ambitious startups—use Stripe to accept payments, grow their revenue, and accelerate new business opportunities. Our mission is to increase the GDP of the internet, and we have a staggering amount of work ahead. That means you have an unprecedented opportunity to put the global economy within everyone’s reach while doing the most important work of you…",
                 "latitude": 47.02932666666666,
                 "longitude": -94.64018333333333,
                 "popup_info": "Data Analyst",
                 "region": null,
                 "title": "Data Analyst"
                },
                "geometry": {
                 "spatialReference": {
                  "wkid": 4326
                 },
                 "x": -94.64018333333333,
                 "y": 47.02932666666666
                }
               },
               {
                "attributes": {
                 "OBJECTID": 32,
                 "city": "Middlesex",
                 "company_name": "Canada Life",
                 "country": "Canada",
                 "created": "2025-06-15T06:38:27Z",
                 "description": "Permanent Full Time Canada Life is seeking a highly skilled Data Analyst to join the Insurance Solutions team. As an important part of the Performance Measurement area, this role will be responsible for supporting the data management, analysis, and reporting needs of the department. The Data Analyst supports decision making, monitors business performance, and provides actionable insights using analytics and visualizations geared to the audience. The role will benefit from collaboration with act…",
                 "latitude": 42.981065,
                 "longitude": -81.248057,
                 "popup_info": "Data Analyst",
                 "region": "Ontario",
                 "title": "Data Analyst"
                },
                "geometry": {
                 "spatialReference": {
                  "wkid": 4326
                 },
                 "x": -81.248057,
                 "y": 42.981065
                }
               },
               {
                "attributes": {
                 "OBJECTID": 33,
                 "city": "Hamilton region",
                 "company_name": "Dillon Consulting Limited",
                 "country": "Canada",
                 "created": "2025-06-15T06:38:27Z",
                 "description": "Are you a skilled Data Analyst passionate about leading the implementation and management of impactful data-driven solutions? Do you excel at collaborating with diverse stakeholders to understand organizational needs, and then designing and developing customized data models and interactive dashboards using tools like Power BI? Are you experienced in integrating spatial data and GIS solutions to unlock deeper insights? If you enjoy managing the full project lifecycle, from initial assessment to …",
                 "latitude": 43.237889,
                 "longitude": -79.849914,
                 "popup_info": "Data Analyst",
                 "region": "Ontario",
                 "title": "Data Analyst"
                },
                "geometry": {
                 "spatialReference": {
                  "wkid": 4326
                 },
                 "x": -79.849914,
                 "y": 43.237889
                }
               },
               {
                "attributes": {
                 "OBJECTID": 34,
                 "city": "Toronto",
                 "company_name": "Dillon Consulting Limited",
                 "country": "Canada",
                 "created": "2025-01-09T15:27:17Z",
                 "description": "Are you a skilled Data Analyst passionate about leading the implementation and management of impactful data-driven solutions? Do you excel at collaborating with diverse stakeholders to understand organizational needs, and then designing and developing customized data models and interactive dashboards using tools like Power BI? Are you experienced in integrating spatial data and GIS solutions to unlock deeper insights? If you enjoy managing the full project lifecycle, from initial assessment to …",
                 "latitude": 43.64637,
                 "longitude": -79.39681,
                 "popup_info": "Data Analyst",
                 "region": "Ontario",
                 "title": "Data Analyst"
                },
                "geometry": {
                 "spatialReference": {
                  "wkid": 4326
                 },
                 "x": -79.39681,
                 "y": 43.64637
                }
               },
               {
                "attributes": {
                 "OBJECTID": 35,
                 "city": "Greater Vancouver",
                 "company_name": "B.C. College of Nurses and Midwives",
                 "country": "Canada",
                 "created": "2025-06-18T04:48:54Z",
                 "description": "Job Description Job Description Status: Temporary, Full-Time; term ends Dec 31, 2026 Number of Positions: 1 Work Location: Vancouver, BC - Hybrid (a combination of in-office and remote work) Who we are The British Columbia College of Nurses & Midwives (“BCCNM”) is the college empowered under the Health Professions Act to regulate the practice of all licensed practical nurses, nurse practitioners, registered midwives, registered nurses, and registered psychiatric nurses in British Columbia. Regu…",
                 "latitude": 49.252255,
                 "longitude": -123.108651,
                 "popup_info": "Data Analyst",
                 "region": "British Columbia",
                 "title": "Data Analyst"
                },
                "geometry": {
                 "spatialReference": {
                  "wkid": 4326
                 },
                 "x": -123.108651,
                 "y": 49.252255
                }
               },
               {
                "attributes": {
                 "OBJECTID": 36,
                 "city": "Greater Vancouver",
                 "company_name": "Sensor Tower",
                 "country": "Canada",
                 "created": "2025-05-25T12:58:43Z",
                 "description": "Fraud warning: It's common for scammers to create positions that look legitimate on other sites. To ensure your submission is considered, only apply for positions at Sensor Tower through our company website or through posts directly associated with Sensor Tower company profiles on sites such as LinkedIn, Indeed, BuiltIn or Hackajob. At no point will Sensor Tower ever ask for money, credit card, or bank account information to complete a job application. Communications received from Sensor Tower …",
                 "latitude": 49.252255,
                 "longitude": -123.108651,
                 "popup_info": "Data Analyst",
                 "region": "British Columbia",
                 "title": "Data Analyst"
                },
                "geometry": {
                 "spatialReference": {
                  "wkid": 4326
                 },
                 "x": -123.108651,
                 "y": 49.252255
                }
               },
               {
                "attributes": {
                 "OBJECTID": 37,
                 "city": "Toronto",
                 "company_name": "Insight Global",
                 "country": "Canada",
                 "created": "2025-05-07T12:17:08Z",
                 "description": "Job Description Insight Global is looking for a data analyst for an Information Security team for a large Canadian bank. This consultant is responsible for analyzing, reporting, and presenting data for many different teams. They will also be responsible for migrating data from Tableau to Power Bi. We are looking for someone who has strong experience with large data sets, investigative skills to find out the meaning behind the data so it can be digested appropriately when developing, troubleshoo…",
                 "latitude": 43.706102,
                 "longitude": -79.402726,
                 "popup_info": "Data Analyst",
                 "region": "Ontario",
                 "title": "Data Analyst"
                },
                "geometry": {
                 "spatialReference": {
                  "wkid": 4326
                 },
                 "x": -79.402726,
                 "y": 43.706102
                }
               },
               {
                "attributes": {
                 "OBJECTID": 38,
                 "city": "Peel region",
                 "company_name": "Kuehne+Nagel",
                 "country": "Canada",
                 "created": "2025-06-18T06:43:44Z",
                 "description": "It's more than a job As a Data Analyst at KuehneNagel, you will play a key role in optimizing end-to-end warehousing operations by transforming raw logistics data into actionable insights. Your analytical precision will support operational efficiency and strategic decision-making across warehouse and distribution centers. For example, by analyzing trends in the storage and delivery of delicate flowers and fresh ingredients, you’ll help ensure timely deliveries to local stores—contributing to ev…",
                 "latitude": 43.588336,
                 "longitude": -79.656736,
                 "popup_info": "Data Analyst",
                 "region": "Ontario",
                 "title": "Data Analyst"
                },
                "geometry": {
                 "spatialReference": {
                  "wkid": 4326
                 },
                 "x": -79.656736,
                 "y": 43.588336
                }
               },
               {
                "attributes": {
                 "OBJECTID": 39,
                 "city": "Greater Vancouver",
                 "company_name": "POS King Software Inc.",
                 "country": "Canada",
                 "created": "2025-05-31T07:21:07Z",
                 "description": "About Us At POS KING, we are revolutionizing business operations with cutting-edge POS solutions and AI-driven automation tailored for restaurants, retail, and wholesale industries. We provide customized software, premium hardware, and 24/7 support to streamline operations, reduce costs, and enhance customer experiences. Our cloud-based inventory management, wireless ordering systems, and AI-powered automation optimize efficiency and drive profitability. Beyond POS solutions, we integrate advan…",
                 "latitude": 49.156021,
                 "longitude": -123.136733,
                 "popup_info": "Data Analyst",
                 "region": "British Columbia",
                 "title": "Data Analyst"
                },
                "geometry": {
                 "spatialReference": {
                  "wkid": 4326
                 },
                 "x": -123.136733,
                 "y": 49.156021
                }
               },
               {
                "attributes": {
                 "OBJECTID": 40,
                 "city": "Peel region",
                 "company_name": "Kuehne+Nagel",
                 "country": "Canada",
                 "created": "2025-06-17T12:57:06Z",
                 "description": "It's more than a job As a Data Analyst at KuehneNagel, you will play a key role in optimizing end-to-end warehousing operations by transforming raw logistics data into actionable insights. Your analytical precision will support operational efficiency and strategic decision-making across warehouse and distribution centers. For example, by analyzing trends in the storage and delivery of delicate flowers and fresh ingredients, you'll help ensure timely deliveries to local stores-contributing to ev…",
                 "latitude": 45.169472000000006,
                 "longitude": -76.73082433333333,
                 "popup_info": "Data Analyst",
                 "region": "Ontario",
                 "title": "Data Analyst"
                },
                "geometry": {
                 "spatialReference": {
                  "wkid": 4326
                 },
                 "x": -76.73082433333333,
                 "y": 45.169472000000006
                }
               },
               {
                "attributes": {
                 "OBJECTID": 41,
                 "city": "Ottawa region",
                 "company_name": "Farm Boy Inc.",
                 "country": "Canada",
                 "created": "2025-06-15T03:36:13Z",
                 "description": "Job Description Job Description Company Description At Farm Boy, it is our mission to create a fun, fresh experience for all! Whether you are a team member or a customer, Farm Boy is passionate about creating a unique fresh food shopping experience and ensuring that we deliver on our commitments. As we continue to grow within Ontario, Farm Boy is excited to welcome new team members that share our passion for providing the best fresh shopping experience! Job Description Reporting to the Vice-Pre…",
                 "latitude": 45.394161,
                 "longitude": -75.697758,
                 "popup_info": "Data Analyst",
                 "region": "Ontario",
                 "title": "Data Analyst"
                },
                "geometry": {
                 "spatialReference": {
                  "wkid": 4326
                 },
                 "x": -75.697758,
                 "y": 45.394161
                }
               },
               {
                "attributes": {
                 "OBJECTID": 42,
                 "city": "Peel region",
                 "company_name": "AtkinsRéalis",
                 "country": "Canada",
                 "created": "2025-05-24T12:58:06Z",
                 "description": "AtkinsRéalis is one of Canada's largest private sector nuclear engineering groups. We have been providing a wide range of services to the nuclear industry in Canada and around the world since for more than 60 years. We are proud to be the steward of Canadian CANDU nuclear technology. Location – Mississauga, ON The Procurement Data Analyst will be responsible for data collection, modelling, visualization, analysing, and interpreting procurement data to support business decisions. This role invol…",
                 "latitude": 43.588336,
                 "longitude": -79.656736,
                 "popup_info": "Data Analyst",
                 "region": "Ontario",
                 "title": "Data Analyst"
                },
                "geometry": {
                 "spatialReference": {
                  "wkid": 4326
                 },
                 "x": -79.656736,
                 "y": 43.588336
                }
               },
               {
                "attributes": {
                 "OBJECTID": 43,
                 "city": "Calgary region",
                 "company_name": "TEC Canada",
                 "country": "Canada",
                 "created": "2025-05-30T12:59:46Z",
                 "description": "THE ROLE We’re looking for a motivated individual to join our team in an entry-level role that offers exposure to a broad range of data and research functions. As a Data Analyst, you will be instrumental in analyzing survey and CRM data, evaluating revenue optimization opportunities, identifying trends in business generation and partner growth, and providing data analysis support across departments. This is a great opportunity to grow your skills and learn alongside a dedicated team of professi…",
                 "latitude": 51.040175,
                 "longitude": -114.078513,
                 "popup_info": "Data Analyst",
                 "region": "Alberta",
                 "title": "Data Analyst"
                },
                "geometry": {
                 "spatialReference": {
                  "wkid": 4326
                 },
                 "x": -114.078513,
                 "y": 51.040175
                }
               },
               {
                "attributes": {
                 "OBJECTID": 44,
                 "city": "Greater Vancouver",
                 "company_name": "Workstream",
                 "country": "Canada",
                 "created": "2025-06-10T10:29:32Z",
                 "description": "Workstream is a mission-driven company that believes in building premium, modern software solutions for hourly businesses. There are 2.7 billion hourly workers, who make up 80% of the global workforce, but they've been heavily underserved by technology and deserve better. We help local businesses around you hire, manage, and pay qualified workers. Our customers include leading brands from multiple sectors, including Burger King, Carl's Jr./Hardee's, IHOP, KFC, and Culvers. At series B, we are q…",
                 "latitude": 49.256582,
                 "longitude": -122.898456,
                 "popup_info": "Data Analyst",
                 "region": "British Columbia",
                 "title": "Data Analyst"
                },
                "geometry": {
                 "spatialReference": {
                  "wkid": 4326
                 },
                 "x": -122.898456,
                 "y": 49.256582
                }
               },
               {
                "attributes": {
                 "OBJECTID": 45,
                 "city": null,
                 "company_name": "Zynga",
                 "country": "Canada",
                 "created": "2025-05-14T10:05:50Z",
                 "description": "Level Up Your Career with Zynga! At Zynga, we bring people together through the power of play. As a global leader in interactive entertainment and a proud label of Take-Two Interactive, our games have been downloaded over 6 billion times—connecting players in 175 countries through fun, strategy, and a little friendly competition. From thrilling casino spins to epic strategy battles, mind-bending puzzles, and social word challenges, our diverse game portfolio has something for everyone. Fan-favo…",
                 "latitude": 47.02932666666666,
                 "longitude": -94.64018333333333,
                 "popup_info": "Data Analyst",
                 "region": null,
                 "title": "Data Analyst"
                },
                "geometry": {
                 "spatialReference": {
                  "wkid": 4326
                 },
                 "x": -94.64018333333333,
                 "y": 47.02932666666666
                }
               },
               {
                "attributes": {
                 "OBJECTID": 46,
                 "city": "Toronto",
                 "company_name": "Spectrum Health Care",
                 "country": "Canada",
                 "created": "2025-05-18T00:09:40Z",
                 "description": "Job Description Job Description Company Description Here’s your opportunity to join a growing company in the rapidly evolving health care sector! Spectrum Health Care is currently seeking a dynamic Data Analyst . The successful candidate will support critical functions by analyzing large datasets to derive actionable insights that enhance clinical, operational, and financial outcomes. This position offers the opportunity to work at the intersection of healthcare and technology, leveraging data …",
                 "latitude": 43.706102,
                 "longitude": -79.402726,
                 "popup_info": "Data Analyst",
                 "region": "Ontario",
                 "title": "Data Analyst"
                },
                "geometry": {
                 "spatialReference": {
                  "wkid": 4326
                 },
                 "x": -79.402726,
                 "y": 43.706102
                }
               },
               {
                "attributes": {
                 "OBJECTID": 47,
                 "city": null,
                 "company_name": "Tailscale",
                 "country": "Canada",
                 "created": "2025-03-23T13:01:57Z",
                 "description": "About Tailscale Tailscale is building the new Internet by delivering software that makes it easy to securely interconnect people and their devices, no matter where they are. From hobbyists to multinational corporations, teams of every size use Tailscale each day to protect their networks, share access to internal tools, and more. We're building a future for the Internet that's easy, sensible, and safe, like it used to be. Founded in 2019 and fully distributed, we're backed by Accel, CRV, Insigh…",
                 "latitude": 47.02932666666666,
                 "longitude": -94.64018333333333,
                 "popup_info": "Data Analyst",
                 "region": null,
                 "title": "Data Analyst"
                },
                "geometry": {
                 "spatialReference": {
                  "wkid": 4326
                 },
                 "x": -94.64018333333333,
                 "y": 47.02932666666666
                }
               },
               {
                "attributes": {
                 "OBJECTID": 48,
                 "city": null,
                 "company_name": "Zenni Optical",
                 "country": "Canada",
                 "created": "2025-05-31T10:18:21Z",
                 "description": "Who We Are Born from a mission to make prescription eyewear affordable and accessible to everyone, Zenni Optical has been changing the way people see the world since 2003. With complete prescription pairs for adults and kids starting at under $10, we’ve grown into a global brand with over 51 million pairs of glasses sold — and counting! Based in the San Francisco Bay Area, we're proud to be the Official Eyewear of the San Francisco 49ers, Boston Celtics, Monster Jam, Ghost Gaming, TSM, Major Le…",
                 "latitude": 47.02932666666666,
                 "longitude": -94.64018333333333,
                 "popup_info": "Data Analyst",
                 "region": null,
                 "title": "Data Analyst"
                },
                "geometry": {
                 "spatialReference": {
                  "wkid": 4326
                 },
                 "x": -94.64018333333333,
                 "y": 47.02932666666666
                }
               },
               {
                "attributes": {
                 "OBJECTID": 49,
                 "city": "Toronto",
                 "company_name": "Valence",
                 "country": "Canada",
                 "created": "2025-05-26T12:59:14Z",
                 "description": "Valence has built the first-to-market AI native coaching platform for enterprise, offering personalized, expert, and human-like guidance & support to any leader or employee. At Valence, we're not just talking about the future of work – we're actively shaping it. From your first interaction with us, you'll notice we're different. By working here you won't just implement solutions for our clients; you'll be helping to architect the future of leadership in the age of generative AI. And we'll be ho…",
                 "latitude": 43.706102,
                 "longitude": -79.402726,
                 "popup_info": "Data Analyst",
                 "region": "Ontario",
                 "title": "Data Analyst"
                },
                "geometry": {
                 "spatialReference": {
                  "wkid": 4326
                 },
                 "x": -79.402726,
                 "y": 43.706102
                }
               },
               {
                "attributes": {
                 "OBJECTID": 50,
                 "city": null,
                 "company_name": "SYNERGYASSURE INC",
                 "country": "Canada",
                 "created": "2025-06-04T19:49:01Z",
                 "description": "Consolidate and update various data models through reverse and forward engineering. Compare different WFHM DB environments and determined, resolve and document discrepancies. Analyses DB discrepancies and synchronizes the Staging, Development, UAT and Production DB environments with data models. Review and revise data models for soundness of data structures and adherence to client standards. Consult with application development business analysts to translate business requirements into data desi…",
                 "latitude": 47.02932666666666,
                 "longitude": -94.64018333333333,
                 "popup_info": "Data Analyst",
                 "region": null,
                 "title": "Data Analyst"
                },
                "geometry": {
                 "spatialReference": {
                  "wkid": 4326
                 },
                 "x": -94.64018333333333,
                 "y": 47.02932666666666
                }
               },
               {
                "attributes": {
                 "OBJECTID": 51,
                 "city": "Saskatoon",
                 "company_name": "DataAnnotation",
                 "country": "Canada",
                 "created": "2025-05-22T05:22:50Z",
                 "description": "Job Description DataAnnotation is committed to creating quality AI. Join our team to help train AI chatbots while gaining the flexibility of remote work and choosing your own schedule. We are looking for a proficient Software Developer to join our team to train our AI chatbots to code. You will work with the chatbots that we are building in order to measure their progress, as well as write and evaluate code. To apply to this role, you will need to be proficient in either Python and/or JavaScrip…",
                 "latitude": 52.129941,
                 "longitude": -106.651489,
                 "popup_info": "Software Developer",
                 "region": "Saskatchewan",
                 "title": "Software Developer"
                },
                "geometry": {
                 "spatialReference": {
                  "wkid": 4326
                 },
                 "x": -106.651489,
                 "y": 52.129941
                }
               },
               {
                "attributes": {
                 "OBJECTID": 52,
                 "city": "Montréal",
                 "company_name": "Akkodis",
                 "country": "Canada",
                 "created": "2025-06-11T23:09:14Z",
                 "description": "Akkodis is seeking an Embedded Software Developer for a contract position with a client in Ottawa (Hybrid), and ideally looking for experience with C, Python, and networking protocols Position: Embedded Software Development Location: Ottawa, ON Contract Job Description, Embedded software development in C Python scripting skills Strong understanding of networking and protocols Self-driven and adaptable to remote collaboration",
                 "latitude": 45.573903,
                 "longitude": -73.650516,
                 "popup_info": "Embedded Software Developer",
                 "region": "Québec",
                 "title": "Embedded Software Developer"
                },
                "geometry": {
                 "spatialReference": {
                  "wkid": 4326
                 },
                 "x": -73.650516,
                 "y": 45.573903
                }
               },
               {
                "attributes": {
                 "OBJECTID": 53,
                 "city": null,
                 "company_name": "Nexus Energy Inc.",
                 "country": "Canada",
                 "created": "2025-05-31T22:31:15Z",
                 "description": "Job Title: Software Developer Department: Data and IT Location: North York, ON (On-Site) Type: Full-Time, Permanent Salary Range: 65k - 95K (based on experience) Overview Nexus Energy Inc. is a privately held company based in Toronto, Ontario. We are a leading energy trading company specializing in the energy markets of Eastern Canada, the Northeastern United States, and Western markets. Our operations extend into the retail and Renewable Energy Credit (REC) space, supporting a diversified and …",
                 "latitude": 47.02932666666666,
                 "longitude": -94.64018333333333,
                 "popup_info": "Software Developer",
                 "region": null,
                 "title": "Software Developer"
                },
                "geometry": {
                 "spatialReference": {
                  "wkid": 4326
                 },
                 "x": -94.64018333333333,
                 "y": 47.02932666666666
                }
               },
               {
                "attributes": {
                 "OBJECTID": 54,
                 "city": "Toronto",
                 "company_name": "VLink Inc",
                 "country": "Canada",
                 "created": "2025-05-29T23:14:48Z",
                 "description": "Job Title: Software Developer - API Location: Toronto, ON (Hybrid) Employment Type: Contract opportunity Experience: 10 years Public Sector exp or Security Clearance About VLink: Started in 2006 and headquartered in Connecticut, VLink is one of the fastest growing digital technology services and consulting companies. Since its inception, our innovative team members have been solving the most complex business, and IT challenges of our global clients. Job Description: Must Have: Experience with D…",
                 "latitude": 43.706102,
                 "longitude": -79.402726,
                 "popup_info": "Software Developer",
                 "region": "Ontario",
                 "title": "Software Developer"
                },
                "geometry": {
                 "spatialReference": {
                  "wkid": 4326
                 },
                 "x": -79.402726,
                 "y": 43.706102
                }
               },
               {
                "attributes": {
                 "OBJECTID": 55,
                 "city": "Toronto",
                 "company_name": "CLPS Global",
                 "country": "Canada",
                 "created": "2025-05-29T23:13:12Z",
                 "description": "Key Qualifications Proficient in React.js with TypeScript Experienced with Node.js and TypeScript Knowledge of Redis and MongoDB Understanding of scalable system architecture Skilled in Azure, Terraform, and Kubernetes Experienced with Jira and Confluence Excellent verbal and written communication skills; able to write clear technical tickets Experience building and consuming APIs Familiar with Express.js and OAuth/OIDC protocols Experience with Jenkins pipelines Able to quickly adjust to evolv…",
                 "latitude": 43.706102,
                 "longitude": -79.402726,
                 "popup_info": "Software Developer",
                 "region": "Ontario",
                 "title": "Software Developer"
                },
                "geometry": {
                 "spatialReference": {
                  "wkid": 4326
                 },
                 "x": -79.402726,
                 "y": 43.706102
                }
               },
               {
                "attributes": {
                 "OBJECTID": 56,
                 "city": "Saguenay - Lac-Saint-Jean",
                 "company_name": "Carbotech",
                 "country": "Canada",
                 "created": "2025-06-01T04:47:22Z",
                 "description": "Responsibilities The role of the C++ Developer is to program software for optimizing wood cutting by meeting customer specifications and applying the standards and programming methods in force. He/she provides cutting-edge expertise in the products for which he specializes. He/she is responsible for software production as well as the quality of the systems delivered. Analyzes, develops, programs, modifies and tests cutting optimization projects, both the software part and the hardware part. Wri…",
                 "latitude": 48.331744,
                 "longitude": -70.879001,
                 "popup_info": "Software developer (C++)",
                 "region": "Québec",
                 "title": "Software developer (C++)"
                },
                "geometry": {
                 "spatialReference": {
                  "wkid": 4326
                 },
                 "x": -70.879001,
                 "y": 48.331744
                }
               },
               {
                "attributes": {
                 "OBJECTID": 57,
                 "city": "Toronto",
                 "company_name": "ModiFace",
                 "country": "Canada",
                 "created": "2025-05-03T02:42:16Z",
                 "description": "Who We Are Research, innovation, and scale! ModiFace is the first tech company to be acquired by beauty giant L'Oréal Groupe and provides industry leading AR and AI technology to the most influential brands in the world. ModiFace's patented technology is based on more than a decade of advanced facial recognition research at the University of Toronto and in collaboration with L’Oreal’s Global Research and Innovation teams. Our product offerings include live 3D makeup and skin care simulation, an…",
                 "latitude": 43.706102,
                 "longitude": -79.402726,
                 "popup_info": "Senior Software Developer",
                 "region": "Ontario",
                 "title": "Senior Software Developer"
                },
                "geometry": {
                 "spatialReference": {
                  "wkid": 4326
                 },
                 "x": -79.402726,
                 "y": 43.706102
                }
               },
               {
                "attributes": {
                 "OBJECTID": 58,
                 "city": "Toronto",
                 "company_name": "FIELDBOSS",
                 "country": "Canada",
                 "created": "2025-05-08T02:08:42Z",
                 "description": "FIELDBOSS - Elevating Service Excellence in Elevator and HVAC Contracting Senior Software Developer - Toronto, Ontario - Full-Time (Hybrid, or Remote) - Reporting to the FIELDBOSS Director of Engineering JOB OVERVIEW: FIELDBOSS is an innovative, flexible field service management solution, built on Microsoft Dynamics 365 and designed for elevator, HVAC, and specialty contractors. The organization is led by a team of Chartered Professional Accountants and Certified Microsoft Technology Specialist…",
                 "latitude": 43.706102,
                 "longitude": -79.402726,
                 "popup_info": "Senior Software Developer",
                 "region": "Ontario",
                 "title": "Senior Software Developer"
                },
                "geometry": {
                 "spatialReference": {
                  "wkid": 4326
                 },
                 "x": -79.402726,
                 "y": 43.706102
                }
               },
               {
                "attributes": {
                 "OBJECTID": 59,
                 "city": "Bas-Saint-Laurent",
                 "company_name": "Aversan Inc.",
                 "country": "Canada",
                 "created": "2025-06-05T03:05:07Z",
                 "description": "Aversan Inc. ( www.aversan.com ) is a trusted multi-service engineering and electronics manufacturing company. Aversan delivers leading-edge and reliable safety-critical electronics and software systems to the aerospace, defence, and space industries. We are currently seeking a qualified Software Developer . The role involves developing high-fidelity tactical features and optimizing real-time performance using advanced C++ and 3D math skills. Location: St. Laurent, QC Job Type: Hybrid Responsib…",
                 "latitude": 48.145264,
                 "longitude": -68.638735,
                 "popup_info": "C++ Software Developer",
                 "region": "Québec",
                 "title": "C++ Software Developer"
                },
                "geometry": {
                 "spatialReference": {
                  "wkid": 4326
                 },
                 "x": -68.638735,
                 "y": 48.145264
                }
               },
               {
                "attributes": {
                 "OBJECTID": 60,
                 "city": "Toronto",
                 "company_name": "MM Management Consultant",
                 "country": "Canada",
                 "created": "2025-06-15T03:29:16Z",
                 "description": "We are seeking a Senior Software Developer – API to support the Government . The ideal candidate has extensive experience designing, developing, and integrating APIs in complex enterprise environments using platforms like IBM API Connect, IBM ACE, MuleSoft, or Azure API Management.  Key Responsibilities: · Design, develop, and implement REST APIs and integration services. · Translate technical specifications into well-tested, efficient code. · Work with middleware and API management platforms t…",
                 "latitude": 43.706102,
                 "longitude": -79.402726,
                 "popup_info": "Senior Software Developer – API",
                 "region": "Ontario",
                 "title": "Senior Software Developer – API"
                },
                "geometry": {
                 "spatialReference": {
                  "wkid": 4326
                 },
                 "x": -79.402726,
                 "y": 43.706102
                }
               },
               {
                "attributes": {
                 "OBJECTID": 61,
                 "city": "Greater Vancouver",
                 "company_name": "Herschel Supply Company",
                 "country": "Canada",
                 "created": "2025-06-10T22:35:52Z",
                 "description": "ABOUT HERSCHEL SUPPLY Welcome to Herschel Supply, where we make quality products for a lifetime of better journeys. Designed with timeless form and intuitive function in Vancouver, Canada, every piece is backed by our signature warranty for wherever you’re going next. Since 2009, we’ve never stopped taking risks. We’re constantly innovating, growing our community and heading on new journeys. We’ve gotten lost in new cities, made lifelong friends all over the world, road tripped with no GPS, and…",
                 "latitude": 49.256582,
                 "longitude": -122.898456,
                 "popup_info": "Senior Software Developer",
                 "region": "British Columbia",
                 "title": "Senior Software Developer"
                },
                "geometry": {
                 "spatialReference": {
                  "wkid": 4326
                 },
                 "x": -122.898456,
                 "y": 49.256582
                }
               },
               {
                "attributes": {
                 "OBJECTID": 62,
                 "city": "Toronto",
                 "company_name": "Timbercreek",
                 "country": "Canada",
                 "created": "2025-06-07T02:57:58Z",
                 "description": "About the Company Founded in 2000, Timbercreek is one of Canada’s leading alternative asset class investment managers, focused on providing structured financing solutions to experienced real estate owners and investors across selectively identified urban centres primarily in Canada, Ireland and the United States. Through active and direct investment, we employ a thematic approach to deliver compelling risk-adjusted returns for our investors and partners, leveraging the diversified expertise and…",
                 "latitude": 43.706102,
                 "longitude": -79.402726,
                 "popup_info": "Software Developer and IT Support",
                 "region": "Ontario",
                 "title": "Software Developer and IT Support"
                },
                "geometry": {
                 "spatialReference": {
                  "wkid": 4326
                 },
                 "x": -79.402726,
                 "y": 43.706102
                }
               },
               {
                "attributes": {
                 "OBJECTID": 63,
                 "city": "Toronto",
                 "company_name": "EQ Bank | Equitable Bank",
                 "country": "Canada",
                 "created": "2025-06-04T02:10:32Z",
                 "description": "Join a Challenger Being a traditional bank just isn’t our thing. We are big believers in innovating the banking experience because we believe Canadians deserve better options, and we challenge ourselves and our teams to creatively transform what’s possible in banking. Our team is made up of inquisitive and agile minds that find smarter ways of doing things. If you’re not afraid of taking on big challenges and redefining the future, you belong with us. You’ll get to work with people who will enc…",
                 "latitude": 43.706102,
                 "longitude": -79.402726,
                 "popup_info": "Software Developer II, Frontend",
                 "region": "Ontario",
                 "title": "Software Developer II, Frontend"
                },
                "geometry": {
                 "spatialReference": {
                  "wkid": 4326
                 },
                 "x": -79.402726,
                 "y": 43.706102
                }
               },
               {
                "attributes": {
                 "OBJECTID": 64,
                 "city": "Toronto",
                 "company_name": "2iSolutions Inc.",
                 "country": "Canada",
                 "created": "2025-06-15T03:27:11Z",
                 "description": "We are seeking a Senior Software Developer (API) for a 9-month hybrid contract opportunity based in Toronto. Client : Ministry of Public and Business Service Delivery and Procurement Location : 222 Jarvis St. Period : 9-months Start Date : 2025-07-07 End Date : 2026-03-31 Working Hrs : 7.25 Hrs. / day Hybrid : 3 Days onsite / 2 days remote Must Haves: • Experience working with API integration • 5 years of hands-on experience in API development, integration design, and implementation in complex …",
                 "latitude": 43.706102,
                 "longitude": -79.402726,
                 "popup_info": "Software Developer - API – Senior",
                 "region": "Ontario",
                 "title": "Software Developer - API – Senior"
                },
                "geometry": {
                 "spatialReference": {
                  "wkid": 4326
                 },
                 "x": -79.402726,
                 "y": 43.706102
                }
               },
               {
                "attributes": {
                 "OBJECTID": 65,
                 "city": null,
                 "company_name": "Hays",
                 "country": "Canada",
                 "created": "2025-06-06T03:17:09Z",
                 "description": "Software Developer NodeJS and TypeScript Level : Journeyman 1, Band 7 Contract Length : June 23, 2025– October 31, 2025 Location : Remote in Canada (Preference for candidates residing in the Greater Toronto Area) End Client: a major Canadian Bank Positions : 3 Hourly Rate : $60/hr Your new company Join a leading global financial services organization known for its innovation and commitment to technology-driven solutions. This client is dedicated to modernizing their cloud environment and accele…",
                 "latitude": 47.02932666666666,
                 "longitude": -94.64018333333333,
                 "popup_info": "Software Developer NodeJS and TypeScript -Remote in Canada",
                 "region": null,
                 "title": "Software Developer NodeJS and TypeScript -Remote in Canada"
                },
                "geometry": {
                 "spatialReference": {
                  "wkid": 4326
                 },
                 "x": -94.64018333333333,
                 "y": 47.02932666666666
                }
               },
               {
                "attributes": {
                 "OBJECTID": 66,
                 "city": null,
                 "company_name": "The Nationwide Group",
                 "country": "Canada",
                 "created": "2025-05-23T00:04:20Z",
                 "description": "PHP Software Developer & Product Support L3 JOB DESCRIPTION The Nationwide Group (TNG) is a pioneer in designing and developing outsourced financial services software, exclusively focused on creating comprehensive and customizable solutions for the real estate industry. Utilizing world-class technology, TNG delivers solutions to the entire mortgage life cycle through its affiliated organizations. TNG benefits from a broad product suite, infrastructure, and industry expertise and has transformed…",
                 "latitude": 47.02932666666666,
                 "longitude": -94.64018333333333,
                 "popup_info": "PHP Software Developer & Product Support L3",
                 "region": null,
                 "title": "PHP Software Developer & Product Support L3"
                },
                "geometry": {
                 "spatialReference": {
                  "wkid": 4326
                 },
                 "x": -94.64018333333333,
                 "y": 47.02932666666666
                }
               },
               {
                "attributes": {
                 "OBJECTID": 67,
                 "city": null,
                 "company_name": "Inworld AI",
                 "country": "Canada",
                 "created": "2025-05-28T22:12:22Z",
                 "description": "Why Join Inworld Inworld is the leading provider of AI technology for real-time interactive experiences, with a $500 million valuation and backing from top tier investors including Intel Capital, Microsoft’s M12 fund, Lightspeed Venture Partners, Section 32, BITKRAFT Ventures, Kleiner Perkins, Founders Fund, and First Spark Ventures. Inworld provides the market’s best framework for building production ready interactive experiences, coupled with dedicated services to optimize specific stages of …",
                 "latitude": 51.467658,
                 "longitude": -123.078768,
                 "popup_info": "Senior Software Development Engineer in Test (SDET) - Canada",
                 "region": "British Columbia",
                 "title": "Senior Software Development Engineer in Test (SDET) - Canada"
                },
                "geometry": {
                 "spatialReference": {
                  "wkid": 4326
                 },
                 "x": -123.078768,
                 "y": 51.467658
                }
               },
               {
                "attributes": {
                 "OBJECTID": 68,
                 "city": null,
                 "company_name": "Hunter Bond",
                 "country": "Canada",
                 "created": "2025-06-14T01:58:16Z",
                 "description": "Role: Software Developer (Python) - Up to $220k CAD  Huge Bonus Salary: Up to $220k CAD  Huge Bonus Location: Montreal (Hybrid Working) Skills: Python as a main language This firm is an elite tech firm with high standards who have previously set tech world records. They are made up of some exceptionally talented individuals who above all are passionate about using the latest and greatest tech and pushing it to the limits. They’ll find the best team to suit your skillset/interests but you will b…",
                 "latitude": 47.02932666666666,
                 "longitude": -94.64018333333333,
                 "popup_info": "Software Developer (Python) - Up to $220k CAD  Bonus",
                 "region": null,
                 "title": "Software Developer (Python) - Up to $220k CAD  Bonus"
                },
                "geometry": {
                 "spatialReference": {
                  "wkid": 4326
                 },
                 "x": -94.64018333333333,
                 "y": 47.02932666666666
                }
               },
               {
                "attributes": {
                 "OBJECTID": 69,
                 "city": "Peel region",
                 "company_name": "Ateko, backed by Bell Canada",
                 "country": "Canada",
                 "created": "2025-06-07T02:59:39Z",
                 "description": "We are looking for a highly skilled Senior Software Developer with expertise in ETL development using Java and Google Cloud Platform (GCP) . You will play a key role in designing, building, and optimizing data pipelines that support our analytics and operational platforms. Key Responsibilities Design and implement scalable ETL pipelines using Java and GCP-native services (e.g., Dataflow, BigQuery, Cloud Storage). Collaborate with data architects and analysts to understand data requirements and …",
                 "latitude": 45.169472000000006,
                 "longitude": -76.73082433333333,
                 "popup_info": "Senior Software developer - ETL development using Java",
                 "region": "Ontario",
                 "title": "Senior Software developer - ETL development using Java"
                },
                "geometry": {
                 "spatialReference": {
                  "wkid": 4326
                 },
                 "x": -76.73082433333333,
                 "y": 45.169472000000006
                }
               },
               {
                "attributes": {
                 "OBJECTID": 70,
                 "city": null,
                 "company_name": "vTech Solution",
                 "country": "Canada",
                 "created": "2025-06-18T17:31:38Z",
                 "description": "Job Summary: This role is for a Software Developer in Ontario, Canada. The position will involve the design, development, and maintenance of software applications. Specific responsibilities will depend on the project assignments but likely include coding, testing, debugging, and collaborating with a team. Location: Ontario, Canada Responsibilities: - Designing and developing software applications. - Writing clean, efficient, and well-documented code. - Testing and debugging software application…",
                 "latitude": 44.810161,
                 "longitude": -80.420891,
                 "popup_info": "Software Developer",
                 "region": "Ontario",
                 "title": "Software Developer"
                },
                "geometry": {
                 "spatialReference": {
                  "wkid": 4326
                 },
                 "x": -80.420891,
                 "y": 44.810161
                }
               },
               {
                "attributes": {
                 "OBJECTID": 71,
                 "city": "Ottawa region",
                 "company_name": "Paracel Laboratories",
                 "country": "Canada",
                 "created": "2025-06-18T13:25:11Z",
                 "description": "Who We Are: Paracel Laboratories Ltd. is a full-service environmental and Indoor Air Quality laboratory. Our main laboratory facilities are located in Ottawa and are supported by an environmental lab in Hamilton and microbiology and asbestos laboratories in Mississauga. Additional service depots are located in Kingston, London, Niagara, Windsor, and Richmond Hill. We support a broad spectrum of projects for professional clients from across Canada. Our client base primarily consists of major env…",
                 "latitude": 45.38591,
                 "longitude": -75.61594,
                 "popup_info": "Software Developer",
                 "region": "Ontario",
                 "title": "Software Developer"
                },
                "geometry": {
                 "spatialReference": {
                  "wkid": 4326
                 },
                 "x": -75.61594,
                 "y": 45.38591
                }
               },
               {
                "attributes": {
                 "OBJECTID": 72,
                 "city": "Ottawa region",
                 "company_name": "Larus Technologies",
                 "country": "Canada",
                 "created": "2025-06-03T17:08:56Z",
                 "description": "Job Summary Full-time: 37.5 Hours per week, Monday to Friday Location: Ottawa Office (Up to 3 days per week), 70 Laurier Ave West, Suite 310, Ottawa, ON K1P 5V5 and Ottawa-based Home Office, or, remote if located outside of the National Capital Region. Reporting To: Team Leader, Software Engineering Larus is growing and we are looking for talented and enthusiastic individuals to join our team over the next three to four months! We are in search of self-motivated individuals to join the Larus te…",
                 "latitude": 45.391410666666665,
                 "longitude": -75.67048533333333,
                 "popup_info": "Software Developer",
                 "region": "Ontario",
                 "title": "Software Developer"
                },
                "geometry": {
                 "spatialReference": {
                  "wkid": 4326
                 },
                 "x": -75.67048533333333,
                 "y": 45.391410666666665
                }
               },
               {
                "attributes": {
                 "OBJECTID": 73,
                 "city": null,
                 "company_name": "vTech Solution",
                 "country": "Canada",
                 "created": "2025-06-13T17:19:07Z",
                 "description": "Job Summary: This Software Developer role requires translating technical specifications into functional applications. Responsibilities encompass the entire software development lifecycle, from analysis and design to coding, testing, deployment, and maintenance. The position necessitates strong Java and full-stack development skills, experience with Agile methodologies, and excellent communication and problem-solving abilities. The role involves collaborating with IT professionals and contributi…",
                 "latitude": 44.810161,
                 "longitude": -80.420891,
                 "popup_info": "Software Developer",
                 "region": "Ontario",
                 "title": "Software Developer"
                },
                "geometry": {
                 "spatialReference": {
                  "wkid": 4326
                 },
                 "x": -80.420891,
                 "y": 44.810161
                }
               },
               {
                "attributes": {
                 "OBJECTID": 74,
                 "city": "Greater Vancouver",
                 "company_name": "Kron Technologies Inc.",
                 "country": "Canada",
                 "created": "2025-05-06T16:54:36Z",
                 "description": "We’re hiring a Software Engineer/Developer who thrives on solving complex problems at the systems level. You will play a key role in shaping high-performance solutions and evolving infrastructure that powers our next-generation products. If you’re someone who loves building, optimizing, and continuously pushing the limits of what’s possible-we’d love to meet you. Key Responsibilities: Develop and maintain low-level, C++ software for embedded systems, including real-time CPU code and support for…",
                 "latitude": 49.264327,
                 "longitude": -122.9423,
                 "popup_info": "Software Developer",
                 "region": "British Columbia",
                 "title": "Software Developer"
                },
                "geometry": {
                 "spatialReference": {
                  "wkid": 4326
                 },
                 "x": -122.9423,
                 "y": 49.264327
                }
               },
               {
                "attributes": {
                 "OBJECTID": 75,
                 "city": null,
                 "company_name": "vTech Solution",
                 "country": "Canada",
                 "created": "2025-06-18T17:31:38Z",
                 "description": "Job Summary: This Senior Software Developer role focuses on designing, developing, and maintaining database back-end and ETL applications for Data Warehouse and Business Intelligence solutions. The position requires expertise in ETL processes, data modeling, database administration, and various Microsoft Azure technologies. The successful candidate will collaborate with a development team, communicate effectively with clients, and ensure applications are scalable, well-documented, and adhere to…",
                 "latitude": 44.810161,
                 "longitude": -80.420891,
                 "popup_info": "Software Developer",
                 "region": "Ontario",
                 "title": "Software Developer"
                },
                "geometry": {
                 "spatialReference": {
                  "wkid": 4326
                 },
                 "x": -80.420891,
                 "y": 44.810161
                }
               },
               {
                "attributes": {
                 "OBJECTID": 76,
                 "city": null,
                 "company_name": "vTech Solution",
                 "country": "Canada",
                 "created": "2025-06-12T17:18:24Z",
                 "description": "Job Summary: This Software Developer role requires a senior-level engineer with extensive full-stack experience to design, implement, and expand data pipelines. The position involves translating technical specifications into functional applications, leading a team, mentoring junior staff, and collaborating with various stakeholders. A strong understanding of cloud-based architecture, AI/ML, and various programming languages and frameworks is crucial. The role includes responsibilities across th…",
                 "latitude": 44.810161,
                 "longitude": -80.420891,
                 "popup_info": "Software Developer",
                 "region": "Ontario",
                 "title": "Software Developer"
                },
                "geometry": {
                 "spatialReference": {
                  "wkid": 4326
                 },
                 "x": -80.420891,
                 "y": 44.810161
                }
               },
               {
                "attributes": {
                 "OBJECTID": 77,
                 "city": null,
                 "company_name": "vTech Solution",
                 "country": "Canada",
                 "created": "2025-06-18T17:31:42Z",
                 "description": "Job Summary: This hybrid Software Developer role involves analyzing business requirements, liaising with clients, and facilitating the development, design, construction, testing, and implementation of web-based, n-tier, cloud-based, and mainframe applications. Responsibilities include defining data integration standards, designing metadata management programs, developing BI solution architectures, performing data quality assessments, and creating system documentation. The position requires stro…",
                 "latitude": 44.810161,
                 "longitude": -80.420891,
                 "popup_info": "Software Developer",
                 "region": "Ontario",
                 "title": "Software Developer"
                },
                "geometry": {
                 "spatialReference": {
                  "wkid": 4326
                 },
                 "x": -80.420891,
                 "y": 44.810161
                }
               },
               {
                "attributes": {
                 "OBJECTID": 78,
                 "city": "Waterloo region",
                 "company_name": "Mappedin",
                 "country": "Canada",
                 "created": "2025-05-06T22:56:25Z",
                 "description": "Who we are and what we do Mappedin is a global leader in indoor mapping and spatial data management. Our solutions power billions of square feet of indoor space and guide millions of people visiting malls, stadiums, airports, offices, healthcare facilities, warehouses, universities, and more. We're making maps as powerful indoors as they are outdoors. With custom enterprise solutions, easy-to-use developer tools, and a revolutionary self-service mapmaking platform, we enable our customers to en…",
                 "latitude": 43.46527,
                 "longitude": -80.52261,
                 "popup_info": "Software Developer",
                 "region": "Ontario",
                 "title": "Software Developer"
                },
                "geometry": {
                 "spatialReference": {
                  "wkid": 4326
                 },
                 "x": -80.52261,
                 "y": 43.46527
                }
               },
               {
                "attributes": {
                 "OBJECTID": 79,
                 "city": "Halifax region",
                 "company_name": "Mycanadapayday.com",
                 "country": "Canada",
                 "created": "2025-05-16T06:15:13Z",
                 "description": "Mycanadapayday.com is looking for an exceptional Software Developer to join our team and help us execute growth strategy. Job Details: Company name: Mycanadapayday.com Job Title: Software Developer Positions Available: 1 Business and Work Location: Dartmouth, NS B2Y 2N6 Working Hours: 30-40 hours per week, Permanent, Full-time Salary: $38.50 per hour The Software Developer will:  Design, develop, test, and update software and applications  Analyze information to recommend and plan the install…",
                 "latitude": 44.68002,
                 "longitude": -63.542562,
                 "popup_info": "Software Developer Job",
                 "region": "Nova Scotia",
                 "title": "Software Developer Job"
                },
                "geometry": {
                 "spatialReference": {
                  "wkid": 4326
                 },
                 "x": -63.542562,
                 "y": 44.68002
                }
               },
               {
                "attributes": {
                 "OBJECTID": 80,
                 "city": null,
                 "company_name": "Duke",
                 "country": "Canada",
                 "created": "2025-03-31T13:17:32Z",
                 "description": "Job Title: Software Developer On-site/ Remote/ Hybrid: On Site Location: Trenton, ON Job Type: Contract A highly skilled and experienced Senior Software Developer to join our client’s team. This role requires a strong technical background in C, C++, or Python, as well as a deep understanding of software development principles and methodologies. The ideal candidate will be a self-starter, capable of working independently and leading technical projects. Job Responsibilities: Technical Leadership:…",
                 "latitude": 44.810161,
                 "longitude": -80.420891,
                 "popup_info": "Software Developer",
                 "region": "Ontario",
                 "title": "Software Developer"
                },
                "geometry": {
                 "spatialReference": {
                  "wkid": 4326
                 },
                 "x": -80.420891,
                 "y": 44.810161
                }
               },
               {
                "attributes": {
                 "OBJECTID": 81,
                 "city": "Waterloo region",
                 "company_name": "D2L",
                 "country": "Canada",
                 "created": "2025-04-12T10:09:37Z",
                 "description": "How will I make an Impact? At D2L, we are looking for developers who will help us advance our goal of using technology to transform teaching and learning around the world. We need software developers to work on a wide range of technologies including, but not limited to: distributed systems, user interfaces, mobile and cloud computing. As a developer, you will help make dreams a reality. We are looking for software developers who have a passion for technology and code. Beyond code, developers ar…",
                 "latitude": 43.62582466666667,
                 "longitude": -79.77602066666667,
                 "popup_info": "Software Developer",
                 "region": "Ontario",
                 "title": "Software Developer"
                },
                "geometry": {
                 "spatialReference": {
                  "wkid": 4326
                 },
                 "x": -79.77602066666667,
                 "y": 43.62582466666667
                }
               },
               {
                "attributes": {
                 "OBJECTID": 82,
                 "city": "Halton",
                 "company_name": "Bentley Systems",
                 "country": "Canada",
                 "created": "2025-05-07T03:46:17Z",
                 "description": "Software Developer II Location : Burlington, Ontario, Canada preferred / In-office, Home-based, or hybrid work available to those in the Eastern Time Zone in Canada Position Summary : Are you ready to start a new journey with a team of energized professionals advancing and connecting the world’s infrastructure? Bentley is looking for you! We are looking for a Software Developer II to join our Bentley Infrastructure Cloud product development team and work on building our next-generation products…",
                 "latitude": 43.353119,
                 "longitude": -79.802061,
                 "popup_info": "Software Developer",
                 "region": "Ontario",
                 "title": "Software Developer"
                },
                "geometry": {
                 "spatialReference": {
                  "wkid": 4326
                 },
                 "x": -79.802061,
                 "y": 43.353119
                }
               },
               {
                "attributes": {
                 "OBJECTID": 83,
                 "city": "Ottawa region",
                 "company_name": "Fortinet",
                 "country": "Canada",
                 "created": "2025-06-16T10:53:00Z",
                 "description": "Description Fortinet is growing and we are looking to hire a Cloud Software Developer for Video Surveillance solutions to join our team in Ottawa. At Fortinet, you will be involved in the full development lifecycle of software and product development. The ideal candidate will have a passion for development and learning new technologies. As a Senior Software Developer, you will have: 5 years of software development experience in Unix/Linux environment Bachelor’s or master’s degree in computer sc…",
                 "latitude": 45.391410666666665,
                 "longitude": -75.67048533333333,
                 "popup_info": "Software Developer",
                 "region": "Ontario",
                 "title": "Software Developer"
                },
                "geometry": {
                 "spatialReference": {
                  "wkid": 4326
                 },
                 "x": -75.67048533333333,
                 "y": 45.391410666666665
                }
               },
               {
                "attributes": {
                 "OBJECTID": 84,
                 "city": "Halton",
                 "company_name": "Bentley Systems",
                 "country": "Canada",
                 "created": "2025-05-07T12:16:53Z",
                 "description": "Software Developer II Location :?Burlington, Ontario, Canada preferred / In-office, Home-based, or hybrid work available to those in the Eastern Time Zone in Canada Position Summary : Are you ready to start a new journey with a team of energized professionals advancing and connecting the world's infrastructure? Bentley is looking for you! We are looking for a?Software Developer II?to join our Bentley Infrastructure Cloud product development team and work on building our next-generation products…",
                 "latitude": 43.353119,
                 "longitude": -79.802061,
                 "popup_info": "Software Developer",
                 "region": "Ontario",
                 "title": "Software Developer"
                },
                "geometry": {
                 "spatialReference": {
                  "wkid": 4326
                 },
                 "x": -79.802061,
                 "y": 43.353119
                }
               },
               {
                "attributes": {
                 "OBJECTID": 85,
                 "city": "Ottawa region",
                 "company_name": "Fortinet",
                 "country": "Canada",
                 "created": "2025-01-17T05:53:38Z",
                 "description": "Description Fortinet is growing and we are looking to hire a Sr Software Development Engineer to join our team in Ottawa. As a Senior Software Development Engineer, you will have: 5 Years of software development experience A Bachelor’s or Master’s degree in electrical or computer engineering/science Experience in C/C++ programming A Solid background in TCP/IP networking and multi-threaded programming Experience with video or streaming related protocols, such as RTSP and webRTC (an asset) Experi…",
                 "latitude": 45.391410666666665,
                 "longitude": -75.67048533333333,
                 "popup_info": "Software Developer",
                 "region": "Ontario",
                 "title": "Software Developer"
                },
                "geometry": {
                 "spatialReference": {
                  "wkid": 4326
                 },
                 "x": -75.67048533333333,
                 "y": 45.391410666666665
                }
               },
               {
                "attributes": {
                 "OBJECTID": 86,
                 "city": "Ottawa region",
                 "company_name": "US Tech Solutions",
                 "country": "Canada",
                 "created": "2024-05-10T15:30:30Z",
                 "description": "Responsibilities Assist the team with the design and implementation of automation tests for component, integration, and system testing Assist the team with new approaches to existing/planned testing in relations to automation framework Provide detailed configuration and descriptions for passing and failing tests Ensure quality of routine operations process by monitoring and improving the health of the test automation systems and their integration Support continuous testing practices with the te…",
                 "latitude": 45.391410666666665,
                 "longitude": -75.67048533333333,
                 "popup_info": "Software Developer",
                 "region": "Ontario",
                 "title": "Software Developer"
                },
                "geometry": {
                 "spatialReference": {
                  "wkid": 4326
                 },
                 "x": -75.67048533333333,
                 "y": 45.391410666666665
                }
               },
               {
                "attributes": {
                 "OBJECTID": 87,
                 "city": null,
                 "company_name": "mthree Recruiting Portal",
                 "country": "Canada",
                 "created": "2025-03-05T12:18:10Z",
                 "description": "Software Developer - Front-Office Technology Market leading investment bank requires a Software Developer to join their Risk Technology team in Montreal. This is a unique opportunity for a highly motivated individual to contribute to the team locally, while working within a broader global team. The team is part of a new and exciting super department which aims to unify the business platforms across Fixed Income and Equities a first of its kind. Skills Required: Bachelor’s degree in a technical …",
                 "latitude": 47.02932666666666,
                 "longitude": -94.64018333333333,
                 "popup_info": "Software Developer",
                 "region": null,
                 "title": "Software Developer"
                },
                "geometry": {
                 "spatialReference": {
                  "wkid": 4326
                 },
                 "x": -94.64018333333333,
                 "y": 47.02932666666666
                }
               },
               {
                "attributes": {
                 "OBJECTID": 88,
                 "city": "Ottawa region",
                 "company_name": "Paracel Laboratories",
                 "country": "Canada",
                 "created": "2025-06-03T05:15:51Z",
                 "description": "Job Description Job Description Who We Are: Paracel Laboratories Ltd. is a full-service environmental and Indoor Air Quality laboratory. Our main laboratory facilities are located in Ottawa and are supported by an environmental lab in Hamilton and microbiology and asbestos laboratories in Mississauga. Additional service depots are located in Kingston, London, Niagara, Windsor, and Richmond Hill. We support a broad spectrum of projects for professional clients from across Canada. Our client base…",
                 "latitude": 45.394161,
                 "longitude": -75.697758,
                 "popup_info": "Software Developer",
                 "region": "Ontario",
                 "title": "Software Developer"
                },
                "geometry": {
                 "spatialReference": {
                  "wkid": 4326
                 },
                 "x": -75.697758,
                 "y": 45.394161
                }
               },
               {
                "attributes": {
                 "OBJECTID": 89,
                 "city": null,
                 "company_name": "InfoJet",
                 "country": "Canada",
                 "created": "2024-12-10T18:28:38Z",
                 "description": "Job Description Employer InfoJet International Inc Location Mississauga, ON Contact Email Infojet.hr@gmail.com Position Software developer (21232  Software developers and programmers) Number of Positions 1 Salary $46.15 hourly for 37.5-40 hours per week Terms of Employment Permanent Full-time Anticipated Starting Date As soon as possible Job Requirement Languages English Education Bachelor's degree in computer science or software engineering Experience 1 year Specific Skills As a successful me…",
                 "latitude": 47.02932666666666,
                 "longitude": -94.64018333333333,
                 "popup_info": "Software developer Job",
                 "region": null,
                 "title": "Software developer Job"
                },
                "geometry": {
                 "spatialReference": {
                  "wkid": 4326
                 },
                 "x": -94.64018333333333,
                 "y": 47.02932666666666
                }
               },
               {
                "attributes": {
                 "OBJECTID": 90,
                 "city": "Ottawa region",
                 "company_name": "Fortinet",
                 "country": "Canada",
                 "created": "2025-05-18T10:08:15Z",
                 "description": "Description Join Fortinet, a cybersecurity pioneer with over two decades of excellence, as we continue to shape the future of cybersecurity and redefine the intersection of networking and security. At Fortinet, our mission is to safeguard people, devices, and data everywhere. Fortinet is growing and we are looking to hire Software Developer for our team in Ottawa. As a Software Developer, you will 5 plus years of software development experience Familiar with cross-platform desktop application d…",
                 "latitude": 45.391410666666665,
                 "longitude": -75.67048533333333,
                 "popup_info": "Software Developer",
                 "region": "Ontario",
                 "title": "Software Developer"
                },
                "geometry": {
                 "spatialReference": {
                  "wkid": 4326
                 },
                 "x": -75.67048533333333,
                 "y": 45.391410666666665
                }
               },
               {
                "attributes": {
                 "OBJECTID": 91,
                 "city": "Ottawa region",
                 "company_name": "Larus Technologies",
                 "country": "Canada",
                 "created": "2025-06-06T10:43:17Z",
                 "description": "Job Summary Full-time: 37.5 Hours per week, Monday to Friday Location: Ottawa Office (Up to 3 days per week), 70 Laurier Ave West, Suite 310, Ottawa, ON K1P 5V5 and Ottawa-based Home Office, or, remote if located outside of the National Capital Region. Reporting To: Team Leader, Software Engineering Larus is growing and we are looking for talented and enthusiastic individuals to join our team over the next three to four months! We are in search of self-motivated individuals to join the Larus te…",
                 "latitude": 45.391410666666665,
                 "longitude": -75.67048533333333,
                 "popup_info": "Software Developer",
                 "region": "Ontario",
                 "title": "Software Developer"
                },
                "geometry": {
                 "spatialReference": {
                  "wkid": 4326
                 },
                 "x": -75.67048533333333,
                 "y": 45.391410666666665
                }
               },
               {
                "attributes": {
                 "OBJECTID": 92,
                 "city": "Ottawa region",
                 "company_name": "Larus Technologies",
                 "country": "Canada",
                 "created": "2025-06-03T23:58:19Z",
                 "description": "Job Description Job Description Job Summary Full-time: 37.5 Hours per week, Monday to Friday Location: Ottawa Office (Up to 3 days per week), 70 Laurier Ave West, Suite 310, Ottawa, ON K1P 5V5 and Ottawa-based Home Office, or, remote if located outside of the National Capital Region. Reporting To: Team Leader, Software Engineering Larus is growing and we are looking for talented and enthusiastic individuals to join our team over the next three to four months! We are in search of self-motivated …",
                 "latitude": 45.394161,
                 "longitude": -75.697758,
                 "popup_info": "Software Developer",
                 "region": "Ontario",
                 "title": "Software Developer"
                },
                "geometry": {
                 "spatialReference": {
                  "wkid": 4326
                 },
                 "x": -75.697758,
                 "y": 45.394161
                }
               },
               {
                "attributes": {
                 "OBJECTID": 93,
                 "city": null,
                 "company_name": "Harris",
                 "country": "Canada",
                 "created": "2025-06-13T10:32:40Z",
                 "description": "OVERVIEW Cayenta is seeking a motivated Software Developer (entry to intermediate level) to join our Customer Information System (CIS) product team. This role begins with hands-on development in our enterprise-grade CIS application built using the Uniface low-code platform. You’ll work directly on core business functionality and gain a deep understanding of the platform and product domain. Over time, you’ll transition into a key contributor on our modernization initiative, helping build out a n…",
                 "latitude": 47.02932666666666,
                 "longitude": -94.64018333333333,
                 "popup_info": "Software Developer",
                 "region": null,
                 "title": "Software Developer"
                },
                "geometry": {
                 "spatialReference": {
                  "wkid": 4326
                 },
                 "x": -94.64018333333333,
                 "y": 47.02932666666666
                }
               },
               {
                "attributes": {
                 "OBJECTID": 94,
                 "city": "Ottawa region",
                 "company_name": "Equest",
                 "country": "Canada",
                 "created": "2025-06-14T07:41:00Z",
                 "description": "OVERVIEW Cayenta is seeking a motivated Software Developer (entry to intermediate level) to join our Customer Information System (CIS) product team. This role begins with hands-on development in our enterprise-grade CIS application built using the Uniface low-code platform. You'll work directly on core business functionality and gain a deep understanding of the platform and product domain. Over time, you'll transition into a key contributor on our modernization initiative, helping build out a n…",
                 "latitude": 45.391410666666665,
                 "longitude": -75.67048533333333,
                 "popup_info": "Software Developer",
                 "region": "Ontario",
                 "title": "Software Developer"
                },
                "geometry": {
                 "spatialReference": {
                  "wkid": 4326
                 },
                 "x": -75.67048533333333,
                 "y": 45.391410666666665
                }
               },
               {
                "attributes": {
                 "OBJECTID": 95,
                 "city": "Montréal",
                 "company_name": "Aversan",
                 "country": "Canada",
                 "created": "2025-06-05T10:23:32Z",
                 "description": "Software Developer Aversan Inc. ( www.aversan.com ) is a trusted multi-service engineering and electronics manufacturing company. Aversan delivers leading-edge and reliable safety-critical electronics and software systems to the aerospace, defence, and space industries. We are currently seeking a qualified Software Developer . The role involves developing high-fidelity tactical features and optimizing real-time performance using advanced C++ and 3D math skills. Location: St. Laurent, QC Job Typ…",
                 "latitude": 45.47532,
                 "longitude": -73.70579,
                 "popup_info": "Software Developer",
                 "region": "Québec",
                 "title": "Software Developer"
                },
                "geometry": {
                 "spatialReference": {
                  "wkid": 4326
                 },
                 "x": -73.70579,
                 "y": 45.47532
                }
               },
               {
                "attributes": {
                 "OBJECTID": 96,
                 "city": "Halifax region",
                 "company_name": "Fundmetric",
                 "country": "Canada",
                 "created": "2025-05-18T10:13:46Z",
                 "description": "Overview Fundmetric is looking for a Software Developer to build and maintain dynamic ‘big data’ driven applications. Candidates should be comfortable writing software that integrates with third party platforms. Ideal candidates are self-motivated team players, with the ability to design and implement solutions to complex problems that are reliable and scale well, thriving in a fast paced environment. About the Role The candidate will join our development team, collaborating both with Fundmetri…",
                 "latitude": 44.681555,
                 "longitude": -63.556363,
                 "popup_info": "Software Developer",
                 "region": "Nova Scotia",
                 "title": "Software Developer"
                },
                "geometry": {
                 "spatialReference": {
                  "wkid": 4326
                 },
                 "x": -63.556363,
                 "y": 44.681555
                }
               },
               {
                "attributes": {
                 "OBJECTID": 97,
                 "city": "Outaouais",
                 "company_name": "Pivot + Edge",
                 "country": "Canada",
                 "created": "2025-06-07T08:50:55Z",
                 "description": "Job Introduction Frequentis Group with headquarters in Vienna is an international supplier of communication and information systems for control centres with safety-critical tasks. Mission-critical control centres around the world keep our planes safe in the sky, our urban and regional trains safe on the railroads, and our ships and boats safe on the seas. Today, any controller working in a mission-critical control centre relies on four sophisticated technologies to do their jobs: voice communic…",
                 "latitude": 45.466091,
                 "longitude": -75.704464,
                 "popup_info": "Software Developer",
                 "region": "Québec",
                 "title": "Software Developer"
                },
                "geometry": {
                 "spatialReference": {
                  "wkid": 4326
                 },
                 "x": -75.704464,
                 "y": 45.466091
                }
               },
               {
                "attributes": {
                 "OBJECTID": 98,
                 "city": "Middlesex",
                 "company_name": "Proax Technologies",
                 "country": "Canada",
                 "created": "2024-09-20T07:53:38Z",
                 "description": "Who are we? Proax Technologies is a leading Technical Automation Distributor that offers innovative product solutions in the areas of Automation and Robotics, Motion Control and Machine Safety, creating close relationships with our valued customers, vendors, and employees. Why Choose Proax? Great Place to Work Certified We offer an engaging, inclusive, clean, and safe work environment Technical training of our products to ensure quality customer service Opportunities for career growth and devel…",
                 "latitude": 42.93338,
                 "longitude": -81.20555,
                 "popup_info": "Software Developer",
                 "region": "Ontario",
                 "title": "Software Developer"
                },
                "geometry": {
                 "spatialReference": {
                  "wkid": 4326
                 },
                 "x": -81.20555,
                 "y": 42.93338
                }
               },
               {
                "attributes": {
                 "OBJECTID": 99,
                 "city": null,
                 "company_name": "Nokia Global",
                 "country": "Canada",
                 "created": "2025-05-24T10:22:58Z",
                 "description": "Description We are seeking a Software Developer in the Network Services Platform, to provide secure and efficient platform services in the areas of Kubernetes platform, security, authentication, messaging and databases in a cloud native environment. You will be responsible to provide the best technologies available in those areas, continuously analyze the existing systems, identify areas to improve, propose solutions and implement them. You will also assist and mentor members of the R&D communi…",
                 "latitude": 47.02932666666666,
                 "longitude": -94.64018333333333,
                 "popup_info": "Software Developer",
                 "region": null,
                 "title": "Software Developer"
                },
                "geometry": {
                 "spatialReference": {
                  "wkid": 4326
                 },
                 "x": -94.64018333333333,
                 "y": 47.02932666666666
                }
               },
               {
                "attributes": {
                 "OBJECTID": 100,
                 "city": "Middlesex",
                 "company_name": "Proax Technologies",
                 "country": "Canada",
                 "created": "2025-04-24T15:20:44Z",
                 "description": "Job Description Job Description Salary: Who are we? Proax Technologies is a leading Technical Automation Distributor that offers innovative product solutions in the areas of Automation and Robotics, Motion Control and Machine Safety, creating close relationships with our valued customers, vendors, and employees. Why Choose Proax? Great Place to Work Certified We offer an engaging, inclusive, clean, and safe work environment Technical training of our products to ensure quality customer service O…",
                 "latitude": 42.981065,
                 "longitude": -81.248057,
                 "popup_info": "Software Developer",
                 "region": "Ontario",
                 "title": "Software Developer"
                },
                "geometry": {
                 "spatialReference": {
                  "wkid": 4326
                 },
                 "x": -81.248057,
                 "y": 42.981065
                }
               }
              ],
              "geometryType": "esriGeometryPoint"
             },
             "layerDefinition": {
              "advancedQueryCapabilities": {
               "supportsAdvancedQueryRelated": true,
               "supportsCountDistinct": true,
               "supportsDisjointSpatialRel": true,
               "supportsDistinct": true,
               "supportsHavingClause": true,
               "supportsMaxRecordCountFactor": true,
               "supportsOrderBy": true,
               "supportsOutFieldSQLExpression": true,
               "supportsPagination": true,
               "supportsPaginationOnAggregatedQueries": true,
               "supportsQueryRelatedPagination": true,
               "supportsQueryWithCacheHint": true,
               "supportsQueryWithDatumTransformation": true,
               "supportsQueryWithDistance": true,
               "supportsQueryWithResultType": true,
               "supportsReturningGeometryCentroid": true,
               "supportsReturningGeometryProperties": true,
               "supportsReturningQueryExtent": true,
               "supportsSqlExpression": true,
               "supportsStatistics": true,
               "supportsTopFeaturesQuery": true
              },
              "allowGeometryUpdates": true,
              "capabilities": "Query",
              "copyrightText": "",
              "currentVersion": 10.7,
              "defaultVisibility": true,
              "description": "",
              "displayField": "",
              "drawingInfo": {
               "renderer": {
                "description": "",
                "label": "",
                "labelingInfo": null,
                "symbol": {
                 "angle": 0,
                 "color": [
                  0,
                  128,
                  0,
                  128
                 ],
                 "outline": {
                  "color": [
                   0,
                   128,
                   0,
                   255
                  ],
                  "style": "esriSLSSolid",
                  "type": "esriSLS",
                  "width": 1
                 },
                 "size": 18,
                 "style": "esriSMSCircle",
                 "type": "esriSMS",
                 "xoffset": 0,
                 "yoffset": 0
                },
                "type": "simple"
               }
              },
              "extent": {
               "spatialReference": {
                "wkid": 4326
               },
               "xmax": -63.542562,
               "xmin": -123.136733,
               "ymax": 53.536055,
               "ymin": 42.294277
              },
              "fields": [
               {
                "alias": "OBJECTID",
                "defaultValue": null,
                "domain": null,
                "editable": false,
                "name": "OBJECTID",
                "nullable": false,
                "sqlType": "sqlTypeOther",
                "type": "esriFieldTypeOID"
               },
               {
                "alias": "description",
                "defaultValue": null,
                "domain": null,
                "editable": true,
                "length": 500,
                "name": "description",
                "nullable": true,
                "sqlType": "sqlTypeOther",
                "type": "esriFieldTypeString"
               },
               {
                "alias": "title",
                "defaultValue": null,
                "domain": null,
                "editable": true,
                "length": 60,
                "name": "title",
                "nullable": true,
                "sqlType": "sqlTypeOther",
                "type": "esriFieldTypeString"
               },
               {
                "alias": "created",
                "defaultValue": null,
                "domain": null,
                "editable": true,
                "length": 20,
                "name": "created",
                "nullable": true,
                "sqlType": "sqlTypeOther",
                "type": "esriFieldTypeString"
               },
               {
                "alias": "latitude",
                "defaultValue": null,
                "domain": null,
                "editable": true,
                "name": "latitude",
                "nullable": true,
                "sqlType": "sqlTypeOther",
                "type": "esriFieldTypeDouble"
               },
               {
                "alias": "longitude",
                "defaultValue": null,
                "domain": null,
                "editable": true,
                "name": "longitude",
                "nullable": true,
                "sqlType": "sqlTypeOther",
                "type": "esriFieldTypeDouble"
               },
               {
                "alias": "country",
                "defaultValue": null,
                "domain": null,
                "editable": true,
                "length": 6,
                "name": "country",
                "nullable": true,
                "sqlType": "sqlTypeOther",
                "type": "esriFieldTypeString"
               },
               {
                "alias": "region",
                "defaultValue": null,
                "domain": null,
                "editable": true,
                "length": 16,
                "name": "region",
                "nullable": true,
                "sqlType": "sqlTypeOther",
                "type": "esriFieldTypeString"
               },
               {
                "alias": "city",
                "defaultValue": null,
                "domain": null,
                "editable": true,
                "length": 25,
                "name": "city",
                "nullable": true,
                "sqlType": "sqlTypeOther",
                "type": "esriFieldTypeString"
               },
               {
                "alias": "company_name",
                "defaultValue": null,
                "domain": null,
                "editable": true,
                "length": 35,
                "name": "company_name",
                "nullable": true,
                "sqlType": "sqlTypeOther",
                "type": "esriFieldTypeString"
               },
               {
                "alias": "popup_info",
                "defaultValue": null,
                "domain": null,
                "editable": true,
                "length": 60,
                "name": "popup_info",
                "nullable": true,
                "sqlType": "sqlTypeOther",
                "type": "esriFieldTypeString"
               }
              ],
              "geometryType": "esriGeometryPoint",
              "globalIdField": "",
              "hasAttachments": false,
              "hasGeometryProperties": true,
              "hasM": false,
              "hasStaticData": true,
              "hasZ": false,
              "htmlPopupType": "esriServerHTMLPopupTypeNone",
              "id": 0,
              "isDataVersioned": false,
              "maxRecordCount": 32000,
              "maxRecordCountFactor": 1,
              "maxScale": 0,
              "minScale": 0,
              "name": "fa1044",
              "objectIdField": "OBJECTID",
              "relationships": [],
              "standardMaxRecordCount": 4000,
              "supportedQueryFormats": "JSON, geoJSON",
              "supportsASyncCalculate": true,
              "supportsAdvancedQueries": true,
              "supportsAppend": true,
              "supportsApplyEditsWithGlobalIds": false,
              "supportsAttachmentsByUploadId": true,
              "supportsAttachmentsResizing": true,
              "supportsCalculate": true,
              "supportsCoordinatesQuantization": true,
              "supportsExceedsLimitStatistics": true,
              "supportsFieldDescriptionProperty": true,
              "supportsMultiScaleGeometry": true,
              "supportsQuantizationEditMode": true,
              "supportsReturningQueryGeometry": true,
              "supportsRollbackOnFailureParameter": true,
              "supportsStatistics": true,
              "supportsTruncate": false,
              "supportsValidateSql": true,
              "tileMaxRecordCount": 4000,
              "title": null,
              "type": "Feature Layer",
              "typeIdField": "",
              "types": [],
              "useStandardizedQueries": false
             },
             "popupInfo": {
              "description": null,
              "fieldInfos": [
               {
                "fieldName": "OBJECTID",
                "isEditable": false,
                "label": "OBJECTID",
                "visible": true
               },
               {
                "fieldName": "description",
                "isEditable": true,
                "label": "description",
                "visible": true
               },
               {
                "fieldName": "title",
                "isEditable": true,
                "label": "title",
                "visible": true
               },
               {
                "fieldName": "created",
                "isEditable": true,
                "label": "created",
                "visible": true
               },
               {
                "fieldName": "latitude",
                "isEditable": true,
                "label": "latitude",
                "visible": true
               },
               {
                "fieldName": "longitude",
                "isEditable": true,
                "label": "longitude",
                "visible": true
               },
               {
                "fieldName": "country",
                "isEditable": true,
                "label": "country",
                "visible": true
               },
               {
                "fieldName": "region",
                "isEditable": true,
                "label": "region",
                "visible": true
               },
               {
                "fieldName": "city",
                "isEditable": true,
                "label": "city",
                "visible": true
               },
               {
                "fieldName": "company_name",
                "isEditable": true,
                "label": "company_name",
                "visible": true
               },
               {
                "fieldName": "popup_info",
                "isEditable": true,
                "label": "popup_info",
                "visible": true
               }
              ],
              "mediaInfos": [],
              "showAttachments": true,
              "title": null
             }
            }
           ]
          },
          "id": "8157587459621",
          "layerDefinition": {
           "definitionExpression": null
          },
          "layerType": "ArcGISFeatureLayer",
          "opacity": 1,
          "title": null,
          "visibility": true
         }
        ],
        "spatialReference": {
         "latestWkid": 3857,
         "wkid": 102100
        },
        "version": "2.10"
       },
       "_writeonly_end_time": "1900-01-01T00:00:00.000000",
       "_writeonly_start_time": "1900-01-01T00:00:00.000000",
       "hide_mode_switch": true,
       "layout": "IPY_MODEL_7e6d8271515742c5aaac1924745b3eed",
       "print_service_url": ""
      }
     },
     "78711b4b08a54cf9b01be2cdba61d41e": {
      "model_module": "arcgis-map-ipywidget",
      "model_module_version": "2.0.1",
      "model_name": "ArcGISMapIPyWidgetModel",
      "state": {
       "_auth_mode": "anonymous",
       "_basemap": "default",
       "_center": {
        "spatialReference": {
         "wkid": 4326
        },
        "x": -113.64258,
        "y": 60.10867
       },
       "_draw_these_graphics_on_widget_load": [],
       "_draw_these_notype_layers_on_widget_load": [
        {
         "_hashFromPython": "8157587459621",
         "featureSet": {
          "features": [
           {
            "attributes": {
             "OBJECTID": 1,
             "city": "Toronto",
             "company_name": "Akkodis",
             "country": "Canada",
             "created": "2025-06-15T03:29:02Z",
             "description": "Akkodis is currently seeking a skilled Power BI Data Analyst with a strong background in HR systems for a contract opportunity with a prominent client based in Toronto, ON. This hybrid role is ideal for a data professional experienced in handling large datasets, developing insightful Power BI reports, and validating data through SQL scripting. Familiarity with SuccessFactors People Analytics is highly preferred. Position: PowerBI Data Analyst (HR Systems) Location: Toronto, ON (Hybrid) Contract…",
             "latitude": 43.70610200000001,
             "longitude": -79.402726,
             "popup_info": "Data Analyst",
             "region": "Ontario",
             "title": "Data Analyst"
            },
            "geometry": {
             "spatialReference": {
              "wkid": 4326
             },
             "x": -79.402726,
             "y": 43.70610200000001
            }
           },
           {
            "attributes": {
             "OBJECTID": 2,
             "city": "Toronto",
             "company_name": "Aquanow",
             "country": "Canada",
             "created": "2025-05-20T17:15:34Z",
             "description": "About us Aquanow is a trading and technology company powering the next generation of financial services. We’re at the forefront of the rapidly evolving digital asset space, empowering businesses to navigate the complexities of cryptocurrencies and blockchain technologies. As a leading provider of infrastructure solutions, we offer innovative services in cryptocurrency trading, liquidity management, and secure digital asset storage. Our platform is built to deliver seamless, scalable, and reliab…",
             "latitude": 43.706102,
             "longitude": -79.402726,
             "popup_info": "Data Analyst",
             "region": "Ontario",
             "title": "Data Analyst"
            },
            "geometry": {
             "spatialReference": {
              "wkid": 4326
             },
             "x": -79.402726,
             "y": 43.706102
            }
           },
           {
            "attributes": {
             "OBJECTID": 3,
             "city": "Peel region",
             "company_name": "Tata Consultancy Services",
             "country": "Canada",
             "created": "2025-04-20T22:56:29Z",
             "description": "Inclusion without Exception Tata Consultancy Services (TCS) is an equal opportunity employer, and embraces diversity in race, nationality, ethnicity, gender, age, physical ability, neurodiversity, and sexual orientation, to create a workforce that reflects the societies we operate in. Our continued commitment to Culture and Diversity is reflected in our people’s stories across our workforce and implemented through equitable workplace policies and processes. About TCS TCS is an IT services, cons…",
             "latitude": 45.169472000000006,
             "longitude": -76.73082433333333,
             "popup_info": "Data Analyst",
             "region": "Ontario",
             "title": "Data Analyst"
            },
            "geometry": {
             "spatialReference": {
              "wkid": 4326
             },
             "x": -76.73082433333333,
             "y": 45.169472000000006
            }
           },
           {
            "attributes": {
             "OBJECTID": 4,
             "city": null,
             "company_name": "iTech US Inc",
             "country": "Canada",
             "created": "2025-05-31T22:30:19Z",
             "description": "Position: Technical Data Analyst Location: Montreal, QC Duration: 12 Months Job Responsibilities Uplift strategic Fixed Income Cash & FX systems to enable the capture of data flows in the firmwide data catalog. Annotate system code to define, and document data sets, that represent the risk data that is processed and stored within our systems. Modify build systems to automatically publish those data sets and any updates or changes to them in an accurate and timely fashion. Work with upstream and…",
             "latitude": 47.02932666666666,
             "longitude": -94.64018333333333,
             "popup_info": "Technical Data Analyst",
             "region": null,
             "title": "Technical Data Analyst"
            },
            "geometry": {
             "spatialReference": {
              "wkid": 4326
             },
             "x": -94.64018333333333,
             "y": 47.02932666666666
            }
           },
           {
            "attributes": {
             "OBJECTID": 5,
             "city": null,
             "company_name": "Critical Control Technologies",
             "country": "Canada",
             "created": "2025-05-30T23:28:35Z",
             "description": "We are seeking an analytical and detail-oriented Data Analyst to join our team. This role is crucial in supporting data-driven decision making by maintaining and developing financial and operational dashboards and models. The ideal candidate is not only technically skilled, but also collaborative, with the ability to work cross-functionally and respond to dynamic business needs. Key Responsibilities: Maintain, enhance, and develop financial and operational models and dashboards to support busin…",
             "latitude": 47.02932666666666,
             "longitude": -94.64018333333333,
             "popup_info": "Data Analyst",
             "region": null,
             "title": "Data Analyst"
            },
            "geometry": {
             "spatialReference": {
              "wkid": 4326
             },
             "x": -94.64018333333333,
             "y": 47.02932666666666
            }
           },
           {
            "attributes": {
             "OBJECTID": 6,
             "city": "Toronto",
             "company_name": "Tata Consultancy Services",
             "country": "Canada",
             "created": "2025-06-04T02:11:26Z",
             "description": "Inclusion without Exception: Tata Consultancy Services (TCS) is an equal opportunity employer, and embraces diversity in race, nationality, ethnicity, gender, age, physical ability, neurodiversity, and sexual orientation, to create a workforce that reflects the societies we operate in. Our continued commitment to Culture and Diversity is reflected in our people stories across our workforce and implemented through equitable workplace policies and processes. TCS is an IT services, consulting, and…",
             "latitude": 43.706102,
             "longitude": -79.402726,
             "popup_info": "Data Analyst",
             "region": "Ontario",
             "title": "Data Analyst"
            },
            "geometry": {
             "spatialReference": {
              "wkid": 4326
             },
             "x": -79.402726,
             "y": 43.706102
            }
           },
           {
            "attributes": {
             "OBJECTID": 7,
             "city": "Toronto",
             "company_name": "C5i",
             "country": "Canada",
             "created": "2025-06-14T02:00:12Z",
             "description": "C5i is a pure-play AI & Analytics provider that combines the power of human perspective with AI technology to deliver trustworthy intelligence. The company drives value through a comprehensive solution set, integrating multifunctional teams that have technical and business domain expertise with a robust suite of products, solutions, and accelerators tailored for various horizontal and industry-specific use cases. At the core, C5i’s focus is to deliver business impact at speed and scale by drivi…",
             "latitude": 43.706102,
             "longitude": -79.402726,
             "popup_info": "Data Analyst",
             "region": "Ontario",
             "title": "Data Analyst"
            },
            "geometry": {
             "spatialReference": {
              "wkid": 4326
             },
             "x": -79.402726,
             "y": 43.706102
            }
           },
           {
            "attributes": {
             "OBJECTID": 8,
             "city": null,
             "company_name": "Belron Canada Inc.",
             "country": "Canada",
             "created": "2025-06-19T08:23:42Z",
             "description": "Automotive glass technology is helping transform how we experience the road. At Belron Canada , the home office of Speedy Glass, Lebeau vitres d’auto and Vanfax we take this seriously, which is why we invest tirelessly on developing our people can realize their full potential. We welcome applications from everyone, and are firmly committed to diversity, equity and inclusion in the workplace, and take pride in ensuring every member of our team feels empowered. Position Overview We’re hiring a st…",
             "latitude": 47.02932666666666,
             "longitude": -94.64018333333333,
             "popup_info": "Business Data Analyst",
             "region": null,
             "title": "Business Data Analyst"
            },
            "geometry": {
             "spatialReference": {
              "wkid": 4326
             },
             "x": -94.64018333333333,
             "y": 47.02932666666666
            }
           },
           {
            "attributes": {
             "OBJECTID": 9,
             "city": null,
             "company_name": "National Bank",
             "country": "Canada",
             "created": "2025-06-12T08:23:18Z",
             "description": "A career as Chief Data Analyst in the IT Marketing team at National Bank is to be an expert in data analytics. It is through your analytical experience and data knowledge that you have a positive impact. Your job Develop, automate and put into production data processing processes using technologies such as SQL, Snowflake, Databricks, and Bitbucket Ensure the correct flow of data in the 360 view Collaborate with various stakeholders to manage, optimize and architect the marketing data ecosystem,…",
             "latitude": 47.02932666666666,
             "longitude": -94.64018333333333,
             "popup_info": "Chief Data Analyst",
             "region": null,
             "title": "Chief Data Analyst"
            },
            "geometry": {
             "spatialReference": {
              "wkid": 4326
             },
             "x": -94.64018333333333,
             "y": 47.02932666666666
            }
           },
           {
            "attributes": {
             "OBJECTID": 10,
             "city": "Toronto",
             "company_name": "Haptiq",
             "country": "Canada",
             "created": "2025-05-28T22:12:19Z",
             "description": "Overview Haptiq is a leader in delivering digital solutions and consulting services that drive value and transform businesses. We specialize in leveraging technology to improve efficiencies and offer comprehensive solutions tailored to meet the unique needs of our clients across various industries. As well as bringing next-generation technology to private capital markets through the Olympus suite of cloud-based solutions designed to empower private equity and credit funds, as well as the firms …",
             "latitude": 43.706102,
             "longitude": -79.402726,
             "popup_info": "Power BI Data Analyst",
             "region": "Ontario",
             "title": "Power BI Data Analyst"
            },
            "geometry": {
             "spatialReference": {
              "wkid": 4326
             },
             "x": -79.402726,
             "y": 43.706102
            }
           },
           {
            "attributes": {
             "OBJECTID": 11,
             "city": "Peel region",
             "company_name": "Tata Consultancy Services",
             "country": "Canada",
             "created": "2025-05-29T23:13:10Z",
             "description": "Inclusion without Exception Tata Consultancy Services (TCS) is an equal opportunity employer, and embraces diversity in race, nationality, ethnicity, gender, age, physical ability, neurodiversity, and sexual orientation, to create a workforce that reflects the societies we operate in. Our continued commitment to Culture and Diversity is reflected in our people’s stories across our workforce and implemented through equitable workplace policies and processes. TCS is an IT services, consulting, an…",
             "latitude": 45.169472000000006,
             "longitude": -76.73082433333333,
             "popup_info": "GCP Data Analyst",
             "region": "Ontario",
             "title": "GCP Data Analyst"
            },
            "geometry": {
             "spatialReference": {
              "wkid": 4326
             },
             "x": -76.73082433333333,
             "y": 45.169472000000006
            }
           },
           {
            "attributes": {
             "OBJECTID": 12,
             "city": "Greater Vancouver",
             "company_name": "Insight Global",
             "country": "Canada",
             "created": "2025-06-14T01:57:22Z",
             "description": "Logistics: Role Type: Full-Time, Permanent Role Environment: Hybrid, On-Site 3x/week (full-time for first 3-months during onboarding) Salary: $77,000-$91,000/yr Full Benefits Included Job Description Day-to-Day Insight Global is looking for a Sr. Data Analyst to join our client in the marketing industry on a full-time, permanent basis. This role will initially be a fully on-site opportunity for the first 3-months while the successful candidate is onboarded, and then transition to on-site 3-days…",
             "latitude": 49.256582,
             "longitude": -122.898456,
             "popup_info": "Senior Data Analyst",
             "region": "British Columbia",
             "title": "Senior Data Analyst"
            },
            "geometry": {
             "spatialReference": {
              "wkid": 4326
             },
             "x": -122.898456,
             "y": 49.256582
            }
           },
           {
            "attributes": {
             "OBJECTID": 13,
             "city": "Greater Vancouver",
             "company_name": "Summit Search Group",
             "country": "Canada",
             "created": "2025-06-11T23:07:32Z",
             "description": "Position Title: Western Canada Operations Data Analyst Department: Operations Support Reports To: Western Canada Manager, Operations Data Direct Reports: None Indirect Reports: None Date: April 2025 Purpose of Position The Western Canada Operations Data Analyst supports the development and maintenance of operational datasets and reporting tools that drive performance, consistency, and continuous improvement across collection and post-collection programs in Western Canada. This role transforms r…",
             "latitude": 49.256582,
             "longitude": -122.898456,
             "popup_info": "Western Canada Operations Data Analyst",
             "region": "British Columbia",
             "title": "Western Canada Operations Data Analyst"
            },
            "geometry": {
             "spatialReference": {
              "wkid": 4326
             },
             "x": -122.898456,
             "y": 49.256582
            }
           },
           {
            "attributes": {
             "OBJECTID": 14,
             "city": "Toronto",
             "company_name": "Tundra Technical Solutions",
             "country": "Canada",
             "created": "2025-05-31T22:30:20Z",
             "description": "Job Title: Data Governance Analyst – Capital Markets Location: Toronto, ON (Hybrid) Department: Capital Markets – Data Governance Employment Type: Contract About the Role: We are seeking a highly motivated Data Governance Analyst (Junior to Intermediate level) to join the Capital Markets Data Governance team at one of Canada’s leading financial institutions. This role plays a key part in advancing the bank’s data governance maturity by supporting enterprise-wide standards, improving data qualit…",
             "latitude": 43.706102,
             "longitude": -79.402726,
             "popup_info": "Data Governance Analyst",
             "region": "Ontario",
             "title": "Data Governance Analyst"
            },
            "geometry": {
             "spatialReference": {
              "wkid": 4326
             },
             "x": -79.402726,
             "y": 43.706102
            }
           },
           {
            "attributes": {
             "OBJECTID": 15,
             "city": "York region",
             "company_name": "Paymentus",
             "country": "Canada",
             "created": "2025-05-20T17:13:25Z",
             "description": "Data loss prevention (DLP) systems detect potential data breach incidents in a timely manner and prevent them by monitoring data while in-use, in-transit, and at-rest. DLP systems can be both appliance-based and host-based with components for network monitoring, discovery scanning, and perimeter protection. Paymentus is seeking a Data Loss Prevention (DLP) Engineer with a foundational understanding of Privileged Access Management (PAM) and Identity and Access Management (IAM) to join our growin…",
             "latitude": 43.883951,
             "longitude": -79.431638,
             "popup_info": "Data Security Analyst",
             "region": "Ontario",
             "title": "Data Security Analyst"
            },
            "geometry": {
             "spatialReference": {
              "wkid": 4326
             },
             "x": -79.431638,
             "y": 43.883951
            }
           },
           {
            "attributes": {
             "OBJECTID": 16,
             "city": "Ottawa region",
             "company_name": "Farm Boy Inc.",
             "country": "Canada",
             "created": "2025-06-11T07:09:23Z",
             "description": "Job Description Reporting to the Vice-President, Replenishment & Supply Chain Administration, this role is responsible for turning data into information and insights that support business decisions with the purpose of achieving the Farm Boy’s vision, maximizing sales, and enabling the strategic growth of the company. The performance of the duties must ensure a quality service approach to all employees, customers and suppliers. All responsibilities must be performed in a manner consistent with t…",
             "latitude": 45.391410666666665,
             "longitude": -75.67048533333333,
             "popup_info": "Data Analyst",
             "region": "Ontario",
             "title": "Data Analyst"
            },
            "geometry": {
             "spatialReference": {
              "wkid": 4326
             },
             "x": -75.67048533333333,
             "y": 45.391410666666665
            }
           },
           {
            "attributes": {
             "OBJECTID": 17,
             "city": "Greater Vancouver",
             "company_name": "Swim Recruiting",
             "country": "Canada",
             "created": "2025-06-06T07:31:38Z",
             "description": "6-month contract Data Analyst role at a global enterprise organization with hybrid work in Vancouver. Contract data analyst role. Global enterprise organization experiencing large scale growth. Hybrid work environment in Vancouver, 3 days a week in office. What & Why: As a result of investment our client is looking to add a contract data analyst to their team to support their call centre powered by Salesforce technology. This role focuses on supporting data-driven initiatives by documenting dat…",
             "latitude": 49.256582,
             "longitude": -122.898456,
             "popup_info": "Data Analyst",
             "region": "British Columbia",
             "title": "Data Analyst"
            },
            "geometry": {
             "spatialReference": {
              "wkid": 4326
             },
             "x": -122.898456,
             "y": 49.256582
            }
           },
           {
            "attributes": {
             "OBJECTID": 18,
             "city": "Greater Vancouver",
             "company_name": "Insight Global",
             "country": "Canada",
             "created": "2025-05-10T12:19:16Z",
             "description": "Job Description Insight Global is looking for a Data Analyst to join one of North America's largest retail and wellness companies. The ideal candidates will be joining the Guest Education Center technology team that focuses on supporting technology to improve the retail guest experience. The Data Analyst will be responsible for building view within snowflake for stakeholder data presentations. A day in the life: Develop and implement data collection, processing, and analysis approach Identify d…",
             "latitude": 49.256582,
             "longitude": -122.898456,
             "popup_info": "Data Analyst",
             "region": "British Columbia",
             "title": "Data Analyst"
            },
            "geometry": {
             "spatialReference": {
              "wkid": 4326
             },
             "x": -122.898456,
             "y": 49.256582
            }
           },
           {
            "attributes": {
             "OBJECTID": 19,
             "city": "Greater Vancouver",
             "company_name": "Rubicon Organics",
             "country": "Canada",
             "created": "2025-05-11T10:20:21Z",
             "description": "←Back to all jobs at Rubicon Organics Inc. Data Analyst Rubicon Organics’ mission is to grow the best cannabis on Earth and for the Earth and today we are doing just that out of our state-of-the art greenhouse facility located in Delta, B.C. We are growing and expanding quickly while on our journey as Canada’s leading house of premium brands. We are seeking a skilled and detail-oriented Data Analyst with strong expertise in Power BI and Advanced Excel to join our analytics team. The ideal candi…",
             "latitude": 49.0869,
             "longitude": -122.97937,
             "popup_info": "Data Analyst",
             "region": "British Columbia",
             "title": "Data Analyst"
            },
            "geometry": {
             "spatialReference": {
              "wkid": 4326
             },
             "x": -122.97937,
             "y": 49.0869
            }
           },
           {
            "attributes": {
             "OBJECTID": 20,
             "city": null,
             "company_name": "E-Trade",
             "country": "Canada",
             "created": "2025-05-18T10:12:35Z",
             "description": "Job Number: 4629 External Description: This position is with the Enterprise System Management (ESM) department. The position is with a team responsible for managing Morgan Stanley’s IT inventory and assets data. This data is critical for regulatory, operational, and efficiency purposes. As part of a team focused on rationalizing different legacy hardware asset and configuration management solutions into a single strategic platform, we are looking for a data analyst. This is a dual role requirin…",
             "latitude": 47.02932666666666,
             "longitude": -94.64018333333333,
             "popup_info": "Data Analyst",
             "region": null,
             "title": "Data Analyst"
            },
            "geometry": {
             "spatialReference": {
              "wkid": 4326
             },
             "x": -94.64018333333333,
             "y": 47.02932666666666
            }
           },
           {
            "attributes": {
             "OBJECTID": 21,
             "city": "Greater Vancouver",
             "company_name": "NEARSOURCE TECHNOLOGIES",
             "country": "Canada",
             "created": "2025-06-11T08:01:31Z",
             "description": "Join a leading Fortune 500 company that values data-driven decision-making and innovation. We are looking for a skilled Data Analyst to join our dynamic team and help translate business questions into actionable insights that guide strategic decisions at the executive level. This is an excellent opportunity to work on high-impact dashboards and reports used by senior leadership, including COO staff and executive teams. Job Title: Data Analyst Job Location: 100 % Remote (Canada) Time Zone: PST W…",
             "latitude": 49.256582,
             "longitude": -122.898456,
             "popup_info": "Data Analyst",
             "region": "British Columbia",
             "title": "Data Analyst"
            },
            "geometry": {
             "spatialReference": {
              "wkid": 4326
             },
             "x": -122.898456,
             "y": 49.256582
            }
           },
           {
            "attributes": {
             "OBJECTID": 22,
             "city": "Winnipeg region",
             "company_name": "Compass Group",
             "country": "Canada",
             "created": "2025-05-29T16:21:34Z",
             "description": "You might not know our name, but you know where we are. That’s because Compass Group Canada is part of a global foodservice and support services company that’s the 6th largest employer in the world, with 625,000 employees. You’ll find us in schools, colleges, hospitals, office buildings, senior living communities, tourist attractions, sports venues, remote camps and military installations and more. We’re in all major cities, at remote work sites and everywhere in between – doing business in Can…",
             "latitude": 49.976565,
             "longitude": -97.089537,
             "popup_info": "Data Analyst",
             "region": "Manitoba",
             "title": "Data Analyst"
            },
            "geometry": {
             "spatialReference": {
              "wkid": 4326
             },
             "x": -97.089537,
             "y": 49.976565
            }
           },
           {
            "attributes": {
             "OBJECTID": 23,
             "city": "Edmonton region",
             "company_name": "JSG ",
             "country": "Canada",
             "created": "2025-06-05T06:45:33Z",
             "description": "Job Description Job Overview Data Analyst is expected to provide expertise in data collection, data-driven storytelling, statistical analysis, data modelling and visualization, data policies and governance standards. The data analyst will also create plans and strategies to identify the various linkages between new and existing data forms, resulting in the integration of data models, development of data policies, and presentation of statistical analysis and data visualizations to help understan…",
             "latitude": 53.536055,
             "longitude": -113.502542,
             "popup_info": "Data Analyst",
             "region": "Alberta",
             "title": "Data Analyst"
            },
            "geometry": {
             "spatialReference": {
              "wkid": 4326
             },
             "x": -113.502542,
             "y": 53.536055
            }
           },
           {
            "attributes": {
             "OBJECTID": 24,
             "city": "Halifax region",
             "company_name": "Jazz Aviation LP",
             "country": "Canada",
             "created": "2025-03-09T13:13:16Z",
             "description": "Basic Purpose of Position The Data Analyst will be responsible for transitioning existing reports from legacy tools to new data visualization platforms, primarily Power BI. This role involves understanding current reporting requirements, designing and implementing new reporting solutions, and ensuring data accuracy and integrity throughout the migration process. Key Responsibilities Analyze Existing Reports\\: Review and understand current reports in legacy tools to identify key metrics and data…",
             "latitude": 44.681555,
             "longitude": -63.556363,
             "popup_info": "Data Analyst",
             "region": "Nova Scotia",
             "title": "Data Analyst"
            },
            "geometry": {
             "spatialReference": {
              "wkid": 4326
             },
             "x": -63.556363,
             "y": 44.681555
            }
           },
           {
            "attributes": {
             "OBJECTID": 25,
             "city": "Montréal",
             "company_name": "Central Business Solutions",
             "country": "Canada",
             "created": "2024-07-30T17:30:29Z",
             "description": "Job Description Responsible to build various report and dashboard / maintain existing ones to track critical metrics and project stats such as firm wide encryption status and data in transit encryption metrics across multiple products as examples. Skills: 4  Years of Experience as Data Analyst Clear communicator Strong sense of ownership Being able to work independently. Attention to detail. Python Basic data engineering (or developing complex reporting structures) Data governance experience wo…",
             "latitude": 45.49797,
             "longitude": -73.55521,
             "popup_info": "Data Analyst",
             "region": "Québec",
             "title": "Data Analyst"
            },
            "geometry": {
             "spatialReference": {
              "wkid": 4326
             },
             "x": -73.55521,
             "y": 45.49797
            }
           },
           {
            "attributes": {
             "OBJECTID": 26,
             "city": "Laval region",
             "company_name": "FGL Sports",
             "country": "Canada",
             "created": "2025-03-30T13:45:12Z",
             "description": "What you’ll do Joining the Canadian Tire team in the FGL Sports division, you will be working as part of a team of data management analysts. Your role as a Data Analyst will be to support the Data Architecture in the development of various query requirements across multiple enterprise database sources. Design, implement and manage the structure of reporting systems. The Data Analyst is responsible for data extraction initiatives from our various systems, validation with business departments for…",
             "latitude": 43.050778,
             "longitude": -80.76784033333333,
             "popup_info": "Data Analyst",
             "region": "Québec",
             "title": "Data Analyst"
            },
            "geometry": {
             "spatialReference": {
              "wkid": 4326
             },
             "x": -80.76784033333333,
             "y": 43.050778
            }
           },
           {
            "attributes": {
             "OBJECTID": 27,
             "city": "Toronto",
             "company_name": "Insight Global",
             "country": "Canada",
             "created": "2025-06-13T12:57:13Z",
             "description": "Job Description We are seeking a motivated and detail-oriented Junior Data Analyst to support our innovative Generative AI (GenAI) initiatives within a leading financial institution. This role is ideal for someone early in their data career who has a strong interest in data analysis, reporting, and data quality, and is eager to grow their skills in a dynamic and collaborative environment. As a Junior Data Analyst on the GenAI team, you will work closely with data engineers and AI researchers to…",
             "latitude": 43.706102,
             "longitude": -79.402726,
             "popup_info": "Data Analyst",
             "region": "Ontario",
             "title": "Data Analyst"
            },
            "geometry": {
             "spatialReference": {
              "wkid": 4326
             },
             "x": -79.402726,
             "y": 43.706102
            }
           },
           {
            "attributes": {
             "OBJECTID": 28,
             "city": "Toronto",
             "company_name": "TheAppLabb",
             "country": "Canada",
             "created": "2025-03-07T12:07:09Z",
             "description": "About TheAILabb: TheAILabb is a leading innovation company specializing in AI-powered digital solutions, mobile app development, and emerging technologies. We leverage data-driven insights to enhance digital experiences and drive business growth. We are looking for a Data Analyst to help translate raw data into meaningful insights that drive strategic decision-making. Role Overview: As a Data Analyst at TheAILabb , you will analyze complex datasets, create interactive visualizations, and genera…",
             "latitude": 43.65404,
             "longitude": -79.38768,
             "popup_info": "Data Analyst",
             "region": "Ontario",
             "title": "Data Analyst"
            },
            "geometry": {
             "spatialReference": {
              "wkid": 4326
             },
             "x": -79.38768,
             "y": 43.65404
            }
           },
           {
            "attributes": {
             "OBJECTID": 29,
             "city": "Essex region",
             "company_name": "Rocket Innovation Studio",
             "country": "Canada",
             "created": "2025-06-17T06:54:13Z",
             "description": "As a Data Analyst, you’ll be responsible for advising business area leaders on decision making and measuring the impact of investments through leveraging various sources for data analysis. You’ll apply statistics, enterprise reporting tools, and technical expertise to support tactical and operational reporting for a business area. With the backing of Rocket, Rocket Innovation Studio (RIS) is able to capitalize on the creativity and growth of a startup environment with the stability and enterpri…",
             "latitude": 42.294277,
             "longitude": -82.996859,
             "popup_info": "Data Analyst",
             "region": "Ontario",
             "title": "Data Analyst"
            },
            "geometry": {
             "spatialReference": {
              "wkid": 4326
             },
             "x": -82.996859,
             "y": 42.294277
            }
           },
           {
            "attributes": {
             "OBJECTID": 30,
             "city": "Toronto",
             "company_name": "Annex It Solutions",
             "country": "Canada",
             "created": "2025-06-04T19:49:08Z",
             "description": "Were seeking a detail-oriented and analytical Data Analyst to collect, analyze, and interpret complex datasets that help inform business decisions. You will work closely with various teams to deliver insights that drive strategy and operational improvements. Key Responsibilities: Gather, clean, and organize data from multiple sources. Perform data analysis to identify trends, patterns, and actionable insights. Develop and maintain dashboards, reports, and visualizations using BI tools like Tabl…",
             "latitude": 43.706102,
             "longitude": -79.402726,
             "popup_info": "Data Analyst",
             "region": "Ontario",
             "title": "Data Analyst"
            },
            "geometry": {
             "spatialReference": {
              "wkid": 4326
             },
             "x": -79.402726,
             "y": 43.706102
            }
           },
           {
            "attributes": {
             "OBJECTID": 31,
             "city": null,
             "company_name": "Stripe",
             "country": "Canada",
             "created": "2024-12-13T05:29:47Z",
             "description": "About Stripe Stripe is a financial infrastructure platform for businesses. Millions of companies—from the world’s largest enterprises to the most ambitious startups—use Stripe to accept payments, grow their revenue, and accelerate new business opportunities. Our mission is to increase the GDP of the internet, and we have a staggering amount of work ahead. That means you have an unprecedented opportunity to put the global economy within everyone’s reach while doing the most important work of you…",
             "latitude": 47.02932666666666,
             "longitude": -94.64018333333333,
             "popup_info": "Data Analyst",
             "region": null,
             "title": "Data Analyst"
            },
            "geometry": {
             "spatialReference": {
              "wkid": 4326
             },
             "x": -94.64018333333333,
             "y": 47.02932666666666
            }
           },
           {
            "attributes": {
             "OBJECTID": 32,
             "city": "Middlesex",
             "company_name": "Canada Life",
             "country": "Canada",
             "created": "2025-06-15T06:38:27Z",
             "description": "Permanent Full Time Canada Life is seeking a highly skilled Data Analyst to join the Insurance Solutions team. As an important part of the Performance Measurement area, this role will be responsible for supporting the data management, analysis, and reporting needs of the department. The Data Analyst supports decision making, monitors business performance, and provides actionable insights using analytics and visualizations geared to the audience. The role will benefit from collaboration with act…",
             "latitude": 42.981065,
             "longitude": -81.248057,
             "popup_info": "Data Analyst",
             "region": "Ontario",
             "title": "Data Analyst"
            },
            "geometry": {
             "spatialReference": {
              "wkid": 4326
             },
             "x": -81.248057,
             "y": 42.981065
            }
           },
           {
            "attributes": {
             "OBJECTID": 33,
             "city": "Hamilton region",
             "company_name": "Dillon Consulting Limited",
             "country": "Canada",
             "created": "2025-06-15T06:38:27Z",
             "description": "Are you a skilled Data Analyst passionate about leading the implementation and management of impactful data-driven solutions? Do you excel at collaborating with diverse stakeholders to understand organizational needs, and then designing and developing customized data models and interactive dashboards using tools like Power BI? Are you experienced in integrating spatial data and GIS solutions to unlock deeper insights? If you enjoy managing the full project lifecycle, from initial assessment to …",
             "latitude": 43.237889,
             "longitude": -79.849914,
             "popup_info": "Data Analyst",
             "region": "Ontario",
             "title": "Data Analyst"
            },
            "geometry": {
             "spatialReference": {
              "wkid": 4326
             },
             "x": -79.849914,
             "y": 43.237889
            }
           },
           {
            "attributes": {
             "OBJECTID": 34,
             "city": "Toronto",
             "company_name": "Dillon Consulting Limited",
             "country": "Canada",
             "created": "2025-01-09T15:27:17Z",
             "description": "Are you a skilled Data Analyst passionate about leading the implementation and management of impactful data-driven solutions? Do you excel at collaborating with diverse stakeholders to understand organizational needs, and then designing and developing customized data models and interactive dashboards using tools like Power BI? Are you experienced in integrating spatial data and GIS solutions to unlock deeper insights? If you enjoy managing the full project lifecycle, from initial assessment to …",
             "latitude": 43.64637,
             "longitude": -79.39681,
             "popup_info": "Data Analyst",
             "region": "Ontario",
             "title": "Data Analyst"
            },
            "geometry": {
             "spatialReference": {
              "wkid": 4326
             },
             "x": -79.39681,
             "y": 43.64637
            }
           },
           {
            "attributes": {
             "OBJECTID": 35,
             "city": "Greater Vancouver",
             "company_name": "B.C. College of Nurses and Midwives",
             "country": "Canada",
             "created": "2025-06-18T04:48:54Z",
             "description": "Job Description Job Description Status: Temporary, Full-Time; term ends Dec 31, 2026 Number of Positions: 1 Work Location: Vancouver, BC - Hybrid (a combination of in-office and remote work) Who we are The British Columbia College of Nurses & Midwives (“BCCNM”) is the college empowered under the Health Professions Act to regulate the practice of all licensed practical nurses, nurse practitioners, registered midwives, registered nurses, and registered psychiatric nurses in British Columbia. Regu…",
             "latitude": 49.252255,
             "longitude": -123.108651,
             "popup_info": "Data Analyst",
             "region": "British Columbia",
             "title": "Data Analyst"
            },
            "geometry": {
             "spatialReference": {
              "wkid": 4326
             },
             "x": -123.108651,
             "y": 49.252255
            }
           },
           {
            "attributes": {
             "OBJECTID": 36,
             "city": "Greater Vancouver",
             "company_name": "Sensor Tower",
             "country": "Canada",
             "created": "2025-05-25T12:58:43Z",
             "description": "Fraud warning: It's common for scammers to create positions that look legitimate on other sites. To ensure your submission is considered, only apply for positions at Sensor Tower through our company website or through posts directly associated with Sensor Tower company profiles on sites such as LinkedIn, Indeed, BuiltIn or Hackajob. At no point will Sensor Tower ever ask for money, credit card, or bank account information to complete a job application. Communications received from Sensor Tower …",
             "latitude": 49.252255,
             "longitude": -123.108651,
             "popup_info": "Data Analyst",
             "region": "British Columbia",
             "title": "Data Analyst"
            },
            "geometry": {
             "spatialReference": {
              "wkid": 4326
             },
             "x": -123.108651,
             "y": 49.252255
            }
           },
           {
            "attributes": {
             "OBJECTID": 37,
             "city": "Toronto",
             "company_name": "Insight Global",
             "country": "Canada",
             "created": "2025-05-07T12:17:08Z",
             "description": "Job Description Insight Global is looking for a data analyst for an Information Security team for a large Canadian bank. This consultant is responsible for analyzing, reporting, and presenting data for many different teams. They will also be responsible for migrating data from Tableau to Power Bi. We are looking for someone who has strong experience with large data sets, investigative skills to find out the meaning behind the data so it can be digested appropriately when developing, troubleshoo…",
             "latitude": 43.706102,
             "longitude": -79.402726,
             "popup_info": "Data Analyst",
             "region": "Ontario",
             "title": "Data Analyst"
            },
            "geometry": {
             "spatialReference": {
              "wkid": 4326
             },
             "x": -79.402726,
             "y": 43.706102
            }
           },
           {
            "attributes": {
             "OBJECTID": 38,
             "city": "Peel region",
             "company_name": "Kuehne+Nagel",
             "country": "Canada",
             "created": "2025-06-18T06:43:44Z",
             "description": "It's more than a job As a Data Analyst at KuehneNagel, you will play a key role in optimizing end-to-end warehousing operations by transforming raw logistics data into actionable insights. Your analytical precision will support operational efficiency and strategic decision-making across warehouse and distribution centers. For example, by analyzing trends in the storage and delivery of delicate flowers and fresh ingredients, you’ll help ensure timely deliveries to local stores—contributing to ev…",
             "latitude": 43.588336,
             "longitude": -79.656736,
             "popup_info": "Data Analyst",
             "region": "Ontario",
             "title": "Data Analyst"
            },
            "geometry": {
             "spatialReference": {
              "wkid": 4326
             },
             "x": -79.656736,
             "y": 43.588336
            }
           },
           {
            "attributes": {
             "OBJECTID": 39,
             "city": "Greater Vancouver",
             "company_name": "POS King Software Inc.",
             "country": "Canada",
             "created": "2025-05-31T07:21:07Z",
             "description": "About Us At POS KING, we are revolutionizing business operations with cutting-edge POS solutions and AI-driven automation tailored for restaurants, retail, and wholesale industries. We provide customized software, premium hardware, and 24/7 support to streamline operations, reduce costs, and enhance customer experiences. Our cloud-based inventory management, wireless ordering systems, and AI-powered automation optimize efficiency and drive profitability. Beyond POS solutions, we integrate advan…",
             "latitude": 49.156021,
             "longitude": -123.136733,
             "popup_info": "Data Analyst",
             "region": "British Columbia",
             "title": "Data Analyst"
            },
            "geometry": {
             "spatialReference": {
              "wkid": 4326
             },
             "x": -123.136733,
             "y": 49.156021
            }
           },
           {
            "attributes": {
             "OBJECTID": 40,
             "city": "Peel region",
             "company_name": "Kuehne+Nagel",
             "country": "Canada",
             "created": "2025-06-17T12:57:06Z",
             "description": "It's more than a job As a Data Analyst at KuehneNagel, you will play a key role in optimizing end-to-end warehousing operations by transforming raw logistics data into actionable insights. Your analytical precision will support operational efficiency and strategic decision-making across warehouse and distribution centers. For example, by analyzing trends in the storage and delivery of delicate flowers and fresh ingredients, you'll help ensure timely deliveries to local stores-contributing to ev…",
             "latitude": 45.169472000000006,
             "longitude": -76.73082433333333,
             "popup_info": "Data Analyst",
             "region": "Ontario",
             "title": "Data Analyst"
            },
            "geometry": {
             "spatialReference": {
              "wkid": 4326
             },
             "x": -76.73082433333333,
             "y": 45.169472000000006
            }
           },
           {
            "attributes": {
             "OBJECTID": 41,
             "city": "Ottawa region",
             "company_name": "Farm Boy Inc.",
             "country": "Canada",
             "created": "2025-06-15T03:36:13Z",
             "description": "Job Description Job Description Company Description At Farm Boy, it is our mission to create a fun, fresh experience for all! Whether you are a team member or a customer, Farm Boy is passionate about creating a unique fresh food shopping experience and ensuring that we deliver on our commitments. As we continue to grow within Ontario, Farm Boy is excited to welcome new team members that share our passion for providing the best fresh shopping experience! Job Description Reporting to the Vice-Pre…",
             "latitude": 45.394161,
             "longitude": -75.697758,
             "popup_info": "Data Analyst",
             "region": "Ontario",
             "title": "Data Analyst"
            },
            "geometry": {
             "spatialReference": {
              "wkid": 4326
             },
             "x": -75.697758,
             "y": 45.394161
            }
           },
           {
            "attributes": {
             "OBJECTID": 42,
             "city": "Peel region",
             "company_name": "AtkinsRéalis",
             "country": "Canada",
             "created": "2025-05-24T12:58:06Z",
             "description": "AtkinsRéalis is one of Canada's largest private sector nuclear engineering groups. We have been providing a wide range of services to the nuclear industry in Canada and around the world since for more than 60 years. We are proud to be the steward of Canadian CANDU nuclear technology. Location – Mississauga, ON The Procurement Data Analyst will be responsible for data collection, modelling, visualization, analysing, and interpreting procurement data to support business decisions. This role invol…",
             "latitude": 43.588336,
             "longitude": -79.656736,
             "popup_info": "Data Analyst",
             "region": "Ontario",
             "title": "Data Analyst"
            },
            "geometry": {
             "spatialReference": {
              "wkid": 4326
             },
             "x": -79.656736,
             "y": 43.588336
            }
           },
           {
            "attributes": {
             "OBJECTID": 43,
             "city": "Calgary region",
             "company_name": "TEC Canada",
             "country": "Canada",
             "created": "2025-05-30T12:59:46Z",
             "description": "THE ROLE We’re looking for a motivated individual to join our team in an entry-level role that offers exposure to a broad range of data and research functions. As a Data Analyst, you will be instrumental in analyzing survey and CRM data, evaluating revenue optimization opportunities, identifying trends in business generation and partner growth, and providing data analysis support across departments. This is a great opportunity to grow your skills and learn alongside a dedicated team of professi…",
             "latitude": 51.040175,
             "longitude": -114.078513,
             "popup_info": "Data Analyst",
             "region": "Alberta",
             "title": "Data Analyst"
            },
            "geometry": {
             "spatialReference": {
              "wkid": 4326
             },
             "x": -114.078513,
             "y": 51.040175
            }
           },
           {
            "attributes": {
             "OBJECTID": 44,
             "city": "Greater Vancouver",
             "company_name": "Workstream",
             "country": "Canada",
             "created": "2025-06-10T10:29:32Z",
             "description": "Workstream is a mission-driven company that believes in building premium, modern software solutions for hourly businesses. There are 2.7 billion hourly workers, who make up 80% of the global workforce, but they've been heavily underserved by technology and deserve better. We help local businesses around you hire, manage, and pay qualified workers. Our customers include leading brands from multiple sectors, including Burger King, Carl's Jr./Hardee's, IHOP, KFC, and Culvers. At series B, we are q…",
             "latitude": 49.256582,
             "longitude": -122.898456,
             "popup_info": "Data Analyst",
             "region": "British Columbia",
             "title": "Data Analyst"
            },
            "geometry": {
             "spatialReference": {
              "wkid": 4326
             },
             "x": -122.898456,
             "y": 49.256582
            }
           },
           {
            "attributes": {
             "OBJECTID": 45,
             "city": null,
             "company_name": "Zynga",
             "country": "Canada",
             "created": "2025-05-14T10:05:50Z",
             "description": "Level Up Your Career with Zynga! At Zynga, we bring people together through the power of play. As a global leader in interactive entertainment and a proud label of Take-Two Interactive, our games have been downloaded over 6 billion times—connecting players in 175 countries through fun, strategy, and a little friendly competition. From thrilling casino spins to epic strategy battles, mind-bending puzzles, and social word challenges, our diverse game portfolio has something for everyone. Fan-favo…",
             "latitude": 47.02932666666666,
             "longitude": -94.64018333333333,
             "popup_info": "Data Analyst",
             "region": null,
             "title": "Data Analyst"
            },
            "geometry": {
             "spatialReference": {
              "wkid": 4326
             },
             "x": -94.64018333333333,
             "y": 47.02932666666666
            }
           },
           {
            "attributes": {
             "OBJECTID": 46,
             "city": "Toronto",
             "company_name": "Spectrum Health Care",
             "country": "Canada",
             "created": "2025-05-18T00:09:40Z",
             "description": "Job Description Job Description Company Description Here’s your opportunity to join a growing company in the rapidly evolving health care sector! Spectrum Health Care is currently seeking a dynamic Data Analyst . The successful candidate will support critical functions by analyzing large datasets to derive actionable insights that enhance clinical, operational, and financial outcomes. This position offers the opportunity to work at the intersection of healthcare and technology, leveraging data …",
             "latitude": 43.706102,
             "longitude": -79.402726,
             "popup_info": "Data Analyst",
             "region": "Ontario",
             "title": "Data Analyst"
            },
            "geometry": {
             "spatialReference": {
              "wkid": 4326
             },
             "x": -79.402726,
             "y": 43.706102
            }
           },
           {
            "attributes": {
             "OBJECTID": 47,
             "city": null,
             "company_name": "Tailscale",
             "country": "Canada",
             "created": "2025-03-23T13:01:57Z",
             "description": "About Tailscale Tailscale is building the new Internet by delivering software that makes it easy to securely interconnect people and their devices, no matter where they are. From hobbyists to multinational corporations, teams of every size use Tailscale each day to protect their networks, share access to internal tools, and more. We're building a future for the Internet that's easy, sensible, and safe, like it used to be. Founded in 2019 and fully distributed, we're backed by Accel, CRV, Insigh…",
             "latitude": 47.02932666666666,
             "longitude": -94.64018333333333,
             "popup_info": "Data Analyst",
             "region": null,
             "title": "Data Analyst"
            },
            "geometry": {
             "spatialReference": {
              "wkid": 4326
             },
             "x": -94.64018333333333,
             "y": 47.02932666666666
            }
           },
           {
            "attributes": {
             "OBJECTID": 48,
             "city": null,
             "company_name": "Zenni Optical",
             "country": "Canada",
             "created": "2025-05-31T10:18:21Z",
             "description": "Who We Are Born from a mission to make prescription eyewear affordable and accessible to everyone, Zenni Optical has been changing the way people see the world since 2003. With complete prescription pairs for adults and kids starting at under $10, we’ve grown into a global brand with over 51 million pairs of glasses sold — and counting! Based in the San Francisco Bay Area, we're proud to be the Official Eyewear of the San Francisco 49ers, Boston Celtics, Monster Jam, Ghost Gaming, TSM, Major Le…",
             "latitude": 47.02932666666666,
             "longitude": -94.64018333333333,
             "popup_info": "Data Analyst",
             "region": null,
             "title": "Data Analyst"
            },
            "geometry": {
             "spatialReference": {
              "wkid": 4326
             },
             "x": -94.64018333333333,
             "y": 47.02932666666666
            }
           },
           {
            "attributes": {
             "OBJECTID": 49,
             "city": "Toronto",
             "company_name": "Valence",
             "country": "Canada",
             "created": "2025-05-26T12:59:14Z",
             "description": "Valence has built the first-to-market AI native coaching platform for enterprise, offering personalized, expert, and human-like guidance & support to any leader or employee. At Valence, we're not just talking about the future of work – we're actively shaping it. From your first interaction with us, you'll notice we're different. By working here you won't just implement solutions for our clients; you'll be helping to architect the future of leadership in the age of generative AI. And we'll be ho…",
             "latitude": 43.706102,
             "longitude": -79.402726,
             "popup_info": "Data Analyst",
             "region": "Ontario",
             "title": "Data Analyst"
            },
            "geometry": {
             "spatialReference": {
              "wkid": 4326
             },
             "x": -79.402726,
             "y": 43.706102
            }
           },
           {
            "attributes": {
             "OBJECTID": 50,
             "city": null,
             "company_name": "SYNERGYASSURE INC",
             "country": "Canada",
             "created": "2025-06-04T19:49:01Z",
             "description": "Consolidate and update various data models through reverse and forward engineering. Compare different WFHM DB environments and determined, resolve and document discrepancies. Analyses DB discrepancies and synchronizes the Staging, Development, UAT and Production DB environments with data models. Review and revise data models for soundness of data structures and adherence to client standards. Consult with application development business analysts to translate business requirements into data desi…",
             "latitude": 47.02932666666666,
             "longitude": -94.64018333333333,
             "popup_info": "Data Analyst",
             "region": null,
             "title": "Data Analyst"
            },
            "geometry": {
             "spatialReference": {
              "wkid": 4326
             },
             "x": -94.64018333333333,
             "y": 47.02932666666666
            }
           },
           {
            "attributes": {
             "OBJECTID": 51,
             "city": "Saskatoon",
             "company_name": "DataAnnotation",
             "country": "Canada",
             "created": "2025-05-22T05:22:50Z",
             "description": "Job Description DataAnnotation is committed to creating quality AI. Join our team to help train AI chatbots while gaining the flexibility of remote work and choosing your own schedule. We are looking for a proficient Software Developer to join our team to train our AI chatbots to code. You will work with the chatbots that we are building in order to measure their progress, as well as write and evaluate code. To apply to this role, you will need to be proficient in either Python and/or JavaScrip…",
             "latitude": 52.129941,
             "longitude": -106.651489,
             "popup_info": "Software Developer",
             "region": "Saskatchewan",
             "title": "Software Developer"
            },
            "geometry": {
             "spatialReference": {
              "wkid": 4326
             },
             "x": -106.651489,
             "y": 52.129941
            }
           },
           {
            "attributes": {
             "OBJECTID": 52,
             "city": "Montréal",
             "company_name": "Akkodis",
             "country": "Canada",
             "created": "2025-06-11T23:09:14Z",
             "description": "Akkodis is seeking an Embedded Software Developer for a contract position with a client in Ottawa (Hybrid), and ideally looking for experience with C, Python, and networking protocols Position: Embedded Software Development Location: Ottawa, ON Contract Job Description, Embedded software development in C Python scripting skills Strong understanding of networking and protocols Self-driven and adaptable to remote collaboration",
             "latitude": 45.573903,
             "longitude": -73.650516,
             "popup_info": "Embedded Software Developer",
             "region": "Québec",
             "title": "Embedded Software Developer"
            },
            "geometry": {
             "spatialReference": {
              "wkid": 4326
             },
             "x": -73.650516,
             "y": 45.573903
            }
           },
           {
            "attributes": {
             "OBJECTID": 53,
             "city": null,
             "company_name": "Nexus Energy Inc.",
             "country": "Canada",
             "created": "2025-05-31T22:31:15Z",
             "description": "Job Title: Software Developer Department: Data and IT Location: North York, ON (On-Site) Type: Full-Time, Permanent Salary Range: 65k - 95K (based on experience) Overview Nexus Energy Inc. is a privately held company based in Toronto, Ontario. We are a leading energy trading company specializing in the energy markets of Eastern Canada, the Northeastern United States, and Western markets. Our operations extend into the retail and Renewable Energy Credit (REC) space, supporting a diversified and …",
             "latitude": 47.02932666666666,
             "longitude": -94.64018333333333,
             "popup_info": "Software Developer",
             "region": null,
             "title": "Software Developer"
            },
            "geometry": {
             "spatialReference": {
              "wkid": 4326
             },
             "x": -94.64018333333333,
             "y": 47.02932666666666
            }
           },
           {
            "attributes": {
             "OBJECTID": 54,
             "city": "Toronto",
             "company_name": "VLink Inc",
             "country": "Canada",
             "created": "2025-05-29T23:14:48Z",
             "description": "Job Title: Software Developer - API Location: Toronto, ON (Hybrid) Employment Type: Contract opportunity Experience: 10 years Public Sector exp or Security Clearance About VLink: Started in 2006 and headquartered in Connecticut, VLink is one of the fastest growing digital technology services and consulting companies. Since its inception, our innovative team members have been solving the most complex business, and IT challenges of our global clients. Job Description: Must Have: Experience with D…",
             "latitude": 43.706102,
             "longitude": -79.402726,
             "popup_info": "Software Developer",
             "region": "Ontario",
             "title": "Software Developer"
            },
            "geometry": {
             "spatialReference": {
              "wkid": 4326
             },
             "x": -79.402726,
             "y": 43.706102
            }
           },
           {
            "attributes": {
             "OBJECTID": 55,
             "city": "Toronto",
             "company_name": "CLPS Global",
             "country": "Canada",
             "created": "2025-05-29T23:13:12Z",
             "description": "Key Qualifications Proficient in React.js with TypeScript Experienced with Node.js and TypeScript Knowledge of Redis and MongoDB Understanding of scalable system architecture Skilled in Azure, Terraform, and Kubernetes Experienced with Jira and Confluence Excellent verbal and written communication skills; able to write clear technical tickets Experience building and consuming APIs Familiar with Express.js and OAuth/OIDC protocols Experience with Jenkins pipelines Able to quickly adjust to evolv…",
             "latitude": 43.706102,
             "longitude": -79.402726,
             "popup_info": "Software Developer",
             "region": "Ontario",
             "title": "Software Developer"
            },
            "geometry": {
             "spatialReference": {
              "wkid": 4326
             },
             "x": -79.402726,
             "y": 43.706102
            }
           },
           {
            "attributes": {
             "OBJECTID": 56,
             "city": "Saguenay - Lac-Saint-Jean",
             "company_name": "Carbotech",
             "country": "Canada",
             "created": "2025-06-01T04:47:22Z",
             "description": "Responsibilities The role of the C++ Developer is to program software for optimizing wood cutting by meeting customer specifications and applying the standards and programming methods in force. He/she provides cutting-edge expertise in the products for which he specializes. He/she is responsible for software production as well as the quality of the systems delivered. Analyzes, develops, programs, modifies and tests cutting optimization projects, both the software part and the hardware part. Wri…",
             "latitude": 48.331744,
             "longitude": -70.879001,
             "popup_info": "Software developer (C++)",
             "region": "Québec",
             "title": "Software developer (C++)"
            },
            "geometry": {
             "spatialReference": {
              "wkid": 4326
             },
             "x": -70.879001,
             "y": 48.331744
            }
           },
           {
            "attributes": {
             "OBJECTID": 57,
             "city": "Toronto",
             "company_name": "ModiFace",
             "country": "Canada",
             "created": "2025-05-03T02:42:16Z",
             "description": "Who We Are Research, innovation, and scale! ModiFace is the first tech company to be acquired by beauty giant L'Oréal Groupe and provides industry leading AR and AI technology to the most influential brands in the world. ModiFace's patented technology is based on more than a decade of advanced facial recognition research at the University of Toronto and in collaboration with L’Oreal’s Global Research and Innovation teams. Our product offerings include live 3D makeup and skin care simulation, an…",
             "latitude": 43.706102,
             "longitude": -79.402726,
             "popup_info": "Senior Software Developer",
             "region": "Ontario",
             "title": "Senior Software Developer"
            },
            "geometry": {
             "spatialReference": {
              "wkid": 4326
             },
             "x": -79.402726,
             "y": 43.706102
            }
           },
           {
            "attributes": {
             "OBJECTID": 58,
             "city": "Toronto",
             "company_name": "FIELDBOSS",
             "country": "Canada",
             "created": "2025-05-08T02:08:42Z",
             "description": "FIELDBOSS - Elevating Service Excellence in Elevator and HVAC Contracting Senior Software Developer - Toronto, Ontario - Full-Time (Hybrid, or Remote) - Reporting to the FIELDBOSS Director of Engineering JOB OVERVIEW: FIELDBOSS is an innovative, flexible field service management solution, built on Microsoft Dynamics 365 and designed for elevator, HVAC, and specialty contractors. The organization is led by a team of Chartered Professional Accountants and Certified Microsoft Technology Specialist…",
             "latitude": 43.706102,
             "longitude": -79.402726,
             "popup_info": "Senior Software Developer",
             "region": "Ontario",
             "title": "Senior Software Developer"
            },
            "geometry": {
             "spatialReference": {
              "wkid": 4326
             },
             "x": -79.402726,
             "y": 43.706102
            }
           },
           {
            "attributes": {
             "OBJECTID": 59,
             "city": "Bas-Saint-Laurent",
             "company_name": "Aversan Inc.",
             "country": "Canada",
             "created": "2025-06-05T03:05:07Z",
             "description": "Aversan Inc. ( www.aversan.com ) is a trusted multi-service engineering and electronics manufacturing company. Aversan delivers leading-edge and reliable safety-critical electronics and software systems to the aerospace, defence, and space industries. We are currently seeking a qualified Software Developer . The role involves developing high-fidelity tactical features and optimizing real-time performance using advanced C++ and 3D math skills. Location: St. Laurent, QC Job Type: Hybrid Responsib…",
             "latitude": 48.145264,
             "longitude": -68.638735,
             "popup_info": "C++ Software Developer",
             "region": "Québec",
             "title": "C++ Software Developer"
            },
            "geometry": {
             "spatialReference": {
              "wkid": 4326
             },
             "x": -68.638735,
             "y": 48.145264
            }
           },
           {
            "attributes": {
             "OBJECTID": 60,
             "city": "Toronto",
             "company_name": "MM Management Consultant",
             "country": "Canada",
             "created": "2025-06-15T03:29:16Z",
             "description": "We are seeking a Senior Software Developer – API to support the Government . The ideal candidate has extensive experience designing, developing, and integrating APIs in complex enterprise environments using platforms like IBM API Connect, IBM ACE, MuleSoft, or Azure API Management.  Key Responsibilities: · Design, develop, and implement REST APIs and integration services. · Translate technical specifications into well-tested, efficient code. · Work with middleware and API management platforms t…",
             "latitude": 43.706102,
             "longitude": -79.402726,
             "popup_info": "Senior Software Developer – API",
             "region": "Ontario",
             "title": "Senior Software Developer – API"
            },
            "geometry": {
             "spatialReference": {
              "wkid": 4326
             },
             "x": -79.402726,
             "y": 43.706102
            }
           },
           {
            "attributes": {
             "OBJECTID": 61,
             "city": "Greater Vancouver",
             "company_name": "Herschel Supply Company",
             "country": "Canada",
             "created": "2025-06-10T22:35:52Z",
             "description": "ABOUT HERSCHEL SUPPLY Welcome to Herschel Supply, where we make quality products for a lifetime of better journeys. Designed with timeless form and intuitive function in Vancouver, Canada, every piece is backed by our signature warranty for wherever you’re going next. Since 2009, we’ve never stopped taking risks. We’re constantly innovating, growing our community and heading on new journeys. We’ve gotten lost in new cities, made lifelong friends all over the world, road tripped with no GPS, and…",
             "latitude": 49.256582,
             "longitude": -122.898456,
             "popup_info": "Senior Software Developer",
             "region": "British Columbia",
             "title": "Senior Software Developer"
            },
            "geometry": {
             "spatialReference": {
              "wkid": 4326
             },
             "x": -122.898456,
             "y": 49.256582
            }
           },
           {
            "attributes": {
             "OBJECTID": 62,
             "city": "Toronto",
             "company_name": "Timbercreek",
             "country": "Canada",
             "created": "2025-06-07T02:57:58Z",
             "description": "About the Company Founded in 2000, Timbercreek is one of Canada’s leading alternative asset class investment managers, focused on providing structured financing solutions to experienced real estate owners and investors across selectively identified urban centres primarily in Canada, Ireland and the United States. Through active and direct investment, we employ a thematic approach to deliver compelling risk-adjusted returns for our investors and partners, leveraging the diversified expertise and…",
             "latitude": 43.706102,
             "longitude": -79.402726,
             "popup_info": "Software Developer and IT Support",
             "region": "Ontario",
             "title": "Software Developer and IT Support"
            },
            "geometry": {
             "spatialReference": {
              "wkid": 4326
             },
             "x": -79.402726,
             "y": 43.706102
            }
           },
           {
            "attributes": {
             "OBJECTID": 63,
             "city": "Toronto",
             "company_name": "EQ Bank | Equitable Bank",
             "country": "Canada",
             "created": "2025-06-04T02:10:32Z",
             "description": "Join a Challenger Being a traditional bank just isn’t our thing. We are big believers in innovating the banking experience because we believe Canadians deserve better options, and we challenge ourselves and our teams to creatively transform what’s possible in banking. Our team is made up of inquisitive and agile minds that find smarter ways of doing things. If you’re not afraid of taking on big challenges and redefining the future, you belong with us. You’ll get to work with people who will enc…",
             "latitude": 43.706102,
             "longitude": -79.402726,
             "popup_info": "Software Developer II, Frontend",
             "region": "Ontario",
             "title": "Software Developer II, Frontend"
            },
            "geometry": {
             "spatialReference": {
              "wkid": 4326
             },
             "x": -79.402726,
             "y": 43.706102
            }
           },
           {
            "attributes": {
             "OBJECTID": 64,
             "city": "Toronto",
             "company_name": "2iSolutions Inc.",
             "country": "Canada",
             "created": "2025-06-15T03:27:11Z",
             "description": "We are seeking a Senior Software Developer (API) for a 9-month hybrid contract opportunity based in Toronto. Client : Ministry of Public and Business Service Delivery and Procurement Location : 222 Jarvis St. Period : 9-months Start Date : 2025-07-07 End Date : 2026-03-31 Working Hrs : 7.25 Hrs. / day Hybrid : 3 Days onsite / 2 days remote Must Haves: • Experience working with API integration • 5 years of hands-on experience in API development, integration design, and implementation in complex …",
             "latitude": 43.706102,
             "longitude": -79.402726,
             "popup_info": "Software Developer - API – Senior",
             "region": "Ontario",
             "title": "Software Developer - API – Senior"
            },
            "geometry": {
             "spatialReference": {
              "wkid": 4326
             },
             "x": -79.402726,
             "y": 43.706102
            }
           },
           {
            "attributes": {
             "OBJECTID": 65,
             "city": null,
             "company_name": "Hays",
             "country": "Canada",
             "created": "2025-06-06T03:17:09Z",
             "description": "Software Developer NodeJS and TypeScript Level : Journeyman 1, Band 7 Contract Length : June 23, 2025– October 31, 2025 Location : Remote in Canada (Preference for candidates residing in the Greater Toronto Area) End Client: a major Canadian Bank Positions : 3 Hourly Rate : $60/hr Your new company Join a leading global financial services organization known for its innovation and commitment to technology-driven solutions. This client is dedicated to modernizing their cloud environment and accele…",
             "latitude": 47.02932666666666,
             "longitude": -94.64018333333333,
             "popup_info": "Software Developer NodeJS and TypeScript -Remote in Canada",
             "region": null,
             "title": "Software Developer NodeJS and TypeScript -Remote in Canada"
            },
            "geometry": {
             "spatialReference": {
              "wkid": 4326
             },
             "x": -94.64018333333333,
             "y": 47.02932666666666
            }
           },
           {
            "attributes": {
             "OBJECTID": 66,
             "city": null,
             "company_name": "The Nationwide Group",
             "country": "Canada",
             "created": "2025-05-23T00:04:20Z",
             "description": "PHP Software Developer & Product Support L3 JOB DESCRIPTION The Nationwide Group (TNG) is a pioneer in designing and developing outsourced financial services software, exclusively focused on creating comprehensive and customizable solutions for the real estate industry. Utilizing world-class technology, TNG delivers solutions to the entire mortgage life cycle through its affiliated organizations. TNG benefits from a broad product suite, infrastructure, and industry expertise and has transformed…",
             "latitude": 47.02932666666666,
             "longitude": -94.64018333333333,
             "popup_info": "PHP Software Developer & Product Support L3",
             "region": null,
             "title": "PHP Software Developer & Product Support L3"
            },
            "geometry": {
             "spatialReference": {
              "wkid": 4326
             },
             "x": -94.64018333333333,
             "y": 47.02932666666666
            }
           },
           {
            "attributes": {
             "OBJECTID": 67,
             "city": null,
             "company_name": "Inworld AI",
             "country": "Canada",
             "created": "2025-05-28T22:12:22Z",
             "description": "Why Join Inworld Inworld is the leading provider of AI technology for real-time interactive experiences, with a $500 million valuation and backing from top tier investors including Intel Capital, Microsoft’s M12 fund, Lightspeed Venture Partners, Section 32, BITKRAFT Ventures, Kleiner Perkins, Founders Fund, and First Spark Ventures. Inworld provides the market’s best framework for building production ready interactive experiences, coupled with dedicated services to optimize specific stages of …",
             "latitude": 51.467658,
             "longitude": -123.078768,
             "popup_info": "Senior Software Development Engineer in Test (SDET) - Canada",
             "region": "British Columbia",
             "title": "Senior Software Development Engineer in Test (SDET) - Canada"
            },
            "geometry": {
             "spatialReference": {
              "wkid": 4326
             },
             "x": -123.078768,
             "y": 51.467658
            }
           },
           {
            "attributes": {
             "OBJECTID": 68,
             "city": null,
             "company_name": "Hunter Bond",
             "country": "Canada",
             "created": "2025-06-14T01:58:16Z",
             "description": "Role: Software Developer (Python) - Up to $220k CAD  Huge Bonus Salary: Up to $220k CAD  Huge Bonus Location: Montreal (Hybrid Working) Skills: Python as a main language This firm is an elite tech firm with high standards who have previously set tech world records. They are made up of some exceptionally talented individuals who above all are passionate about using the latest and greatest tech and pushing it to the limits. They’ll find the best team to suit your skillset/interests but you will b…",
             "latitude": 47.02932666666666,
             "longitude": -94.64018333333333,
             "popup_info": "Software Developer (Python) - Up to $220k CAD  Bonus",
             "region": null,
             "title": "Software Developer (Python) - Up to $220k CAD  Bonus"
            },
            "geometry": {
             "spatialReference": {
              "wkid": 4326
             },
             "x": -94.64018333333333,
             "y": 47.02932666666666
            }
           },
           {
            "attributes": {
             "OBJECTID": 69,
             "city": "Peel region",
             "company_name": "Ateko, backed by Bell Canada",
             "country": "Canada",
             "created": "2025-06-07T02:59:39Z",
             "description": "We are looking for a highly skilled Senior Software Developer with expertise in ETL development using Java and Google Cloud Platform (GCP) . You will play a key role in designing, building, and optimizing data pipelines that support our analytics and operational platforms. Key Responsibilities Design and implement scalable ETL pipelines using Java and GCP-native services (e.g., Dataflow, BigQuery, Cloud Storage). Collaborate with data architects and analysts to understand data requirements and …",
             "latitude": 45.169472000000006,
             "longitude": -76.73082433333333,
             "popup_info": "Senior Software developer - ETL development using Java",
             "region": "Ontario",
             "title": "Senior Software developer - ETL development using Java"
            },
            "geometry": {
             "spatialReference": {
              "wkid": 4326
             },
             "x": -76.73082433333333,
             "y": 45.169472000000006
            }
           },
           {
            "attributes": {
             "OBJECTID": 70,
             "city": null,
             "company_name": "vTech Solution",
             "country": "Canada",
             "created": "2025-06-18T17:31:38Z",
             "description": "Job Summary: This role is for a Software Developer in Ontario, Canada. The position will involve the design, development, and maintenance of software applications. Specific responsibilities will depend on the project assignments but likely include coding, testing, debugging, and collaborating with a team. Location: Ontario, Canada Responsibilities: - Designing and developing software applications. - Writing clean, efficient, and well-documented code. - Testing and debugging software application…",
             "latitude": 44.810161,
             "longitude": -80.420891,
             "popup_info": "Software Developer",
             "region": "Ontario",
             "title": "Software Developer"
            },
            "geometry": {
             "spatialReference": {
              "wkid": 4326
             },
             "x": -80.420891,
             "y": 44.810161
            }
           },
           {
            "attributes": {
             "OBJECTID": 71,
             "city": "Ottawa region",
             "company_name": "Paracel Laboratories",
             "country": "Canada",
             "created": "2025-06-18T13:25:11Z",
             "description": "Who We Are: Paracel Laboratories Ltd. is a full-service environmental and Indoor Air Quality laboratory. Our main laboratory facilities are located in Ottawa and are supported by an environmental lab in Hamilton and microbiology and asbestos laboratories in Mississauga. Additional service depots are located in Kingston, London, Niagara, Windsor, and Richmond Hill. We support a broad spectrum of projects for professional clients from across Canada. Our client base primarily consists of major env…",
             "latitude": 45.38591,
             "longitude": -75.61594,
             "popup_info": "Software Developer",
             "region": "Ontario",
             "title": "Software Developer"
            },
            "geometry": {
             "spatialReference": {
              "wkid": 4326
             },
             "x": -75.61594,
             "y": 45.38591
            }
           },
           {
            "attributes": {
             "OBJECTID": 72,
             "city": "Ottawa region",
             "company_name": "Larus Technologies",
             "country": "Canada",
             "created": "2025-06-03T17:08:56Z",
             "description": "Job Summary Full-time: 37.5 Hours per week, Monday to Friday Location: Ottawa Office (Up to 3 days per week), 70 Laurier Ave West, Suite 310, Ottawa, ON K1P 5V5 and Ottawa-based Home Office, or, remote if located outside of the National Capital Region. Reporting To: Team Leader, Software Engineering Larus is growing and we are looking for talented and enthusiastic individuals to join our team over the next three to four months! We are in search of self-motivated individuals to join the Larus te…",
             "latitude": 45.391410666666665,
             "longitude": -75.67048533333333,
             "popup_info": "Software Developer",
             "region": "Ontario",
             "title": "Software Developer"
            },
            "geometry": {
             "spatialReference": {
              "wkid": 4326
             },
             "x": -75.67048533333333,
             "y": 45.391410666666665
            }
           },
           {
            "attributes": {
             "OBJECTID": 73,
             "city": null,
             "company_name": "vTech Solution",
             "country": "Canada",
             "created": "2025-06-13T17:19:07Z",
             "description": "Job Summary: This Software Developer role requires translating technical specifications into functional applications. Responsibilities encompass the entire software development lifecycle, from analysis and design to coding, testing, deployment, and maintenance. The position necessitates strong Java and full-stack development skills, experience with Agile methodologies, and excellent communication and problem-solving abilities. The role involves collaborating with IT professionals and contributi…",
             "latitude": 44.810161,
             "longitude": -80.420891,
             "popup_info": "Software Developer",
             "region": "Ontario",
             "title": "Software Developer"
            },
            "geometry": {
             "spatialReference": {
              "wkid": 4326
             },
             "x": -80.420891,
             "y": 44.810161
            }
           },
           {
            "attributes": {
             "OBJECTID": 74,
             "city": "Greater Vancouver",
             "company_name": "Kron Technologies Inc.",
             "country": "Canada",
             "created": "2025-05-06T16:54:36Z",
             "description": "We’re hiring a Software Engineer/Developer who thrives on solving complex problems at the systems level. You will play a key role in shaping high-performance solutions and evolving infrastructure that powers our next-generation products. If you’re someone who loves building, optimizing, and continuously pushing the limits of what’s possible-we’d love to meet you. Key Responsibilities: Develop and maintain low-level, C++ software for embedded systems, including real-time CPU code and support for…",
             "latitude": 49.264327,
             "longitude": -122.9423,
             "popup_info": "Software Developer",
             "region": "British Columbia",
             "title": "Software Developer"
            },
            "geometry": {
             "spatialReference": {
              "wkid": 4326
             },
             "x": -122.9423,
             "y": 49.264327
            }
           },
           {
            "attributes": {
             "OBJECTID": 75,
             "city": null,
             "company_name": "vTech Solution",
             "country": "Canada",
             "created": "2025-06-18T17:31:38Z",
             "description": "Job Summary: This Senior Software Developer role focuses on designing, developing, and maintaining database back-end and ETL applications for Data Warehouse and Business Intelligence solutions. The position requires expertise in ETL processes, data modeling, database administration, and various Microsoft Azure technologies. The successful candidate will collaborate with a development team, communicate effectively with clients, and ensure applications are scalable, well-documented, and adhere to…",
             "latitude": 44.810161,
             "longitude": -80.420891,
             "popup_info": "Software Developer",
             "region": "Ontario",
             "title": "Software Developer"
            },
            "geometry": {
             "spatialReference": {
              "wkid": 4326
             },
             "x": -80.420891,
             "y": 44.810161
            }
           },
           {
            "attributes": {
             "OBJECTID": 76,
             "city": null,
             "company_name": "vTech Solution",
             "country": "Canada",
             "created": "2025-06-12T17:18:24Z",
             "description": "Job Summary: This Software Developer role requires a senior-level engineer with extensive full-stack experience to design, implement, and expand data pipelines. The position involves translating technical specifications into functional applications, leading a team, mentoring junior staff, and collaborating with various stakeholders. A strong understanding of cloud-based architecture, AI/ML, and various programming languages and frameworks is crucial. The role includes responsibilities across th…",
             "latitude": 44.810161,
             "longitude": -80.420891,
             "popup_info": "Software Developer",
             "region": "Ontario",
             "title": "Software Developer"
            },
            "geometry": {
             "spatialReference": {
              "wkid": 4326
             },
             "x": -80.420891,
             "y": 44.810161
            }
           },
           {
            "attributes": {
             "OBJECTID": 77,
             "city": null,
             "company_name": "vTech Solution",
             "country": "Canada",
             "created": "2025-06-18T17:31:42Z",
             "description": "Job Summary: This hybrid Software Developer role involves analyzing business requirements, liaising with clients, and facilitating the development, design, construction, testing, and implementation of web-based, n-tier, cloud-based, and mainframe applications. Responsibilities include defining data integration standards, designing metadata management programs, developing BI solution architectures, performing data quality assessments, and creating system documentation. The position requires stro…",
             "latitude": 44.810161,
             "longitude": -80.420891,
             "popup_info": "Software Developer",
             "region": "Ontario",
             "title": "Software Developer"
            },
            "geometry": {
             "spatialReference": {
              "wkid": 4326
             },
             "x": -80.420891,
             "y": 44.810161
            }
           },
           {
            "attributes": {
             "OBJECTID": 78,
             "city": "Waterloo region",
             "company_name": "Mappedin",
             "country": "Canada",
             "created": "2025-05-06T22:56:25Z",
             "description": "Who we are and what we do Mappedin is a global leader in indoor mapping and spatial data management. Our solutions power billions of square feet of indoor space and guide millions of people visiting malls, stadiums, airports, offices, healthcare facilities, warehouses, universities, and more. We're making maps as powerful indoors as they are outdoors. With custom enterprise solutions, easy-to-use developer tools, and a revolutionary self-service mapmaking platform, we enable our customers to en…",
             "latitude": 43.46527,
             "longitude": -80.52261,
             "popup_info": "Software Developer",
             "region": "Ontario",
             "title": "Software Developer"
            },
            "geometry": {
             "spatialReference": {
              "wkid": 4326
             },
             "x": -80.52261,
             "y": 43.46527
            }
           },
           {
            "attributes": {
             "OBJECTID": 79,
             "city": "Halifax region",
             "company_name": "Mycanadapayday.com",
             "country": "Canada",
             "created": "2025-05-16T06:15:13Z",
             "description": "Mycanadapayday.com is looking for an exceptional Software Developer to join our team and help us execute growth strategy. Job Details: Company name: Mycanadapayday.com Job Title: Software Developer Positions Available: 1 Business and Work Location: Dartmouth, NS B2Y 2N6 Working Hours: 30-40 hours per week, Permanent, Full-time Salary: $38.50 per hour The Software Developer will:  Design, develop, test, and update software and applications  Analyze information to recommend and plan the install…",
             "latitude": 44.68002,
             "longitude": -63.542562,
             "popup_info": "Software Developer Job",
             "region": "Nova Scotia",
             "title": "Software Developer Job"
            },
            "geometry": {
             "spatialReference": {
              "wkid": 4326
             },
             "x": -63.542562,
             "y": 44.68002
            }
           },
           {
            "attributes": {
             "OBJECTID": 80,
             "city": null,
             "company_name": "Duke",
             "country": "Canada",
             "created": "2025-03-31T13:17:32Z",
             "description": "Job Title: Software Developer On-site/ Remote/ Hybrid: On Site Location: Trenton, ON Job Type: Contract A highly skilled and experienced Senior Software Developer to join our client’s team. This role requires a strong technical background in C, C++, or Python, as well as a deep understanding of software development principles and methodologies. The ideal candidate will be a self-starter, capable of working independently and leading technical projects. Job Responsibilities: Technical Leadership:…",
             "latitude": 44.810161,
             "longitude": -80.420891,
             "popup_info": "Software Developer",
             "region": "Ontario",
             "title": "Software Developer"
            },
            "geometry": {
             "spatialReference": {
              "wkid": 4326
             },
             "x": -80.420891,
             "y": 44.810161
            }
           },
           {
            "attributes": {
             "OBJECTID": 81,
             "city": "Waterloo region",
             "company_name": "D2L",
             "country": "Canada",
             "created": "2025-04-12T10:09:37Z",
             "description": "How will I make an Impact? At D2L, we are looking for developers who will help us advance our goal of using technology to transform teaching and learning around the world. We need software developers to work on a wide range of technologies including, but not limited to: distributed systems, user interfaces, mobile and cloud computing. As a developer, you will help make dreams a reality. We are looking for software developers who have a passion for technology and code. Beyond code, developers ar…",
             "latitude": 43.62582466666667,
             "longitude": -79.77602066666667,
             "popup_info": "Software Developer",
             "region": "Ontario",
             "title": "Software Developer"
            },
            "geometry": {
             "spatialReference": {
              "wkid": 4326
             },
             "x": -79.77602066666667,
             "y": 43.62582466666667
            }
           },
           {
            "attributes": {
             "OBJECTID": 82,
             "city": "Halton",
             "company_name": "Bentley Systems",
             "country": "Canada",
             "created": "2025-05-07T03:46:17Z",
             "description": "Software Developer II Location : Burlington, Ontario, Canada preferred / In-office, Home-based, or hybrid work available to those in the Eastern Time Zone in Canada Position Summary : Are you ready to start a new journey with a team of energized professionals advancing and connecting the world’s infrastructure? Bentley is looking for you! We are looking for a Software Developer II to join our Bentley Infrastructure Cloud product development team and work on building our next-generation products…",
             "latitude": 43.353119,
             "longitude": -79.802061,
             "popup_info": "Software Developer",
             "region": "Ontario",
             "title": "Software Developer"
            },
            "geometry": {
             "spatialReference": {
              "wkid": 4326
             },
             "x": -79.802061,
             "y": 43.353119
            }
           },
           {
            "attributes": {
             "OBJECTID": 83,
             "city": "Ottawa region",
             "company_name": "Fortinet",
             "country": "Canada",
             "created": "2025-06-16T10:53:00Z",
             "description": "Description Fortinet is growing and we are looking to hire a Cloud Software Developer for Video Surveillance solutions to join our team in Ottawa. At Fortinet, you will be involved in the full development lifecycle of software and product development. The ideal candidate will have a passion for development and learning new technologies. As a Senior Software Developer, you will have: 5 years of software development experience in Unix/Linux environment Bachelor’s or master’s degree in computer sc…",
             "latitude": 45.391410666666665,
             "longitude": -75.67048533333333,
             "popup_info": "Software Developer",
             "region": "Ontario",
             "title": "Software Developer"
            },
            "geometry": {
             "spatialReference": {
              "wkid": 4326
             },
             "x": -75.67048533333333,
             "y": 45.391410666666665
            }
           },
           {
            "attributes": {
             "OBJECTID": 84,
             "city": "Halton",
             "company_name": "Bentley Systems",
             "country": "Canada",
             "created": "2025-05-07T12:16:53Z",
             "description": "Software Developer II Location :?Burlington, Ontario, Canada preferred / In-office, Home-based, or hybrid work available to those in the Eastern Time Zone in Canada Position Summary : Are you ready to start a new journey with a team of energized professionals advancing and connecting the world's infrastructure? Bentley is looking for you! We are looking for a?Software Developer II?to join our Bentley Infrastructure Cloud product development team and work on building our next-generation products…",
             "latitude": 43.353119,
             "longitude": -79.802061,
             "popup_info": "Software Developer",
             "region": "Ontario",
             "title": "Software Developer"
            },
            "geometry": {
             "spatialReference": {
              "wkid": 4326
             },
             "x": -79.802061,
             "y": 43.353119
            }
           },
           {
            "attributes": {
             "OBJECTID": 85,
             "city": "Ottawa region",
             "company_name": "Fortinet",
             "country": "Canada",
             "created": "2025-01-17T05:53:38Z",
             "description": "Description Fortinet is growing and we are looking to hire a Sr Software Development Engineer to join our team in Ottawa. As a Senior Software Development Engineer, you will have: 5 Years of software development experience A Bachelor’s or Master’s degree in electrical or computer engineering/science Experience in C/C++ programming A Solid background in TCP/IP networking and multi-threaded programming Experience with video or streaming related protocols, such as RTSP and webRTC (an asset) Experi…",
             "latitude": 45.391410666666665,
             "longitude": -75.67048533333333,
             "popup_info": "Software Developer",
             "region": "Ontario",
             "title": "Software Developer"
            },
            "geometry": {
             "spatialReference": {
              "wkid": 4326
             },
             "x": -75.67048533333333,
             "y": 45.391410666666665
            }
           },
           {
            "attributes": {
             "OBJECTID": 86,
             "city": "Ottawa region",
             "company_name": "US Tech Solutions",
             "country": "Canada",
             "created": "2024-05-10T15:30:30Z",
             "description": "Responsibilities Assist the team with the design and implementation of automation tests for component, integration, and system testing Assist the team with new approaches to existing/planned testing in relations to automation framework Provide detailed configuration and descriptions for passing and failing tests Ensure quality of routine operations process by monitoring and improving the health of the test automation systems and their integration Support continuous testing practices with the te…",
             "latitude": 45.391410666666665,
             "longitude": -75.67048533333333,
             "popup_info": "Software Developer",
             "region": "Ontario",
             "title": "Software Developer"
            },
            "geometry": {
             "spatialReference": {
              "wkid": 4326
             },
             "x": -75.67048533333333,
             "y": 45.391410666666665
            }
           },
           {
            "attributes": {
             "OBJECTID": 87,
             "city": null,
             "company_name": "mthree Recruiting Portal",
             "country": "Canada",
             "created": "2025-03-05T12:18:10Z",
             "description": "Software Developer - Front-Office Technology Market leading investment bank requires a Software Developer to join their Risk Technology team in Montreal. This is a unique opportunity for a highly motivated individual to contribute to the team locally, while working within a broader global team. The team is part of a new and exciting super department which aims to unify the business platforms across Fixed Income and Equities a first of its kind. Skills Required: Bachelor’s degree in a technical …",
             "latitude": 47.02932666666666,
             "longitude": -94.64018333333333,
             "popup_info": "Software Developer",
             "region": null,
             "title": "Software Developer"
            },
            "geometry": {
             "spatialReference": {
              "wkid": 4326
             },
             "x": -94.64018333333333,
             "y": 47.02932666666666
            }
           },
           {
            "attributes": {
             "OBJECTID": 88,
             "city": "Ottawa region",
             "company_name": "Paracel Laboratories",
             "country": "Canada",
             "created": "2025-06-03T05:15:51Z",
             "description": "Job Description Job Description Who We Are: Paracel Laboratories Ltd. is a full-service environmental and Indoor Air Quality laboratory. Our main laboratory facilities are located in Ottawa and are supported by an environmental lab in Hamilton and microbiology and asbestos laboratories in Mississauga. Additional service depots are located in Kingston, London, Niagara, Windsor, and Richmond Hill. We support a broad spectrum of projects for professional clients from across Canada. Our client base…",
             "latitude": 45.394161,
             "longitude": -75.697758,
             "popup_info": "Software Developer",
             "region": "Ontario",
             "title": "Software Developer"
            },
            "geometry": {
             "spatialReference": {
              "wkid": 4326
             },
             "x": -75.697758,
             "y": 45.394161
            }
           },
           {
            "attributes": {
             "OBJECTID": 89,
             "city": null,
             "company_name": "InfoJet",
             "country": "Canada",
             "created": "2024-12-10T18:28:38Z",
             "description": "Job Description Employer InfoJet International Inc Location Mississauga, ON Contact Email Infojet.hr@gmail.com Position Software developer (21232  Software developers and programmers) Number of Positions 1 Salary $46.15 hourly for 37.5-40 hours per week Terms of Employment Permanent Full-time Anticipated Starting Date As soon as possible Job Requirement Languages English Education Bachelor's degree in computer science or software engineering Experience 1 year Specific Skills As a successful me…",
             "latitude": 47.02932666666666,
             "longitude": -94.64018333333333,
             "popup_info": "Software developer Job",
             "region": null,
             "title": "Software developer Job"
            },
            "geometry": {
             "spatialReference": {
              "wkid": 4326
             },
             "x": -94.64018333333333,
             "y": 47.02932666666666
            }
           },
           {
            "attributes": {
             "OBJECTID": 90,
             "city": "Ottawa region",
             "company_name": "Fortinet",
             "country": "Canada",
             "created": "2025-05-18T10:08:15Z",
             "description": "Description Join Fortinet, a cybersecurity pioneer with over two decades of excellence, as we continue to shape the future of cybersecurity and redefine the intersection of networking and security. At Fortinet, our mission is to safeguard people, devices, and data everywhere. Fortinet is growing and we are looking to hire Software Developer for our team in Ottawa. As a Software Developer, you will 5 plus years of software development experience Familiar with cross-platform desktop application d…",
             "latitude": 45.391410666666665,
             "longitude": -75.67048533333333,
             "popup_info": "Software Developer",
             "region": "Ontario",
             "title": "Software Developer"
            },
            "geometry": {
             "spatialReference": {
              "wkid": 4326
             },
             "x": -75.67048533333333,
             "y": 45.391410666666665
            }
           },
           {
            "attributes": {
             "OBJECTID": 91,
             "city": "Ottawa region",
             "company_name": "Larus Technologies",
             "country": "Canada",
             "created": "2025-06-06T10:43:17Z",
             "description": "Job Summary Full-time: 37.5 Hours per week, Monday to Friday Location: Ottawa Office (Up to 3 days per week), 70 Laurier Ave West, Suite 310, Ottawa, ON K1P 5V5 and Ottawa-based Home Office, or, remote if located outside of the National Capital Region. Reporting To: Team Leader, Software Engineering Larus is growing and we are looking for talented and enthusiastic individuals to join our team over the next three to four months! We are in search of self-motivated individuals to join the Larus te…",
             "latitude": 45.391410666666665,
             "longitude": -75.67048533333333,
             "popup_info": "Software Developer",
             "region": "Ontario",
             "title": "Software Developer"
            },
            "geometry": {
             "spatialReference": {
              "wkid": 4326
             },
             "x": -75.67048533333333,
             "y": 45.391410666666665
            }
           },
           {
            "attributes": {
             "OBJECTID": 92,
             "city": "Ottawa region",
             "company_name": "Larus Technologies",
             "country": "Canada",
             "created": "2025-06-03T23:58:19Z",
             "description": "Job Description Job Description Job Summary Full-time: 37.5 Hours per week, Monday to Friday Location: Ottawa Office (Up to 3 days per week), 70 Laurier Ave West, Suite 310, Ottawa, ON K1P 5V5 and Ottawa-based Home Office, or, remote if located outside of the National Capital Region. Reporting To: Team Leader, Software Engineering Larus is growing and we are looking for talented and enthusiastic individuals to join our team over the next three to four months! We are in search of self-motivated …",
             "latitude": 45.394161,
             "longitude": -75.697758,
             "popup_info": "Software Developer",
             "region": "Ontario",
             "title": "Software Developer"
            },
            "geometry": {
             "spatialReference": {
              "wkid": 4326
             },
             "x": -75.697758,
             "y": 45.394161
            }
           },
           {
            "attributes": {
             "OBJECTID": 93,
             "city": null,
             "company_name": "Harris",
             "country": "Canada",
             "created": "2025-06-13T10:32:40Z",
             "description": "OVERVIEW Cayenta is seeking a motivated Software Developer (entry to intermediate level) to join our Customer Information System (CIS) product team. This role begins with hands-on development in our enterprise-grade CIS application built using the Uniface low-code platform. You’ll work directly on core business functionality and gain a deep understanding of the platform and product domain. Over time, you’ll transition into a key contributor on our modernization initiative, helping build out a n…",
             "latitude": 47.02932666666666,
             "longitude": -94.64018333333333,
             "popup_info": "Software Developer",
             "region": null,
             "title": "Software Developer"
            },
            "geometry": {
             "spatialReference": {
              "wkid": 4326
             },
             "x": -94.64018333333333,
             "y": 47.02932666666666
            }
           },
           {
            "attributes": {
             "OBJECTID": 94,
             "city": "Ottawa region",
             "company_name": "Equest",
             "country": "Canada",
             "created": "2025-06-14T07:41:00Z",
             "description": "OVERVIEW Cayenta is seeking a motivated Software Developer (entry to intermediate level) to join our Customer Information System (CIS) product team. This role begins with hands-on development in our enterprise-grade CIS application built using the Uniface low-code platform. You'll work directly on core business functionality and gain a deep understanding of the platform and product domain. Over time, you'll transition into a key contributor on our modernization initiative, helping build out a n…",
             "latitude": 45.391410666666665,
             "longitude": -75.67048533333333,
             "popup_info": "Software Developer",
             "region": "Ontario",
             "title": "Software Developer"
            },
            "geometry": {
             "spatialReference": {
              "wkid": 4326
             },
             "x": -75.67048533333333,
             "y": 45.391410666666665
            }
           },
           {
            "attributes": {
             "OBJECTID": 95,
             "city": "Montréal",
             "company_name": "Aversan",
             "country": "Canada",
             "created": "2025-06-05T10:23:32Z",
             "description": "Software Developer Aversan Inc. ( www.aversan.com ) is a trusted multi-service engineering and electronics manufacturing company. Aversan delivers leading-edge and reliable safety-critical electronics and software systems to the aerospace, defence, and space industries. We are currently seeking a qualified Software Developer . The role involves developing high-fidelity tactical features and optimizing real-time performance using advanced C++ and 3D math skills. Location: St. Laurent, QC Job Typ…",
             "latitude": 45.47532,
             "longitude": -73.70579,
             "popup_info": "Software Developer",
             "region": "Québec",
             "title": "Software Developer"
            },
            "geometry": {
             "spatialReference": {
              "wkid": 4326
             },
             "x": -73.70579,
             "y": 45.47532
            }
           },
           {
            "attributes": {
             "OBJECTID": 96,
             "city": "Halifax region",
             "company_name": "Fundmetric",
             "country": "Canada",
             "created": "2025-05-18T10:13:46Z",
             "description": "Overview Fundmetric is looking for a Software Developer to build and maintain dynamic ‘big data’ driven applications. Candidates should be comfortable writing software that integrates with third party platforms. Ideal candidates are self-motivated team players, with the ability to design and implement solutions to complex problems that are reliable and scale well, thriving in a fast paced environment. About the Role The candidate will join our development team, collaborating both with Fundmetri…",
             "latitude": 44.681555,
             "longitude": -63.556363,
             "popup_info": "Software Developer",
             "region": "Nova Scotia",
             "title": "Software Developer"
            },
            "geometry": {
             "spatialReference": {
              "wkid": 4326
             },
             "x": -63.556363,
             "y": 44.681555
            }
           },
           {
            "attributes": {
             "OBJECTID": 97,
             "city": "Outaouais",
             "company_name": "Pivot + Edge",
             "country": "Canada",
             "created": "2025-06-07T08:50:55Z",
             "description": "Job Introduction Frequentis Group with headquarters in Vienna is an international supplier of communication and information systems for control centres with safety-critical tasks. Mission-critical control centres around the world keep our planes safe in the sky, our urban and regional trains safe on the railroads, and our ships and boats safe on the seas. Today, any controller working in a mission-critical control centre relies on four sophisticated technologies to do their jobs: voice communic…",
             "latitude": 45.466091,
             "longitude": -75.704464,
             "popup_info": "Software Developer",
             "region": "Québec",
             "title": "Software Developer"
            },
            "geometry": {
             "spatialReference": {
              "wkid": 4326
             },
             "x": -75.704464,
             "y": 45.466091
            }
           },
           {
            "attributes": {
             "OBJECTID": 98,
             "city": "Middlesex",
             "company_name": "Proax Technologies",
             "country": "Canada",
             "created": "2024-09-20T07:53:38Z",
             "description": "Who are we? Proax Technologies is a leading Technical Automation Distributor that offers innovative product solutions in the areas of Automation and Robotics, Motion Control and Machine Safety, creating close relationships with our valued customers, vendors, and employees. Why Choose Proax? Great Place to Work Certified We offer an engaging, inclusive, clean, and safe work environment Technical training of our products to ensure quality customer service Opportunities for career growth and devel…",
             "latitude": 42.93338,
             "longitude": -81.20555,
             "popup_info": "Software Developer",
             "region": "Ontario",
             "title": "Software Developer"
            },
            "geometry": {
             "spatialReference": {
              "wkid": 4326
             },
             "x": -81.20555,
             "y": 42.93338
            }
           },
           {
            "attributes": {
             "OBJECTID": 99,
             "city": null,
             "company_name": "Nokia Global",
             "country": "Canada",
             "created": "2025-05-24T10:22:58Z",
             "description": "Description We are seeking a Software Developer in the Network Services Platform, to provide secure and efficient platform services in the areas of Kubernetes platform, security, authentication, messaging and databases in a cloud native environment. You will be responsible to provide the best technologies available in those areas, continuously analyze the existing systems, identify areas to improve, propose solutions and implement them. You will also assist and mentor members of the R&D communi…",
             "latitude": 47.02932666666666,
             "longitude": -94.64018333333333,
             "popup_info": "Software Developer",
             "region": null,
             "title": "Software Developer"
            },
            "geometry": {
             "spatialReference": {
              "wkid": 4326
             },
             "x": -94.64018333333333,
             "y": 47.02932666666666
            }
           },
           {
            "attributes": {
             "OBJECTID": 100,
             "city": "Middlesex",
             "company_name": "Proax Technologies",
             "country": "Canada",
             "created": "2025-04-24T15:20:44Z",
             "description": "Job Description Job Description Salary: Who are we? Proax Technologies is a leading Technical Automation Distributor that offers innovative product solutions in the areas of Automation and Robotics, Motion Control and Machine Safety, creating close relationships with our valued customers, vendors, and employees. Why Choose Proax? Great Place to Work Certified We offer an engaging, inclusive, clean, and safe work environment Technical training of our products to ensure quality customer service O…",
             "latitude": 42.981065,
             "longitude": -81.248057,
             "popup_info": "Software Developer",
             "region": "Ontario",
             "title": "Software Developer"
            },
            "geometry": {
             "spatialReference": {
              "wkid": 4326
             },
             "x": -81.248057,
             "y": 42.981065
            }
           }
          ],
          "fields": [
           {
            "alias": "OBJECTID",
            "defaultValue": null,
            "domain": null,
            "editable": false,
            "name": "OBJECTID",
            "nullable": false,
            "sqlType": "sqlTypeOther",
            "type": "esriFieldTypeOID"
           },
           {
            "alias": "description",
            "defaultValue": null,
            "domain": null,
            "editable": true,
            "length": 500,
            "name": "description",
            "nullable": true,
            "sqlType": "sqlTypeOther",
            "type": "esriFieldTypeString"
           },
           {
            "alias": "title",
            "defaultValue": null,
            "domain": null,
            "editable": true,
            "length": 60,
            "name": "title",
            "nullable": true,
            "sqlType": "sqlTypeOther",
            "type": "esriFieldTypeString"
           },
           {
            "alias": "created",
            "defaultValue": null,
            "domain": null,
            "editable": true,
            "length": 20,
            "name": "created",
            "nullable": true,
            "sqlType": "sqlTypeOther",
            "type": "esriFieldTypeString"
           },
           {
            "alias": "latitude",
            "defaultValue": null,
            "domain": null,
            "editable": true,
            "name": "latitude",
            "nullable": true,
            "sqlType": "sqlTypeOther",
            "type": "esriFieldTypeDouble"
           },
           {
            "alias": "longitude",
            "defaultValue": null,
            "domain": null,
            "editable": true,
            "name": "longitude",
            "nullable": true,
            "sqlType": "sqlTypeOther",
            "type": "esriFieldTypeDouble"
           },
           {
            "alias": "country",
            "defaultValue": null,
            "domain": null,
            "editable": true,
            "length": 6,
            "name": "country",
            "nullable": true,
            "sqlType": "sqlTypeOther",
            "type": "esriFieldTypeString"
           },
           {
            "alias": "region",
            "defaultValue": null,
            "domain": null,
            "editable": true,
            "length": 16,
            "name": "region",
            "nullable": true,
            "sqlType": "sqlTypeOther",
            "type": "esriFieldTypeString"
           },
           {
            "alias": "city",
            "defaultValue": null,
            "domain": null,
            "editable": true,
            "length": 25,
            "name": "city",
            "nullable": true,
            "sqlType": "sqlTypeOther",
            "type": "esriFieldTypeString"
           },
           {
            "alias": "company_name",
            "defaultValue": null,
            "domain": null,
            "editable": true,
            "length": 35,
            "name": "company_name",
            "nullable": true,
            "sqlType": "sqlTypeOther",
            "type": "esriFieldTypeString"
           },
           {
            "alias": "popup_info",
            "defaultValue": null,
            "domain": null,
            "editable": true,
            "length": 60,
            "name": "popup_info",
            "nullable": true,
            "sqlType": "sqlTypeOther",
            "type": "esriFieldTypeString"
           }
          ],
          "geometryType": "esriGeometryPoint"
         },
         "layerDefinition": {
          "advancedQueryCapabilities": {
           "supportsAdvancedQueryRelated": true,
           "supportsCountDistinct": true,
           "supportsDisjointSpatialRel": true,
           "supportsDistinct": true,
           "supportsHavingClause": true,
           "supportsMaxRecordCountFactor": true,
           "supportsOrderBy": true,
           "supportsOutFieldSQLExpression": true,
           "supportsPagination": true,
           "supportsPaginationOnAggregatedQueries": true,
           "supportsQueryRelatedPagination": true,
           "supportsQueryWithCacheHint": true,
           "supportsQueryWithDatumTransformation": true,
           "supportsQueryWithDistance": true,
           "supportsQueryWithResultType": true,
           "supportsReturningGeometryCentroid": true,
           "supportsReturningGeometryProperties": true,
           "supportsReturningQueryExtent": true,
           "supportsSqlExpression": true,
           "supportsStatistics": true,
           "supportsTopFeaturesQuery": true
          },
          "allowGeometryUpdates": true,
          "capabilities": "Query",
          "copyrightText": "",
          "currentVersion": 10.7,
          "defaultVisibility": true,
          "description": "",
          "displayField": "",
          "drawingInfo": {
           "renderer": {
            "description": "",
            "label": "",
            "labelingInfo": null,
            "symbol": {
             "angle": 0,
             "color": [
              0,
              128,
              0,
              128
             ],
             "outline": {
              "color": [
               0,
               128,
               0,
               255
              ],
              "style": "esriSLSSolid",
              "type": "esriSLS",
              "width": 1
             },
             "size": 18,
             "style": "esriSMSCircle",
             "type": "esriSMS",
             "xoffset": 0,
             "yoffset": 0
            },
            "type": "simple"
           }
          },
          "extent": {
           "spatialReference": {
            "wkid": 4326
           },
           "xmax": -63.542562,
           "xmin": -123.136733,
           "ymax": 53.536055,
           "ymin": 42.294277
          },
          "fields": [
           {
            "alias": "OBJECTID",
            "defaultValue": null,
            "domain": null,
            "editable": false,
            "name": "OBJECTID",
            "nullable": false,
            "sqlType": "sqlTypeOther",
            "type": "esriFieldTypeOID"
           },
           {
            "alias": "description",
            "defaultValue": null,
            "domain": null,
            "editable": true,
            "length": 500,
            "name": "description",
            "nullable": true,
            "sqlType": "sqlTypeOther",
            "type": "esriFieldTypeString"
           },
           {
            "alias": "title",
            "defaultValue": null,
            "domain": null,
            "editable": true,
            "length": 60,
            "name": "title",
            "nullable": true,
            "sqlType": "sqlTypeOther",
            "type": "esriFieldTypeString"
           },
           {
            "alias": "created",
            "defaultValue": null,
            "domain": null,
            "editable": true,
            "length": 20,
            "name": "created",
            "nullable": true,
            "sqlType": "sqlTypeOther",
            "type": "esriFieldTypeString"
           },
           {
            "alias": "latitude",
            "defaultValue": null,
            "domain": null,
            "editable": true,
            "name": "latitude",
            "nullable": true,
            "sqlType": "sqlTypeOther",
            "type": "esriFieldTypeDouble"
           },
           {
            "alias": "longitude",
            "defaultValue": null,
            "domain": null,
            "editable": true,
            "name": "longitude",
            "nullable": true,
            "sqlType": "sqlTypeOther",
            "type": "esriFieldTypeDouble"
           },
           {
            "alias": "country",
            "defaultValue": null,
            "domain": null,
            "editable": true,
            "length": 6,
            "name": "country",
            "nullable": true,
            "sqlType": "sqlTypeOther",
            "type": "esriFieldTypeString"
           },
           {
            "alias": "region",
            "defaultValue": null,
            "domain": null,
            "editable": true,
            "length": 16,
            "name": "region",
            "nullable": true,
            "sqlType": "sqlTypeOther",
            "type": "esriFieldTypeString"
           },
           {
            "alias": "city",
            "defaultValue": null,
            "domain": null,
            "editable": true,
            "length": 25,
            "name": "city",
            "nullable": true,
            "sqlType": "sqlTypeOther",
            "type": "esriFieldTypeString"
           },
           {
            "alias": "company_name",
            "defaultValue": null,
            "domain": null,
            "editable": true,
            "length": 35,
            "name": "company_name",
            "nullable": true,
            "sqlType": "sqlTypeOther",
            "type": "esriFieldTypeString"
           },
           {
            "alias": "popup_info",
            "defaultValue": null,
            "domain": null,
            "editable": true,
            "length": 60,
            "name": "popup_info",
            "nullable": true,
            "sqlType": "sqlTypeOther",
            "type": "esriFieldTypeString"
           }
          ],
          "geometryType": "esriGeometryPoint",
          "globalIdField": "",
          "hasAttachments": false,
          "hasGeometryProperties": true,
          "hasM": false,
          "hasStaticData": true,
          "hasZ": false,
          "htmlPopupType": "esriServerHTMLPopupTypeNone",
          "id": 0,
          "isDataVersioned": false,
          "maxRecordCount": 32000,
          "maxRecordCountFactor": 1,
          "maxScale": 0,
          "minScale": 0,
          "name": "fa1044",
          "objectIdField": "OBJECTID",
          "relationships": [],
          "standardMaxRecordCount": 4000,
          "supportedQueryFormats": "JSON, geoJSON",
          "supportsASyncCalculate": true,
          "supportsAdvancedQueries": true,
          "supportsAppend": true,
          "supportsApplyEditsWithGlobalIds": false,
          "supportsAttachmentsByUploadId": true,
          "supportsAttachmentsResizing": true,
          "supportsCalculate": true,
          "supportsCoordinatesQuantization": true,
          "supportsExceedsLimitStatistics": true,
          "supportsFieldDescriptionProperty": true,
          "supportsMultiScaleGeometry": true,
          "supportsQuantizationEditMode": true,
          "supportsReturningQueryGeometry": true,
          "supportsRollbackOnFailureParameter": true,
          "supportsStatistics": true,
          "supportsTruncate": false,
          "supportsValidateSql": true,
          "tileMaxRecordCount": 4000,
          "type": "Feature Layer",
          "typeIdField": "",
          "types": [],
          "useStandardizedQueries": false
         },
         "options": {
          "popupTemplate": {
           "title": "{popup_info}"
          }
         }
        }
       ],
       "_gallery_basemaps": {
        "default": {
         "baseMapLayers": [
          {
           "layerType": "ArcGISTiledMapServiceLayer",
           "resourceInfo": {
            "capabilities": "Map,Tilemap,Query,Data",
            "currentVersion": 10.3,
            "exportTilesAllowed": false,
            "fullExtent": {
             "spatialReference": {
              "latestWkid": 3857,
              "wkid": 102100
             },
             "xmax": 20037507.067161843,
             "xmin": -20037507.067161843,
             "ymax": 19971868.88040863,
             "ymin": -19971868.880408604
            },
            "initialExtent": {
             "spatialReference": {
              "latestWkid": 3857,
              "wkid": 102100
             },
             "xmax": 28848255.049479112,
             "xmin": -28848255.049479112,
             "ymax": 16430757.376790084,
             "ymin": -2077452.082122866
            },
            "layers": [
             {
              "defaultVisibility": false,
              "id": 0,
              "maxScale": 0,
              "minScale": 0,
              "name": "Citations",
              "parentLayerId": -1,
              "subLayerIds": null
             }
            ],
            "mapName": "Layers",
            "maxImageHeight": 4096,
            "maxImageWidth": 4096,
            "maxRecordCount": 100,
            "maxScale": 70.5310735,
            "minScale": 591657527.591555,
            "singleFusedMapCache": true,
            "spatialReference": {
             "latestWkid": 3857,
             "wkid": 102100
            },
            "supportedExtensions": "KmlServer",
            "supportedImageFormatTypes": "PNG32,PNG24,PNG,JPG,DIB,TIFF,EMF,PS,PDF,GIF,SVG,SVGZ,BMP",
            "supportedQueryFormats": "JSON, AMF",
            "supportsDynamicLayers": false,
            "tables": [],
            "tileInfo": {
             "cols": 256,
             "compressionQuality": 90,
             "dpi": 96,
             "format": "JPEG",
             "lods": [
              {
               "level": 0,
               "resolution": 156543.03392800014,
               "scale": 591657527.591555
              },
              {
               "level": 1,
               "resolution": 78271.51696399994,
               "scale": 295828763.795777
              },
              {
               "level": 2,
               "resolution": 39135.75848200009,
               "scale": 147914381.897889
              },
              {
               "level": 3,
               "resolution": 19567.87924099992,
               "scale": 73957190.948944
              },
              {
               "level": 4,
               "resolution": 9783.93962049996,
               "scale": 36978595.474472
              },
              {
               "level": 5,
               "resolution": 4891.96981024998,
               "scale": 18489297.737236
              },
              {
               "level": 6,
               "resolution": 2445.98490512499,
               "scale": 9244648.868618
              },
              {
               "level": 7,
               "resolution": 1222.992452562495,
               "scale": 4622324.434309
              },
              {
               "level": 8,
               "resolution": 611.4962262813797,
               "scale": 2311162.217155
              },
              {
               "level": 9,
               "resolution": 305.74811314055756,
               "scale": 1155581.108577
              },
              {
               "level": 10,
               "resolution": 152.87405657041106,
               "scale": 577790.554289
              },
              {
               "level": 11,
               "resolution": 76.43702828507324,
               "scale": 288895.277144
              },
              {
               "level": 12,
               "resolution": 38.21851414253662,
               "scale": 144447.638572
              },
              {
               "level": 13,
               "resolution": 19.10925707126831,
               "scale": 72223.819286
              },
              {
               "level": 14,
               "resolution": 9.554628535634155,
               "scale": 36111.909643
              },
              {
               "level": 15,
               "resolution": 4.77731426794937,
               "scale": 18055.954822
              },
              {
               "level": 16,
               "resolution": 2.388657133974685,
               "scale": 9027.977411
              },
              {
               "level": 17,
               "resolution": 1.1943285668550503,
               "scale": 4513.988705
              },
              {
               "level": 18,
               "resolution": 0.5971642835598172,
               "scale": 2256.994353
              },
              {
               "level": 19,
               "resolution": 0.29858214164761665,
               "scale": 1128.497176
              },
              {
               "level": 20,
               "resolution": 0.14929107082380833,
               "scale": 564.248588
              },
              {
               "level": 21,
               "resolution": 0.07464553541190416,
               "scale": 282.124294
              },
              {
               "level": 22,
               "resolution": 0.03732276770595208,
               "scale": 141.062147
              },
              {
               "level": 23,
               "resolution": 0.01866138385297604,
               "scale": 70.5310735
              }
             ],
             "origin": {
              "x": -20037508.342787,
              "y": 20037508.342787
             },
             "rows": 256,
             "spatialReference": {
              "latestWkid": 3857,
              "wkid": 102100
             }
            },
            "units": "esriMeters"
           },
           "url": "https://services.arcgisonline.com/ArcGIS/rest/services/World_Topo_Map/MapServer"
          }
         ],
         "title": "Topographic"
        }
       },
       "_overlay_these_images_on_widget_load": [],
       "_portal_sharing_rest_url": "https://www.arcgis.com/sharing/rest/",
       "_portal_url": "https://www.arcgis.com/",
       "_readonly_center": {
        "spatialReference": {
         "latestWkid": 3857,
         "wkid": 102100
        },
        "x": -12650634.138033642,
        "y": 8423971.909822654
       },
       "_readonly_extent": {
        "spatialReference": {
         "latestWkid": 3857,
         "wkid": 102100
        },
        "xmax": -7920099.331521912,
        "xmin": -17381168.944545373,
        "ymax": 10380759.833922645,
        "ymin": 6467183.985722662
       },
       "_readonly_heading": 360,
       "_readonly_scale": 36978595.474472,
       "_readonly_webmap_from_js": {
        "basemap": {
         "baseMapLayers": [
          {
           "id": "19789a9aa7f-layer-1",
           "layerType": "ArcGISTiledMapServiceLayer",
           "title": "World Topo Map",
           "url": "https://services.arcgisonline.com/ArcGIS/rest/services/World_Topo_Map/MapServer"
          }
         ],
         "title": "Topographic"
        },
        "ground": {
         "layers": [
          {
           "id": "worldElevation",
           "layerType": "ArcGISTiledElevationServiceLayer",
           "listMode": "show",
           "title": "Terrain3D",
           "url": "https://elevation3d.arcgis.com/arcgis/rest/services/WorldElevation3D/Terrain3D/ImageServer",
           "visibility": true
          }
         ],
         "transparency": 0
        },
        "layers": [
         {
          "id": "8157587459621",
          "refreshInterval": 0,
          "renderer": {
           "description": "",
           "label": "",
           "symbol": {
            "angle": 0,
            "color": [
             0,
             128,
             0,
             128
            ],
            "outline": {
             "color": [
              0,
              128,
              0,
              255
             ],
             "style": "esriSLSSolid",
             "type": "esriSLS",
             "width": 1
            },
            "size": 18,
            "style": "esriSMSCircle",
            "type": "esriSMS",
            "xoffset": 0,
            "yoffset": 0
           },
           "type": "simple"
          },
          "rendererType": "esri.renderers.SimpleRenderer",
          "url": null
         }
        ]
       },
       "_readonly_zoom": 4,
       "_username": "None",
       "_uuid": "d1d54e0f-4d33-4e53-b924-77276508ce0f",
       "_writeonly_end_time": "1900-01-01T00:00:00.000000",
       "_writeonly_start_time": "1900-01-01T00:00:00.000000",
       "_zoom": 4,
       "jupyter_target": "notebook",
       "layout": "IPY_MODEL_2b232c2efb2848e8ae4fce338d05f5da",
       "print_service_url": "",
       "ready": true,
       "tilt": 0
      }
     },
     "7e6d8271515742c5aaac1924745b3eed": {
      "model_module": "@jupyter-widgets/base",
      "model_module_version": "1.2.0",
      "model_name": "LayoutModel",
      "state": {
       "height": "400px",
       "width": "100%"
      }
     }
    },
    "version_major": 2,
    "version_minor": 0
   }
  }
 },
 "nbformat": 4,
 "nbformat_minor": 4
}
